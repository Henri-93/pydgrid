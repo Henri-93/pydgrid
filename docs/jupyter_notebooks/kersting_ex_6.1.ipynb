{
 "cells": [
  {
   "cell_type": "code",
   "execution_count": 2,
   "metadata": {},
   "outputs": [],
   "source": [
    "import numpy as np\n",
    "from pydgrid.pydgrid import grid\n",
    "from pydgrid.pf import pf_eval,time_serie\n"
   ]
  },
  {
   "cell_type": "markdown",
   "metadata": {},
   "source": [
    "## Kersting book example 6.1"
   ]
  },
  {
   "cell_type": "markdown",
   "metadata": {},
   "source": [
    "### Data"
   ]
  },
  {
   "cell_type": "code",
   "execution_count": 15,
   "metadata": {},
   "outputs": [],
   "source": [
    "data = {\n",
    "\"lines\":[\n",
    "        {\"bus_j\": \"Bus_1\",  \"bus_k\": \"Bus_2\",  \"code\": \"Kersting\", \"m\": 1609.34}\n",
    "        ],\n",
    "\"buses\":[\n",
    "\t\t{\"bus\": \"Bus_1\",  \"pos_x\": 10, \"pos_y\":  0, \"units\": \"m\", \"U_kV\":12.47},\n",
    "\t\t{\"bus\": \"Bus_2\",  \"pos_x\": 200, \"pos_y\": 0, \"units\": \"m\", \"U_kV\":12.47}\n",
    "\t\t],\n",
    "\"grid_formers\":[\n",
    "\t\t{\"bus\": \"Bus_1\",\"bus_nodes\": [1, 2, 3],\n",
    "\t\t\t\"kV\": [7.53869, 7.45125, 7.48512],\n",
    "\t\t\t\"deg\": [1.57248, -118.30047, 121.93184]\n",
    "\t\t}\n",
    "\t\t],\n",
    "\"loads\":[\n",
    "\t\t{\"bus\": \"Bus_2\" , \"kVA\": 6000.0, \"pf\": 0.9,\"type\":\"3P\"}\n",
    "        ],\n",
    "\"line_codes\":\n",
    "\t\t{\"Kersting\":\n",
    "\t\t{\"R\":[\n",
    "\t\t\t\t\t[0.8667, 0.2955, 0.2907],\n",
    "\t\t\t\t\t[0.2955, 0.8837, 0.2992],\n",
    "\t\t\t\t\t[0.2907, 0.2992, 0.8741]\n",
    "\t\t\t\t\t],\n",
    "\t\t \"X\":[\n",
    "\t\t\t    [2.0417,0.9502, 0.7290],\n",
    "          [0.9502,1.9852, 0.8023],\n",
    "          [0.7290,0.8023, 2.0172]\n",
    "\t\t\t\t  ],\n",
    "\t \"B_mu\":[\n",
    "\t\t\t\t\t [10.7409, -3.4777, -1.3322],\n",
    "\t\t\t\t\t [-3.4777, 11.3208, -2.2140],\n",
    "\t\t\t\t\t [ -1.3322, -2.2140, 10.2104]\n",
    "\t\t\t\t ],\n",
    "\"unit\":\"miles\"\n",
    "\t\t}\n",
    "\t\t}\n",
    "}\n"
   ]
  },
  {
   "cell_type": "markdown",
   "metadata": {},
   "source": [
    "### Execute power flow "
   ]
  },
  {
   "cell_type": "code",
   "execution_count": 16,
   "metadata": {},
   "outputs": [],
   "source": [
    "grid_1 = grid()\n",
    "grid_1.read(data)  # Load data\n",
    "grid_1.pf_solver = 2\n",
    "grid_1.pf()  # solve power flow"
   ]
  },
  {
   "cell_type": "markdown",
   "metadata": {},
   "source": [
    "### Graph with obtained results"
   ]
  },
  {
   "cell_type": "code",
   "execution_count": 17,
   "metadata": {},
   "outputs": [
    {
     "data": {
      "text/html": [
       "\n",
       "\n",
       "\n",
       "\n",
       "\n",
       "\n",
       "  <div class=\"bk-root\" id=\"1166d673-2f91-4db5-901f-62aa7f037035\"></div>\n"
      ]
     },
     "metadata": {},
     "output_type": "display_data"
    },
    {
     "data": {
      "application/javascript": [
       "(function(root) {\n",
       "  function embed_document(root) {\n",
       "    \n",
       "  var docs_json = {\"7f13248f-64e2-40b0-b489-fd2e38ececaa\":{\"roots\":{\"references\":[{\"attributes\":{\"below\":[{\"id\":\"1490\",\"type\":\"LinearAxis\"}],\"left\":[{\"id\":\"1495\",\"type\":\"LinearAxis\"}],\"plot_height\":400,\"renderers\":[{\"id\":\"1490\",\"type\":\"LinearAxis\"},{\"id\":\"1494\",\"type\":\"Grid\"},{\"id\":\"1495\",\"type\":\"LinearAxis\"},{\"id\":\"1499\",\"type\":\"Grid\"},{\"id\":\"1508\",\"type\":\"BoxAnnotation\"},{\"id\":\"1519\",\"type\":\"GlyphRenderer\"},{\"id\":\"1525\",\"type\":\"GlyphRenderer\"},{\"id\":\"1531\",\"type\":\"GlyphRenderer\"}],\"title\":{\"id\":\"1479\",\"type\":\"Title\"},\"toolbar\":{\"id\":\"1506\",\"type\":\"Toolbar\"},\"x_range\":{\"id\":\"1482\",\"type\":\"DataRange1d\"},\"x_scale\":{\"id\":\"1486\",\"type\":\"LinearScale\"},\"y_range\":{\"id\":\"1484\",\"type\":\"DataRange1d\"},\"y_scale\":{\"id\":\"1488\",\"type\":\"LinearScale\"}},\"id\":\"1480\",\"subtype\":\"Figure\",\"type\":\"Plot\"},{\"attributes\":{\"callback\":null,\"data\":{\"deg_1a\":[],\"deg_1b\":[],\"deg_1c\":[],\"deg_1n\":[],\"deg_2a\":[],\"deg_2b\":[],\"deg_2c\":[],\"deg_2n\":[],\"i_1a_m\":[],\"i_1b_m\":[],\"i_1c_m\":[],\"i_1n_m\":[],\"i_2a_m\":[],\"i_2b_m\":[],\"i_2c_m\":[],\"i_2n_m\":[],\"trafo_id\":[],\"x_s\":[],\"y_s\":[]},\"selected\":{\"id\":\"1580\",\"type\":\"Selection\"},\"selection_policy\":{\"id\":\"1581\",\"type\":\"UnionRenderers\"}},\"id\":\"1515\",\"type\":\"ColumnDataSource\"},{\"attributes\":{\"overlay\":{\"id\":\"1508\",\"type\":\"BoxAnnotation\"}},\"id\":\"1502\",\"type\":\"BoxZoomTool\"},{\"attributes\":{\"fill_alpha\":{\"value\":0.5},\"fill_color\":{\"value\":\"navy\"},\"line_alpha\":{\"value\":0.5},\"line_color\":{\"value\":\"navy\"},\"size\":{\"units\":\"screen\",\"value\":15},\"x\":{\"field\":\"x\"},\"y\":{\"field\":\"y\"}},\"id\":\"1529\",\"type\":\"Circle\"},{\"attributes\":{},\"id\":\"1503\",\"type\":\"SaveTool\"},{\"attributes\":{\"plot\":null,\"text\":\"Results\"},\"id\":\"1479\",\"type\":\"Title\"},{\"attributes\":{\"fill_alpha\":{\"value\":0.1},\"fill_color\":{\"value\":\"#1f77b4\"},\"line_alpha\":{\"value\":0.1},\"line_color\":{\"value\":\"#1f77b4\"},\"size\":{\"units\":\"screen\",\"value\":15},\"x\":{\"field\":\"x\"},\"y\":{\"field\":\"y\"}},\"id\":\"1530\",\"type\":\"Circle\"},{\"attributes\":{},\"id\":\"1504\",\"type\":\"ResetTool\"},{\"attributes\":{\"data_source\":{\"id\":\"1527\",\"type\":\"ColumnDataSource\"},\"glyph\":{\"id\":\"1529\",\"type\":\"Circle\"},\"hover_glyph\":null,\"muted_glyph\":null,\"nonselection_glyph\":{\"id\":\"1530\",\"type\":\"Circle\"},\"selection_glyph\":null,\"view\":{\"id\":\"1532\",\"type\":\"CDSView\"}},\"id\":\"1531\",\"type\":\"GlyphRenderer\"},{\"attributes\":{},\"id\":\"1505\",\"type\":\"HelpTool\"},{\"attributes\":{\"source\":{\"id\":\"1527\",\"type\":\"ColumnDataSource\"}},\"id\":\"1532\",\"type\":\"CDSView\"},{\"attributes\":{\"callback\":null},\"id\":\"1482\",\"type\":\"DataRange1d\"},{\"attributes\":{\"callback\":null,\"renderers\":[{\"id\":\"1519\",\"type\":\"GlyphRenderer\"}],\"tooltips\":\"\\n            <div>\\n            line id = @trafo_id  \\n            <table border=\\\"5\\\">\\n                <tr >\\n                    <td>I<sub>1a</sub> =  @i_1a_m &ang; @deg_1a </td>\\n                    <td>I<sub>2a</sub> =  @i_2a_m &ang; @deg_2a </td>\\n                </tr>\\n                <tr>\\n                    <td >I<sub>1b</sub> =  @i_1b_m &ang; @deg_1b </td>\\n                    <td >I<sub>2b</sub> =  @i_2b_m &ang; @deg_2b </td>\\n                </tr>\\n                <tr>\\n                    <td >I<sub>1c</sub> =  @i_1c_m &ang; @deg_1c </td>\\n                    <td >I<sub>2c</sub> =  @i_2c_m &ang; @deg_2c </td>\\n                </tr>\\n                <tr>\\n                    <td >I<sub>1n</sub> =  @i_1n_m &ang; @deg_1n </td>\\n                    <td >I<sub>2n</sub> =  @i_2n_m &ang; @deg_2n </td>\\n                </tr>\\n            </table>            \\n            </div>\\n            \"},\"id\":\"1533\",\"type\":\"HoverTool\"},{\"attributes\":{\"callback\":null},\"id\":\"1484\",\"type\":\"DataRange1d\"},{\"attributes\":{\"bottom_units\":\"screen\",\"fill_alpha\":{\"value\":0.5},\"fill_color\":{\"value\":\"lightgrey\"},\"left_units\":\"screen\",\"level\":\"overlay\",\"line_alpha\":{\"value\":1.0},\"line_color\":{\"value\":\"black\"},\"line_dash\":[4,4],\"line_width\":{\"value\":2},\"plot\":null,\"render_mode\":\"css\",\"right_units\":\"screen\",\"top_units\":\"screen\"},\"id\":\"1508\",\"type\":\"BoxAnnotation\"},{\"attributes\":{\"callback\":null,\"renderers\":[{\"id\":\"1525\",\"type\":\"GlyphRenderer\"}],\"tooltips\":\"\\n            <div>\\n            line id = @line_id \\n            <table border=\\\"5\\\">\\n                <tr >\\n                    <td>I<sub>ja</sub> =  @i_j_a_m &ang; @deg_j_a </td>\\n                    <td>I<sub>ka</sub> =  @i_k_a_m &ang; @deg_k_a </td>\\n                </tr>\\n                <tr>\\n                    <td >I<sub>jb</sub> =  @i_j_b_m &ang; @deg_j_b </td>\\n                    <td >I<sub>kb</sub> =  @i_k_b_m &ang; @deg_k_b </td>\\n                </tr>\\n                <tr>\\n                    <td >I<sub>jc</sub> =  @i_j_c_m &ang; @deg_j_c </td>\\n                    <td >I<sub>kc</sub> =  @i_k_c_m &ang; @deg_k_c </td>\\n                </tr>\\n                <tr>\\n                    <td >I<sub>jn</sub> =  @i_j_n_m &ang; @deg_j_n </td>\\n                    <td >I<sub>kn</sub> =  @i_k_n_m &ang; @deg_k_n </td>\\n                </tr>\\n            </table>            \\n            </div>\\n            \"},\"id\":\"1535\",\"type\":\"HoverTool\"},{\"attributes\":{},\"id\":\"1486\",\"type\":\"LinearScale\"},{\"attributes\":{\"line_alpha\":{\"value\":0.1},\"line_color\":{\"value\":\"#1f77b4\"},\"line_width\":{\"value\":5},\"xs\":{\"field\":\"x_s\"},\"ys\":{\"field\":\"y_s\"}},\"id\":\"1518\",\"type\":\"MultiLine\"},{\"attributes\":{\"callback\":null,\"renderers\":[{\"id\":\"1531\",\"type\":\"GlyphRenderer\"}],\"tooltips\":\"\\n            <div>\\n            bus_id = @bus_id &nbsp &nbsp |  u<sub>avg</sub>= @u_avg_pu pu |  u<sub>unb</sub>= @v_unb %\\n            <table border=\\\"1\\\">\\n                <tr>\\n                <td>v<sub>an</sub> =  @v_an  &ang; @deg_an V </td> <td> S<sub>a</sub> = @p_a + j@q_a kVA</td>\\n                </tr>\\n                      <tr>\\n                      <td> </td> <td>v<sub>ab</sub>= @v_ab V</td>\\n                      </tr>\\n                <tr>\\n                <td>v<sub>bn</sub> = @v_bn &ang; @deg_bn V </td><td> S<sub>b</sub> = @p_b + j@q_b kVA</td>\\n                </tr>\\n                      <tr>\\n                      <td> </td><td>v<sub>bc</sub>= @v_bc V</td>\\n                      </tr>\\n                <tr>\\n                <td>v<sub>cn</sub>  = @v_cn &ang; @deg_cn V </td>  <td>S<sub>c</sub> = @p_c + j@q_c kVA </td>\\n                </tr> \\n                    <tr>\\n                     <td> </td> <td>v<sub>ca</sub>= @v_ca V</td>\\n                    </tr>\\n               <tr>\\n                <td>v<sub>ng</sub>    = @v_ng &ang; @deg_ng V</td>  <td>S<sub>abc</sub> = @p_abc + j@q_abc kVA </td>\\n              </tr>\\n            </table>\\n            </div>\\n            \"},\"id\":\"1537\",\"type\":\"HoverTool\"},{\"attributes\":{},\"id\":\"1488\",\"type\":\"LinearScale\"},{\"attributes\":{\"data_source\":{\"id\":\"1515\",\"type\":\"ColumnDataSource\"},\"glyph\":{\"id\":\"1517\",\"type\":\"MultiLine\"},\"hover_glyph\":null,\"muted_glyph\":null,\"nonselection_glyph\":{\"id\":\"1518\",\"type\":\"MultiLine\"},\"selection_glyph\":null,\"view\":{\"id\":\"1520\",\"type\":\"CDSView\"}},\"id\":\"1519\",\"type\":\"GlyphRenderer\"},{\"attributes\":{\"formatter\":{\"id\":\"1577\",\"type\":\"BasicTickFormatter\"},\"plot\":{\"id\":\"1480\",\"subtype\":\"Figure\",\"type\":\"Plot\"},\"ticker\":{\"id\":\"1491\",\"type\":\"BasicTicker\"}},\"id\":\"1490\",\"type\":\"LinearAxis\"},{\"attributes\":{},\"id\":\"1582\",\"type\":\"Selection\"},{\"attributes\":{},\"id\":\"1491\",\"type\":\"BasicTicker\"},{\"attributes\":{},\"id\":\"1583\",\"type\":\"UnionRenderers\"},{\"attributes\":{\"source\":{\"id\":\"1515\",\"type\":\"ColumnDataSource\"}},\"id\":\"1520\",\"type\":\"CDSView\"},{\"attributes\":{},\"id\":\"1584\",\"type\":\"Selection\"},{\"attributes\":{\"plot\":{\"id\":\"1480\",\"subtype\":\"Figure\",\"type\":\"Plot\"},\"ticker\":{\"id\":\"1491\",\"type\":\"BasicTicker\"}},\"id\":\"1494\",\"type\":\"Grid\"},{\"attributes\":{\"callback\":null,\"data\":{\"deg_j_a\":[-25.825349345678806],\"deg_j_b\":[-145.82205160673263],\"deg_j_c\":[94.17477978705224],\"deg_j_n\":[-166.562814468414],\"deg_k_a\":[-25.84193276316715],\"deg_k_b\":[-145.84193276316708],\"deg_k_c\":[94.15806723683296],\"deg_k_n\":[-129.27315274108872],\"i_j_a_m\":[277.7392748292295],\"i_j_b_m\":[277.75544793635186],\"i_j_c_m\":[277.7601232977396],\"i_j_n_m\":[0.006726337915665855],\"i_k_a_m\":[277.79483681938626],\"i_k_b_m\":[277.79483681938655],\"i_k_c_m\":[277.7948368193861],\"i_k_n_m\":[8.811374545471107e-13],\"line_id\":[\"Bus_1-Bus_2\"],\"x_s\":[[10,200]],\"y_s\":[[0,0]]},\"selected\":{\"id\":\"1582\",\"type\":\"Selection\"},\"selection_policy\":{\"id\":\"1583\",\"type\":\"UnionRenderers\"}},\"id\":\"1521\",\"type\":\"ColumnDataSource\"},{\"attributes\":{},\"id\":\"1585\",\"type\":\"UnionRenderers\"},{\"attributes\":{\"formatter\":{\"id\":\"1579\",\"type\":\"BasicTickFormatter\"},\"plot\":{\"id\":\"1480\",\"subtype\":\"Figure\",\"type\":\"Plot\"},\"ticker\":{\"id\":\"1496\",\"type\":\"BasicTicker\"}},\"id\":\"1495\",\"type\":\"LinearAxis\"},{\"attributes\":{},\"id\":\"1579\",\"type\":\"BasicTickFormatter\"},{\"attributes\":{},\"id\":\"1496\",\"type\":\"BasicTicker\"},{\"attributes\":{\"line_alpha\":{\"value\":0.5},\"line_color\":{\"value\":\"red\"},\"line_width\":{\"value\":5},\"xs\":{\"field\":\"x_s\"},\"ys\":{\"field\":\"y_s\"}},\"id\":\"1523\",\"type\":\"MultiLine\"},{\"attributes\":{\"dimension\":1,\"plot\":{\"id\":\"1480\",\"subtype\":\"Figure\",\"type\":\"Plot\"},\"ticker\":{\"id\":\"1496\",\"type\":\"BasicTicker\"}},\"id\":\"1499\",\"type\":\"Grid\"},{\"attributes\":{},\"id\":\"1581\",\"type\":\"UnionRenderers\"},{\"attributes\":{\"line_alpha\":{\"value\":0.1},\"line_color\":{\"value\":\"#1f77b4\"},\"line_width\":{\"value\":5},\"xs\":{\"field\":\"x_s\"},\"ys\":{\"field\":\"y_s\"}},\"id\":\"1524\",\"type\":\"MultiLine\"},{\"attributes\":{\"line_alpha\":{\"value\":0.5},\"line_color\":{\"value\":\"green\"},\"line_width\":{\"value\":5},\"xs\":{\"field\":\"x_s\"},\"ys\":{\"field\":\"y_s\"}},\"id\":\"1517\",\"type\":\"MultiLine\"},{\"attributes\":{\"data_source\":{\"id\":\"1521\",\"type\":\"ColumnDataSource\"},\"glyph\":{\"id\":\"1523\",\"type\":\"MultiLine\"},\"hover_glyph\":null,\"muted_glyph\":null,\"nonselection_glyph\":{\"id\":\"1524\",\"type\":\"MultiLine\"},\"selection_glyph\":null,\"view\":{\"id\":\"1526\",\"type\":\"CDSView\"}},\"id\":\"1525\",\"type\":\"GlyphRenderer\"},{\"attributes\":{},\"id\":\"1580\",\"type\":\"Selection\"},{\"attributes\":{\"source\":{\"id\":\"1521\",\"type\":\"ColumnDataSource\"}},\"id\":\"1526\",\"type\":\"CDSView\"},{\"attributes\":{\"active_drag\":\"auto\",\"active_inspect\":\"auto\",\"active_multi\":null,\"active_scroll\":\"auto\",\"active_tap\":\"auto\",\"tools\":[{\"id\":\"1500\",\"type\":\"PanTool\"},{\"id\":\"1501\",\"type\":\"WheelZoomTool\"},{\"id\":\"1502\",\"type\":\"BoxZoomTool\"},{\"id\":\"1503\",\"type\":\"SaveTool\"},{\"id\":\"1504\",\"type\":\"ResetTool\"},{\"id\":\"1505\",\"type\":\"HelpTool\"},{\"id\":\"1533\",\"type\":\"HoverTool\"},{\"id\":\"1535\",\"type\":\"HoverTool\"},{\"id\":\"1537\",\"type\":\"HoverTool\"}]},\"id\":\"1506\",\"type\":\"Toolbar\"},{\"attributes\":{},\"id\":\"1577\",\"type\":\"BasicTickFormatter\"},{\"attributes\":{\"callback\":null,\"data\":{\"bus_id\":[\"Bus_1\",\"Bus_2\"],\"deg_an\":[\"1.57\",\"-0.00\"],\"deg_bn\":[\"-118.30\",\"-120.00\"],\"deg_cn\":[\"121.93\",\"120.00\"],\"deg_ng\":[\"0.00\",\"0.00\"],\"p_a\":[\"1858.94\",\"-1800.00\"],\"p_abc\":[\"5534.19\",\"-5400.00\"],\"p_b\":[\"1835.42\",\"-1800.00\"],\"p_c\":[\"1839.83\",\"-1800.00\"],\"q_a\":[\"963.49\",\"-871.78\"],\"q_abc\":[\"2888.10\",\"-2615.34\"],\"q_b\":[\"956.34\",\"-871.78\"],\"q_c\":[\"968.27\",\"-871.78\"],\"s_color\":[\"red\",\"green\"],\"s_radio\":[20,20],\"u_avg_pu\":[\"1.041\",\"1.000\"],\"v_ab\":[12973.42498856987,12469.993777213469],\"v_an\":[\"7538.69\",\"7199.55\"],\"v_an_pu\":[\"1.0471\",\"1.0000\"],\"v_bc\":[12920.120310382239,12469.998513070677],\"v_bn\":[\"7451.25\",\"7199.56\"],\"v_bn_pu\":[\"1.0350\",\"1.0000\"],\"v_ca\":[13034.52171783379,12469.992408860844],\"v_cn\":[\"7485.12\",\"7199.56\"],\"v_cn_pu\":[\"1.0397\",\"1.0000\"],\"v_ng\":[\"0.00\",\"0.00\"],\"v_unb\":[\"0.6\",\"0.0\"],\"x\":[10,200],\"y\":[0,0]},\"selected\":{\"id\":\"1584\",\"type\":\"Selection\"},\"selection_policy\":{\"id\":\"1585\",\"type\":\"UnionRenderers\"}},\"id\":\"1527\",\"type\":\"ColumnDataSource\"},{\"attributes\":{},\"id\":\"1500\",\"type\":\"PanTool\"},{\"attributes\":{},\"id\":\"1501\",\"type\":\"WheelZoomTool\"}],\"root_ids\":[\"1480\"]},\"title\":\"Bokeh Application\",\"version\":\"1.0.1\"}};\n",
       "  var render_items = [{\"docid\":\"7f13248f-64e2-40b0-b489-fd2e38ececaa\",\"roots\":{\"1480\":\"1166d673-2f91-4db5-901f-62aa7f037035\"}}];\n",
       "  root.Bokeh.embed.embed_items_notebook(docs_json, render_items);\n",
       "\n",
       "  }\n",
       "  if (root.Bokeh !== undefined) {\n",
       "    embed_document(root);\n",
       "  } else {\n",
       "    var attempts = 0;\n",
       "    var timer = setInterval(function(root) {\n",
       "      if (root.Bokeh !== undefined) {\n",
       "        embed_document(root);\n",
       "        clearInterval(timer);\n",
       "      }\n",
       "      attempts++;\n",
       "      if (attempts > 100) {\n",
       "        console.log(\"Bokeh: ERROR: Unable to run BokehJS code because BokehJS library is missing\");\n",
       "        clearInterval(timer);\n",
       "      }\n",
       "    }, 10, root)\n",
       "  }\n",
       "})(window);"
      ],
      "application/vnd.bokehjs_exec.v0+json": ""
     },
     "metadata": {
      "application/vnd.bokehjs_exec.v0+json": {
       "id": "1480"
      }
     },
     "output_type": "display_data"
    },
    {
     "data": {
      "text/html": [
       "<div style=\"display: table;\"><div style=\"display: table-row;\"><div style=\"display: table-cell;\"><b title=\"bokeh.plotting.figure.Figure\">Figure</b>(</div><div style=\"display: table-cell;\">id&nbsp;=&nbsp;'1480', <span id=\"1660\" style=\"cursor: pointer;\">&hellip;)</span></div></div><div class=\"1659\" style=\"display: none;\"><div style=\"display: table-cell;\"></div><div style=\"display: table-cell;\">above&nbsp;=&nbsp;[],</div></div><div class=\"1659\" style=\"display: none;\"><div style=\"display: table-cell;\"></div><div style=\"display: table-cell;\">aspect_scale&nbsp;=&nbsp;1,</div></div><div class=\"1659\" style=\"display: none;\"><div style=\"display: table-cell;\"></div><div style=\"display: table-cell;\">background_fill_alpha&nbsp;=&nbsp;{'value': 1.0},</div></div><div class=\"1659\" style=\"display: none;\"><div style=\"display: table-cell;\"></div><div style=\"display: table-cell;\">background_fill_color&nbsp;=&nbsp;{'value': '#ffffff'},</div></div><div class=\"1659\" style=\"display: none;\"><div style=\"display: table-cell;\"></div><div style=\"display: table-cell;\">below&nbsp;=&nbsp;[LinearAxis(id='1490', ...)],</div></div><div class=\"1659\" style=\"display: none;\"><div style=\"display: table-cell;\"></div><div style=\"display: table-cell;\">border_fill_alpha&nbsp;=&nbsp;{'value': 1.0},</div></div><div class=\"1659\" style=\"display: none;\"><div style=\"display: table-cell;\"></div><div style=\"display: table-cell;\">border_fill_color&nbsp;=&nbsp;{'value': '#ffffff'},</div></div><div class=\"1659\" style=\"display: none;\"><div style=\"display: table-cell;\"></div><div style=\"display: table-cell;\">css_classes&nbsp;=&nbsp;[],</div></div><div class=\"1659\" style=\"display: none;\"><div style=\"display: table-cell;\"></div><div style=\"display: table-cell;\">disabled&nbsp;=&nbsp;False,</div></div><div class=\"1659\" style=\"display: none;\"><div style=\"display: table-cell;\"></div><div style=\"display: table-cell;\">extra_x_ranges&nbsp;=&nbsp;{},</div></div><div class=\"1659\" style=\"display: none;\"><div style=\"display: table-cell;\"></div><div style=\"display: table-cell;\">extra_y_ranges&nbsp;=&nbsp;{},</div></div><div class=\"1659\" style=\"display: none;\"><div style=\"display: table-cell;\"></div><div style=\"display: table-cell;\">h_symmetry&nbsp;=&nbsp;True,</div></div><div class=\"1659\" style=\"display: none;\"><div style=\"display: table-cell;\"></div><div style=\"display: table-cell;\">height&nbsp;=&nbsp;None,</div></div><div class=\"1659\" style=\"display: none;\"><div style=\"display: table-cell;\"></div><div style=\"display: table-cell;\">hidpi&nbsp;=&nbsp;True,</div></div><div class=\"1659\" style=\"display: none;\"><div style=\"display: table-cell;\"></div><div style=\"display: table-cell;\">js_event_callbacks&nbsp;=&nbsp;{},</div></div><div class=\"1659\" style=\"display: none;\"><div style=\"display: table-cell;\"></div><div style=\"display: table-cell;\">js_property_callbacks&nbsp;=&nbsp;{},</div></div><div class=\"1659\" style=\"display: none;\"><div style=\"display: table-cell;\"></div><div style=\"display: table-cell;\">left&nbsp;=&nbsp;[LinearAxis(id='1495', ...)],</div></div><div class=\"1659\" style=\"display: none;\"><div style=\"display: table-cell;\"></div><div style=\"display: table-cell;\">lod_factor&nbsp;=&nbsp;10,</div></div><div class=\"1659\" style=\"display: none;\"><div style=\"display: table-cell;\"></div><div style=\"display: table-cell;\">lod_interval&nbsp;=&nbsp;300,</div></div><div class=\"1659\" style=\"display: none;\"><div style=\"display: table-cell;\"></div><div style=\"display: table-cell;\">lod_threshold&nbsp;=&nbsp;2000,</div></div><div class=\"1659\" style=\"display: none;\"><div style=\"display: table-cell;\"></div><div style=\"display: table-cell;\">lod_timeout&nbsp;=&nbsp;500,</div></div><div class=\"1659\" style=\"display: none;\"><div style=\"display: table-cell;\"></div><div style=\"display: table-cell;\">match_aspect&nbsp;=&nbsp;False,</div></div><div class=\"1659\" style=\"display: none;\"><div style=\"display: table-cell;\"></div><div style=\"display: table-cell;\">min_border&nbsp;=&nbsp;5,</div></div><div class=\"1659\" style=\"display: none;\"><div style=\"display: table-cell;\"></div><div style=\"display: table-cell;\">min_border_bottom&nbsp;=&nbsp;None,</div></div><div class=\"1659\" style=\"display: none;\"><div style=\"display: table-cell;\"></div><div style=\"display: table-cell;\">min_border_left&nbsp;=&nbsp;None,</div></div><div class=\"1659\" style=\"display: none;\"><div style=\"display: table-cell;\"></div><div style=\"display: table-cell;\">min_border_right&nbsp;=&nbsp;None,</div></div><div class=\"1659\" style=\"display: none;\"><div style=\"display: table-cell;\"></div><div style=\"display: table-cell;\">min_border_top&nbsp;=&nbsp;None,</div></div><div class=\"1659\" style=\"display: none;\"><div style=\"display: table-cell;\"></div><div style=\"display: table-cell;\">name&nbsp;=&nbsp;None,</div></div><div class=\"1659\" style=\"display: none;\"><div style=\"display: table-cell;\"></div><div style=\"display: table-cell;\">outline_line_alpha&nbsp;=&nbsp;{'value': 1.0},</div></div><div class=\"1659\" style=\"display: none;\"><div style=\"display: table-cell;\"></div><div style=\"display: table-cell;\">outline_line_cap&nbsp;=&nbsp;'butt',</div></div><div class=\"1659\" style=\"display: none;\"><div style=\"display: table-cell;\"></div><div style=\"display: table-cell;\">outline_line_color&nbsp;=&nbsp;{'value': '#e5e5e5'},</div></div><div class=\"1659\" style=\"display: none;\"><div style=\"display: table-cell;\"></div><div style=\"display: table-cell;\">outline_line_dash&nbsp;=&nbsp;[],</div></div><div class=\"1659\" style=\"display: none;\"><div style=\"display: table-cell;\"></div><div style=\"display: table-cell;\">outline_line_dash_offset&nbsp;=&nbsp;0,</div></div><div class=\"1659\" style=\"display: none;\"><div style=\"display: table-cell;\"></div><div style=\"display: table-cell;\">outline_line_join&nbsp;=&nbsp;'bevel',</div></div><div class=\"1659\" style=\"display: none;\"><div style=\"display: table-cell;\"></div><div style=\"display: table-cell;\">outline_line_width&nbsp;=&nbsp;{'value': 1},</div></div><div class=\"1659\" style=\"display: none;\"><div style=\"display: table-cell;\"></div><div style=\"display: table-cell;\">output_backend&nbsp;=&nbsp;'canvas',</div></div><div class=\"1659\" style=\"display: none;\"><div style=\"display: table-cell;\"></div><div style=\"display: table-cell;\">plot_height&nbsp;=&nbsp;400,</div></div><div class=\"1659\" style=\"display: none;\"><div style=\"display: table-cell;\"></div><div style=\"display: table-cell;\">plot_width&nbsp;=&nbsp;600,</div></div><div class=\"1659\" style=\"display: none;\"><div style=\"display: table-cell;\"></div><div style=\"display: table-cell;\">renderers&nbsp;=&nbsp;[LinearAxis(id='1490', ...), Grid(id='1494', ...), LinearAxis(id='1495', ...), Grid(id='1499', ...), BoxAnnotation(id='1508', ...), GlyphRenderer(id='1519', ...), GlyphRenderer(id='1525', ...), GlyphRenderer(id='1531', ...)],</div></div><div class=\"1659\" style=\"display: none;\"><div style=\"display: table-cell;\"></div><div style=\"display: table-cell;\">right&nbsp;=&nbsp;[],</div></div><div class=\"1659\" style=\"display: none;\"><div style=\"display: table-cell;\"></div><div style=\"display: table-cell;\">sizing_mode&nbsp;=&nbsp;'fixed',</div></div><div class=\"1659\" style=\"display: none;\"><div style=\"display: table-cell;\"></div><div style=\"display: table-cell;\">subscribed_events&nbsp;=&nbsp;[],</div></div><div class=\"1659\" style=\"display: none;\"><div style=\"display: table-cell;\"></div><div style=\"display: table-cell;\">tags&nbsp;=&nbsp;[],</div></div><div class=\"1659\" style=\"display: none;\"><div style=\"display: table-cell;\"></div><div style=\"display: table-cell;\">title&nbsp;=&nbsp;Title(id='1479', ...),</div></div><div class=\"1659\" style=\"display: none;\"><div style=\"display: table-cell;\"></div><div style=\"display: table-cell;\">title_location&nbsp;=&nbsp;'above',</div></div><div class=\"1659\" style=\"display: none;\"><div style=\"display: table-cell;\"></div><div style=\"display: table-cell;\">toolbar&nbsp;=&nbsp;Toolbar(id='1506', ...),</div></div><div class=\"1659\" style=\"display: none;\"><div style=\"display: table-cell;\"></div><div style=\"display: table-cell;\">toolbar_location&nbsp;=&nbsp;'right',</div></div><div class=\"1659\" style=\"display: none;\"><div style=\"display: table-cell;\"></div><div style=\"display: table-cell;\">toolbar_sticky&nbsp;=&nbsp;True,</div></div><div class=\"1659\" style=\"display: none;\"><div style=\"display: table-cell;\"></div><div style=\"display: table-cell;\">v_symmetry&nbsp;=&nbsp;False,</div></div><div class=\"1659\" style=\"display: none;\"><div style=\"display: table-cell;\"></div><div style=\"display: table-cell;\">width&nbsp;=&nbsp;None,</div></div><div class=\"1659\" style=\"display: none;\"><div style=\"display: table-cell;\"></div><div style=\"display: table-cell;\">x_range&nbsp;=&nbsp;DataRange1d(id='1482', ...),</div></div><div class=\"1659\" style=\"display: none;\"><div style=\"display: table-cell;\"></div><div style=\"display: table-cell;\">x_scale&nbsp;=&nbsp;LinearScale(id='1486', ...),</div></div><div class=\"1659\" style=\"display: none;\"><div style=\"display: table-cell;\"></div><div style=\"display: table-cell;\">y_range&nbsp;=&nbsp;DataRange1d(id='1484', ...),</div></div><div class=\"1659\" style=\"display: none;\"><div style=\"display: table-cell;\"></div><div style=\"display: table-cell;\">y_scale&nbsp;=&nbsp;LinearScale(id='1488', ...))</div></div></div>\n",
       "<script>\n",
       "(function() {\n",
       "  var expanded = false;\n",
       "  var ellipsis = document.getElementById(\"1660\");\n",
       "  ellipsis.addEventListener(\"click\", function() {\n",
       "    var rows = document.getElementsByClassName(\"1659\");\n",
       "    for (var i = 0; i < rows.length; i++) {\n",
       "      var el = rows[i];\n",
       "      el.style.display = expanded ? \"none\" : \"table-row\";\n",
       "    }\n",
       "    ellipsis.innerHTML = expanded ? \"&hellip;)\" : \"&lsaquo;&lsaquo;&lsaquo;\";\n",
       "    expanded = !expanded;\n",
       "  });\n",
       "})();\n",
       "</script>\n"
      ],
      "text/plain": [
       "Figure(id='1480', ...)"
      ]
     },
     "execution_count": 17,
     "metadata": {},
     "output_type": "execute_result"
    }
   ],
   "source": [
    "from pydgrid.plot_bokeh import plot_results\n",
    "plot_results(grid_1)"
   ]
  },
  {
   "cell_type": "markdown",
   "metadata": {},
   "source": [
    "### Get element transfomers results"
   ]
  },
  {
   "cell_type": "code",
   "execution_count": 18,
   "metadata": {},
   "outputs": [
    {
     "data": {
      "text/plain": [
       "[{'bus': 'Bus_1',\n",
       "  'pos_x': 10,\n",
       "  'pos_y': 0,\n",
       "  'units': 'm',\n",
       "  'U_kV': 0.4,\n",
       "  'N_nodes': 3,\n",
       "  'v_an': 7538.69,\n",
       "  'v_bn': 7451.25,\n",
       "  'v_cn': 7485.12,\n",
       "  'v_ng': 0.0,\n",
       "  'deg_an': 1.57248,\n",
       "  'deg_bn': -118.30046999999999,\n",
       "  'deg_cn': 121.93184,\n",
       "  'deg_ng': 0.0,\n",
       "  'v_ab': 12973.42498856987,\n",
       "  'v_bc': 12920.120310382239,\n",
       "  'v_ca': 13034.52171783379,\n",
       "  'p_a': 606079.3650435612,\n",
       "  'p_b': 603872.9537354696,\n",
       "  'p_c': 604166.9026712789,\n",
       "  'q_a': 299425.60593386955,\n",
       "  'q_b': 298915.99582636484,\n",
       "  'q_c': 300184.170418932},\n",
       " {'bus': 'Bus_2',\n",
       "  'pos_x': 200,\n",
       "  'pos_y': 0,\n",
       "  'units': 'm',\n",
       "  'U_kV': 0.4,\n",
       "  'N_nodes': 3,\n",
       "  'v_an': 7429.9068027690155,\n",
       "  'v_bn': 7369.149904432863,\n",
       "  'v_cn': 7393.938492605697,\n",
       "  'v_ng': 0.0,\n",
       "  'deg_an': 1.0708524223058318,\n",
       "  'deg_bn': -118.85593694220006,\n",
       "  'deg_cn': 121.30056076550554,\n",
       "  'deg_ng': 0.0,\n",
       "  'v_ab': 12811.665105738419,\n",
       "  'v_bc': 12775.12273516733,\n",
       "  'v_ca': 12852.671116592644,\n",
       "  'p_a': -600000.0016485772,\n",
       "  'p_b': -599999.9911260006,\n",
       "  'p_c': -599999.9898229428,\n",
       "  'q_a': -290593.3707093676,\n",
       "  'q_b': -290593.18714162754,\n",
       "  'q_c': -290593.33214916347}]"
      ]
     },
     "execution_count": 18,
     "metadata": {},
     "output_type": "execute_result"
    }
   ],
   "source": [
    "sys1.buses"
   ]
  },
  {
   "cell_type": "code",
   "execution_count": null,
   "metadata": {
    "collapsed": true
   },
   "outputs": [],
   "source": []
  }
 ],
 "metadata": {
  "anaconda-cloud": {},
  "kernelspec": {
   "display_name": "Python 3",
   "language": "python",
   "name": "python3"
  },
  "language_info": {
   "codemirror_mode": {
    "name": "ipython",
    "version": 3
   },
   "file_extension": ".py",
   "mimetype": "text/x-python",
   "name": "python",
   "nbconvert_exporter": "python",
   "pygments_lexer": "ipython3",
   "version": "3.6.6"
  }
 },
 "nbformat": 4,
 "nbformat_minor": 1
}
