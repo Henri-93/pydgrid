{
 "cells": [
  {
   "cell_type": "markdown",
   "metadata": {},
   "source": [
    "# Short circuits in MV line"
   ]
  },
  {
   "cell_type": "code",
   "execution_count": 39,
   "metadata": {},
   "outputs": [],
   "source": [
    "import numpy as np\n",
    "from pydgrid import grid\n",
    "from pydgrid.plot_bokeh import plot_results"
   ]
  },
  {
   "cell_type": "markdown",
   "metadata": {},
   "source": [
    "![](./png/mv_short_circuits.png)"
   ]
  },
  {
   "cell_type": "markdown",
   "metadata": {},
   "source": [
    "## System"
   ]
  },
  {
   "cell_type": "code",
   "execution_count": 158,
   "metadata": {},
   "outputs": [],
   "source": [
    "data = {\n",
    "\"transformers\":[\n",
    "        {\"bus_j\": \"B0\",  \"bus_k\": \"B1\",  \"S_n_kVA\": 32000.00, \"U_j_kV\":66.0, \"U_k_kV\":18.0,\n",
    "        \"R_cc_pu\": 0.01, \"X_cc_pu\":0.08, \"connection\": \"Dyn11\",\n",
    "        \"conductors_1\": 3, \"conductors_2\": 4}\n",
    "        ],\n",
    "\"lines\":[\n",
    "        {\"bus_j\": \"B1\",  \"bus_k\": \"B2\",  \"code\": \"mv_al_120\", \"m\": 20000.0}\n",
    "        ],\n",
    "\"buses\":[\n",
    "        {\"bus\": \"B0\",  \"pos_x\": 0,  \"pos_y\": 0, \"units\": \"m\", \"U_kV\":66.0},\n",
    "        {\"bus\": \"B1\",  \"pos_x\":30,  \"pos_y\": 0, \"units\": \"m\", \"U_kV\":18.0},\n",
    "        {\"bus\": \"B2\",  \"pos_x\":200, \"pos_y\": 0, \"units\": \"m\", \"U_kV\":18.0}\n",
    "        ],\n",
    "\"grid_formers\":[\n",
    "        {\"bus\": \"B0\",\n",
    "        \"bus_nodes\": [1, 2, 3], \"deg\": [0, -120, -240],\n",
    "        \"kV\": [38.105, 38.105, 38.105]}\n",
    "        ],\n",
    "\"grid_feeders\":[{\"bus\": \"B2\",\"bus_nodes\": [1, 2, 3],\n",
    "                \"kW\": [0, 0, 0], \"kvar\": [0,0,0],\n",
    "                \"kA\": [-0.082,-0.082,-0.082], \"phi_deg\":[0, 0, 0]}\n",
    "                ],   \n",
    "\"line_codes\":\n",
    "        {\"mv_al_35\":  {\"R1\":1.093, \"X1\":0.148, \"R0\":1.093, \"X0\":0.148}, # no hay dato de X1, se toma del 50 mm2\n",
    "         \"mv_al_50\":  {\"R1\":0.8,   \"X1\":0.148, \"R0\":0.8,   \"X0\":0.148},\n",
    "         \"mv_al_70\":  {\"R1\":0.558, \"X1\":0.137, \"R0\":0.558, \"X0\":0.137},\n",
    "         \"mv_al_95\":  {\"R1\":0.403, \"X1\":0.129, \"R0\":0.403, \"X0\":0.129},\n",
    "         \"mv_al_120\": {\"R1\":0.321, \"X1\":0.123, \"R0\":0.321, \"X0\":0.123},\n",
    "         \"mv_al_150\": {\"R1\":0.262, \"X1\":0.118, \"R0\":0.262, \"X0\":0.118},\n",
    "         \"mv_al_185\": {\"R1\":0.209, \"X1\":0.113, \"R0\":0.209, \"X0\":0.113},\n",
    "         \"mv_al_300\": {\"R1\":0.128, \"X1\":0.105, \"R0\":0.128, \"X0\":0.105}\n",
    "         },\n",
    "\"shunts\":[\n",
    "        {\"bus\": \"B1\" , \"R\": 1e3, \"X\": 0.0, \"bus_nodes\": [4,0]},\n",
    "        ]\n",
    "}"
   ]
  },
  {
   "cell_type": "code",
   "execution_count": 159,
   "metadata": {},
   "outputs": [
    {
     "data": {
      "text/html": [
       "\n",
       "\n",
       "\n",
       "\n",
       "\n",
       "\n",
       "  <div class=\"bk-root\" id=\"0a8094b7-be18-49c1-9f66-e4bef36d9e23\"></div>\n"
      ]
     },
     "metadata": {},
     "output_type": "display_data"
    },
    {
     "data": {
      "application/javascript": [
       "(function(root) {\n",
       "  function embed_document(root) {\n",
       "    \n",
       "  var docs_json = {\"b6e661ea-51bf-434a-9986-eb80f4eb7c48\":{\"roots\":{\"references\":[{\"attributes\":{\"below\":[{\"id\":\"27533\",\"type\":\"LinearAxis\"}],\"left\":[{\"id\":\"27538\",\"type\":\"LinearAxis\"}],\"plot_height\":400,\"renderers\":[{\"id\":\"27533\",\"type\":\"LinearAxis\"},{\"id\":\"27537\",\"type\":\"Grid\"},{\"id\":\"27538\",\"type\":\"LinearAxis\"},{\"id\":\"27542\",\"type\":\"Grid\"},{\"id\":\"27551\",\"type\":\"BoxAnnotation\"},{\"id\":\"27562\",\"type\":\"GlyphRenderer\"},{\"id\":\"27568\",\"type\":\"GlyphRenderer\"},{\"id\":\"27574\",\"type\":\"GlyphRenderer\"}],\"title\":{\"id\":\"27522\",\"type\":\"Title\"},\"toolbar\":{\"id\":\"27549\",\"type\":\"Toolbar\"},\"x_range\":{\"id\":\"27525\",\"type\":\"DataRange1d\"},\"x_scale\":{\"id\":\"27529\",\"type\":\"LinearScale\"},\"y_range\":{\"id\":\"27527\",\"type\":\"DataRange1d\"},\"y_scale\":{\"id\":\"27531\",\"type\":\"LinearScale\"}},\"id\":\"27523\",\"subtype\":\"Figure\",\"type\":\"Plot\"},{\"attributes\":{},\"id\":\"28255\",\"type\":\"BasicTickFormatter\"},{\"attributes\":{\"source\":{\"id\":\"27564\",\"type\":\"ColumnDataSource\"}},\"id\":\"27569\",\"type\":\"CDSView\"},{\"attributes\":{\"line_alpha\":{\"value\":0.5},\"line_color\":{\"value\":\"green\"},\"line_width\":{\"value\":5},\"xs\":{\"field\":\"x_s\"},\"ys\":{\"field\":\"y_s\"}},\"id\":\"27560\",\"type\":\"MultiLine\"},{\"attributes\":{\"callback\":null,\"data\":{\"bus_id\":[\"B0\",\"B1\",\"B2\"],\"deg_an\":[\"0.00\",\"-30.37\",\"-31.48\"],\"deg_bn\":[\"-120.00\",\"-150.37\",\"-151.48\"],\"deg_cn\":[\"120.00\",\"89.63\",\"88.52\"],\"deg_ng\":[\"0.00\",\"-20.56\",\"0.00\"],\"p_a\":[\"851.88\",\"0.00\",\"-808.03\"],\"p_abc\":[\"2555.65\",\"-0.00\",\"-2424.10\"],\"p_b\":[\"851.88\",\"-0.00\",\"-808.03\"],\"p_c\":[\"851.88\",\"0.00\",\"-808.03\"],\"q_a\":[\"21.99\",\"-0.00\",\"0.00\"],\"q_abc\":[\"65.96\",\"-0.00\",\"0.00\"],\"q_b\":[\"21.99\",\"-0.00\",\"0.00\"],\"q_c\":[\"21.99\",\"0.00\",\"0.00\"],\"s_color\":[\"red\",\"green\",\"green\"],\"s_radio\":[15.989055916113225,1,15.56952574115439],\"u_avg_pu\":[\"1.000\",\"0.999\",\"0.948\"],\"v_ab\":[65999.79602241206,17982.965860420412,17067.75059165828],\"v_an\":[\"38105.00\",\"10382.47\",\"9854.07\"],\"v_an_pu\":[\"1.0000\",\"0.9991\",\"0.9482\"],\"v_bc\":[65999.79602241208,17982.96586041859,17067.750591657037],\"v_bn\":[\"38105.00\",\"10382.47\",\"9854.07\"],\"v_bn_pu\":[\"1.0000\",\"0.9991\",\"0.9482\"],\"v_ca\":[65999.79602241208,17982.96586042332,17067.750591661366],\"v_cn\":[\"38105.00\",\"10382.47\",\"9854.07\"],\"v_cn_pu\":[\"1.0000\",\"0.9991\",\"0.9482\"],\"v_ng\":[\"0.00\",\"0.00\",\"0.00\"],\"v_unb\":[\"0.0\",\"0.0\",\"0.0\"],\"x\":[0,30,200],\"y\":[0,0,0]},\"selected\":{\"id\":\"28264\",\"type\":\"Selection\"},\"selection_policy\":{\"id\":\"28265\",\"type\":\"UnionRenderers\"}},\"id\":\"27570\",\"type\":\"ColumnDataSource\"},{\"attributes\":{},\"id\":\"28261\",\"type\":\"UnionRenderers\"},{\"attributes\":{},\"id\":\"27543\",\"type\":\"PanTool\"},{\"attributes\":{},\"id\":\"28264\",\"type\":\"Selection\"},{\"attributes\":{\"fill_alpha\":{\"value\":0.5},\"fill_color\":{\"value\":\"navy\"},\"line_alpha\":{\"value\":0.5},\"line_color\":{\"value\":\"navy\"},\"size\":{\"units\":\"screen\",\"value\":15},\"x\":{\"field\":\"x\"},\"y\":{\"field\":\"y\"}},\"id\":\"27572\",\"type\":\"Circle\"},{\"attributes\":{},\"id\":\"27544\",\"type\":\"WheelZoomTool\"},{\"attributes\":{},\"id\":\"28265\",\"type\":\"UnionRenderers\"},{\"attributes\":{},\"id\":\"28262\",\"type\":\"Selection\"},{\"attributes\":{\"fill_alpha\":{\"value\":0.1},\"fill_color\":{\"value\":\"#1f77b4\"},\"line_alpha\":{\"value\":0.1},\"line_color\":{\"value\":\"#1f77b4\"},\"size\":{\"units\":\"screen\",\"value\":15},\"x\":{\"field\":\"x\"},\"y\":{\"field\":\"y\"}},\"id\":\"27573\",\"type\":\"Circle\"},{\"attributes\":{\"overlay\":{\"id\":\"27551\",\"type\":\"BoxAnnotation\"}},\"id\":\"27545\",\"type\":\"BoxZoomTool\"},{\"attributes\":{\"data_source\":{\"id\":\"27570\",\"type\":\"ColumnDataSource\"},\"glyph\":{\"id\":\"27572\",\"type\":\"Circle\"},\"hover_glyph\":null,\"muted_glyph\":null,\"nonselection_glyph\":{\"id\":\"27573\",\"type\":\"Circle\"},\"selection_glyph\":null,\"view\":{\"id\":\"27575\",\"type\":\"CDSView\"}},\"id\":\"27574\",\"type\":\"GlyphRenderer\"},{\"attributes\":{},\"id\":\"27546\",\"type\":\"SaveTool\"},{\"attributes\":{\"source\":{\"id\":\"27570\",\"type\":\"ColumnDataSource\"}},\"id\":\"27575\",\"type\":\"CDSView\"},{\"attributes\":{},\"id\":\"27547\",\"type\":\"ResetTool\"},{\"attributes\":{\"callback\":null,\"renderers\":[{\"id\":\"27562\",\"type\":\"GlyphRenderer\"}],\"tooltips\":\"\\n            <div>\\n            transformer id = @trafo_id  \\n            <table border=\\\"5\\\">\\n                <tr >\\n                    <td>I<sub>1a</sub> =  @i_1a_m &ang; @deg_1a </td>\\n                    <td>I<sub>2a</sub> =  @i_2a_m &ang; @deg_2a </td>\\n                </tr>\\n                <tr>\\n                    <td >I<sub>1b</sub> =  @i_1b_m &ang; @deg_1b </td>\\n                    <td >I<sub>2b</sub> =  @i_2b_m &ang; @deg_2b </td>\\n                </tr>\\n                <tr>\\n                    <td >I<sub>1c</sub> =  @i_1c_m &ang; @deg_1c </td>\\n                    <td >I<sub>2c</sub> =  @i_2c_m &ang; @deg_2c </td>\\n                </tr>\\n                <tr>\\n                    <td >I<sub>1n</sub> =  @i_1n_m &ang; @deg_1n </td>\\n                    <td >I<sub>2n</sub> =  @i_2n_m &ang; @deg_2n </td>\\n                </tr>\\n            </table>            \\n            </div>\\n            \"},\"id\":\"27576\",\"type\":\"HoverTool\"},{\"attributes\":{},\"id\":\"27548\",\"type\":\"HelpTool\"},{\"attributes\":{\"callback\":null,\"renderers\":[{\"id\":\"27568\",\"type\":\"GlyphRenderer\"}],\"tooltips\":\"\\n            <div>\\n            line id = @line_id \\n            <table border=\\\"5\\\">\\n                <tr >\\n                    <td>I<sub>ja</sub> =  @i_j_a_m &ang; @deg_j_a </td>\\n                    <td>I<sub>ka</sub> =  @i_k_a_m &ang; @deg_k_a </td>\\n                </tr>\\n                <tr>\\n                    <td >I<sub>jb</sub> =  @i_j_b_m &ang; @deg_j_b </td>\\n                    <td >I<sub>kb</sub> =  @i_k_b_m &ang; @deg_k_b </td>\\n                </tr>\\n                <tr>\\n                    <td >I<sub>jc</sub> =  @i_j_c_m &ang; @deg_j_c </td>\\n                    <td >I<sub>kc</sub> =  @i_k_c_m &ang; @deg_k_c </td>\\n                </tr>\\n                <tr>\\n                    <td >I<sub>jn</sub> =  @i_j_n_m &ang; @deg_j_n </td>\\n                    <td >I<sub>kn</sub> =  @i_k_n_m &ang; @deg_k_n </td>\\n                </tr>\\n            </table>            \\n            </div>\\n            \"},\"id\":\"27578\",\"type\":\"HoverTool\"},{\"attributes\":{\"active_drag\":\"auto\",\"active_inspect\":\"auto\",\"active_multi\":null,\"active_scroll\":\"auto\",\"active_tap\":\"auto\",\"tools\":[{\"id\":\"27543\",\"type\":\"PanTool\"},{\"id\":\"27544\",\"type\":\"WheelZoomTool\"},{\"id\":\"27545\",\"type\":\"BoxZoomTool\"},{\"id\":\"27546\",\"type\":\"SaveTool\"},{\"id\":\"27547\",\"type\":\"ResetTool\"},{\"id\":\"27548\",\"type\":\"HelpTool\"},{\"id\":\"27576\",\"type\":\"HoverTool\"},{\"id\":\"27578\",\"type\":\"HoverTool\"},{\"id\":\"27580\",\"type\":\"HoverTool\"}]},\"id\":\"27549\",\"type\":\"Toolbar\"},{\"attributes\":{\"callback\":null,\"data\":{\"deg_1a\":[-1.4785013034576586],\"deg_1b\":[-121.47850130466085],\"deg_1c\":[118.52149869769615],\"deg_1n\":[108.43494882292202],\"deg_2a\":[148.52149869779618],\"deg_2b\":[28.521498696141727],\"deg_2c\":[-91.47850130435592],\"deg_2n\":[-31.478501303187663],\"i_1a_m\":[22.363636363965124],\"i_1b_m\":[22.36363636317381],\"i_1c_m\":[22.36363636316346],\"i_1n_m\":[7.190186943645084e-13],\"i_2a_m\":[82.00000000157783],\"i_2b_m\":[81.99999999946483],\"i_2c_m\":[81.99999999672869],\"i_2n_m\":[81.9999999998717],\"trafo_id\":[\"B0-B1\"],\"x_s\":[[0,30]],\"y_s\":[[0,0]]},\"selected\":{\"id\":\"28260\",\"type\":\"Selection\"},\"selection_policy\":{\"id\":\"28261\",\"type\":\"UnionRenderers\"}},\"id\":\"27558\",\"type\":\"ColumnDataSource\"},{\"attributes\":{\"callback\":null},\"id\":\"27525\",\"type\":\"DataRange1d\"},{\"attributes\":{\"line_alpha\":{\"value\":0.1},\"line_color\":{\"value\":\"#1f77b4\"},\"line_width\":{\"value\":5},\"xs\":{\"field\":\"x_s\"},\"ys\":{\"field\":\"y_s\"}},\"id\":\"27561\",\"type\":\"MultiLine\"},{\"attributes\":{\"callback\":null,\"renderers\":[{\"id\":\"27574\",\"type\":\"GlyphRenderer\"}],\"tooltips\":\"\\n            <div>\\n            bus_id = @bus_id &nbsp &nbsp |  u<sub>avg</sub>= @u_avg_pu pu |  u<sub>unb</sub>= @v_unb %\\n            <table border=\\\"1\\\">\\n                <tr>\\n                <td>v<sub>an</sub> =  @v_an  &ang; @deg_an V </td> <td> S<sub>a</sub> = @p_a + j@q_a kVA</td>\\n                </tr>\\n                      <tr>\\n                      <td> </td> <td>v<sub>ab</sub>= @v_ab V</td>\\n                      </tr>\\n                <tr>\\n                <td>v<sub>bn</sub> = @v_bn &ang; @deg_bn V </td><td> S<sub>b</sub> = @p_b + j@q_b kVA</td>\\n                </tr>\\n                      <tr>\\n                      <td> </td><td>v<sub>bc</sub>= @v_bc V</td>\\n                      </tr>\\n                <tr>\\n                <td>v<sub>cn</sub>  = @v_cn &ang; @deg_cn V </td>  <td>S<sub>c</sub> = @p_c + j@q_c kVA </td>\\n                </tr> \\n                    <tr>\\n                     <td> </td> <td>v<sub>ca</sub>= @v_ca V</td>\\n                    </tr>\\n               <tr>\\n                <td>v<sub>ng</sub>    = @v_ng &ang; @deg_ng V</td>  <td>S<sub>abc</sub> = @p_abc + j@q_abc kVA </td>\\n              </tr>\\n            </table>\\n            </div>\\n            \"},\"id\":\"27580\",\"type\":\"HoverTool\"},{\"attributes\":{\"callback\":null},\"id\":\"27527\",\"type\":\"DataRange1d\"},{\"attributes\":{\"bottom_units\":\"screen\",\"fill_alpha\":{\"value\":0.5},\"fill_color\":{\"value\":\"lightgrey\"},\"left_units\":\"screen\",\"level\":\"overlay\",\"line_alpha\":{\"value\":1.0},\"line_color\":{\"value\":\"black\"},\"line_dash\":[4,4],\"line_width\":{\"value\":2},\"plot\":null,\"render_mode\":\"css\",\"right_units\":\"screen\",\"top_units\":\"screen\"},\"id\":\"27551\",\"type\":\"BoxAnnotation\"},{\"attributes\":{},\"id\":\"27529\",\"type\":\"LinearScale\"},{\"attributes\":{\"data_source\":{\"id\":\"27558\",\"type\":\"ColumnDataSource\"},\"glyph\":{\"id\":\"27560\",\"type\":\"MultiLine\"},\"hover_glyph\":null,\"muted_glyph\":null,\"nonselection_glyph\":{\"id\":\"27561\",\"type\":\"MultiLine\"},\"selection_glyph\":null,\"view\":{\"id\":\"27563\",\"type\":\"CDSView\"}},\"id\":\"27562\",\"type\":\"GlyphRenderer\"},{\"attributes\":{},\"id\":\"27531\",\"type\":\"LinearScale\"},{\"attributes\":{},\"id\":\"28257\",\"type\":\"BasicTickFormatter\"},{\"attributes\":{\"source\":{\"id\":\"27558\",\"type\":\"ColumnDataSource\"}},\"id\":\"27563\",\"type\":\"CDSView\"},{\"attributes\":{\"callback\":null,\"data\":{\"deg_j_a\":[-31.478501303187663],\"deg_j_b\":[-151.47850130294373],\"deg_j_c\":[88.52149869734559],\"deg_j_n\":[-150.57613365336167],\"deg_k_a\":[-31.478501303187663],\"deg_k_b\":[-151.47850130294373],\"deg_k_c\":[88.52149869734559],\"deg_k_n\":[-150.57613365336167],\"i_j_a_m\":[81.9999999998717],\"i_j_b_m\":[82.00000000045509],\"i_j_c_m\":[81.99999999981101],\"i_j_n_m\":[1.2748115831384358e-09],\"i_k_a_m\":[81.9999999998717],\"i_k_b_m\":[82.00000000045509],\"i_k_c_m\":[81.99999999981101],\"i_k_n_m\":[1.2748115831384358e-09],\"line_id\":[\"B1-B2\"],\"x_s\":[[30,200]],\"y_s\":[[0,0]]},\"selected\":{\"id\":\"28262\",\"type\":\"Selection\"},\"selection_policy\":{\"id\":\"28263\",\"type\":\"UnionRenderers\"}},\"id\":\"27564\",\"type\":\"ColumnDataSource\"},{\"attributes\":{},\"id\":\"27534\",\"type\":\"BasicTicker\"},{\"attributes\":{\"plot\":null,\"text\":\"Results\"},\"id\":\"27522\",\"type\":\"Title\"},{\"attributes\":{},\"id\":\"28260\",\"type\":\"Selection\"},{\"attributes\":{\"plot\":{\"id\":\"27523\",\"subtype\":\"Figure\",\"type\":\"Plot\"},\"ticker\":{\"id\":\"27534\",\"type\":\"BasicTicker\"}},\"id\":\"27537\",\"type\":\"Grid\"},{\"attributes\":{\"line_alpha\":{\"value\":0.5},\"line_color\":{\"value\":\"red\"},\"line_width\":{\"value\":5},\"xs\":{\"field\":\"x_s\"},\"ys\":{\"field\":\"y_s\"}},\"id\":\"27566\",\"type\":\"MultiLine\"},{\"attributes\":{\"formatter\":{\"id\":\"28257\",\"type\":\"BasicTickFormatter\"},\"plot\":{\"id\":\"27523\",\"subtype\":\"Figure\",\"type\":\"Plot\"},\"ticker\":{\"id\":\"27539\",\"type\":\"BasicTicker\"}},\"id\":\"27538\",\"type\":\"LinearAxis\"},{\"attributes\":{\"formatter\":{\"id\":\"28255\",\"type\":\"BasicTickFormatter\"},\"plot\":{\"id\":\"27523\",\"subtype\":\"Figure\",\"type\":\"Plot\"},\"ticker\":{\"id\":\"27534\",\"type\":\"BasicTicker\"}},\"id\":\"27533\",\"type\":\"LinearAxis\"},{\"attributes\":{\"line_alpha\":{\"value\":0.1},\"line_color\":{\"value\":\"#1f77b4\"},\"line_width\":{\"value\":5},\"xs\":{\"field\":\"x_s\"},\"ys\":{\"field\":\"y_s\"}},\"id\":\"27567\",\"type\":\"MultiLine\"},{\"attributes\":{},\"id\":\"28263\",\"type\":\"UnionRenderers\"},{\"attributes\":{},\"id\":\"27539\",\"type\":\"BasicTicker\"},{\"attributes\":{\"data_source\":{\"id\":\"27564\",\"type\":\"ColumnDataSource\"},\"glyph\":{\"id\":\"27566\",\"type\":\"MultiLine\"},\"hover_glyph\":null,\"muted_glyph\":null,\"nonselection_glyph\":{\"id\":\"27567\",\"type\":\"MultiLine\"},\"selection_glyph\":null,\"view\":{\"id\":\"27569\",\"type\":\"CDSView\"}},\"id\":\"27568\",\"type\":\"GlyphRenderer\"},{\"attributes\":{\"dimension\":1,\"plot\":{\"id\":\"27523\",\"subtype\":\"Figure\",\"type\":\"Plot\"},\"ticker\":{\"id\":\"27539\",\"type\":\"BasicTicker\"}},\"id\":\"27542\",\"type\":\"Grid\"}],\"root_ids\":[\"27523\"]},\"title\":\"Bokeh Application\",\"version\":\"1.0.2\"}};\n",
       "  var render_items = [{\"docid\":\"b6e661ea-51bf-434a-9986-eb80f4eb7c48\",\"roots\":{\"27523\":\"0a8094b7-be18-49c1-9f66-e4bef36d9e23\"}}];\n",
       "  root.Bokeh.embed.embed_items_notebook(docs_json, render_items);\n",
       "\n",
       "  }\n",
       "  if (root.Bokeh !== undefined) {\n",
       "    embed_document(root);\n",
       "  } else {\n",
       "    var attempts = 0;\n",
       "    var timer = setInterval(function(root) {\n",
       "      if (root.Bokeh !== undefined) {\n",
       "        embed_document(root);\n",
       "        clearInterval(timer);\n",
       "      }\n",
       "      attempts++;\n",
       "      if (attempts > 100) {\n",
       "        console.log(\"Bokeh: ERROR: Unable to run BokehJS code because BokehJS library is missing\");\n",
       "        clearInterval(timer);\n",
       "      }\n",
       "    }, 10, root)\n",
       "  }\n",
       "})(window);"
      ],
      "application/vnd.bokehjs_exec.v0+json": ""
     },
     "metadata": {
      "application/vnd.bokehjs_exec.v0+json": {
       "id": "27523"
      }
     },
     "output_type": "display_data"
    }
   ],
   "source": [
    "grid_1 = grid()\n",
    "grid_1.read(data)  # Load data\n",
    "grid_1.pf()  # solve power flow\n",
    "p=plot_results(grid_1)"
   ]
  },
  {
   "cell_type": "markdown",
   "metadata": {},
   "source": [
    "## Three phase short circuit"
   ]
  },
  {
   "cell_type": "markdown",
   "metadata": {},
   "source": [
    "![](./png/mv_short_circuits_3ph.png)  "
   ]
  },
  {
   "cell_type": "code",
   "execution_count": 141,
   "metadata": {},
   "outputs": [
    {
     "data": {
      "text/html": [
       "\n",
       "\n",
       "\n",
       "\n",
       "\n",
       "\n",
       "  <div class=\"bk-root\" id=\"a5ce7c18-0612-4c5e-9bb0-170f6348fdfb\"></div>\n"
      ]
     },
     "metadata": {},
     "output_type": "display_data"
    },
    {
     "data": {
      "application/javascript": [
       "(function(root) {\n",
       "  function embed_document(root) {\n",
       "    \n",
       "  var docs_json = {\"9cb515c0-b7a4-417b-8c11-81376690415a\":{\"roots\":{\"references\":[{\"attributes\":{\"below\":[{\"id\":\"20729\",\"type\":\"LinearAxis\"}],\"left\":[{\"id\":\"20734\",\"type\":\"LinearAxis\"}],\"plot_height\":400,\"renderers\":[{\"id\":\"20729\",\"type\":\"LinearAxis\"},{\"id\":\"20733\",\"type\":\"Grid\"},{\"id\":\"20734\",\"type\":\"LinearAxis\"},{\"id\":\"20738\",\"type\":\"Grid\"},{\"id\":\"20747\",\"type\":\"BoxAnnotation\"},{\"id\":\"20758\",\"type\":\"GlyphRenderer\"},{\"id\":\"20764\",\"type\":\"GlyphRenderer\"},{\"id\":\"20770\",\"type\":\"GlyphRenderer\"}],\"title\":{\"id\":\"20718\",\"type\":\"Title\"},\"toolbar\":{\"id\":\"20745\",\"type\":\"Toolbar\"},\"x_range\":{\"id\":\"20721\",\"type\":\"DataRange1d\"},\"x_scale\":{\"id\":\"20725\",\"type\":\"LinearScale\"},\"y_range\":{\"id\":\"20723\",\"type\":\"DataRange1d\"},\"y_scale\":{\"id\":\"20727\",\"type\":\"LinearScale\"}},\"id\":\"20719\",\"subtype\":\"Figure\",\"type\":\"Plot\"},{\"attributes\":{},\"id\":\"21352\",\"type\":\"Selection\"},{\"attributes\":{\"dimension\":1,\"plot\":{\"id\":\"20719\",\"subtype\":\"Figure\",\"type\":\"Plot\"},\"ticker\":{\"id\":\"20735\",\"type\":\"BasicTicker\"}},\"id\":\"20738\",\"type\":\"Grid\"},{\"attributes\":{\"data_source\":{\"id\":\"20760\",\"type\":\"ColumnDataSource\"},\"glyph\":{\"id\":\"20762\",\"type\":\"MultiLine\"},\"hover_glyph\":null,\"muted_glyph\":null,\"nonselection_glyph\":{\"id\":\"20763\",\"type\":\"MultiLine\"},\"selection_glyph\":null,\"view\":{\"id\":\"20765\",\"type\":\"CDSView\"}},\"id\":\"20764\",\"type\":\"GlyphRenderer\"},{\"attributes\":{},\"id\":\"20730\",\"type\":\"BasicTicker\"},{\"attributes\":{},\"id\":\"21353\",\"type\":\"UnionRenderers\"},{\"attributes\":{\"formatter\":{\"id\":\"21343\",\"type\":\"BasicTickFormatter\"},\"plot\":{\"id\":\"20719\",\"subtype\":\"Figure\",\"type\":\"Plot\"},\"ticker\":{\"id\":\"20730\",\"type\":\"BasicTicker\"}},\"id\":\"20729\",\"type\":\"LinearAxis\"},{\"attributes\":{\"line_alpha\":{\"value\":0.1},\"line_color\":{\"value\":\"#1f77b4\"},\"line_width\":{\"value\":5},\"xs\":{\"field\":\"x_s\"},\"ys\":{\"field\":\"y_s\"}},\"id\":\"20757\",\"type\":\"MultiLine\"},{\"attributes\":{\"source\":{\"id\":\"20760\",\"type\":\"ColumnDataSource\"}},\"id\":\"20765\",\"type\":\"CDSView\"},{\"attributes\":{\"line_alpha\":{\"value\":0.5},\"line_color\":{\"value\":\"green\"},\"line_width\":{\"value\":5},\"xs\":{\"field\":\"x_s\"},\"ys\":{\"field\":\"y_s\"}},\"id\":\"20756\",\"type\":\"MultiLine\"},{\"attributes\":{\"callback\":null,\"data\":{\"bus_id\":[\"B0\",\"B1\",\"B2\"],\"deg_an\":[\"0.00\",\"-131.98\",\"-50.39\"],\"deg_bn\":[\"-120.00\",\"127.13\",\"67.12\"],\"deg_cn\":[\"120.00\",\"26.23\",\"37.12\"],\"deg_ng\":[\"0.00\",\"48.02\",\"0.00\"],\"p_a\":[\"16410.16\",\"-0.00\",\"0.00\"],\"p_abc\":[\"49230.47\",\"0.00\",\"0.00\"],\"p_b\":[\"16410.16\",\"0.00\",\"0.00\"],\"p_c\":[\"16410.16\",\"0.00\",\"0.00\"],\"q_a\":[\"131281.24\",\"0.00\",\"-0.00\"],\"q_abc\":[\"393843.72\",\"0.00\",\"0.00\"],\"q_b\":[\"131281.24\",\"0.00\",\"0.00\"],\"q_c\":[\"131281.24\",\"0.00\",\"0.00\"],\"s_color\":[\"red\",\"blue\",\"blue\"],\"s_radio\":[20,1,1],\"u_avg_pu\":[\"1.000\",\"0.000\",\"0.000\"],\"v_ab\":[65999.79602241206,0.00012730810259792353,0.00012730732498144638],\"v_an\":[\"38105.00\",\"0.00\",\"0.00\"],\"v_an_pu\":[\"1.0000\",\"0.0000\",\"0.0000\"],\"v_bc\":[65999.79602241208,0.00012730767961815177,0.00012730791066426506],\"v_bn\":[\"38105.00\",\"0.00\",\"0.00\"],\"v_bn_pu\":[\"1.0000\",\"0.0000\",\"0.0000\"],\"v_ca\":[65999.79602241208,0.0002205023629967814,0.000220503988639258],\"v_cn\":[\"38105.00\",\"0.00\",\"0.00\"],\"v_cn_pu\":[\"1.0000\",\"0.0000\",\"0.0000\"],\"v_ng\":[\"0.00\",\"0.00\",\"0.00\"],\"v_unb\":[\"0.0\",\"52.3\",\"100.0\"],\"x\":[0,30,200],\"y\":[0,0,0]},\"selected\":{\"id\":\"21352\",\"type\":\"Selection\"},\"selection_policy\":{\"id\":\"21353\",\"type\":\"UnionRenderers\"}},\"id\":\"20766\",\"type\":\"ColumnDataSource\"},{\"attributes\":{},\"id\":\"20739\",\"type\":\"PanTool\"},{\"attributes\":{\"fill_alpha\":{\"value\":0.5},\"fill_color\":{\"value\":\"navy\"},\"line_alpha\":{\"value\":0.5},\"line_color\":{\"value\":\"navy\"},\"size\":{\"units\":\"screen\",\"value\":15},\"x\":{\"field\":\"x\"},\"y\":{\"field\":\"y\"}},\"id\":\"20768\",\"type\":\"Circle\"},{\"attributes\":{},\"id\":\"20740\",\"type\":\"WheelZoomTool\"},{\"attributes\":{\"fill_alpha\":{\"value\":0.1},\"fill_color\":{\"value\":\"#1f77b4\"},\"line_alpha\":{\"value\":0.1},\"line_color\":{\"value\":\"#1f77b4\"},\"size\":{\"units\":\"screen\",\"value\":15},\"x\":{\"field\":\"x\"},\"y\":{\"field\":\"y\"}},\"id\":\"20769\",\"type\":\"Circle\"},{\"attributes\":{\"overlay\":{\"id\":\"20747\",\"type\":\"BoxAnnotation\"}},\"id\":\"20741\",\"type\":\"BoxZoomTool\"},{\"attributes\":{\"data_source\":{\"id\":\"20766\",\"type\":\"ColumnDataSource\"},\"glyph\":{\"id\":\"20768\",\"type\":\"Circle\"},\"hover_glyph\":null,\"muted_glyph\":null,\"nonselection_glyph\":{\"id\":\"20769\",\"type\":\"Circle\"},\"selection_glyph\":null,\"view\":{\"id\":\"20771\",\"type\":\"CDSView\"}},\"id\":\"20770\",\"type\":\"GlyphRenderer\"},{\"attributes\":{},\"id\":\"20742\",\"type\":\"SaveTool\"},{\"attributes\":{\"source\":{\"id\":\"20766\",\"type\":\"ColumnDataSource\"}},\"id\":\"20771\",\"type\":\"CDSView\"},{\"attributes\":{},\"id\":\"20743\",\"type\":\"ResetTool\"},{\"attributes\":{\"callback\":null,\"renderers\":[{\"id\":\"20758\",\"type\":\"GlyphRenderer\"}],\"tooltips\":\"\\n            <div>\\n            transformer id = @trafo_id  \\n            <table border=\\\"5\\\">\\n                <tr >\\n                    <td>I<sub>1a</sub> =  @i_1a_m &ang; @deg_1a </td>\\n                    <td>I<sub>2a</sub> =  @i_2a_m &ang; @deg_2a </td>\\n                </tr>\\n                <tr>\\n                    <td >I<sub>1b</sub> =  @i_1b_m &ang; @deg_1b </td>\\n                    <td >I<sub>2b</sub> =  @i_2b_m &ang; @deg_2b </td>\\n                </tr>\\n                <tr>\\n                    <td >I<sub>1c</sub> =  @i_1c_m &ang; @deg_1c </td>\\n                    <td >I<sub>2c</sub> =  @i_2c_m &ang; @deg_2c </td>\\n                </tr>\\n                <tr>\\n                    <td >I<sub>1n</sub> =  @i_1n_m &ang; @deg_1n </td>\\n                    <td >I<sub>2n</sub> =  @i_2n_m &ang; @deg_2n </td>\\n                </tr>\\n            </table>            \\n            </div>\\n            \"},\"id\":\"20772\",\"type\":\"HoverTool\"},{\"attributes\":{},\"id\":\"20744\",\"type\":\"HelpTool\"},{\"attributes\":{\"callback\":null,\"renderers\":[{\"id\":\"20764\",\"type\":\"GlyphRenderer\"}],\"tooltips\":\"\\n            <div>\\n            line id = @line_id \\n            <table border=\\\"5\\\">\\n                <tr >\\n                    <td>I<sub>ja</sub> =  @i_j_a_m &ang; @deg_j_a </td>\\n                    <td>I<sub>ka</sub> =  @i_k_a_m &ang; @deg_k_a </td>\\n                </tr>\\n                <tr>\\n                    <td >I<sub>jb</sub> =  @i_j_b_m &ang; @deg_j_b </td>\\n                    <td >I<sub>kb</sub> =  @i_k_b_m &ang; @deg_k_b </td>\\n                </tr>\\n                <tr>\\n                    <td >I<sub>jc</sub> =  @i_j_c_m &ang; @deg_j_c </td>\\n                    <td >I<sub>kc</sub> =  @i_k_c_m &ang; @deg_k_c </td>\\n                </tr>\\n                <tr>\\n                    <td >I<sub>jn</sub> =  @i_j_n_m &ang; @deg_j_n </td>\\n                    <td >I<sub>kn</sub> =  @i_k_n_m &ang; @deg_k_n </td>\\n                </tr>\\n            </table>            \\n            </div>\\n            \"},\"id\":\"20774\",\"type\":\"HoverTool\"},{\"attributes\":{\"active_drag\":\"auto\",\"active_inspect\":\"auto\",\"active_multi\":null,\"active_scroll\":\"auto\",\"active_tap\":\"auto\",\"tools\":[{\"id\":\"20739\",\"type\":\"PanTool\"},{\"id\":\"20740\",\"type\":\"WheelZoomTool\"},{\"id\":\"20741\",\"type\":\"BoxZoomTool\"},{\"id\":\"20742\",\"type\":\"SaveTool\"},{\"id\":\"20743\",\"type\":\"ResetTool\"},{\"id\":\"20744\",\"type\":\"HelpTool\"},{\"id\":\"20772\",\"type\":\"HoverTool\"},{\"id\":\"20774\",\"type\":\"HoverTool\"},{\"id\":\"20776\",\"type\":\"HoverTool\"}]},\"id\":\"20745\",\"type\":\"Toolbar\"},{\"attributes\":{\"callback\":null,\"renderers\":[{\"id\":\"20770\",\"type\":\"GlyphRenderer\"}],\"tooltips\":\"\\n            <div>\\n            bus_id = @bus_id &nbsp &nbsp |  u<sub>avg</sub>= @u_avg_pu pu |  u<sub>unb</sub>= @v_unb %\\n            <table border=\\\"1\\\">\\n                <tr>\\n                <td>v<sub>an</sub> =  @v_an  &ang; @deg_an V </td> <td> S<sub>a</sub> = @p_a + j@q_a kVA</td>\\n                </tr>\\n                      <tr>\\n                      <td> </td> <td>v<sub>ab</sub>= @v_ab V</td>\\n                      </tr>\\n                <tr>\\n                <td>v<sub>bn</sub> = @v_bn &ang; @deg_bn V </td><td> S<sub>b</sub> = @p_b + j@q_b kVA</td>\\n                </tr>\\n                      <tr>\\n                      <td> </td><td>v<sub>bc</sub>= @v_bc V</td>\\n                      </tr>\\n                <tr>\\n                <td>v<sub>cn</sub>  = @v_cn &ang; @deg_cn V </td>  <td>S<sub>c</sub> = @p_c + j@q_c kVA </td>\\n                </tr> \\n                    <tr>\\n                     <td> </td> <td>v<sub>ca</sub>= @v_ca V</td>\\n                    </tr>\\n               <tr>\\n                <td>v<sub>ng</sub>    = @v_ng &ang; @deg_ng V</td>  <td>S<sub>abc</sub> = @p_abc + j@q_abc kVA </td>\\n              </tr>\\n            </table>\\n            </div>\\n            \"},\"id\":\"20776\",\"type\":\"HoverTool\"},{\"attributes\":{\"callback\":null},\"id\":\"20721\",\"type\":\"DataRange1d\"},{\"attributes\":{\"bottom_units\":\"screen\",\"fill_alpha\":{\"value\":0.5},\"fill_color\":{\"value\":\"lightgrey\"},\"left_units\":\"screen\",\"level\":\"overlay\",\"line_alpha\":{\"value\":1.0},\"line_color\":{\"value\":\"black\"},\"line_dash\":[4,4],\"line_width\":{\"value\":2},\"plot\":null,\"render_mode\":\"css\",\"right_units\":\"screen\",\"top_units\":\"screen\"},\"id\":\"20747\",\"type\":\"BoxAnnotation\"},{\"attributes\":{\"callback\":null},\"id\":\"20723\",\"type\":\"DataRange1d\"},{\"attributes\":{},\"id\":\"21343\",\"type\":\"BasicTickFormatter\"},{\"attributes\":{\"data_source\":{\"id\":\"20754\",\"type\":\"ColumnDataSource\"},\"glyph\":{\"id\":\"20756\",\"type\":\"MultiLine\"},\"hover_glyph\":null,\"muted_glyph\":null,\"nonselection_glyph\":{\"id\":\"20757\",\"type\":\"MultiLine\"},\"selection_glyph\":null,\"view\":{\"id\":\"20759\",\"type\":\"CDSView\"}},\"id\":\"20758\",\"type\":\"GlyphRenderer\"},{\"attributes\":{},\"id\":\"20725\",\"type\":\"LinearScale\"},{\"attributes\":{},\"id\":\"21345\",\"type\":\"BasicTickFormatter\"},{\"attributes\":{\"source\":{\"id\":\"20754\",\"type\":\"ColumnDataSource\"}},\"id\":\"20759\",\"type\":\"CDSView\"},{\"attributes\":{},\"id\":\"20727\",\"type\":\"LinearScale\"},{\"attributes\":{},\"id\":\"21348\",\"type\":\"Selection\"},{\"attributes\":{\"callback\":null,\"data\":{\"deg_1a\":[-82.87498327772894],\"deg_1b\":[157.12501667200334],\"deg_1c\":[37.12501704536376],\"deg_1n\":[180.0],\"deg_2a\":[67.12501695443873],\"deg_2b\":[-52.87498341894468],\"deg_2c\":[-172.8749830958559],\"deg_2n\":[102.72435568542237],\"i_1a_m\":[3472.0613954198766],\"i_1b_m\":[3472.0613710532148],\"i_1c_m\":[3472.0613805984854],\"i_1n_m\":[4.547473508864641e-13],\"i_2a_m\":[12730.891776758122],\"i_2b_m\":[12730.891741754845],\"i_2c_m\":[12730.891687416142],\"i_2n_m\":[4.8841409969419285e-09],\"trafo_id\":[\"B0-B1\"],\"x_s\":[[0,30]],\"y_s\":[[0,0]]},\"selected\":{\"id\":\"21348\",\"type\":\"Selection\"},\"selection_policy\":{\"id\":\"21349\",\"type\":\"UnionRenderers\"}},\"id\":\"20754\",\"type\":\"ColumnDataSource\"},{\"attributes\":{\"callback\":null,\"data\":{\"deg_j_a\":[102.72435568542237],\"deg_j_b\":[109.13519570578156],\"deg_j_c\":[124.52576517170999],\"deg_j_n\":[112.63710713217466],\"deg_k_a\":[102.72435568542237],\"deg_k_b\":[109.13519570578156],\"deg_k_c\":[124.52576517170999],\"deg_k_n\":[112.63710713217466],\"i_j_a_m\":[4.8841409969419285e-09],\"i_j_b_m\":[8.411996965363582e-09],\"i_j_c_m\":[6.575476052453282e-09],\"i_j_n_m\":[1.9641946278143886e-08],\"i_k_a_m\":[4.8841409969419285e-09],\"i_k_b_m\":[8.411996965363582e-09],\"i_k_c_m\":[6.575476052453282e-09],\"i_k_n_m\":[1.9641946278143886e-08],\"line_id\":[\"B1-B2\"],\"x_s\":[[30,200]],\"y_s\":[[0,0]]},\"selected\":{\"id\":\"21350\",\"type\":\"Selection\"},\"selection_policy\":{\"id\":\"21351\",\"type\":\"UnionRenderers\"}},\"id\":\"20760\",\"type\":\"ColumnDataSource\"},{\"attributes\":{\"plot\":null,\"text\":\"Results\"},\"id\":\"20718\",\"type\":\"Title\"},{\"attributes\":{},\"id\":\"21349\",\"type\":\"UnionRenderers\"},{\"attributes\":{\"plot\":{\"id\":\"20719\",\"subtype\":\"Figure\",\"type\":\"Plot\"},\"ticker\":{\"id\":\"20730\",\"type\":\"BasicTicker\"}},\"id\":\"20733\",\"type\":\"Grid\"},{\"attributes\":{},\"id\":\"21350\",\"type\":\"Selection\"},{\"attributes\":{\"line_alpha\":{\"value\":0.5},\"line_color\":{\"value\":\"red\"},\"line_width\":{\"value\":5},\"xs\":{\"field\":\"x_s\"},\"ys\":{\"field\":\"y_s\"}},\"id\":\"20762\",\"type\":\"MultiLine\"},{\"attributes\":{\"formatter\":{\"id\":\"21345\",\"type\":\"BasicTickFormatter\"},\"plot\":{\"id\":\"20719\",\"subtype\":\"Figure\",\"type\":\"Plot\"},\"ticker\":{\"id\":\"20735\",\"type\":\"BasicTicker\"}},\"id\":\"20734\",\"type\":\"LinearAxis\"},{\"attributes\":{},\"id\":\"21351\",\"type\":\"UnionRenderers\"},{\"attributes\":{\"line_alpha\":{\"value\":0.1},\"line_color\":{\"value\":\"#1f77b4\"},\"line_width\":{\"value\":5},\"xs\":{\"field\":\"x_s\"},\"ys\":{\"field\":\"y_s\"}},\"id\":\"20763\",\"type\":\"MultiLine\"},{\"attributes\":{},\"id\":\"20735\",\"type\":\"BasicTicker\"}],\"root_ids\":[\"20719\"]},\"title\":\"Bokeh Application\",\"version\":\"1.0.2\"}};\n",
       "  var render_items = [{\"docid\":\"9cb515c0-b7a4-417b-8c11-81376690415a\",\"roots\":{\"20719\":\"a5ce7c18-0612-4c5e-9bb0-170f6348fdfb\"}}];\n",
       "  root.Bokeh.embed.embed_items_notebook(docs_json, render_items);\n",
       "\n",
       "  }\n",
       "  if (root.Bokeh !== undefined) {\n",
       "    embed_document(root);\n",
       "  } else {\n",
       "    var attempts = 0;\n",
       "    var timer = setInterval(function(root) {\n",
       "      if (root.Bokeh !== undefined) {\n",
       "        embed_document(root);\n",
       "        clearInterval(timer);\n",
       "      }\n",
       "      attempts++;\n",
       "      if (attempts > 100) {\n",
       "        console.log(\"Bokeh: ERROR: Unable to run BokehJS code because BokehJS library is missing\");\n",
       "        clearInterval(timer);\n",
       "      }\n",
       "    }, 10, root)\n",
       "  }\n",
       "})(window);"
      ],
      "application/vnd.bokehjs_exec.v0+json": ""
     },
     "metadata": {
      "application/vnd.bokehjs_exec.v0+json": {
       "id": "20719"
      }
     },
     "output_type": "display_data"
    }
   ],
   "source": [
    "grid_1 = grid()\n",
    "data['grid_feeders'] = [{\"bus\": \"B2\",\"bus_nodes\": [1, 2, 3],\n",
    "                \"kW\": [0, 0, 0], \"kvar\": [0,0,0],\n",
    "                \"kA\": [-0.0,-0.0,-0.0], \"phi_deg\":[0, 0, 0]}\n",
    "                ]\n",
    "data['shunts'] = [\n",
    "        {\"bus\": \"B1\" , \"R\": 1000, \"X\": 0.0, \"bus_nodes\": [1,0]},\n",
    "        {\"bus\": \"B1\" , \"R\": 1e-8, \"X\": 0.0, \"bus_nodes\": [1,2]}, # applied fault\n",
    "        {\"bus\": \"B1\" , \"R\": 1e-8, \"X\": 0.0, \"bus_nodes\": [2,3]}, # applied fault\n",
    "]\n",
    "grid_1.read(data)  # Load data\n",
    "grid_1.pf()  # solve power flow\n",
    "p=plot_results(grid_1)"
   ]
  },
  {
   "cell_type": "raw",
   "metadata": {},
   "source": [
    "S = sqrt(3)*U*I\n",
    "I = S/(sqrt(3)*U)\n",
    "Z = U/sqrt(3)/I\n",
    "Z_b = U_b**2/S_b\n",
    "Z = Z_b*Xpu\n",
    "Z_b = Z/Xpu\n",
    "U_b**2/S_b*Xpu =  U/(sqrt(3)*I)\n",
    "\n",
    "U_b**2/S_b*Xpu =  U_b/(sqrt(3)*I)"
   ]
  },
  {
   "cell_type": "code",
   "execution_count": 36,
   "metadata": {},
   "outputs": [
    {
     "name": "stdout",
     "output_type": "stream",
     "text": [
      "I_cc = 12.83 kA\n",
      "S_b = 32000.00 kVA\n"
     ]
    }
   ],
   "source": [
    "S_cc = 400e6\n",
    "U_b = 18e3\n",
    "Xpu = 0.08\n",
    "I = S_cc/(np.sqrt(3)*U_b)\n",
    "S_b = U_b*Xpu*np.sqrt(3)*I\n",
    "print(f'I_cc = {I/1000:0.2f} kA')\n",
    "print(f'S_b = {S_b/1000:0.2f} kVA')\n"
   ]
  },
  {
   "cell_type": "markdown",
   "metadata": {},
   "source": [
    "## Phase ground fault (isolated neutral)"
   ]
  },
  {
   "cell_type": "markdown",
   "metadata": {},
   "source": [
    "![](./png/mv_short_circuits_ph_g_isolated_n.png)  "
   ]
  },
  {
   "cell_type": "code",
   "execution_count": 150,
   "metadata": {},
   "outputs": [],
   "source": [
    "data['grid_feeders'] = [{\"bus\": \"B2\",\"bus_nodes\": [1, 2, 3],\n",
    "                \"kW\": [0, 0, 0], \"kvar\": [0,0,0],\n",
    "                \"kA\": [-0.0,-0.0,-0.0], \"phi_deg\":[0, 0, 0]}\n",
    "                ]\n",
    "\n",
    "data['shunts'] = [\n",
    "        {\"bus\": \"B1\" , \"R\": 1e8, \"X\": 0.0, \"bus_nodes\": [1,0]},\n",
    "        {\"bus\": \"B1\" , \"R\": 1e-8, \"X\": 0.0, \"bus_nodes\": [1,0]}, # applied fault\n",
    "]\n"
   ]
  },
  {
   "cell_type": "code",
   "execution_count": 151,
   "metadata": {},
   "outputs": [
    {
     "data": {
      "text/html": [
       "\n",
       "\n",
       "\n",
       "\n",
       "\n",
       "\n",
       "  <div class=\"bk-root\" id=\"60a0877f-c0a4-4df0-a576-95a0a8657200\"></div>\n"
      ]
     },
     "metadata": {},
     "output_type": "display_data"
    },
    {
     "data": {
      "application/javascript": [
       "(function(root) {\n",
       "  function embed_document(root) {\n",
       "    \n",
       "  var docs_json = {\"2dbeaa76-a7bf-483e-a5ee-0d3ebd3c74e7\":{\"roots\":{\"references\":[{\"attributes\":{\"below\":[{\"id\":\"24389\",\"type\":\"LinearAxis\"}],\"left\":[{\"id\":\"24394\",\"type\":\"LinearAxis\"}],\"plot_height\":400,\"renderers\":[{\"id\":\"24389\",\"type\":\"LinearAxis\"},{\"id\":\"24393\",\"type\":\"Grid\"},{\"id\":\"24394\",\"type\":\"LinearAxis\"},{\"id\":\"24398\",\"type\":\"Grid\"},{\"id\":\"24407\",\"type\":\"BoxAnnotation\"},{\"id\":\"24418\",\"type\":\"GlyphRenderer\"},{\"id\":\"24424\",\"type\":\"GlyphRenderer\"},{\"id\":\"24430\",\"type\":\"GlyphRenderer\"}],\"title\":{\"id\":\"24378\",\"type\":\"Title\"},\"toolbar\":{\"id\":\"24405\",\"type\":\"Toolbar\"},\"x_range\":{\"id\":\"24381\",\"type\":\"DataRange1d\"},\"x_scale\":{\"id\":\"24385\",\"type\":\"LinearScale\"},\"y_range\":{\"id\":\"24383\",\"type\":\"DataRange1d\"},\"y_scale\":{\"id\":\"24387\",\"type\":\"LinearScale\"}},\"id\":\"24379\",\"subtype\":\"Figure\",\"type\":\"Plot\"},{\"attributes\":{},\"id\":\"25065\",\"type\":\"BasicTickFormatter\"},{\"attributes\":{\"data_source\":{\"id\":\"24420\",\"type\":\"ColumnDataSource\"},\"glyph\":{\"id\":\"24422\",\"type\":\"MultiLine\"},\"hover_glyph\":null,\"muted_glyph\":null,\"nonselection_glyph\":{\"id\":\"24423\",\"type\":\"MultiLine\"},\"selection_glyph\":null,\"view\":{\"id\":\"24425\",\"type\":\"CDSView\"}},\"id\":\"24424\",\"type\":\"GlyphRenderer\"},{\"attributes\":{},\"id\":\"24399\",\"type\":\"PanTool\"},{\"attributes\":{\"callback\":null,\"renderers\":[{\"id\":\"24418\",\"type\":\"GlyphRenderer\"}],\"tooltips\":\"\\n            <div>\\n            transformer id = @trafo_id  \\n            <table border=\\\"5\\\">\\n                <tr >\\n                    <td>I<sub>1a</sub> =  @i_1a_m &ang; @deg_1a </td>\\n                    <td>I<sub>2a</sub> =  @i_2a_m &ang; @deg_2a </td>\\n                </tr>\\n                <tr>\\n                    <td >I<sub>1b</sub> =  @i_1b_m &ang; @deg_1b </td>\\n                    <td >I<sub>2b</sub> =  @i_2b_m &ang; @deg_2b </td>\\n                </tr>\\n                <tr>\\n                    <td >I<sub>1c</sub> =  @i_1c_m &ang; @deg_1c </td>\\n                    <td >I<sub>2c</sub> =  @i_2c_m &ang; @deg_2c </td>\\n                </tr>\\n                <tr>\\n                    <td >I<sub>1n</sub> =  @i_1n_m &ang; @deg_1n </td>\\n                    <td >I<sub>2n</sub> =  @i_2n_m &ang; @deg_2n </td>\\n                </tr>\\n            </table>            \\n            </div>\\n            \"},\"id\":\"24432\",\"type\":\"HoverTool\"},{\"attributes\":{\"formatter\":{\"id\":\"25063\",\"type\":\"BasicTickFormatter\"},\"plot\":{\"id\":\"24379\",\"subtype\":\"Figure\",\"type\":\"Plot\"},\"ticker\":{\"id\":\"24390\",\"type\":\"BasicTicker\"}},\"id\":\"24389\",\"type\":\"LinearAxis\"},{\"attributes\":{\"source\":{\"id\":\"24420\",\"type\":\"ColumnDataSource\"}},\"id\":\"24425\",\"type\":\"CDSView\"},{\"attributes\":{},\"id\":\"24400\",\"type\":\"WheelZoomTool\"},{\"attributes\":{\"data_source\":{\"id\":\"24426\",\"type\":\"ColumnDataSource\"},\"glyph\":{\"id\":\"24428\",\"type\":\"Circle\"},\"hover_glyph\":null,\"muted_glyph\":null,\"nonselection_glyph\":{\"id\":\"24429\",\"type\":\"Circle\"},\"selection_glyph\":null,\"view\":{\"id\":\"24431\",\"type\":\"CDSView\"}},\"id\":\"24430\",\"type\":\"GlyphRenderer\"},{\"attributes\":{},\"id\":\"24387\",\"type\":\"LinearScale\"},{\"attributes\":{\"source\":{\"id\":\"24426\",\"type\":\"ColumnDataSource\"}},\"id\":\"24431\",\"type\":\"CDSView\"},{\"attributes\":{\"callback\":null},\"id\":\"24381\",\"type\":\"DataRange1d\"},{\"attributes\":{},\"id\":\"24404\",\"type\":\"HelpTool\"},{\"attributes\":{},\"id\":\"25071\",\"type\":\"UnionRenderers\"},{\"attributes\":{\"plot\":null,\"text\":\"Results\"},\"id\":\"24378\",\"type\":\"Title\"},{\"attributes\":{\"callback\":null,\"renderers\":[{\"id\":\"24424\",\"type\":\"GlyphRenderer\"}],\"tooltips\":\"\\n            <div>\\n            line id = @line_id \\n            <table border=\\\"5\\\">\\n                <tr >\\n                    <td>I<sub>ja</sub> =  @i_j_a_m &ang; @deg_j_a </td>\\n                    <td>I<sub>ka</sub> =  @i_k_a_m &ang; @deg_k_a </td>\\n                </tr>\\n                <tr>\\n                    <td >I<sub>jb</sub> =  @i_j_b_m &ang; @deg_j_b </td>\\n                    <td >I<sub>kb</sub> =  @i_k_b_m &ang; @deg_k_b </td>\\n                </tr>\\n                <tr>\\n                    <td >I<sub>jc</sub> =  @i_j_c_m &ang; @deg_j_c </td>\\n                    <td >I<sub>kc</sub> =  @i_k_c_m &ang; @deg_k_c </td>\\n                </tr>\\n                <tr>\\n                    <td >I<sub>jn</sub> =  @i_j_n_m &ang; @deg_j_n </td>\\n                    <td >I<sub>kn</sub> =  @i_k_n_m &ang; @deg_k_n </td>\\n                </tr>\\n            </table>            \\n            </div>\\n            \"},\"id\":\"24434\",\"type\":\"HoverTool\"},{\"attributes\":{\"callback\":null,\"renderers\":[{\"id\":\"24430\",\"type\":\"GlyphRenderer\"}],\"tooltips\":\"\\n            <div>\\n            bus_id = @bus_id &nbsp &nbsp |  u<sub>avg</sub>= @u_avg_pu pu |  u<sub>unb</sub>= @v_unb %\\n            <table border=\\\"1\\\">\\n                <tr>\\n                <td>v<sub>an</sub> =  @v_an  &ang; @deg_an V </td> <td> S<sub>a</sub> = @p_a + j@q_a kVA</td>\\n                </tr>\\n                      <tr>\\n                      <td> </td> <td>v<sub>ab</sub>= @v_ab V</td>\\n                      </tr>\\n                <tr>\\n                <td>v<sub>bn</sub> = @v_bn &ang; @deg_bn V </td><td> S<sub>b</sub> = @p_b + j@q_b kVA</td>\\n                </tr>\\n                      <tr>\\n                      <td> </td><td>v<sub>bc</sub>= @v_bc V</td>\\n                      </tr>\\n                <tr>\\n                <td>v<sub>cn</sub>  = @v_cn &ang; @deg_cn V </td>  <td>S<sub>c</sub> = @p_c + j@q_c kVA </td>\\n                </tr> \\n                    <tr>\\n                     <td> </td> <td>v<sub>ca</sub>= @v_ca V</td>\\n                    </tr>\\n               <tr>\\n                <td>v<sub>ng</sub>    = @v_ng &ang; @deg_ng V</td>  <td>S<sub>abc</sub> = @p_abc + j@q_abc kVA </td>\\n              </tr>\\n            </table>\\n            </div>\\n            \"},\"id\":\"24436\",\"type\":\"HoverTool\"},{\"attributes\":{\"overlay\":{\"id\":\"24407\",\"type\":\"BoxAnnotation\"}},\"id\":\"24401\",\"type\":\"BoxZoomTool\"},{\"attributes\":{\"callback\":null},\"id\":\"24383\",\"type\":\"DataRange1d\"},{\"attributes\":{\"active_drag\":\"auto\",\"active_inspect\":\"auto\",\"active_multi\":null,\"active_scroll\":\"auto\",\"active_tap\":\"auto\",\"tools\":[{\"id\":\"24399\",\"type\":\"PanTool\"},{\"id\":\"24400\",\"type\":\"WheelZoomTool\"},{\"id\":\"24401\",\"type\":\"BoxZoomTool\"},{\"id\":\"24402\",\"type\":\"SaveTool\"},{\"id\":\"24403\",\"type\":\"ResetTool\"},{\"id\":\"24404\",\"type\":\"HelpTool\"},{\"id\":\"24432\",\"type\":\"HoverTool\"},{\"id\":\"24434\",\"type\":\"HoverTool\"},{\"id\":\"24436\",\"type\":\"HoverTool\"}]},\"id\":\"24405\",\"type\":\"Toolbar\"},{\"attributes\":{\"formatter\":{\"id\":\"25065\",\"type\":\"BasicTickFormatter\"},\"plot\":{\"id\":\"24379\",\"subtype\":\"Figure\",\"type\":\"Plot\"},\"ticker\":{\"id\":\"24395\",\"type\":\"BasicTicker\"}},\"id\":\"24394\",\"type\":\"LinearAxis\"},{\"attributes\":{\"data_source\":{\"id\":\"24414\",\"type\":\"ColumnDataSource\"},\"glyph\":{\"id\":\"24416\",\"type\":\"MultiLine\"},\"hover_glyph\":null,\"muted_glyph\":null,\"nonselection_glyph\":{\"id\":\"24417\",\"type\":\"MultiLine\"},\"selection_glyph\":null,\"view\":{\"id\":\"24419\",\"type\":\"CDSView\"}},\"id\":\"24418\",\"type\":\"GlyphRenderer\"},{\"attributes\":{},\"id\":\"24390\",\"type\":\"BasicTicker\"},{\"attributes\":{\"callback\":null,\"data\":{\"deg_1a\":[-38.65980825409009],\"deg_1b\":[146.30993247402023],\"deg_1c\":[126.86989764584402],\"deg_1n\":[108.43494882292202],\"deg_2a\":[180.0],\"deg_2b\":[-72.64597536373867],\"deg_2c\":[-75.96375653207353],\"deg_2n\":[-168.96032863247393],\"i_1a_m\":[1.4559018921847493e-12],\"i_1b_m\":[4.0990372275064023e-13],\"i_1c_m\":[1.7053025658242404e-12],\"i_1n_m\":[7.190186943645084e-13],\"i_2a_m\":[5.6843418860808015e-12],\"i_2b_m\":[3.811477339295427e-12],\"i_2c_m\":[3.749942721349417e-12],\"i_2n_m\":[4.649129941681672e-20],\"trafo_id\":[\"B0-B1\"],\"x_s\":[[0,30]],\"y_s\":[[0,0]]},\"selected\":{\"id\":\"25068\",\"type\":\"Selection\"},\"selection_policy\":{\"id\":\"25069\",\"type\":\"UnionRenderers\"}},\"id\":\"24414\",\"type\":\"ColumnDataSource\"},{\"attributes\":{},\"id\":\"25072\",\"type\":\"Selection\"},{\"attributes\":{},\"id\":\"25073\",\"type\":\"UnionRenderers\"},{\"attributes\":{\"line_alpha\":{\"value\":0.1},\"line_color\":{\"value\":\"#1f77b4\"},\"line_width\":{\"value\":5},\"xs\":{\"field\":\"x_s\"},\"ys\":{\"field\":\"y_s\"}},\"id\":\"24423\",\"type\":\"MultiLine\"},{\"attributes\":{},\"id\":\"24385\",\"type\":\"LinearScale\"},{\"attributes\":{},\"id\":\"25070\",\"type\":\"Selection\"},{\"attributes\":{},\"id\":\"25063\",\"type\":\"BasicTickFormatter\"},{\"attributes\":{\"callback\":null,\"data\":{\"bus_id\":[\"B0\",\"B1\",\"B2\"],\"deg_an\":[\"0.00\",\"-30.00\",\"3.58\"],\"deg_bn\":[\"-120.00\",\"-150.00\",\"180.00\"],\"deg_cn\":[\"120.00\",\"90.00\",\"120.00\"],\"deg_ng\":[\"0.00\",\"150.00\",\"0.00\"],\"p_a\":[\"0.00\",\"0.00\",\"0.00\"],\"p_abc\":[\"0.00\",\"0.00\",\"0.00\"],\"p_b\":[\"0.00\",\"-0.00\",\"0.00\"],\"p_c\":[\"0.00\",\"0.00\",\"0.00\"],\"q_a\":[\"0.00\",\"-0.00\",\"0.00\"],\"q_abc\":[\"0.00\",\"0.00\",\"0.00\"],\"q_b\":[\"0.00\",\"0.00\",\"0.00\"],\"q_c\":[\"-0.00\",\"0.00\",\"0.00\"],\"s_color\":[\"red\",\"blue\",\"blue\"],\"s_radio\":[1,1,1],\"u_avg_pu\":[\"1.000\",\"1.000\",\"1.155\"],\"v_ab\":[65999.79602241206,17999.944369748744,17999.944369748744],\"v_an\":[\"38105.00\",\"10392.27\",\"0.00\"],\"v_an_pu\":[\"1.0000\",\"1.0000\",\"0.0000\"],\"v_bc\":[65999.79602241208,17999.944369748744,17999.944369748744],\"v_bn\":[\"38105.00\",\"10392.27\",\"17999.94\"],\"v_bn_pu\":[\"1.0000\",\"1.0000\",\"1.7320\"],\"v_ca\":[65999.79602241208,17999.94436974875,17999.94436974875],\"v_cn\":[\"38105.00\",\"10392.27\",\"17999.94\"],\"v_cn_pu\":[\"1.0000\",\"1.0000\",\"1.7320\"],\"v_ng\":[\"0.00\",\"10392.27\",\"0.00\"],\"v_unb\":[\"0.0\",\"0.0\",\"100.0\"],\"x\":[0,30,200],\"y\":[0,0,0]},\"selected\":{\"id\":\"25072\",\"type\":\"Selection\"},\"selection_policy\":{\"id\":\"25073\",\"type\":\"UnionRenderers\"}},\"id\":\"24426\",\"type\":\"ColumnDataSource\"},{\"attributes\":{\"fill_alpha\":{\"value\":0.5},\"fill_color\":{\"value\":\"navy\"},\"line_alpha\":{\"value\":0.5},\"line_color\":{\"value\":\"navy\"},\"size\":{\"units\":\"screen\",\"value\":15},\"x\":{\"field\":\"x\"},\"y\":{\"field\":\"y\"}},\"id\":\"24428\",\"type\":\"Circle\"},{\"attributes\":{\"line_alpha\":{\"value\":0.5},\"line_color\":{\"value\":\"green\"},\"line_width\":{\"value\":5},\"xs\":{\"field\":\"x_s\"},\"ys\":{\"field\":\"y_s\"}},\"id\":\"24416\",\"type\":\"MultiLine\"},{\"attributes\":{},\"id\":\"24395\",\"type\":\"BasicTicker\"},{\"attributes\":{},\"id\":\"24402\",\"type\":\"SaveTool\"},{\"attributes\":{\"bottom_units\":\"screen\",\"fill_alpha\":{\"value\":0.5},\"fill_color\":{\"value\":\"lightgrey\"},\"left_units\":\"screen\",\"level\":\"overlay\",\"line_alpha\":{\"value\":1.0},\"line_color\":{\"value\":\"black\"},\"line_dash\":[4,4],\"line_width\":{\"value\":2},\"plot\":null,\"render_mode\":\"css\",\"right_units\":\"screen\",\"top_units\":\"screen\"},\"id\":\"24407\",\"type\":\"BoxAnnotation\"},{\"attributes\":{\"dimension\":1,\"plot\":{\"id\":\"24379\",\"subtype\":\"Figure\",\"type\":\"Plot\"},\"ticker\":{\"id\":\"24395\",\"type\":\"BasicTicker\"}},\"id\":\"24398\",\"type\":\"Grid\"},{\"attributes\":{\"line_alpha\":{\"value\":0.1},\"line_color\":{\"value\":\"#1f77b4\"},\"line_width\":{\"value\":5},\"xs\":{\"field\":\"x_s\"},\"ys\":{\"field\":\"y_s\"}},\"id\":\"24417\",\"type\":\"MultiLine\"},{\"attributes\":{},\"id\":\"25069\",\"type\":\"UnionRenderers\"},{\"attributes\":{\"fill_alpha\":{\"value\":0.1},\"fill_color\":{\"value\":\"#1f77b4\"},\"line_alpha\":{\"value\":0.1},\"line_color\":{\"value\":\"#1f77b4\"},\"size\":{\"units\":\"screen\",\"value\":15},\"x\":{\"field\":\"x\"},\"y\":{\"field\":\"y\"}},\"id\":\"24429\",\"type\":\"Circle\"},{\"attributes\":{\"callback\":null,\"data\":{\"deg_j_a\":[-168.96032863247393],\"deg_j_b\":[106.63901070404667],\"deg_j_c\":[113.76402705294846],\"deg_j_n\":[-168.96032863247393],\"deg_k_a\":[-168.96032863247393],\"deg_k_b\":[106.63901070404667],\"deg_k_c\":[113.76402705294846],\"deg_k_n\":[-168.96032863247393],\"i_j_a_m\":[4.649129941681672e-20],\"i_j_b_m\":[6.295273037814679e-36],\"i_j_c_m\":[6.767215176903513e-36],\"i_j_n_m\":[4.6491299416816716e-20],\"i_k_a_m\":[4.649129941681672e-20],\"i_k_b_m\":[6.295273037814679e-36],\"i_k_c_m\":[6.767215176903513e-36],\"i_k_n_m\":[4.6491299416816716e-20],\"line_id\":[\"B1-B2\"],\"x_s\":[[30,200]],\"y_s\":[[0,0]]},\"selected\":{\"id\":\"25070\",\"type\":\"Selection\"},\"selection_policy\":{\"id\":\"25071\",\"type\":\"UnionRenderers\"}},\"id\":\"24420\",\"type\":\"ColumnDataSource\"},{\"attributes\":{\"source\":{\"id\":\"24414\",\"type\":\"ColumnDataSource\"}},\"id\":\"24419\",\"type\":\"CDSView\"},{\"attributes\":{\"plot\":{\"id\":\"24379\",\"subtype\":\"Figure\",\"type\":\"Plot\"},\"ticker\":{\"id\":\"24390\",\"type\":\"BasicTicker\"}},\"id\":\"24393\",\"type\":\"Grid\"},{\"attributes\":{},\"id\":\"24403\",\"type\":\"ResetTool\"},{\"attributes\":{},\"id\":\"25068\",\"type\":\"Selection\"},{\"attributes\":{\"line_alpha\":{\"value\":0.5},\"line_color\":{\"value\":\"red\"},\"line_width\":{\"value\":5},\"xs\":{\"field\":\"x_s\"},\"ys\":{\"field\":\"y_s\"}},\"id\":\"24422\",\"type\":\"MultiLine\"}],\"root_ids\":[\"24379\"]},\"title\":\"Bokeh Application\",\"version\":\"1.0.2\"}};\n",
       "  var render_items = [{\"docid\":\"2dbeaa76-a7bf-483e-a5ee-0d3ebd3c74e7\",\"roots\":{\"24379\":\"60a0877f-c0a4-4df0-a576-95a0a8657200\"}}];\n",
       "  root.Bokeh.embed.embed_items_notebook(docs_json, render_items);\n",
       "\n",
       "  }\n",
       "  if (root.Bokeh !== undefined) {\n",
       "    embed_document(root);\n",
       "  } else {\n",
       "    var attempts = 0;\n",
       "    var timer = setInterval(function(root) {\n",
       "      if (root.Bokeh !== undefined) {\n",
       "        embed_document(root);\n",
       "        clearInterval(timer);\n",
       "      }\n",
       "      attempts++;\n",
       "      if (attempts > 100) {\n",
       "        console.log(\"Bokeh: ERROR: Unable to run BokehJS code because BokehJS library is missing\");\n",
       "        clearInterval(timer);\n",
       "      }\n",
       "    }, 10, root)\n",
       "  }\n",
       "})(window);"
      ],
      "application/vnd.bokehjs_exec.v0+json": ""
     },
     "metadata": {
      "application/vnd.bokehjs_exec.v0+json": {
       "id": "24379"
      }
     },
     "output_type": "display_data"
    }
   ],
   "source": [
    "grid_ph_g = grid()\n",
    "grid_ph_g.read(data)  # Load data\n",
    "grid_ph_g.pf()  # solve power flow\n",
    "p=plot_results(grid_ph_g)"
   ]
  },
  {
   "cell_type": "markdown",
   "metadata": {},
   "source": [
    "## Phase ground fault (grounded neutral)"
   ]
  },
  {
   "cell_type": "markdown",
   "metadata": {},
   "source": [
    "![](./png/mv_short_circuits_ph_g_n.png)  "
   ]
  },
  {
   "cell_type": "code",
   "execution_count": 152,
   "metadata": {},
   "outputs": [],
   "source": [
    "data['grid_feeders'] = [{\"bus\": \"B2\",\"bus_nodes\": [1, 2, 3],\n",
    "                \"kW\": [0, 0, 0], \"kvar\": [0,0,0],\n",
    "                \"kA\": [-0.0,-0.0,-0.0], \"phi_deg\":[0, 0, 0]}\n",
    "                ]\n",
    "data['shunts'] = [\n",
    "        {\"bus\": \"B1\" , \"R\": 1e-12, \"X\": 0.0, \"bus_nodes\": [4,0]},\n",
    "        {\"bus\": \"B1\" , \"R\": 1e-12, \"X\": 0.0, \"bus_nodes\": [1,0]}, # applied fault\n",
    "]"
   ]
  },
  {
   "cell_type": "code",
   "execution_count": 153,
   "metadata": {},
   "outputs": [
    {
     "data": {
      "text/html": [
       "\n",
       "\n",
       "\n",
       "\n",
       "\n",
       "\n",
       "  <div class=\"bk-root\" id=\"5c9e4655-f2ee-4ef2-99f7-2736814dd7aa\"></div>\n"
      ]
     },
     "metadata": {},
     "output_type": "display_data"
    },
    {
     "data": {
      "application/javascript": [
       "(function(root) {\n",
       "  function embed_document(root) {\n",
       "    \n",
       "  var docs_json = {\"878de0cc-6683-4a30-bf10-58b14681f5c7\":{\"roots\":{\"references\":[{\"attributes\":{\"below\":[{\"id\":\"25157\",\"type\":\"LinearAxis\"}],\"left\":[{\"id\":\"25162\",\"type\":\"LinearAxis\"}],\"plot_height\":400,\"renderers\":[{\"id\":\"25157\",\"type\":\"LinearAxis\"},{\"id\":\"25161\",\"type\":\"Grid\"},{\"id\":\"25162\",\"type\":\"LinearAxis\"},{\"id\":\"25166\",\"type\":\"Grid\"},{\"id\":\"25175\",\"type\":\"BoxAnnotation\"},{\"id\":\"25186\",\"type\":\"GlyphRenderer\"},{\"id\":\"25192\",\"type\":\"GlyphRenderer\"},{\"id\":\"25198\",\"type\":\"GlyphRenderer\"}],\"title\":{\"id\":\"25146\",\"type\":\"Title\"},\"toolbar\":{\"id\":\"25173\",\"type\":\"Toolbar\"},\"x_range\":{\"id\":\"25149\",\"type\":\"DataRange1d\"},\"x_scale\":{\"id\":\"25153\",\"type\":\"LinearScale\"},\"y_range\":{\"id\":\"25151\",\"type\":\"DataRange1d\"},\"y_scale\":{\"id\":\"25155\",\"type\":\"LinearScale\"}},\"id\":\"25147\",\"subtype\":\"Figure\",\"type\":\"Plot\"},{\"attributes\":{\"data_source\":{\"id\":\"25194\",\"type\":\"ColumnDataSource\"},\"glyph\":{\"id\":\"25196\",\"type\":\"Circle\"},\"hover_glyph\":null,\"muted_glyph\":null,\"nonselection_glyph\":{\"id\":\"25197\",\"type\":\"Circle\"},\"selection_glyph\":null,\"view\":{\"id\":\"25199\",\"type\":\"CDSView\"}},\"id\":\"25198\",\"type\":\"GlyphRenderer\"},{\"attributes\":{\"overlay\":{\"id\":\"25175\",\"type\":\"BoxAnnotation\"}},\"id\":\"25169\",\"type\":\"BoxZoomTool\"},{\"attributes\":{},\"id\":\"25853\",\"type\":\"UnionRenderers\"},{\"attributes\":{\"active_drag\":\"auto\",\"active_inspect\":\"auto\",\"active_multi\":null,\"active_scroll\":\"auto\",\"active_tap\":\"auto\",\"tools\":[{\"id\":\"25167\",\"type\":\"PanTool\"},{\"id\":\"25168\",\"type\":\"WheelZoomTool\"},{\"id\":\"25169\",\"type\":\"BoxZoomTool\"},{\"id\":\"25170\",\"type\":\"SaveTool\"},{\"id\":\"25171\",\"type\":\"ResetTool\"},{\"id\":\"25172\",\"type\":\"HelpTool\"},{\"id\":\"25200\",\"type\":\"HoverTool\"},{\"id\":\"25202\",\"type\":\"HoverTool\"},{\"id\":\"25204\",\"type\":\"HoverTool\"}]},\"id\":\"25173\",\"type\":\"Toolbar\"},{\"attributes\":{},\"id\":\"25163\",\"type\":\"BasicTicker\"},{\"attributes\":{\"callback\":null},\"id\":\"25149\",\"type\":\"DataRange1d\"},{\"attributes\":{},\"id\":\"25850\",\"type\":\"Selection\"},{\"attributes\":{},\"id\":\"25153\",\"type\":\"LinearScale\"},{\"attributes\":{\"callback\":null,\"data\":{\"deg_j_a\":[0.0],\"deg_j_b\":[-135.0],\"deg_j_c\":[179.99999999999991],\"deg_j_n\":[-146.30993247402026],\"deg_k_a\":[0.0],\"deg_k_b\":[-135.0],\"deg_k_c\":[179.99999999999991],\"deg_k_n\":[-146.30993247402026],\"i_j_a_m\":[0.0],\"i_j_b_m\":[2.5724394843074972e-12],\"i_j_c_m\":[9.094947017729281e-13],\"i_j_n_m\":[3.2792297820051214e-12],\"i_k_a_m\":[0.0],\"i_k_b_m\":[2.5724394843074972e-12],\"i_k_c_m\":[9.094947017729281e-13],\"i_k_n_m\":[3.2792297820051214e-12],\"line_id\":[\"B1-B2\"],\"x_s\":[[30,200]],\"y_s\":[[0,0]]},\"selected\":{\"id\":\"25850\",\"type\":\"Selection\"},\"selection_policy\":{\"id\":\"25851\",\"type\":\"UnionRenderers\"}},\"id\":\"25188\",\"type\":\"ColumnDataSource\"},{\"attributes\":{},\"id\":\"25170\",\"type\":\"SaveTool\"},{\"attributes\":{},\"id\":\"25158\",\"type\":\"BasicTicker\"},{\"attributes\":{\"source\":{\"id\":\"25188\",\"type\":\"ColumnDataSource\"}},\"id\":\"25193\",\"type\":\"CDSView\"},{\"attributes\":{},\"id\":\"25155\",\"type\":\"LinearScale\"},{\"attributes\":{\"fill_alpha\":{\"value\":0.5},\"fill_color\":{\"value\":\"navy\"},\"line_alpha\":{\"value\":0.5},\"line_color\":{\"value\":\"navy\"},\"size\":{\"units\":\"screen\",\"value\":15},\"x\":{\"field\":\"x\"},\"y\":{\"field\":\"y\"}},\"id\":\"25196\",\"type\":\"Circle\"},{\"attributes\":{\"line_alpha\":{\"value\":0.1},\"line_color\":{\"value\":\"#1f77b4\"},\"line_width\":{\"value\":5},\"xs\":{\"field\":\"x_s\"},\"ys\":{\"field\":\"y_s\"}},\"id\":\"25191\",\"type\":\"MultiLine\"},{\"attributes\":{\"source\":{\"id\":\"25194\",\"type\":\"ColumnDataSource\"}},\"id\":\"25199\",\"type\":\"CDSView\"},{\"attributes\":{\"callback\":null,\"data\":{\"bus_id\":[\"B0\",\"B1\",\"B2\"],\"deg_an\":[\"0.00\",\"-112.87\",\"-112.87\"],\"deg_bn\":[\"-120.00\",\"-150.00\",\"-150.00\"],\"deg_cn\":[\"120.00\",\"90.00\",\"90.00\"],\"deg_ng\":[\"0.00\",\"67.13\",\"0.00\"],\"p_a\":[\"-29692.55\",\"-0.00\",\"-0.00\"],\"p_abc\":[\"16410.15\",\"0.00\",\"0.00\"],\"p_b\":[\"0.00\",\"-0.00\",\"-0.00\"],\"p_c\":[\"46102.71\",\"0.00\",\"0.00\"],\"q_a\":[\"70377.82\",\"0.00\",\"0.00\"],\"q_abc\":[\"131281.24\",\"0.00\",\"0.00\"],\"q_b\":[\"0.00\",\"0.00\",\"0.00\"],\"q_c\":[\"60903.42\",\"0.00\",\"0.00\"],\"s_color\":[\"red\",\"blue\",\"blue\"],\"s_radio\":[20,1,1],\"u_avg_pu\":[\"1.000\",\"0.667\",\"0.667\"],\"v_ab\":[65999.79602241206,10392.272727252424,10392.27272725242],\"v_an\":[\"38105.00\",\"0.00\",\"0.00\"],\"v_an_pu\":[\"1.0000\",\"0.0000\",\"0.0000\"],\"v_bc\":[65999.79602241208,17999.94436974874,17999.94436974874],\"v_bn\":[\"38105.00\",\"10392.27\",\"10392.27\"],\"v_bn_pu\":[\"1.0000\",\"1.0000\",\"1.0000\"],\"v_ca\":[65999.79602241208,10392.272727296184,10392.272727296184],\"v_cn\":[\"38105.00\",\"10392.27\",\"10392.27\"],\"v_cn_pu\":[\"1.0000\",\"1.0000\",\"1.0000\"],\"v_ng\":[\"0.00\",\"0.00\",\"0.00\"],\"v_unb\":[\"0.0\",\"100.0\",\"100.0\"],\"x\":[0,30,200],\"y\":[0,0,0]},\"selected\":{\"id\":\"25852\",\"type\":\"Selection\"},\"selection_policy\":{\"id\":\"25853\",\"type\":\"UnionRenderers\"}},\"id\":\"25194\",\"type\":\"ColumnDataSource\"},{\"attributes\":{},\"id\":\"25852\",\"type\":\"Selection\"},{\"attributes\":{\"source\":{\"id\":\"25182\",\"type\":\"ColumnDataSource\"}},\"id\":\"25187\",\"type\":\"CDSView\"},{\"attributes\":{},\"id\":\"25843\",\"type\":\"BasicTickFormatter\"},{\"attributes\":{\"callback\":null,\"renderers\":[{\"id\":\"25198\",\"type\":\"GlyphRenderer\"}],\"tooltips\":\"\\n            <div>\\n            bus_id = @bus_id &nbsp &nbsp |  u<sub>avg</sub>= @u_avg_pu pu |  u<sub>unb</sub>= @v_unb %\\n            <table border=\\\"1\\\">\\n                <tr>\\n                <td>v<sub>an</sub> =  @v_an  &ang; @deg_an V </td> <td> S<sub>a</sub> = @p_a + j@q_a kVA</td>\\n                </tr>\\n                      <tr>\\n                      <td> </td> <td>v<sub>ab</sub>= @v_ab V</td>\\n                      </tr>\\n                <tr>\\n                <td>v<sub>bn</sub> = @v_bn &ang; @deg_bn V </td><td> S<sub>b</sub> = @p_b + j@q_b kVA</td>\\n                </tr>\\n                      <tr>\\n                      <td> </td><td>v<sub>bc</sub>= @v_bc V</td>\\n                      </tr>\\n                <tr>\\n                <td>v<sub>cn</sub>  = @v_cn &ang; @deg_cn V </td>  <td>S<sub>c</sub> = @p_c + j@q_c kVA </td>\\n                </tr> \\n                    <tr>\\n                     <td> </td> <td>v<sub>ca</sub>= @v_ca V</td>\\n                    </tr>\\n               <tr>\\n                <td>v<sub>ng</sub>    = @v_ng &ang; @deg_ng V</td>  <td>S<sub>abc</sub> = @p_abc + j@q_abc kVA </td>\\n              </tr>\\n            </table>\\n            </div>\\n            \"},\"id\":\"25204\",\"type\":\"HoverTool\"},{\"attributes\":{\"formatter\":{\"id\":\"25843\",\"type\":\"BasicTickFormatter\"},\"plot\":{\"id\":\"25147\",\"subtype\":\"Figure\",\"type\":\"Plot\"},\"ticker\":{\"id\":\"25158\",\"type\":\"BasicTicker\"}},\"id\":\"25157\",\"type\":\"LinearAxis\"},{\"attributes\":{},\"id\":\"25172\",\"type\":\"HelpTool\"},{\"attributes\":{},\"id\":\"25168\",\"type\":\"WheelZoomTool\"},{\"attributes\":{},\"id\":\"25851\",\"type\":\"UnionRenderers\"},{\"attributes\":{\"callback\":null,\"renderers\":[{\"id\":\"25192\",\"type\":\"GlyphRenderer\"}],\"tooltips\":\"\\n            <div>\\n            line id = @line_id \\n            <table border=\\\"5\\\">\\n                <tr >\\n                    <td>I<sub>ja</sub> =  @i_j_a_m &ang; @deg_j_a </td>\\n                    <td>I<sub>ka</sub> =  @i_k_a_m &ang; @deg_k_a </td>\\n                </tr>\\n                <tr>\\n                    <td >I<sub>jb</sub> =  @i_j_b_m &ang; @deg_j_b </td>\\n                    <td >I<sub>kb</sub> =  @i_k_b_m &ang; @deg_k_b </td>\\n                </tr>\\n                <tr>\\n                    <td >I<sub>jc</sub> =  @i_j_c_m &ang; @deg_j_c </td>\\n                    <td >I<sub>kc</sub> =  @i_k_c_m &ang; @deg_k_c </td>\\n                </tr>\\n                <tr>\\n                    <td >I<sub>jn</sub> =  @i_j_n_m &ang; @deg_j_n </td>\\n                    <td >I<sub>kn</sub> =  @i_k_n_m &ang; @deg_k_n </td>\\n                </tr>\\n            </table>            \\n            </div>\\n            \"},\"id\":\"25202\",\"type\":\"HoverTool\"},{\"attributes\":{},\"id\":\"25167\",\"type\":\"PanTool\"},{\"attributes\":{\"plot\":null,\"text\":\"Results\"},\"id\":\"25146\",\"type\":\"Title\"},{\"attributes\":{\"line_alpha\":{\"value\":0.5},\"line_color\":{\"value\":\"green\"},\"line_width\":{\"value\":5},\"xs\":{\"field\":\"x_s\"},\"ys\":{\"field\":\"y_s\"}},\"id\":\"25184\",\"type\":\"MultiLine\"},{\"attributes\":{},\"id\":\"25848\",\"type\":\"Selection\"},{\"attributes\":{},\"id\":\"25845\",\"type\":\"BasicTickFormatter\"},{\"attributes\":{\"fill_alpha\":{\"value\":0.1},\"fill_color\":{\"value\":\"#1f77b4\"},\"line_alpha\":{\"value\":0.1},\"line_color\":{\"value\":\"#1f77b4\"},\"size\":{\"units\":\"screen\",\"value\":15},\"x\":{\"field\":\"x\"},\"y\":{\"field\":\"y\"}},\"id\":\"25197\",\"type\":\"Circle\"},{\"attributes\":{\"callback\":null,\"data\":{\"deg_1a\":[-112.87498365095888],\"deg_1b\":[-169.69515353123398],\"deg_1c\":[67.1250163490411],\"deg_1n\":[-153.434948822922],\"deg_2a\":[67.1250163490411],\"deg_2b\":[-57.9946167919165],\"deg_2c\":[-146.30993247402023],\"deg_2n\":[0.0],\"i_1a_m\":[2004.595575776992],\"i_1b_m\":[1.2710574864626038e-12],\"i_1c_m\":[2004.5955757769925],\"i_1n_m\":[5.084229945850415e-13],\"i_2a_m\":[12730.891748202966],\"i_2b_m\":[2.145038964057813e-12],\"i_2c_m\":[3.279229782005122e-12],\"i_2n_m\":[0.0],\"trafo_id\":[\"B0-B1\"],\"x_s\":[[0,30]],\"y_s\":[[0,0]]},\"selected\":{\"id\":\"25848\",\"type\":\"Selection\"},\"selection_policy\":{\"id\":\"25849\",\"type\":\"UnionRenderers\"}},\"id\":\"25182\",\"type\":\"ColumnDataSource\"},{\"attributes\":{},\"id\":\"25849\",\"type\":\"UnionRenderers\"},{\"attributes\":{\"line_alpha\":{\"value\":0.5},\"line_color\":{\"value\":\"red\"},\"line_width\":{\"value\":5},\"xs\":{\"field\":\"x_s\"},\"ys\":{\"field\":\"y_s\"}},\"id\":\"25190\",\"type\":\"MultiLine\"},{\"attributes\":{\"data_source\":{\"id\":\"25188\",\"type\":\"ColumnDataSource\"},\"glyph\":{\"id\":\"25190\",\"type\":\"MultiLine\"},\"hover_glyph\":null,\"muted_glyph\":null,\"nonselection_glyph\":{\"id\":\"25191\",\"type\":\"MultiLine\"},\"selection_glyph\":null,\"view\":{\"id\":\"25193\",\"type\":\"CDSView\"}},\"id\":\"25192\",\"type\":\"GlyphRenderer\"},{\"attributes\":{\"line_alpha\":{\"value\":0.1},\"line_color\":{\"value\":\"#1f77b4\"},\"line_width\":{\"value\":5},\"xs\":{\"field\":\"x_s\"},\"ys\":{\"field\":\"y_s\"}},\"id\":\"25185\",\"type\":\"MultiLine\"},{\"attributes\":{\"formatter\":{\"id\":\"25845\",\"type\":\"BasicTickFormatter\"},\"plot\":{\"id\":\"25147\",\"subtype\":\"Figure\",\"type\":\"Plot\"},\"ticker\":{\"id\":\"25163\",\"type\":\"BasicTicker\"}},\"id\":\"25162\",\"type\":\"LinearAxis\"},{\"attributes\":{\"callback\":null},\"id\":\"25151\",\"type\":\"DataRange1d\"},{\"attributes\":{\"dimension\":1,\"plot\":{\"id\":\"25147\",\"subtype\":\"Figure\",\"type\":\"Plot\"},\"ticker\":{\"id\":\"25163\",\"type\":\"BasicTicker\"}},\"id\":\"25166\",\"type\":\"Grid\"},{\"attributes\":{\"callback\":null,\"renderers\":[{\"id\":\"25186\",\"type\":\"GlyphRenderer\"}],\"tooltips\":\"\\n            <div>\\n            transformer id = @trafo_id  \\n            <table border=\\\"5\\\">\\n                <tr >\\n                    <td>I<sub>1a</sub> =  @i_1a_m &ang; @deg_1a </td>\\n                    <td>I<sub>2a</sub> =  @i_2a_m &ang; @deg_2a </td>\\n                </tr>\\n                <tr>\\n                    <td >I<sub>1b</sub> =  @i_1b_m &ang; @deg_1b </td>\\n                    <td >I<sub>2b</sub> =  @i_2b_m &ang; @deg_2b </td>\\n                </tr>\\n                <tr>\\n                    <td >I<sub>1c</sub> =  @i_1c_m &ang; @deg_1c </td>\\n                    <td >I<sub>2c</sub> =  @i_2c_m &ang; @deg_2c </td>\\n                </tr>\\n                <tr>\\n                    <td >I<sub>1n</sub> =  @i_1n_m &ang; @deg_1n </td>\\n                    <td >I<sub>2n</sub> =  @i_2n_m &ang; @deg_2n </td>\\n                </tr>\\n            </table>            \\n            </div>\\n            \"},\"id\":\"25200\",\"type\":\"HoverTool\"},{\"attributes\":{\"plot\":{\"id\":\"25147\",\"subtype\":\"Figure\",\"type\":\"Plot\"},\"ticker\":{\"id\":\"25158\",\"type\":\"BasicTicker\"}},\"id\":\"25161\",\"type\":\"Grid\"},{\"attributes\":{},\"id\":\"25171\",\"type\":\"ResetTool\"},{\"attributes\":{\"bottom_units\":\"screen\",\"fill_alpha\":{\"value\":0.5},\"fill_color\":{\"value\":\"lightgrey\"},\"left_units\":\"screen\",\"level\":\"overlay\",\"line_alpha\":{\"value\":1.0},\"line_color\":{\"value\":\"black\"},\"line_dash\":[4,4],\"line_width\":{\"value\":2},\"plot\":null,\"render_mode\":\"css\",\"right_units\":\"screen\",\"top_units\":\"screen\"},\"id\":\"25175\",\"type\":\"BoxAnnotation\"},{\"attributes\":{\"data_source\":{\"id\":\"25182\",\"type\":\"ColumnDataSource\"},\"glyph\":{\"id\":\"25184\",\"type\":\"MultiLine\"},\"hover_glyph\":null,\"muted_glyph\":null,\"nonselection_glyph\":{\"id\":\"25185\",\"type\":\"MultiLine\"},\"selection_glyph\":null,\"view\":{\"id\":\"25187\",\"type\":\"CDSView\"}},\"id\":\"25186\",\"type\":\"GlyphRenderer\"}],\"root_ids\":[\"25147\"]},\"title\":\"Bokeh Application\",\"version\":\"1.0.2\"}};\n",
       "  var render_items = [{\"docid\":\"878de0cc-6683-4a30-bf10-58b14681f5c7\",\"roots\":{\"25147\":\"5c9e4655-f2ee-4ef2-99f7-2736814dd7aa\"}}];\n",
       "  root.Bokeh.embed.embed_items_notebook(docs_json, render_items);\n",
       "\n",
       "  }\n",
       "  if (root.Bokeh !== undefined) {\n",
       "    embed_document(root);\n",
       "  } else {\n",
       "    var attempts = 0;\n",
       "    var timer = setInterval(function(root) {\n",
       "      if (root.Bokeh !== undefined) {\n",
       "        embed_document(root);\n",
       "        clearInterval(timer);\n",
       "      }\n",
       "      attempts++;\n",
       "      if (attempts > 100) {\n",
       "        console.log(\"Bokeh: ERROR: Unable to run BokehJS code because BokehJS library is missing\");\n",
       "        clearInterval(timer);\n",
       "      }\n",
       "    }, 10, root)\n",
       "  }\n",
       "})(window);"
      ],
      "application/vnd.bokehjs_exec.v0+json": ""
     },
     "metadata": {
      "application/vnd.bokehjs_exec.v0+json": {
       "id": "25147"
      }
     },
     "output_type": "display_data"
    }
   ],
   "source": [
    "grid_ph_n = grid()\n",
    "grid_ph_n.read(data)  # Load data\n",
    "grid_ph_n.pf()  # solve power flow\n",
    "p=plot_results(grid_ph_n)"
   ]
  },
  {
   "cell_type": "markdown",
   "metadata": {},
   "source": [
    "## Phase ground fault (grounded neutral with impedance)"
   ]
  },
  {
   "cell_type": "markdown",
   "metadata": {},
   "source": [
    "![](./png/mv_short_circuits_ph_g_z_n.png)  "
   ]
  },
  {
   "cell_type": "code",
   "execution_count": 154,
   "metadata": {},
   "outputs": [],
   "source": [
    "data['grid_feeders'] = [{\"bus\": \"B2\",\"bus_nodes\": [1, 2, 3],\n",
    "                \"kW\": [0, 0, 0], \"kvar\": [0,0,0],\n",
    "                \"kA\": [-0.0,-0.0,-0.0], \"phi_deg\":[0, 0, 0]}\n",
    "                ]\n",
    "data['shunts'] = [\n",
    "        {\"bus\": \"B1\" , \"R\": 3.8, \"X\": 0.0, \"bus_nodes\": [4,0]},\n",
    "        {\"bus\": \"B1\" , \"R\": 1e-12, \"X\": 0.0, \"bus_nodes\": [1,0]}, # applied fault\n",
    "]"
   ]
  },
  {
   "cell_type": "code",
   "execution_count": 155,
   "metadata": {},
   "outputs": [
    {
     "data": {
      "text/html": [
       "\n",
       "\n",
       "\n",
       "\n",
       "\n",
       "\n",
       "  <div class=\"bk-root\" id=\"943ea5ed-73ef-4251-a420-11c93bc36161\"></div>\n"
      ]
     },
     "metadata": {},
     "output_type": "display_data"
    },
    {
     "data": {
      "application/javascript": [
       "(function(root) {\n",
       "  function embed_document(root) {\n",
       "    \n",
       "  var docs_json = {\"3fc697ca-1c19-49ce-9716-d7c3dd3d4b48\":{\"roots\":{\"references\":[{\"attributes\":{\"below\":[{\"id\":\"25937\",\"type\":\"LinearAxis\"}],\"left\":[{\"id\":\"25942\",\"type\":\"LinearAxis\"}],\"plot_height\":400,\"renderers\":[{\"id\":\"25937\",\"type\":\"LinearAxis\"},{\"id\":\"25941\",\"type\":\"Grid\"},{\"id\":\"25942\",\"type\":\"LinearAxis\"},{\"id\":\"25946\",\"type\":\"Grid\"},{\"id\":\"25955\",\"type\":\"BoxAnnotation\"},{\"id\":\"25966\",\"type\":\"GlyphRenderer\"},{\"id\":\"25972\",\"type\":\"GlyphRenderer\"},{\"id\":\"25978\",\"type\":\"GlyphRenderer\"}],\"title\":{\"id\":\"25926\",\"type\":\"Title\"},\"toolbar\":{\"id\":\"25953\",\"type\":\"Toolbar\"},\"x_range\":{\"id\":\"25929\",\"type\":\"DataRange1d\"},\"x_scale\":{\"id\":\"25933\",\"type\":\"LinearScale\"},\"y_range\":{\"id\":\"25931\",\"type\":\"DataRange1d\"},\"y_scale\":{\"id\":\"25935\",\"type\":\"LinearScale\"}},\"id\":\"25927\",\"subtype\":\"Figure\",\"type\":\"Plot\"},{\"attributes\":{\"data_source\":{\"id\":\"25962\",\"type\":\"ColumnDataSource\"},\"glyph\":{\"id\":\"25964\",\"type\":\"MultiLine\"},\"hover_glyph\":null,\"muted_glyph\":null,\"nonselection_glyph\":{\"id\":\"25965\",\"type\":\"MultiLine\"},\"selection_glyph\":null,\"view\":{\"id\":\"25967\",\"type\":\"CDSView\"}},\"id\":\"25966\",\"type\":\"GlyphRenderer\"},{\"attributes\":{\"callback\":null,\"renderers\":[{\"id\":\"25978\",\"type\":\"GlyphRenderer\"}],\"tooltips\":\"\\n            <div>\\n            bus_id = @bus_id &nbsp &nbsp |  u<sub>avg</sub>= @u_avg_pu pu |  u<sub>unb</sub>= @v_unb %\\n            <table border=\\\"1\\\">\\n                <tr>\\n                <td>v<sub>an</sub> =  @v_an  &ang; @deg_an V </td> <td> S<sub>a</sub> = @p_a + j@q_a kVA</td>\\n                </tr>\\n                      <tr>\\n                      <td> </td> <td>v<sub>ab</sub>= @v_ab V</td>\\n                      </tr>\\n                <tr>\\n                <td>v<sub>bn</sub> = @v_bn &ang; @deg_bn V </td><td> S<sub>b</sub> = @p_b + j@q_b kVA</td>\\n                </tr>\\n                      <tr>\\n                      <td> </td><td>v<sub>bc</sub>= @v_bc V</td>\\n                      </tr>\\n                <tr>\\n                <td>v<sub>cn</sub>  = @v_cn &ang; @deg_cn V </td>  <td>S<sub>c</sub> = @p_c + j@q_c kVA </td>\\n                </tr> \\n                    <tr>\\n                     <td> </td> <td>v<sub>ca</sub>= @v_ca V</td>\\n                    </tr>\\n               <tr>\\n                <td>v<sub>ng</sub>    = @v_ng &ang; @deg_ng V</td>  <td>S<sub>abc</sub> = @p_abc + j@q_abc kVA </td>\\n              </tr>\\n            </table>\\n            </div>\\n            \"},\"id\":\"25984\",\"type\":\"HoverTool\"},{\"attributes\":{\"line_alpha\":{\"value\":0.5},\"line_color\":{\"value\":\"green\"},\"line_width\":{\"value\":5},\"xs\":{\"field\":\"x_s\"},\"ys\":{\"field\":\"y_s\"}},\"id\":\"25964\",\"type\":\"MultiLine\"},{\"attributes\":{\"source\":{\"id\":\"25968\",\"type\":\"ColumnDataSource\"}},\"id\":\"25973\",\"type\":\"CDSView\"},{\"attributes\":{},\"id\":\"26637\",\"type\":\"BasicTickFormatter\"},{\"attributes\":{},\"id\":\"26641\",\"type\":\"UnionRenderers\"},{\"attributes\":{},\"id\":\"25950\",\"type\":\"SaveTool\"},{\"attributes\":{\"plot\":null,\"text\":\"Results\"},\"id\":\"25926\",\"type\":\"Title\"},{\"attributes\":{\"callback\":null,\"data\":{\"deg_1a\":[-41.72942893190813],\"deg_1b\":[164.05460409907712],\"deg_1c\":[138.27057106809184],\"deg_1n\":[153.434948822922],\"deg_2a\":[138.27057106809195],\"deg_2b\":[-66.97450799147197],\"deg_2c\":[-50.19442890773481],\"deg_2n\":[-116.56505117707799],\"i_1a_m\":[410.68606108129666],\"i_1b_m\":[8.276526715781663e-13],\"i_1c_m\":[410.68606108129615],\"i_1n_m\":[2.5421149729252077e-13],\"i_2a_m\":[2608.206787094843],\"i_2b_m\":[9.882257387335235e-12],\"i_2c_m\":[7.103380699760832e-12],\"i_2n_m\":[1.3872240595038644e-24],\"trafo_id\":[\"B0-B1\"],\"x_s\":[[0,30]],\"y_s\":[[0,0]]},\"selected\":{\"id\":\"26640\",\"type\":\"Selection\"},\"selection_policy\":{\"id\":\"26641\",\"type\":\"UnionRenderers\"}},\"id\":\"25962\",\"type\":\"ColumnDataSource\"},{\"attributes\":{},\"id\":\"25948\",\"type\":\"WheelZoomTool\"},{\"attributes\":{\"active_drag\":\"auto\",\"active_inspect\":\"auto\",\"active_multi\":null,\"active_scroll\":\"auto\",\"active_tap\":\"auto\",\"tools\":[{\"id\":\"25947\",\"type\":\"PanTool\"},{\"id\":\"25948\",\"type\":\"WheelZoomTool\"},{\"id\":\"25949\",\"type\":\"BoxZoomTool\"},{\"id\":\"25950\",\"type\":\"SaveTool\"},{\"id\":\"25951\",\"type\":\"ResetTool\"},{\"id\":\"25952\",\"type\":\"HelpTool\"},{\"id\":\"25980\",\"type\":\"HoverTool\"},{\"id\":\"25982\",\"type\":\"HoverTool\"},{\"id\":\"25984\",\"type\":\"HoverTool\"}]},\"id\":\"25953\",\"type\":\"Toolbar\"},{\"attributes\":{\"plot\":{\"id\":\"25927\",\"subtype\":\"Figure\",\"type\":\"Plot\"},\"ticker\":{\"id\":\"25938\",\"type\":\"BasicTicker\"}},\"id\":\"25941\",\"type\":\"Grid\"},{\"attributes\":{\"callback\":null,\"data\":{\"deg_j_a\":[-116.56505117707799],\"deg_j_b\":[180.0],\"deg_j_c\":[63.43494882292201],\"deg_j_n\":[99.46232220802983],\"deg_k_a\":[-116.56505117707799],\"deg_k_b\":[180.0],\"deg_k_c\":[63.43494882292201],\"deg_k_n\":[99.46232220802983],\"i_j_a_m\":[1.3872240595038644e-24],\"i_j_b_m\":[7.275957614183426e-12],\"i_j_c_m\":[1.2202151870040998e-11],\"i_j_n_m\":[1.1064480586897123e-11],\"i_k_a_m\":[1.3872240595038644e-24],\"i_k_b_m\":[7.275957614183426e-12],\"i_k_c_m\":[1.2202151870040998e-11],\"i_k_n_m\":[1.1064480586897123e-11],\"line_id\":[\"B1-B2\"],\"x_s\":[[30,200]],\"y_s\":[[0,0]]},\"selected\":{\"id\":\"26642\",\"type\":\"Selection\"},\"selection_policy\":{\"id\":\"26643\",\"type\":\"UnionRenderers\"}},\"id\":\"25968\",\"type\":\"ColumnDataSource\"},{\"attributes\":{},\"id\":\"26640\",\"type\":\"Selection\"},{\"attributes\":{\"overlay\":{\"id\":\"25955\",\"type\":\"BoxAnnotation\"}},\"id\":\"25949\",\"type\":\"BoxZoomTool\"},{\"attributes\":{\"fill_alpha\":{\"value\":0.5},\"fill_color\":{\"value\":\"navy\"},\"line_alpha\":{\"value\":0.5},\"line_color\":{\"value\":\"navy\"},\"size\":{\"units\":\"screen\",\"value\":15},\"x\":{\"field\":\"x\"},\"y\":{\"field\":\"y\"}},\"id\":\"25976\",\"type\":\"Circle\"},{\"attributes\":{\"callback\":null,\"data\":{\"bus_id\":[\"B0\",\"B1\",\"B2\"],\"deg_an\":[\"0.00\",\"-41.73\",\"-41.73\"],\"deg_bn\":[\"-120.00\",\"-150.00\",\"175.12\"],\"deg_cn\":[\"120.00\",\"90.00\",\"113.53\"],\"deg_ng\":[\"0.00\",\"138.27\",\"0.00\"],\"p_a\":[\"11678.94\",\"0.00\",\"0.00\"],\"p_abc\":[\"26539.20\",\"0.00\",\"0.00\"],\"p_b\":[\"0.00\",\"-0.00\",\"0.00\"],\"p_c\":[\"14860.26\",\"0.00\",\"0.00\"],\"q_a\":[\"10416.32\",\"-0.00\",\"-0.00\"],\"q_abc\":[\"5510.22\",\"0.00\",\"0.00\"],\"q_b\":[\"0.00\",\"0.00\",\"0.00\"],\"q_c\":[\"-4906.10\",\"0.00\",\"0.00\"],\"s_color\":[\"red\",\"blue\",\"blue\"],\"s_radio\":[20,1,1],\"u_avg_pu\":[\"1.000\",\"0.985\",\"1.122\"],\"v_ab\":[65999.79602241206,16456.389558008395,16456.38955800839],\"v_an\":[\"38105.00\",\"9911.19\",\"0.00\"],\"v_an_pu\":[\"1.0000\",\"0.9537\",\"0.0000\"],\"v_bc\":[65999.79602241208,17999.944369748744,17999.944369748733],\"v_bn\":[\"38105.00\",\"10392.27\",\"16456.39\"],\"v_bn_pu\":[\"1.0000\",\"1.0000\",\"1.5835\"],\"v_ca\":[65999.79602241208,18529.625824279417,18529.62582427941],\"v_cn\":[\"38105.00\",\"10392.27\",\"18529.63\"],\"v_cn_pu\":[\"1.0000\",\"1.0000\",\"1.7830\"],\"v_ng\":[\"0.00\",\"9911.19\",\"0.00\"],\"v_unb\":[\"0.0\",\"3.1\",\"100.0\"],\"x\":[0,30,200],\"y\":[0,0,0]},\"selected\":{\"id\":\"26644\",\"type\":\"Selection\"},\"selection_policy\":{\"id\":\"26645\",\"type\":\"UnionRenderers\"}},\"id\":\"25974\",\"type\":\"ColumnDataSource\"},{\"attributes\":{},\"id\":\"25952\",\"type\":\"HelpTool\"},{\"attributes\":{\"line_alpha\":{\"value\":0.1},\"line_color\":{\"value\":\"#1f77b4\"},\"line_width\":{\"value\":5},\"xs\":{\"field\":\"x_s\"},\"ys\":{\"field\":\"y_s\"}},\"id\":\"25971\",\"type\":\"MultiLine\"},{\"attributes\":{\"fill_alpha\":{\"value\":0.1},\"fill_color\":{\"value\":\"#1f77b4\"},\"line_alpha\":{\"value\":0.1},\"line_color\":{\"value\":\"#1f77b4\"},\"size\":{\"units\":\"screen\",\"value\":15},\"x\":{\"field\":\"x\"},\"y\":{\"field\":\"y\"}},\"id\":\"25977\",\"type\":\"Circle\"},{\"attributes\":{},\"id\":\"25951\",\"type\":\"ResetTool\"},{\"attributes\":{\"formatter\":{\"id\":\"26637\",\"type\":\"BasicTickFormatter\"},\"plot\":{\"id\":\"25927\",\"subtype\":\"Figure\",\"type\":\"Plot\"},\"ticker\":{\"id\":\"25943\",\"type\":\"BasicTicker\"}},\"id\":\"25942\",\"type\":\"LinearAxis\"},{\"attributes\":{\"source\":{\"id\":\"25974\",\"type\":\"ColumnDataSource\"}},\"id\":\"25979\",\"type\":\"CDSView\"},{\"attributes\":{},\"id\":\"25933\",\"type\":\"LinearScale\"},{\"attributes\":{\"source\":{\"id\":\"25962\",\"type\":\"ColumnDataSource\"}},\"id\":\"25967\",\"type\":\"CDSView\"},{\"attributes\":{},\"id\":\"26635\",\"type\":\"BasicTickFormatter\"},{\"attributes\":{},\"id\":\"25938\",\"type\":\"BasicTicker\"},{\"attributes\":{\"data_source\":{\"id\":\"25968\",\"type\":\"ColumnDataSource\"},\"glyph\":{\"id\":\"25970\",\"type\":\"MultiLine\"},\"hover_glyph\":null,\"muted_glyph\":null,\"nonselection_glyph\":{\"id\":\"25971\",\"type\":\"MultiLine\"},\"selection_glyph\":null,\"view\":{\"id\":\"25973\",\"type\":\"CDSView\"}},\"id\":\"25972\",\"type\":\"GlyphRenderer\"},{\"attributes\":{},\"id\":\"26645\",\"type\":\"UnionRenderers\"},{\"attributes\":{\"callback\":null,\"renderers\":[{\"id\":\"25966\",\"type\":\"GlyphRenderer\"}],\"tooltips\":\"\\n            <div>\\n            transformer id = @trafo_id  \\n            <table border=\\\"5\\\">\\n                <tr >\\n                    <td>I<sub>1a</sub> =  @i_1a_m &ang; @deg_1a </td>\\n                    <td>I<sub>2a</sub> =  @i_2a_m &ang; @deg_2a </td>\\n                </tr>\\n                <tr>\\n                    <td >I<sub>1b</sub> =  @i_1b_m &ang; @deg_1b </td>\\n                    <td >I<sub>2b</sub> =  @i_2b_m &ang; @deg_2b </td>\\n                </tr>\\n                <tr>\\n                    <td >I<sub>1c</sub> =  @i_1c_m &ang; @deg_1c </td>\\n                    <td >I<sub>2c</sub> =  @i_2c_m &ang; @deg_2c </td>\\n                </tr>\\n                <tr>\\n                    <td >I<sub>1n</sub> =  @i_1n_m &ang; @deg_1n </td>\\n                    <td >I<sub>2n</sub> =  @i_2n_m &ang; @deg_2n </td>\\n                </tr>\\n            </table>            \\n            </div>\\n            \"},\"id\":\"25980\",\"type\":\"HoverTool\"},{\"attributes\":{\"callback\":null,\"renderers\":[{\"id\":\"25972\",\"type\":\"GlyphRenderer\"}],\"tooltips\":\"\\n            <div>\\n            line id = @line_id \\n            <table border=\\\"5\\\">\\n                <tr >\\n                    <td>I<sub>ja</sub> =  @i_j_a_m &ang; @deg_j_a </td>\\n                    <td>I<sub>ka</sub> =  @i_k_a_m &ang; @deg_k_a </td>\\n                </tr>\\n                <tr>\\n                    <td >I<sub>jb</sub> =  @i_j_b_m &ang; @deg_j_b </td>\\n                    <td >I<sub>kb</sub> =  @i_k_b_m &ang; @deg_k_b </td>\\n                </tr>\\n                <tr>\\n                    <td >I<sub>jc</sub> =  @i_j_c_m &ang; @deg_j_c </td>\\n                    <td >I<sub>kc</sub> =  @i_k_c_m &ang; @deg_k_c </td>\\n                </tr>\\n                <tr>\\n                    <td >I<sub>jn</sub> =  @i_j_n_m &ang; @deg_j_n </td>\\n                    <td >I<sub>kn</sub> =  @i_k_n_m &ang; @deg_k_n </td>\\n                </tr>\\n            </table>            \\n            </div>\\n            \"},\"id\":\"25982\",\"type\":\"HoverTool\"},{\"attributes\":{},\"id\":\"26642\",\"type\":\"Selection\"},{\"attributes\":{\"callback\":null},\"id\":\"25929\",\"type\":\"DataRange1d\"},{\"attributes\":{},\"id\":\"25935\",\"type\":\"LinearScale\"},{\"attributes\":{\"line_alpha\":{\"value\":0.5},\"line_color\":{\"value\":\"red\"},\"line_width\":{\"value\":5},\"xs\":{\"field\":\"x_s\"},\"ys\":{\"field\":\"y_s\"}},\"id\":\"25970\",\"type\":\"MultiLine\"},{\"attributes\":{},\"id\":\"26644\",\"type\":\"Selection\"},{\"attributes\":{\"dimension\":1,\"plot\":{\"id\":\"25927\",\"subtype\":\"Figure\",\"type\":\"Plot\"},\"ticker\":{\"id\":\"25943\",\"type\":\"BasicTicker\"}},\"id\":\"25946\",\"type\":\"Grid\"},{\"attributes\":{\"data_source\":{\"id\":\"25974\",\"type\":\"ColumnDataSource\"},\"glyph\":{\"id\":\"25976\",\"type\":\"Circle\"},\"hover_glyph\":null,\"muted_glyph\":null,\"nonselection_glyph\":{\"id\":\"25977\",\"type\":\"Circle\"},\"selection_glyph\":null,\"view\":{\"id\":\"25979\",\"type\":\"CDSView\"}},\"id\":\"25978\",\"type\":\"GlyphRenderer\"},{\"attributes\":{},\"id\":\"26643\",\"type\":\"UnionRenderers\"},{\"attributes\":{\"bottom_units\":\"screen\",\"fill_alpha\":{\"value\":0.5},\"fill_color\":{\"value\":\"lightgrey\"},\"left_units\":\"screen\",\"level\":\"overlay\",\"line_alpha\":{\"value\":1.0},\"line_color\":{\"value\":\"black\"},\"line_dash\":[4,4],\"line_width\":{\"value\":2},\"plot\":null,\"render_mode\":\"css\",\"right_units\":\"screen\",\"top_units\":\"screen\"},\"id\":\"25955\",\"type\":\"BoxAnnotation\"},{\"attributes\":{},\"id\":\"25947\",\"type\":\"PanTool\"},{\"attributes\":{\"line_alpha\":{\"value\":0.1},\"line_color\":{\"value\":\"#1f77b4\"},\"line_width\":{\"value\":5},\"xs\":{\"field\":\"x_s\"},\"ys\":{\"field\":\"y_s\"}},\"id\":\"25965\",\"type\":\"MultiLine\"},{\"attributes\":{},\"id\":\"25943\",\"type\":\"BasicTicker\"},{\"attributes\":{\"callback\":null},\"id\":\"25931\",\"type\":\"DataRange1d\"},{\"attributes\":{\"formatter\":{\"id\":\"26635\",\"type\":\"BasicTickFormatter\"},\"plot\":{\"id\":\"25927\",\"subtype\":\"Figure\",\"type\":\"Plot\"},\"ticker\":{\"id\":\"25938\",\"type\":\"BasicTicker\"}},\"id\":\"25937\",\"type\":\"LinearAxis\"}],\"root_ids\":[\"25927\"]},\"title\":\"Bokeh Application\",\"version\":\"1.0.2\"}};\n",
       "  var render_items = [{\"docid\":\"3fc697ca-1c19-49ce-9716-d7c3dd3d4b48\",\"roots\":{\"25927\":\"943ea5ed-73ef-4251-a420-11c93bc36161\"}}];\n",
       "  root.Bokeh.embed.embed_items_notebook(docs_json, render_items);\n",
       "\n",
       "  }\n",
       "  if (root.Bokeh !== undefined) {\n",
       "    embed_document(root);\n",
       "  } else {\n",
       "    var attempts = 0;\n",
       "    var timer = setInterval(function(root) {\n",
       "      if (root.Bokeh !== undefined) {\n",
       "        embed_document(root);\n",
       "        clearInterval(timer);\n",
       "      }\n",
       "      attempts++;\n",
       "      if (attempts > 100) {\n",
       "        console.log(\"Bokeh: ERROR: Unable to run BokehJS code because BokehJS library is missing\");\n",
       "        clearInterval(timer);\n",
       "      }\n",
       "    }, 10, root)\n",
       "  }\n",
       "})(window);"
      ],
      "application/vnd.bokehjs_exec.v0+json": ""
     },
     "metadata": {
      "application/vnd.bokehjs_exec.v0+json": {
       "id": "25927"
      }
     },
     "output_type": "display_data"
    }
   ],
   "source": [
    "grid_ph_n = grid()\n",
    "grid_ph_n.read(data)  # Load data\n",
    "grid_ph_n.pf()  # solve power flow\n",
    "p=plot_results(grid_ph_n)"
   ]
  },
  {
   "cell_type": "markdown",
   "metadata": {},
   "source": [
    "Run this notebook in binder:\n",
    "\n",
    "[![Documentation Status](https://mybinder.org/badge.svg)](https://mybinder.org/v2/gh/pydgrid/pydgrid/master?filepath=/docs/jupyter_notebooks/mv_short_circuit.ipynb)"
   ]
  }
 ],
 "metadata": {
  "kernelspec": {
   "display_name": "Python 3",
   "language": "python",
   "name": "python3"
  },
  "language_info": {
   "codemirror_mode": {
    "name": "ipython",
    "version": 3
   },
   "file_extension": ".py",
   "mimetype": "text/x-python",
   "name": "python",
   "nbconvert_exporter": "python",
   "pygments_lexer": "ipython3",
   "version": "3.7.1"
  }
 },
 "nbformat": 4,
 "nbformat_minor": 2
}
