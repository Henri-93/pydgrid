{
 "cells": [
  {
   "cell_type": "markdown",
   "metadata": {},
   "source": [
    "# Wind farm"
   ]
  },
  {
   "cell_type": "code",
   "execution_count": 17,
   "metadata": {},
   "outputs": [],
   "source": [
    "import numpy as np\n",
    "from pydgrid import grid\n",
    "from pydgrid.plot_bokeh import plot_results"
   ]
  },
  {
   "cell_type": "markdown",
   "metadata": {},
   "source": [
    "![](./png/wind_farm.png)"
   ]
  },
  {
   "cell_type": "markdown",
   "metadata": {},
   "source": [
    "## System\n"
   ]
  },
  {
   "cell_type": "code",
   "execution_count": 18,
   "metadata": {},
   "outputs": [],
   "source": [
    "p_gen = 2000.0  # kW\n",
    "q_gen = 0       # kvar\n",
    "\n",
    "p_statcom = 0.0  # kW\n",
    "q_statcom = 0.0     # kvar\n",
    "\n",
    "data = {\n",
    "    \"lines\":[\n",
    "        {\"bus_j\": \"W1mv\",  \"bus_k\": \"W2mv\",   \"code\": \"mv_al_300\", \"m\":500},\n",
    "        {\"bus_j\": \"W2mv\",  \"bus_k\": \"W3mv\",   \"code\": \"mv_al_300\", \"m\":500},\n",
    "        {\"bus_j\": \"W3mv\",  \"bus_k\": \"POImv\",  \"code\": \"mv_al_300\", \"m\":500},\n",
    "        {\"bus_j\": \"POI\",  \"bus_k\": \"GRID\",  \"code\": \"hv_line\", \"m\":50.0e3},\n",
    "            ],\n",
    "    \"buses\":[\n",
    "            {\"bus\": \"W1lv\",  \"pos_x\": -1500.0, \"pos_y\":  200.0, \"units\": \"m\", \"U_kV\":0.69},\n",
    "            {\"bus\": \"W2lv\",  \"pos_x\": -1000.0, \"pos_y\":  200.0, \"units\": \"m\", \"U_kV\":0.69},\n",
    "            {\"bus\": \"W3lv\",  \"pos_x\":  -500.0, \"pos_y\":  200.0, \"units\": \"m\", \"U_kV\":0.69},\n",
    "            {\"bus\": \"W1mv\",  \"pos_x\": -1500.0, \"pos_y\":  180.0, \"units\": \"m\", \"U_kV\":20.0},\n",
    "            {\"bus\": \"W2mv\",  \"pos_x\": -1000.0, \"pos_y\":  180.0, \"units\": \"m\", \"U_kV\":20.0},\n",
    "            {\"bus\": \"W3mv\",  \"pos_x\":  -500.0, \"pos_y\":  180.0, \"units\": \"m\", \"U_kV\":20.0},\n",
    "            {\"bus\": \"POImv\", \"pos_x\":     0.0, \"pos_y\":    0.0, \"units\": \"m\", \"U_kV\":20.0},\n",
    "            {\"bus\": \"POI\",   \"pos_x\":   100.0, \"pos_y\":    0.0, \"units\": \"m\", \"U_kV\":66.0},\n",
    "            {\"bus\": \"GRID\",  \"pos_x\":   500.0, \"pos_y\":    0.0, \"units\": \"m\", \"U_kV\":66.0},\n",
    "                    ],\n",
    "    \"transformers\":[\n",
    "                    {\"bus_j\": \"POImv\",  \"bus_k\": \"POI\",  \"S_n_kVA\": 10000.0, \"U_1_kV\":20.0, \"U_2_kV\":66.0,\n",
    "                    \"R_cc_pu\": 0.01, \"X_cc_pu\":0.08, \"connection\": \"Dyg11_3w\",   \"conductors_1\": 3, \"conductors_2\": 3},\n",
    "                    {\"bus_j\": \"W1mv\",  \"bus_k\": \"W1lv\",  \"S_n_kVA\": 2500.0, \"U_1_kV\":20, \"U_2_kV\":0.69,\n",
    "                    \"R_cc_pu\": 0.01, \"X_cc_pu\":0.06, \"connection\": \"Dyg11_3w\",   \"conductors_1\": 3, \"conductors_2\": 3},\n",
    "                    {\"bus_j\": \"W2mv\",  \"bus_k\": \"W2lv\",  \"S_n_kVA\": 2500.0, \"U_1_kV\":20, \"U_2_kV\":0.69,\n",
    "                    \"R_cc_pu\": 0.01, \"X_cc_pu\":0.06, \"connection\": \"Dyg11_3w\",   \"conductors_1\": 3, \"conductors_2\": 3},\n",
    "                    {\"bus_j\": \"W3mv\",  \"bus_k\": \"W3lv\",  \"S_n_kVA\": 2500.0, \"U_1_kV\":20, \"U_2_kV\":0.69,\n",
    "                    \"R_cc_pu\": 0.01, \"X_cc_pu\":0.06, \"connection\": \"Dyg11_3w\",   \"conductors_1\": 3, \"conductors_2\": 3},\n",
    "                    ],\n",
    "    \"grid_formers\":[\n",
    "                    {\"bus\": \"GRID\",\"bus_nodes\": [1, 2, 3],\n",
    "                            \"kV\": [38.105, 38.105, 38.105], \"deg\": [30, 150, 270.0]\n",
    "                    }\n",
    "                    ],\n",
    "    \"grid_feeders\":[{\"bus\": \"W1lv\",\"bus_nodes\": [1, 2, 3],\"kW\": p_gen, \"kvar\": q_gen},\n",
    "                    {\"bus\": \"W2lv\",\"bus_nodes\": [1, 2, 3],\"kW\": p_gen, \"kvar\": q_gen},\n",
    "                    {\"bus\": \"W3lv\",\"bus_nodes\": [1, 2, 3],\"kW\": p_gen, \"kvar\": q_gen},\n",
    "                    {\"bus\": \"POImv\",\"bus_nodes\": [1, 2, 3],\"kW\": p_statcom, \"kvar\": q_statcom} # STATCOM\n",
    "    ],\n",
    "    \"groundings\":[\n",
    "        {\"bus\": \"POImv\" , \"R_gnd\":32.0, \"X_gnd\":0.0, \"conductors\": 3}\n",
    "       ],\n",
    "    \"line_codes\":\n",
    "        {\n",
    "        \"mv_al_150\":   {\"R1\":0.262,  \"X1\":0.118, \"C_1_muF\":0.250 },\n",
    "        \"mv_al_185\":   {\"R1\":0.209,  \"X1\":0.113, \"C_1_muF\":0.281 },\n",
    "        \"mv_al_240\":   {\"R1\":0.161,  \"X1\":0.109, \"C_1_muF\":0.301 },\n",
    "        \"mv_al_300\":   {\"R1\":0.128,  \"X1\":0.105, \"C_1_muF\":0.340 },\n",
    "         \"hv_line\":  {\"R1\":0.219, \"X1\":0.365, \"R0\":0.219,   \"X0\":0.365}\n",
    "        }\n",
    "    }"
   ]
  },
  {
   "cell_type": "code",
   "execution_count": 19,
   "metadata": {},
   "outputs": [
    {
     "data": {
      "text/html": [
       "\n",
       "\n",
       "\n",
       "\n",
       "\n",
       "\n",
       "  <div class=\"bk-root\" id=\"60a47244-89fd-49e1-b8bb-f0bdd0525614\"></div>\n"
      ]
     },
     "metadata": {},
     "output_type": "display_data"
    },
    {
     "data": {
      "application/javascript": [
       "(function(root) {\n",
       "  function embed_document(root) {\n",
       "    \n",
       "  var docs_json = {\"f28bf55e-b71f-4b36-b57c-bd7370f32b25\":{\"roots\":{\"references\":[{\"attributes\":{\"below\":[{\"id\":\"1853\",\"type\":\"LinearAxis\"}],\"left\":[{\"id\":\"1858\",\"type\":\"LinearAxis\"}],\"plot_height\":400,\"renderers\":[{\"id\":\"1853\",\"type\":\"LinearAxis\"},{\"id\":\"1857\",\"type\":\"Grid\"},{\"id\":\"1858\",\"type\":\"LinearAxis\"},{\"id\":\"1862\",\"type\":\"Grid\"},{\"id\":\"1871\",\"type\":\"BoxAnnotation\"},{\"id\":\"1882\",\"type\":\"GlyphRenderer\"},{\"id\":\"1888\",\"type\":\"GlyphRenderer\"},{\"id\":\"1894\",\"type\":\"GlyphRenderer\"}],\"title\":{\"id\":\"1842\",\"type\":\"Title\"},\"toolbar\":{\"id\":\"1869\",\"type\":\"Toolbar\"},\"x_range\":{\"id\":\"1845\",\"type\":\"DataRange1d\"},\"x_scale\":{\"id\":\"1849\",\"type\":\"LinearScale\"},\"y_range\":{\"id\":\"1847\",\"type\":\"DataRange1d\"},\"y_scale\":{\"id\":\"1851\",\"type\":\"LinearScale\"}},\"id\":\"1843\",\"subtype\":\"Figure\",\"type\":\"Plot\"},{\"attributes\":{\"plot\":{\"id\":\"1843\",\"subtype\":\"Figure\",\"type\":\"Plot\"},\"ticker\":{\"id\":\"1854\",\"type\":\"BasicTicker\"}},\"id\":\"1857\",\"type\":\"Grid\"},{\"attributes\":{\"active_drag\":\"auto\",\"active_inspect\":\"auto\",\"active_multi\":null,\"active_scroll\":\"auto\",\"active_tap\":\"auto\",\"tools\":[{\"id\":\"1863\",\"type\":\"PanTool\"},{\"id\":\"1864\",\"type\":\"WheelZoomTool\"},{\"id\":\"1865\",\"type\":\"BoxZoomTool\"},{\"id\":\"1866\",\"type\":\"SaveTool\"},{\"id\":\"1867\",\"type\":\"ResetTool\"},{\"id\":\"1868\",\"type\":\"HelpTool\"},{\"id\":\"1896\",\"type\":\"HoverTool\"},{\"id\":\"1898\",\"type\":\"HoverTool\"},{\"id\":\"1900\",\"type\":\"HoverTool\"}]},\"id\":\"1869\",\"type\":\"Toolbar\"},{\"attributes\":{\"callback\":null,\"renderers\":[{\"id\":\"1888\",\"type\":\"GlyphRenderer\"}],\"tooltips\":\"\\n            <div>\\n            line id = @line_id \\n            <table border=\\\"5\\\">\\n                <tr >\\n                    <td>I<sub>ja</sub> =  @i_j_a_m &ang; @deg_j_a </td>\\n                    <td>I<sub>ka</sub> =  @i_k_a_m &ang; @deg_k_a </td>\\n                </tr>\\n                <tr>\\n                    <td >I<sub>jb</sub> =  @i_j_b_m &ang; @deg_j_b </td>\\n                    <td >I<sub>kb</sub> =  @i_k_b_m &ang; @deg_k_b </td>\\n                </tr>\\n                <tr>\\n                    <td >I<sub>jc</sub> =  @i_j_c_m &ang; @deg_j_c </td>\\n                    <td >I<sub>kc</sub> =  @i_k_c_m &ang; @deg_k_c </td>\\n                </tr>\\n                <tr>\\n                    <td >I<sub>jn</sub> =  @i_j_n_m &ang; @deg_j_n </td>\\n                    <td >I<sub>kn</sub> =  @i_k_n_m &ang; @deg_k_n </td>\\n                </tr>\\n            </table>            \\n            </div>\\n            \"},\"id\":\"1898\",\"type\":\"HoverTool\"},{\"attributes\":{\"formatter\":{\"id\":\"1966\",\"type\":\"BasicTickFormatter\"},\"plot\":{\"id\":\"1843\",\"subtype\":\"Figure\",\"type\":\"Plot\"},\"ticker\":{\"id\":\"1859\",\"type\":\"BasicTicker\"}},\"id\":\"1858\",\"type\":\"LinearAxis\"},{\"attributes\":{\"line_alpha\":{\"value\":0.1},\"line_color\":{\"value\":\"#1f77b4\"},\"line_width\":{\"value\":5},\"xs\":{\"field\":\"x_s\"},\"ys\":{\"field\":\"y_s\"}},\"id\":\"1887\",\"type\":\"MultiLine\"},{\"attributes\":{\"data_source\":{\"id\":\"1878\",\"type\":\"ColumnDataSource\"},\"glyph\":{\"id\":\"1880\",\"type\":\"MultiLine\"},\"hover_glyph\":null,\"muted_glyph\":null,\"nonselection_glyph\":{\"id\":\"1881\",\"type\":\"MultiLine\"},\"selection_glyph\":null,\"view\":{\"id\":\"1883\",\"type\":\"CDSView\"}},\"id\":\"1882\",\"type\":\"GlyphRenderer\"},{\"attributes\":{},\"id\":\"1972\",\"type\":\"UnionRenderers\"},{\"attributes\":{},\"id\":\"1966\",\"type\":\"BasicTickFormatter\"},{\"attributes\":{\"callback\":null,\"data\":{\"deg_1a\":[6.21361220100788,-173.13210326797832,-173.14568577895923,-173.17276908771782],\"deg_1b\":[126.21361220253489,-53.132103266431514,-53.14568577741695,-53.17276908618454],\"deg_1c\":[-113.78638779828766,66.8678967327551,66.85431422176767,66.82723091299655],\"deg_1n\":[-75.96375653207353,63.43494882292201,45.0,116.56505117707799],\"deg_2a\":[-143.7863877990314,36.867896735979606,36.854314225001616,36.827230916248496],\"deg_2b\":[-23.78638779820871,156.86789673588112,156.8543142248684,156.82723091604575],\"deg_2c\":[96.21361220249548,-83.1321032735158,-83.14568578447845,-83.17276909319996],\"deg_2n\":[180.0,-177.39782850239953,-177.59800200367494,-178.0023018045586],\"i_1a_m\":[169.13590893683786,56.38604419167531,56.4025932827643,56.43579553717766],\"i_1b_m\":[169.1359089366363,56.386044191629885,56.40259328271412,56.43579553711811],\"i_1c_m\":[169.13590893283367,56.38604419033454,56.402593281424586,56.43579553584003],\"i_1n_m\":[4.687428401686771e-13,2.5421149729252077e-13,2.4116620165382783e-13,1.2710574864626038e-13],\"i_2a_m\":[51.25330573764728,1634.3780923200202,1634.8577761206518,1635.8201603084522],\"i_2b_m\":[51.25330573879934,1634.3780927062587,1634.8577765055593,1635.8201606906969],\"i_2c_m\":[51.25330573758601,1634.3780924705254,1634.8577762695284,1635.8201604540702],\"i_2n_m\":[1.7053025658242404e-13,6.056240028942072e-07,6.03761939722107e-07,6.000272783067155e-07],\"trafo_id\":[\"POImv-POI\",\"W1mv-W1lv\",\"W2mv-W2lv\",\"W3mv-W3lv\"],\"x_s\":[[0.0,100.0],[-1500.0,-1500.0],[-1000.0,-1000.0],[-500.0,-500.0]],\"y_s\":[[0.0,0.0],[180.0,200.0],[180.0,200.0],[180.0,200.0]]},\"selected\":{\"id\":\"1967\",\"type\":\"Selection\"},\"selection_policy\":{\"id\":\"1968\",\"type\":\"UnionRenderers\"}},\"id\":\"1878\",\"type\":\"ColumnDataSource\"},{\"attributes\":{\"dimension\":1,\"plot\":{\"id\":\"1843\",\"subtype\":\"Figure\",\"type\":\"Plot\"},\"ticker\":{\"id\":\"1859\",\"type\":\"BasicTicker\"}},\"id\":\"1862\",\"type\":\"Grid\"},{\"attributes\":{\"fill_alpha\":{\"value\":0.1},\"fill_color\":{\"value\":\"#1f77b4\"},\"line_alpha\":{\"value\":0.1},\"line_color\":{\"value\":\"#1f77b4\"},\"size\":{\"units\":\"screen\",\"value\":15},\"x\":{\"field\":\"x\"},\"y\":{\"field\":\"y\"}},\"id\":\"1893\",\"type\":\"Circle\"},{\"attributes\":{},\"id\":\"1971\",\"type\":\"Selection\"},{\"attributes\":{\"overlay\":{\"id\":\"1871\",\"type\":\"BoxAnnotation\"}},\"id\":\"1865\",\"type\":\"BoxZoomTool\"},{\"attributes\":{},\"id\":\"1859\",\"type\":\"BasicTicker\"},{\"attributes\":{\"bottom_units\":\"screen\",\"fill_alpha\":{\"value\":0.5},\"fill_color\":{\"value\":\"lightgrey\"},\"left_units\":\"screen\",\"level\":\"overlay\",\"line_alpha\":{\"value\":1.0},\"line_color\":{\"value\":\"black\"},\"line_dash\":[4,4],\"line_width\":{\"value\":2},\"plot\":null,\"render_mode\":\"css\",\"right_units\":\"screen\",\"top_units\":\"screen\"},\"id\":\"1871\",\"type\":\"BoxAnnotation\"},{\"attributes\":{},\"id\":\"1964\",\"type\":\"BasicTickFormatter\"},{\"attributes\":{},\"id\":\"1867\",\"type\":\"ResetTool\"},{\"attributes\":{\"callback\":null},\"id\":\"1847\",\"type\":\"DataRange1d\"},{\"attributes\":{},\"id\":\"1864\",\"type\":\"WheelZoomTool\"},{\"attributes\":{\"callback\":null,\"renderers\":[{\"id\":\"1882\",\"type\":\"GlyphRenderer\"}],\"tooltips\":\"\\n            <div>\\n            transformer id = @trafo_id  \\n            <table border=\\\"5\\\">\\n                <tr >\\n                    <td>I<sub>1a</sub> =  @i_1a_m &ang; @deg_1a </td>\\n                    <td>I<sub>2a</sub> =  @i_2a_m &ang; @deg_2a </td>\\n                </tr>\\n                <tr>\\n                    <td >I<sub>1b</sub> =  @i_1b_m &ang; @deg_1b </td>\\n                    <td >I<sub>2b</sub> =  @i_2b_m &ang; @deg_2b </td>\\n                </tr>\\n                <tr>\\n                    <td >I<sub>1c</sub> =  @i_1c_m &ang; @deg_1c </td>\\n                    <td >I<sub>2c</sub> =  @i_2c_m &ang; @deg_2c </td>\\n                </tr>\\n                <tr>\\n                    <td >I<sub>1n</sub> =  @i_1n_m &ang; @deg_1n </td>\\n                    <td >I<sub>2n</sub> =  @i_2n_m &ang; @deg_2n </td>\\n                </tr>\\n            </table>            \\n            </div>\\n            \"},\"id\":\"1896\",\"type\":\"HoverTool\"},{\"attributes\":{\"source\":{\"id\":\"1890\",\"type\":\"ColumnDataSource\"}},\"id\":\"1895\",\"type\":\"CDSView\"},{\"attributes\":{\"callback\":null,\"data\":{\"bus_id\":[\"W1lv\",\"W2lv\",\"W3lv\",\"W1mv\",\"W2mv\",\"W3mv\",\"POImv\",\"POI\",\"GRID\"],\"deg_an\":[\"36.87\",\"36.85\",\"36.83\",\"4.23\",\"4.21\",\"4.18\",\"4.14\",\"31.47\",\"30.00\"],\"deg_bn\":[\"156.87\",\"156.85\",\"156.83\",\"124.23\",\"124.21\",\"124.18\",\"124.14\",\"151.47\",\"150.00\"],\"deg_cn\":[\"-83.13\",\"-83.15\",\"-83.17\",\"-115.77\",\"-115.79\",\"-115.82\",\"-115.86\",\"-88.53\",\"-90.00\"],\"deg_ng\":[\"0.00\",\"0.00\",\"0.00\",\"0.00\",\"0.00\",\"0.00\",\"0.00\",\"0.00\",\"0.00\"],\"p_a\":[\"666.67\",\"666.67\",\"666.67\",\"0.00\",\"0.00\",\"0.00\",\"0.00\",\"0.00\",\"-1941.53\"],\"p_abc\":[\"2000.00\",\"2000.00\",\"2000.00\",\"0.00\",\"0.00\",\"0.00\",\"0.00\",\"0.00\",\"-5824.60\"],\"p_b\":[\"666.67\",\"666.67\",\"666.67\",\"0.00\",\"0.00\",\"0.00\",\"0.00\",\"0.00\",\"-1941.53\"],\"p_c\":[\"666.67\",\"666.67\",\"666.67\",\"-0.00\",\"-0.00\",\"-0.00\",\"-0.00\",\"0.00\",\"-1941.53\"],\"q_a\":[\"0.00\",\"0.00\",\"0.00\",\"0.00\",\"0.00\",\"0.00\",\"0.00\",\"0.00\",\"211.38\"],\"q_abc\":[\"0.00\",\"0.00\",\"0.00\",\"0.00\",\"0.00\",\"0.00\",\"0.00\",\"0.00\",\"634.15\"],\"q_b\":[\"0.00\",\"0.00\",\"0.00\",\"0.00\",\"0.00\",\"0.00\",\"0.00\",\"0.00\",\"211.38\"],\"q_c\":[\"0.00\",\"0.00\",\"0.00\",\"0.00\",\"0.00\",\"0.00\",\"0.00\",\"-0.00\",\"211.38\"],\"s_color\":[\"red\",\"red\",\"red\",\"blue\",\"blue\",\"red\",\"blue\",\"blue\",\"green\"],\"s_radio\":[14.142135633661274,14.142135633572844,14.142135633396109,1,1,1,1,1,20],\"u_avg_pu\":[\"1.024\",\"1.024\",\"1.023\",\"1.017\",\"1.017\",\"1.016\",\"1.015\",\"1.012\",\"1.000\"],\"v_ab\":[706.5075977844294,706.3003013037531,705.8847713538761,20343.835480916667,20337.800147374917,20325.702187248404,20307.544043461145,66812.83481988059,65999.79602241208],\"v_an\":[\"407.90\",\"407.78\",\"407.54\",\"11745.52\",\"11742.03\",\"11735.05\",\"11724.57\",\"38574.41\",\"38105.00\"],\"v_an_pu\":[\"1.0239\",\"1.0236\",\"1.0230\",\"1.0172\",\"1.0169\",\"1.0163\",\"1.0154\",\"1.0123\",\"1.0000\"],\"v_bc\":[706.5075977821962,706.3003013015262,705.8847713516623,20343.835480889124,20337.80014734759,20325.70218722151,20307.5440434349,66812.83481983442,65999.79602241208],\"v_bn\":[\"407.90\",\"407.78\",\"407.54\",\"11745.52\",\"11742.03\",\"11735.05\",\"11724.57\",\"38574.41\",\"38105.00\"],\"v_bn_pu\":[\"1.0239\",\"1.0236\",\"1.0230\",\"1.0172\",\"1.0169\",\"1.0163\",\"1.0154\",\"1.0123\",\"1.0000\"],\"v_ca\":[706.5075977828905,706.3003013022249,705.8847713523699,20343.835480928876,20337.800147387195,20325.702187260824,20307.54404347377,66812.83481983999,65999.79602241208],\"v_cn\":[\"407.90\",\"407.78\",\"407.54\",\"11745.52\",\"11742.03\",\"11735.05\",\"11724.57\",\"38574.41\",\"38105.00\"],\"v_cn_pu\":[\"1.0239\",\"1.0236\",\"1.0230\",\"1.0172\",\"1.0169\",\"1.0163\",\"1.0154\",\"1.0123\",\"1.0000\"],\"v_ng\":[\"0.00\",\"0.00\",\"0.00\",\"0.00\",\"0.00\",\"0.00\",\"0.00\",\"0.00\",\"0.00\"],\"v_unb\":[\"0.0\",\"0.0\",\"0.0\",\"0.0\",\"0.0\",\"0.0\",\"0.0\",\"0.0\",\"0.0\"],\"x\":[-1500.0,-1000.0,-500.0,-1500.0,-1000.0,-500.0,0.0,100.0,500.0],\"y\":[200.0,200.0,200.0,180.0,180.0,180.0,0.0,0.0,0.0]},\"selected\":{\"id\":\"1971\",\"type\":\"Selection\"},\"selection_policy\":{\"id\":\"1972\",\"type\":\"UnionRenderers\"}},\"id\":\"1890\",\"type\":\"ColumnDataSource\"},{\"attributes\":{},\"id\":\"1863\",\"type\":\"PanTool\"},{\"attributes\":{},\"id\":\"1866\",\"type\":\"SaveTool\"},{\"attributes\":{\"fill_alpha\":{\"value\":0.5},\"fill_color\":{\"value\":\"navy\"},\"line_alpha\":{\"value\":0.5},\"line_color\":{\"value\":\"navy\"},\"size\":{\"units\":\"screen\",\"value\":15},\"x\":{\"field\":\"x\"},\"y\":{\"field\":\"y\"}},\"id\":\"1892\",\"type\":\"Circle\"},{\"attributes\":{\"formatter\":{\"id\":\"1964\",\"type\":\"BasicTickFormatter\"},\"plot\":{\"id\":\"1843\",\"subtype\":\"Figure\",\"type\":\"Plot\"},\"ticker\":{\"id\":\"1854\",\"type\":\"BasicTicker\"}},\"id\":\"1853\",\"type\":\"LinearAxis\"},{\"attributes\":{\"callback\":null,\"data\":{\"deg_j_a\":[6.86789673201927,6.542751611959456,6.425503080954543,36.213612200968306],\"deg_j_b\":[126.86789673349811,126.54275161349857,126.4255030824868,156.21361220179108],\"deg_j_c\":[-113.13210326728309,-113.45724838731921,-113.57449691833088,-83.78638779750499],\"deg_j_n\":[-102.3903167991,-89.86760685957789,-15.148550807412883,75.96375653207353],\"deg_k_a\":[6.230956521374234,6.224401553040446,6.213468202043804,36.213612200968306],\"deg_k_b\":[126.23095652285436,126.22440155458017,126.21346820357643,156.21361220179108],\"deg_k_c\":[-113.76904347794115,-113.77559844624514,-113.7865317972463,-83.78638779750499],\"deg_k_n\":[-102.65822489600104,-90.1321113539645,-15.362032993274877,75.96375653207353],\"i_j_a_m\":[56.386044191606395,112.76146350519977,169.17124890541515,51.25330573764766],\"i_j_b_m\":[56.386044191551726,112.76146350507175,169.17124890519196,51.25330573879971],\"i_j_c_m\":[56.386044190351576,112.76146350254915,169.1712489013795,51.2533057375863],\"i_j_n_m\":[3.347894980229262e-11,3.997524103405703e-11,4.1546716411305006e-11,7.32410687763558e-15],\"i_k_a_m\":[56.36053864247179,112.73753499792916,169.1476257940088,51.25330573764766],\"i_k_b_m\":[56.36053864240134,112.73753499778468,169.14762579376924,51.25330573879971],\"i_k_c_m\":[56.36053864120864,112.73753499526991,169.1476257899646,51.2533057375863],\"i_k_n_m\":[3.360841396016793e-11,4.006050593520406e-11,4.1412108208734495e-11,7.32410687763558e-15],\"line_id\":[\"W1mv-W2mv\",\"W2mv-W3mv\",\"W3mv-POImv\",\"POI-GRID\"],\"x_s\":[[-1500.0,-1000.0],[-1000.0,-500.0],[-500.0,0.0],[100.0,500.0]],\"y_s\":[[180.0,180.0],[180.0,180.0],[180.0,0.0],[0.0,0.0]]},\"selected\":{\"id\":\"1969\",\"type\":\"Selection\"},\"selection_policy\":{\"id\":\"1970\",\"type\":\"UnionRenderers\"}},\"id\":\"1884\",\"type\":\"ColumnDataSource\"},{\"attributes\":{},\"id\":\"1969\",\"type\":\"Selection\"},{\"attributes\":{},\"id\":\"1854\",\"type\":\"BasicTicker\"},{\"attributes\":{\"data_source\":{\"id\":\"1884\",\"type\":\"ColumnDataSource\"},\"glyph\":{\"id\":\"1886\",\"type\":\"MultiLine\"},\"hover_glyph\":null,\"muted_glyph\":null,\"nonselection_glyph\":{\"id\":\"1887\",\"type\":\"MultiLine\"},\"selection_glyph\":null,\"view\":{\"id\":\"1889\",\"type\":\"CDSView\"}},\"id\":\"1888\",\"type\":\"GlyphRenderer\"},{\"attributes\":{},\"id\":\"1851\",\"type\":\"LinearScale\"},{\"attributes\":{\"plot\":null,\"text\":\"Results\"},\"id\":\"1842\",\"type\":\"Title\"},{\"attributes\":{\"line_alpha\":{\"value\":0.5},\"line_color\":{\"value\":\"red\"},\"line_width\":{\"value\":5},\"xs\":{\"field\":\"x_s\"},\"ys\":{\"field\":\"y_s\"}},\"id\":\"1886\",\"type\":\"MultiLine\"},{\"attributes\":{\"line_alpha\":{\"value\":0.5},\"line_color\":{\"value\":\"green\"},\"line_width\":{\"value\":5},\"xs\":{\"field\":\"x_s\"},\"ys\":{\"field\":\"y_s\"}},\"id\":\"1880\",\"type\":\"MultiLine\"},{\"attributes\":{\"source\":{\"id\":\"1878\",\"type\":\"ColumnDataSource\"}},\"id\":\"1883\",\"type\":\"CDSView\"},{\"attributes\":{\"source\":{\"id\":\"1884\",\"type\":\"ColumnDataSource\"}},\"id\":\"1889\",\"type\":\"CDSView\"},{\"attributes\":{\"line_alpha\":{\"value\":0.1},\"line_color\":{\"value\":\"#1f77b4\"},\"line_width\":{\"value\":5},\"xs\":{\"field\":\"x_s\"},\"ys\":{\"field\":\"y_s\"}},\"id\":\"1881\",\"type\":\"MultiLine\"},{\"attributes\":{},\"id\":\"1970\",\"type\":\"UnionRenderers\"},{\"attributes\":{},\"id\":\"1967\",\"type\":\"Selection\"},{\"attributes\":{\"data_source\":{\"id\":\"1890\",\"type\":\"ColumnDataSource\"},\"glyph\":{\"id\":\"1892\",\"type\":\"Circle\"},\"hover_glyph\":null,\"muted_glyph\":null,\"nonselection_glyph\":{\"id\":\"1893\",\"type\":\"Circle\"},\"selection_glyph\":null,\"view\":{\"id\":\"1895\",\"type\":\"CDSView\"}},\"id\":\"1894\",\"type\":\"GlyphRenderer\"},{\"attributes\":{},\"id\":\"1968\",\"type\":\"UnionRenderers\"},{\"attributes\":{},\"id\":\"1868\",\"type\":\"HelpTool\"},{\"attributes\":{\"callback\":null,\"renderers\":[{\"id\":\"1894\",\"type\":\"GlyphRenderer\"}],\"tooltips\":\"\\n            <div>\\n            bus_id = @bus_id &nbsp &nbsp |  u<sub>avg</sub>= @u_avg_pu pu |  u<sub>unb</sub>= @v_unb %\\n            <table border=\\\"1\\\">\\n                <tr>\\n                <td>v<sub>an</sub> =  @v_an  &ang; @deg_an V </td> <td> S<sub>a</sub> = @p_a + j@q_a kVA</td>\\n                </tr>\\n                      <tr>\\n                      <td> </td> <td>v<sub>ab</sub>= @v_ab V</td>\\n                      </tr>\\n                <tr>\\n                <td>v<sub>bn</sub> = @v_bn &ang; @deg_bn V </td><td> S<sub>b</sub> = @p_b + j@q_b kVA</td>\\n                </tr>\\n                      <tr>\\n                      <td> </td><td>v<sub>bc</sub>= @v_bc V</td>\\n                      </tr>\\n                <tr>\\n                <td>v<sub>cn</sub>  = @v_cn &ang; @deg_cn V </td>  <td>S<sub>c</sub> = @p_c + j@q_c kVA </td>\\n                </tr> \\n                    <tr>\\n                     <td> </td> <td>v<sub>ca</sub>= @v_ca V</td>\\n                    </tr>\\n               <tr>\\n                <td>v<sub>ng</sub>    = @v_ng &ang; @deg_ng V</td>  <td>S<sub>abc</sub> = @p_abc + j@q_abc kVA </td>\\n              </tr>\\n            </table>\\n            </div>\\n            \"},\"id\":\"1900\",\"type\":\"HoverTool\"},{\"attributes\":{},\"id\":\"1849\",\"type\":\"LinearScale\"},{\"attributes\":{\"callback\":null},\"id\":\"1845\",\"type\":\"DataRange1d\"}],\"root_ids\":[\"1843\"]},\"title\":\"Bokeh Application\",\"version\":\"1.0.2\"}};\n",
       "  var render_items = [{\"docid\":\"f28bf55e-b71f-4b36-b57c-bd7370f32b25\",\"roots\":{\"1843\":\"60a47244-89fd-49e1-b8bb-f0bdd0525614\"}}];\n",
       "  root.Bokeh.embed.embed_items_notebook(docs_json, render_items);\n",
       "\n",
       "  }\n",
       "  if (root.Bokeh !== undefined) {\n",
       "    embed_document(root);\n",
       "  } else {\n",
       "    var attempts = 0;\n",
       "    var timer = setInterval(function(root) {\n",
       "      if (root.Bokeh !== undefined) {\n",
       "        embed_document(root);\n",
       "        clearInterval(timer);\n",
       "      }\n",
       "      attempts++;\n",
       "      if (attempts > 100) {\n",
       "        console.log(\"Bokeh: ERROR: Unable to run BokehJS code because BokehJS library is missing\");\n",
       "        clearInterval(timer);\n",
       "      }\n",
       "    }, 10, root)\n",
       "  }\n",
       "})(window);"
      ],
      "application/vnd.bokehjs_exec.v0+json": ""
     },
     "metadata": {
      "application/vnd.bokehjs_exec.v0+json": {
       "id": "1843"
      }
     },
     "output_type": "display_data"
    }
   ],
   "source": [
    "grid_1 = grid()\n",
    "grid_1.read(data)  # Load data\n",
    "grid_1.pf()  # solve power flow\n",
    "p=plot_results(grid_1)"
   ]
  },
  {
   "cell_type": "code",
   "execution_count": 20,
   "metadata": {},
   "outputs": [
    {
     "data": {
      "text/plain": [
       "5910895.2294847"
      ]
     },
     "execution_count": 20,
     "metadata": {},
     "output_type": "execute_result"
    }
   ],
   "source": [
    "mon = grid_1.monitor(bus_from='POI',bus_to='GRID')\n",
    "mon.P"
   ]
  },
  {
   "cell_type": "code",
   "execution_count": 21,
   "metadata": {},
   "outputs": [
    {
     "data": {
      "text/plain": [
       "-490331.5274570564"
      ]
     },
     "execution_count": 21,
     "metadata": {},
     "output_type": "execute_result"
    }
   ],
   "source": [
    "mon.Q"
   ]
  },
  {
   "cell_type": "markdown",
   "metadata": {},
   "source": [
    "## Short circuits"
   ]
  },
  {
   "cell_type": "markdown",
   "metadata": {},
   "source": [
    "### Three phase at MV side POI\n"
   ]
  },
  {
   "cell_type": "code",
   "execution_count": 22,
   "metadata": {},
   "outputs": [
    {
     "data": {
      "text/html": [
       "\n",
       "\n",
       "\n",
       "\n",
       "\n",
       "\n",
       "  <div class=\"bk-root\" id=\"2e85830e-5ffa-48ef-86cf-873ee5987e38\"></div>\n"
      ]
     },
     "metadata": {},
     "output_type": "display_data"
    },
    {
     "data": {
      "application/javascript": [
       "(function(root) {\n",
       "  function embed_document(root) {\n",
       "    \n",
       "  var docs_json = {\"c5efce4b-8f53-41c3-9e51-d8c63c5fe916\":{\"roots\":{\"references\":[{\"attributes\":{\"below\":[{\"id\":\"2057\",\"type\":\"LinearAxis\"}],\"left\":[{\"id\":\"2062\",\"type\":\"LinearAxis\"}],\"plot_height\":400,\"renderers\":[{\"id\":\"2057\",\"type\":\"LinearAxis\"},{\"id\":\"2061\",\"type\":\"Grid\"},{\"id\":\"2062\",\"type\":\"LinearAxis\"},{\"id\":\"2066\",\"type\":\"Grid\"},{\"id\":\"2075\",\"type\":\"BoxAnnotation\"},{\"id\":\"2086\",\"type\":\"GlyphRenderer\"},{\"id\":\"2092\",\"type\":\"GlyphRenderer\"},{\"id\":\"2098\",\"type\":\"GlyphRenderer\"}],\"title\":{\"id\":\"2046\",\"type\":\"Title\"},\"toolbar\":{\"id\":\"2073\",\"type\":\"Toolbar\"},\"x_range\":{\"id\":\"2049\",\"type\":\"DataRange1d\"},\"x_scale\":{\"id\":\"2053\",\"type\":\"LinearScale\"},\"y_range\":{\"id\":\"2051\",\"type\":\"DataRange1d\"},\"y_scale\":{\"id\":\"2055\",\"type\":\"LinearScale\"}},\"id\":\"2047\",\"subtype\":\"Figure\",\"type\":\"Plot\"},{\"attributes\":{},\"id\":\"2072\",\"type\":\"HelpTool\"},{\"attributes\":{\"fill_alpha\":{\"value\":0.1},\"fill_color\":{\"value\":\"#1f77b4\"},\"line_alpha\":{\"value\":0.1},\"line_color\":{\"value\":\"#1f77b4\"},\"size\":{\"units\":\"screen\",\"value\":15},\"x\":{\"field\":\"x\"},\"y\":{\"field\":\"y\"}},\"id\":\"2097\",\"type\":\"Circle\"},{\"attributes\":{\"line_alpha\":{\"value\":0.1},\"line_color\":{\"value\":\"#1f77b4\"},\"line_width\":{\"value\":5},\"xs\":{\"field\":\"x_s\"},\"ys\":{\"field\":\"y_s\"}},\"id\":\"2085\",\"type\":\"MultiLine\"},{\"attributes\":{\"fill_alpha\":{\"value\":0.5},\"fill_color\":{\"value\":\"navy\"},\"line_alpha\":{\"value\":0.5},\"line_color\":{\"value\":\"navy\"},\"size\":{\"units\":\"screen\",\"value\":15},\"x\":{\"field\":\"x\"},\"y\":{\"field\":\"y\"}},\"id\":\"2096\",\"type\":\"Circle\"},{\"attributes\":{},\"id\":\"2188\",\"type\":\"UnionRenderers\"},{\"attributes\":{\"line_alpha\":{\"value\":0.1},\"line_color\":{\"value\":\"#1f77b4\"},\"line_width\":{\"value\":5},\"xs\":{\"field\":\"x_s\"},\"ys\":{\"field\":\"y_s\"}},\"id\":\"2091\",\"type\":\"MultiLine\"},{\"attributes\":{\"callback\":null,\"renderers\":[{\"id\":\"2086\",\"type\":\"GlyphRenderer\"}],\"tooltips\":\"\\n            <div>\\n            transformer id = @trafo_id  \\n            <table border=\\\"5\\\">\\n                <tr >\\n                    <td>I<sub>1a</sub> =  @i_1a_m &ang; @deg_1a </td>\\n                    <td>I<sub>2a</sub> =  @i_2a_m &ang; @deg_2a </td>\\n                </tr>\\n                <tr>\\n                    <td >I<sub>1b</sub> =  @i_1b_m &ang; @deg_1b </td>\\n                    <td >I<sub>2b</sub> =  @i_2b_m &ang; @deg_2b </td>\\n                </tr>\\n                <tr>\\n                    <td >I<sub>1c</sub> =  @i_1c_m &ang; @deg_1c </td>\\n                    <td >I<sub>2c</sub> =  @i_2c_m &ang; @deg_2c </td>\\n                </tr>\\n                <tr>\\n                    <td >I<sub>1n</sub> =  @i_1n_m &ang; @deg_1n </td>\\n                    <td >I<sub>2n</sub> =  @i_2n_m &ang; @deg_2n </td>\\n                </tr>\\n            </table>            \\n            </div>\\n            \"},\"id\":\"2100\",\"type\":\"HoverTool\"},{\"attributes\":{\"formatter\":{\"id\":\"2182\",\"type\":\"BasicTickFormatter\"},\"plot\":{\"id\":\"2047\",\"subtype\":\"Figure\",\"type\":\"Plot\"},\"ticker\":{\"id\":\"2063\",\"type\":\"BasicTicker\"}},\"id\":\"2062\",\"type\":\"LinearAxis\"},{\"attributes\":{\"source\":{\"id\":\"2082\",\"type\":\"ColumnDataSource\"}},\"id\":\"2087\",\"type\":\"CDSView\"},{\"attributes\":{\"data_source\":{\"id\":\"2088\",\"type\":\"ColumnDataSource\"},\"glyph\":{\"id\":\"2090\",\"type\":\"MultiLine\"},\"hover_glyph\":null,\"muted_glyph\":null,\"nonselection_glyph\":{\"id\":\"2091\",\"type\":\"MultiLine\"},\"selection_glyph\":null,\"view\":{\"id\":\"2093\",\"type\":\"CDSView\"}},\"id\":\"2092\",\"type\":\"GlyphRenderer\"},{\"attributes\":{},\"id\":\"2185\",\"type\":\"Selection\"},{\"attributes\":{},\"id\":\"2055\",\"type\":\"LinearScale\"},{\"attributes\":{},\"id\":\"2183\",\"type\":\"Selection\"},{\"attributes\":{\"callback\":null},\"id\":\"2049\",\"type\":\"DataRange1d\"},{\"attributes\":{\"plot\":{\"id\":\"2047\",\"subtype\":\"Figure\",\"type\":\"Plot\"},\"ticker\":{\"id\":\"2058\",\"type\":\"BasicTicker\"}},\"id\":\"2061\",\"type\":\"Grid\"},{\"attributes\":{},\"id\":\"2182\",\"type\":\"BasicTickFormatter\"},{\"attributes\":{\"active_drag\":\"auto\",\"active_inspect\":\"auto\",\"active_multi\":null,\"active_scroll\":\"auto\",\"active_tap\":\"auto\",\"tools\":[{\"id\":\"2067\",\"type\":\"PanTool\"},{\"id\":\"2068\",\"type\":\"WheelZoomTool\"},{\"id\":\"2069\",\"type\":\"BoxZoomTool\"},{\"id\":\"2070\",\"type\":\"SaveTool\"},{\"id\":\"2071\",\"type\":\"ResetTool\"},{\"id\":\"2072\",\"type\":\"HelpTool\"},{\"id\":\"2100\",\"type\":\"HoverTool\"},{\"id\":\"2102\",\"type\":\"HoverTool\"},{\"id\":\"2104\",\"type\":\"HoverTool\"}]},\"id\":\"2073\",\"type\":\"Toolbar\"},{\"attributes\":{},\"id\":\"2053\",\"type\":\"LinearScale\"},{\"attributes\":{\"line_alpha\":{\"value\":0.5},\"line_color\":{\"value\":\"red\"},\"line_width\":{\"value\":5},\"xs\":{\"field\":\"x_s\"},\"ys\":{\"field\":\"y_s\"}},\"id\":\"2090\",\"type\":\"MultiLine\"},{\"attributes\":{\"overlay\":{\"id\":\"2075\",\"type\":\"BoxAnnotation\"}},\"id\":\"2069\",\"type\":\"BoxZoomTool\"},{\"attributes\":{\"source\":{\"id\":\"2088\",\"type\":\"ColumnDataSource\"}},\"id\":\"2093\",\"type\":\"CDSView\"},{\"attributes\":{},\"id\":\"2063\",\"type\":\"BasicTicker\"},{\"attributes\":{\"plot\":null,\"text\":\"Results\"},\"id\":\"2046\",\"type\":\"Title\"},{\"attributes\":{\"dimension\":1,\"plot\":{\"id\":\"2047\",\"subtype\":\"Figure\",\"type\":\"Plot\"},\"ticker\":{\"id\":\"2063\",\"type\":\"BasicTicker\"}},\"id\":\"2066\",\"type\":\"Grid\"},{\"attributes\":{\"callback\":null},\"id\":\"2051\",\"type\":\"DataRange1d\"},{\"attributes\":{},\"id\":\"2187\",\"type\":\"Selection\"},{\"attributes\":{\"bottom_units\":\"screen\",\"fill_alpha\":{\"value\":0.5},\"fill_color\":{\"value\":\"lightgrey\"},\"left_units\":\"screen\",\"level\":\"overlay\",\"line_alpha\":{\"value\":1.0},\"line_color\":{\"value\":\"black\"},\"line_dash\":[4,4],\"line_width\":{\"value\":2},\"plot\":null,\"render_mode\":\"css\",\"right_units\":\"screen\",\"top_units\":\"screen\"},\"id\":\"2075\",\"type\":\"BoxAnnotation\"},{\"attributes\":{\"callback\":null,\"data\":{\"deg_j_a\":[158.17930707318195,-128.43214085692128,-128.42992017664784,136.08012625295933],\"deg_j_b\":[-111.02067160102203,-116.14377116333218,-116.14300928981918,-103.91987381031589],\"deg_j_c\":[-6.823524219723963,-123.02322779433419,-123.02899101084519,16.080126207740427],\"deg_j_n\":[-32.54076217122888,-123.03199379467291,-123.03210086073197,0.0],\"deg_k_a\":[-128.43214085803098,-128.42992017632736,-128.4283200688469,136.08012625295933],\"deg_k_b\":[-116.14377116222353,-116.14300928970745,-116.14151957214442,-103.91987381031589],\"deg_k_c\":[-123.02322779258425,-123.02899101083217,-123.02921462587014,16.080126207740427],\"deg_k_n\":[-123.03199379438973,-123.03210086049005,-123.03096148579837,0.0],\"i_j_a_m\":[2.4279654672920887e-13,4.229828903905989e-09,8.459496456697182e-09,689.5580396030566],\"i_j_b_m\":[2.1378649289218893e-13,3.316398827359243e-09,6.632514358790207e-09,689.5580394143191],\"i_j_c_m\":[5.868282662649147e-13,2.1436609703336917e-09,4.287502918801465e-09,689.5580401681848],\"i_j_n_m\":[3.32837317057961e-13,9.647177809207967e-09,1.929411502710645e-08,3.410605131648481e-13],\"i_k_a_m\":[4.229828903932172e-09,8.459496456569462e-09,1.2688980132527062e-08,689.5580396030566],\"i_k_b_m\":[3.316398827380255e-09,6.632514358861218e-09,9.948489171140226e-09,689.5580394143191],\"i_k_c_m\":[2.1436609703530076e-09,4.2875029188140365e-09,6.431188604198762e-09,689.5580401681848],\"i_k_n_m\":[9.647177809258795e-09,1.9294115027065268e-08,2.8940565366739482e-08,3.410605131648481e-13],\"line_id\":[\"W1mv-W2mv\",\"W2mv-W3mv\",\"W3mv-POImv\",\"POI-GRID\"],\"x_s\":[[-1500.0,-1000.0],[-1000.0,-500.0],[-500.0,0.0],[100.0,500.0]],\"y_s\":[[180.0,180.0],[180.0,180.0],[180.0,0.0],[0.0,0.0]]},\"selected\":{\"id\":\"2185\",\"type\":\"Selection\"},\"selection_policy\":{\"id\":\"2186\",\"type\":\"UnionRenderers\"}},\"id\":\"2088\",\"type\":\"ColumnDataSource\"},{\"attributes\":{},\"id\":\"2067\",\"type\":\"PanTool\"},{\"attributes\":{},\"id\":\"2180\",\"type\":\"BasicTickFormatter\"},{\"attributes\":{\"line_alpha\":{\"value\":0.5},\"line_color\":{\"value\":\"green\"},\"line_width\":{\"value\":5},\"xs\":{\"field\":\"x_s\"},\"ys\":{\"field\":\"y_s\"}},\"id\":\"2084\",\"type\":\"MultiLine\"},{\"attributes\":{\"data_source\":{\"id\":\"2094\",\"type\":\"ColumnDataSource\"},\"glyph\":{\"id\":\"2096\",\"type\":\"Circle\"},\"hover_glyph\":null,\"muted_glyph\":null,\"nonselection_glyph\":{\"id\":\"2097\",\"type\":\"Circle\"},\"selection_glyph\":null,\"view\":{\"id\":\"2099\",\"type\":\"CDSView\"}},\"id\":\"2098\",\"type\":\"GlyphRenderer\"},{\"attributes\":{\"callback\":null,\"data\":{\"deg_1a\":[106.08012622584883,90.0,0.0,180.0],\"deg_1b\":[-133.91987381937008,-90.0,-90.0,-45.0],\"deg_1c\":[-13.91987375609485,116.56505117707799,90.0,75.96375653207353],\"deg_1n\":[-90.0,180.0,0.0,116.56505117707799],\"deg_2a\":[-43.91987374704067,0.0,26.56505117707799,18.43494882292201],\"deg_2b\":[76.08012618968411,135.0,0.0,180.0],\"deg_2c\":[-163.91987379225958,-75.96375653207353,-82.8749836510982,-53.13010235415598],\"deg_2n\":[165.96375653207352,180.0,-40.10090754621224,0.0],\"i_1a_m\":[2275.541529653224,4.235164736271502e-22,2.117582368135751e-22,4.235164736271502e-22],\"i_1b_m\":[2275.5415315181463,6.352747104407253e-22,4.235164736271502e-22,2.994713704459715e-22],\"i_1c_m\":[2275.54153214098,2.367529061553262e-22,4.235164736271502e-22,4.365507887384641e-22],\"i_1n_m\":[3.410605131648481e-13,1.0587911840678754e-22,2.117582368135751e-22,2.367529061553262e-22],\"i_2a_m\":[689.5580396030566,0.0,1.5152185993940876e-20,2.1428426932230842e-20],\"i_2b_m\":[689.5580394143192,9.583083854271089e-21,0.0,6.776263578034403e-21],\"i_2c_m\":[689.5580401681847,6.984812619815426e-21,2.0486993826195418e-20,8.470329472543003e-21],\"i_2n_m\":[3.515571301265078e-13,5.082197683525802e-21,2.1039861930964924e-20,1.8634724839594607e-20],\"trafo_id\":[\"POImv-POI\",\"W1mv-W1lv\",\"W2mv-W2lv\",\"W3mv-W3lv\"],\"x_s\":[[0.0,100.0],[-1500.0,-1500.0],[-1000.0,-1000.0],[-500.0,-500.0]],\"y_s\":[[0.0,0.0],[180.0,200.0],[180.0,200.0],[180.0,200.0]]},\"selected\":{\"id\":\"2183\",\"type\":\"Selection\"},\"selection_policy\":{\"id\":\"2184\",\"type\":\"UnionRenderers\"}},\"id\":\"2082\",\"type\":\"ColumnDataSource\"},{\"attributes\":{\"source\":{\"id\":\"2094\",\"type\":\"ColumnDataSource\"}},\"id\":\"2099\",\"type\":\"CDSView\"},{\"attributes\":{\"data_source\":{\"id\":\"2082\",\"type\":\"ColumnDataSource\"},\"glyph\":{\"id\":\"2084\",\"type\":\"MultiLine\"},\"hover_glyph\":null,\"muted_glyph\":null,\"nonselection_glyph\":{\"id\":\"2085\",\"type\":\"MultiLine\"},\"selection_glyph\":null,\"view\":{\"id\":\"2087\",\"type\":\"CDSView\"}},\"id\":\"2086\",\"type\":\"GlyphRenderer\"},{\"attributes\":{},\"id\":\"2068\",\"type\":\"WheelZoomTool\"},{\"attributes\":{\"callback\":null,\"renderers\":[{\"id\":\"2098\",\"type\":\"GlyphRenderer\"}],\"tooltips\":\"\\n            <div>\\n            bus_id = @bus_id &nbsp &nbsp |  u<sub>avg</sub>= @u_avg_pu pu |  u<sub>unb</sub>= @v_unb %\\n            <table border=\\\"1\\\">\\n                <tr>\\n                <td>v<sub>an</sub> =  @v_an  &ang; @deg_an V </td> <td> S<sub>a</sub> = @p_a + j@q_a kVA</td>\\n                </tr>\\n                      <tr>\\n                      <td> </td> <td>v<sub>ab</sub>= @v_ab V</td>\\n                      </tr>\\n                <tr>\\n                <td>v<sub>bn</sub> = @v_bn &ang; @deg_bn V </td><td> S<sub>b</sub> = @p_b + j@q_b kVA</td>\\n                </tr>\\n                      <tr>\\n                      <td> </td><td>v<sub>bc</sub>= @v_bc V</td>\\n                      </tr>\\n                <tr>\\n                <td>v<sub>cn</sub>  = @v_cn &ang; @deg_cn V </td>  <td>S<sub>c</sub> = @p_c + j@q_c kVA </td>\\n                </tr> \\n                    <tr>\\n                     <td> </td> <td>v<sub>ca</sub>= @v_ca V</td>\\n                    </tr>\\n               <tr>\\n                <td>v<sub>ng</sub>    = @v_ng &ang; @deg_ng V</td>  <td>S<sub>abc</sub> = @p_abc + j@q_abc kVA </td>\\n              </tr>\\n            </table>\\n            </div>\\n            \"},\"id\":\"2104\",\"type\":\"HoverTool\"},{\"attributes\":{},\"id\":\"2184\",\"type\":\"UnionRenderers\"},{\"attributes\":{},\"id\":\"2071\",\"type\":\"ResetTool\"},{\"attributes\":{},\"id\":\"2070\",\"type\":\"SaveTool\"},{\"attributes\":{},\"id\":\"2186\",\"type\":\"UnionRenderers\"},{\"attributes\":{\"callback\":null,\"data\":{\"bus_id\":[\"W1lv\",\"W2lv\",\"W3lv\",\"W1mv\",\"W2mv\",\"W3mv\",\"POImv\",\"POI\",\"GRID\"],\"deg_an\":[\"-43.92\",\"-43.92\",\"-43.92\",\"-43.92\",\"-43.92\",\"-43.92\",\"-43.92\",\"38.96\",\"30.00\"],\"deg_bn\":[\"106.08\",\"106.08\",\"106.08\",\"-13.93\",\"-13.93\",\"-13.92\",\"-13.92\",\"158.96\",\"150.00\"],\"deg_cn\":[\"166.08\",\"166.08\",\"166.08\",\"-83.67\",\"-83.67\",\"-83.67\",\"147.85\",\"-81.04\",\"-90.00\"],\"deg_ng\":[\"0.00\",\"0.00\",\"0.00\",\"0.00\",\"0.00\",\"0.00\",\"0.00\",\"0.00\",\"0.00\"],\"p_a\":[\"0.00\",\"0.00\",\"0.00\",\"0.00\",\"0.00\",\"0.00\",\"0.00\",\"0.00\",\"7277.85\"],\"p_abc\":[\"0.00\",\"0.00\",\"0.00\",\"0.00\",\"0.00\",\"0.00\",\"0.00\",\"0.00\",\"21833.56\"],\"p_b\":[\"0.00\",\"0.00\",\"0.00\",\"0.00\",\"0.00\",\"0.00\",\"0.00\",\"0.00\",\"7277.85\"],\"p_c\":[\"0.00\",\"0.00\",\"0.00\",\"0.00\",\"0.00\",\"0.00\",\"0.00\",\"0.00\",\"7277.85\"],\"q_a\":[\"-0.00\",\"-0.00\",\"-0.00\",\"-0.00\",\"-0.00\",\"-0.00\",\"-0.00\",\"0.00\",\"25247.58\"],\"q_abc\":[\"0.00\",\"0.00\",\"0.00\",\"-0.00\",\"-0.00\",\"-0.00\",\"0.00\",\"0.00\",\"75742.75\"],\"q_b\":[\"0.00\",\"0.00\",\"0.00\",\"-0.00\",\"-0.00\",\"-0.00\",\"-0.00\",\"0.00\",\"25247.58\"],\"q_c\":[\"0.00\",\"0.00\",\"0.00\",\"-0.00\",\"-0.00\",\"-0.00\",\"0.00\",\"-0.00\",\"25247.58\"],\"s_color\":[\"blue\",\"blue\",\"blue\",\"blue\",\"blue\",\"blue\",\"blue\",\"blue\",\"red\"],\"s_radio\":[1,1,1,1,1,1,1,1,20],\"u_avg_pu\":[\"0.000\",\"0.000\",\"0.000\",\"0.000\",\"0.000\",\"0.000\",\"0.000\",\"0.636\",\"1.000\"],\"v_ab\":[1.199216879107534e-06,1.1992151985090469e-06,1.1992101554828346e-06,2.2755702356211132e-05,2.2755670471382516e-05,2.2755574782911762e-05,2.2755415291864863e-05,41944.59480822875,65999.79602241208],\"v_an\":[\"0.00\",\"0.00\",\"0.00\",\"0.00\",\"0.00\",\"0.00\",\"0.00\",\"24216.72\",\"38105.00\"],\"v_an_pu\":[\"0.0000\",\"0.0000\",\"0.0000\",\"0.0000\",\"0.0000\",\"0.0000\",\"0.0000\",\"0.6355\",\"1.0000\"],\"v_bc\":[4.5326137410663195e-07,4.532607395810956e-07,4.532588341773386e-07,2.2755702353291e-05,2.275567047530847e-05,2.2755574793683988e-05,2.275541530948376e-05,41944.59479728171,65999.79602241208],\"v_bn\":[\"0.00\",\"0.00\",\"0.00\",\"0.00\",\"0.00\",\"0.00\",\"0.00\",\"24216.72\",\"38105.00\"],\"v_bn_pu\":[\"0.0000\",\"0.0000\",\"0.0000\",\"0.0000\",\"0.0000\",\"0.0000\",\"0.0000\",\"0.6355\",\"1.0000\"],\"v_ca\":[1.1992168790415809e-06,1.1992151985977166e-06,1.1992101557261313e-06,3.941403267678762e-05,3.94139774418798e-05,3.94138116958222e-05,3.941353544046144e-05,41944.59477957206,65999.79602241208],\"v_cn\":[\"0.00\",\"0.00\",\"0.00\",\"0.00\",\"0.00\",\"0.00\",\"0.00\",\"24216.72\",\"38105.00\"],\"v_cn_pu\":[\"0.0000\",\"0.0000\",\"0.0000\",\"0.0000\",\"0.0000\",\"0.0000\",\"0.0000\",\"0.6355\",\"1.0000\"],\"v_ng\":[\"0.00\",\"0.00\",\"0.00\",\"0.00\",\"0.00\",\"0.00\",\"0.00\",\"0.00\",\"0.00\"],\"v_unb\":[\"39.2\",\"39.2\",\"39.2\",\"100.0\",\"100.0\",\"100.0\",\"100.0\",\"0.0\",\"0.0\"],\"x\":[-1500.0,-1000.0,-500.0,-1500.0,-1000.0,-500.0,0.0,100.0,500.0],\"y\":[200.0,200.0,200.0,180.0,180.0,180.0,0.0,0.0,0.0]},\"selected\":{\"id\":\"2187\",\"type\":\"Selection\"},\"selection_policy\":{\"id\":\"2188\",\"type\":\"UnionRenderers\"}},\"id\":\"2094\",\"type\":\"ColumnDataSource\"},{\"attributes\":{},\"id\":\"2058\",\"type\":\"BasicTicker\"},{\"attributes\":{\"callback\":null,\"renderers\":[{\"id\":\"2092\",\"type\":\"GlyphRenderer\"}],\"tooltips\":\"\\n            <div>\\n            line id = @line_id \\n            <table border=\\\"5\\\">\\n                <tr >\\n                    <td>I<sub>ja</sub> =  @i_j_a_m &ang; @deg_j_a </td>\\n                    <td>I<sub>ka</sub> =  @i_k_a_m &ang; @deg_k_a </td>\\n                </tr>\\n                <tr>\\n                    <td >I<sub>jb</sub> =  @i_j_b_m &ang; @deg_j_b </td>\\n                    <td >I<sub>kb</sub> =  @i_k_b_m &ang; @deg_k_b </td>\\n                </tr>\\n                <tr>\\n                    <td >I<sub>jc</sub> =  @i_j_c_m &ang; @deg_j_c </td>\\n                    <td >I<sub>kc</sub> =  @i_k_c_m &ang; @deg_k_c </td>\\n                </tr>\\n                <tr>\\n                    <td >I<sub>jn</sub> =  @i_j_n_m &ang; @deg_j_n </td>\\n                    <td >I<sub>kn</sub> =  @i_k_n_m &ang; @deg_k_n </td>\\n                </tr>\\n            </table>            \\n            </div>\\n            \"},\"id\":\"2102\",\"type\":\"HoverTool\"},{\"attributes\":{\"formatter\":{\"id\":\"2180\",\"type\":\"BasicTickFormatter\"},\"plot\":{\"id\":\"2047\",\"subtype\":\"Figure\",\"type\":\"Plot\"},\"ticker\":{\"id\":\"2058\",\"type\":\"BasicTicker\"}},\"id\":\"2057\",\"type\":\"LinearAxis\"}],\"root_ids\":[\"2047\"]},\"title\":\"Bokeh Application\",\"version\":\"1.0.2\"}};\n",
       "  var render_items = [{\"docid\":\"c5efce4b-8f53-41c3-9e51-d8c63c5fe916\",\"roots\":{\"2047\":\"2e85830e-5ffa-48ef-86cf-873ee5987e38\"}}];\n",
       "  root.Bokeh.embed.embed_items_notebook(docs_json, render_items);\n",
       "\n",
       "  }\n",
       "  if (root.Bokeh !== undefined) {\n",
       "    embed_document(root);\n",
       "  } else {\n",
       "    var attempts = 0;\n",
       "    var timer = setInterval(function(root) {\n",
       "      if (root.Bokeh !== undefined) {\n",
       "        embed_document(root);\n",
       "        clearInterval(timer);\n",
       "      }\n",
       "      attempts++;\n",
       "      if (attempts > 100) {\n",
       "        console.log(\"Bokeh: ERROR: Unable to run BokehJS code because BokehJS library is missing\");\n",
       "        clearInterval(timer);\n",
       "      }\n",
       "    }, 10, root)\n",
       "  }\n",
       "})(window);"
      ],
      "application/vnd.bokehjs_exec.v0+json": ""
     },
     "metadata": {
      "application/vnd.bokehjs_exec.v0+json": {
       "id": "2047"
      }
     },
     "output_type": "display_data"
    }
   ],
   "source": [
    "\n",
    "data['shunts'] = [ # three phase fault to ground\n",
    "                 {\"bus\": \"POImv\" , \"R\":1.0e-8, \"X\": 0.0, \"bus_nodes\": [1,2]},\n",
    "                 {\"bus\": \"POImv\" , \"R\":1.0e-8, \"X\": 0.0, \"bus_nodes\": [2,3]},\n",
    "                 {\"bus\": \"POImv\" , \"R\":1.0e-8, \"X\": 0.0, \"bus_nodes\": [3,0]},\n",
    "                 ]\n",
    "\n",
    "# powers to zero:\n",
    "data['grid_feeders'] = [{\"bus\": \"W1lv\",\"bus_nodes\": [1, 2, 3],\"kW\": 0, \"kvar\": 0},\n",
    "                        {\"bus\": \"W2lv\",\"bus_nodes\": [1, 2, 3],\"kW\": 0, \"kvar\": 0},\n",
    "                        {\"bus\": \"W3lv\",\"bus_nodes\": [1, 2, 3],\"kW\": 0, \"kvar\": 0},\n",
    "                        {\"bus\": \"POImv\",\"bus_nodes\": [1, 2, 3],\"kW\":0, \"kvar\": 0}] # STATCOM\n",
    "\n",
    "grid_1 = grid()\n",
    "grid_1.read(data)\n",
    "grid_1.pf()\n",
    "\n",
    "p=plot_results(grid_1)"
   ]
  },
  {
   "cell_type": "code",
   "execution_count": 23,
   "metadata": {},
   "outputs": [
    {
     "name": "stdout",
     "output_type": "stream",
     "text": [
      "Three phase short circuit current at POImv = 2.28 kA\n"
     ]
    }
   ],
   "source": [
    "I_cc = grid_1.transformers[0]['i_1a_m']\n",
    "print('Three phase short circuit current at POImv = {:0.2f} kA'.format(I_cc/1000))"
   ]
  },
  {
   "cell_type": "markdown",
   "metadata": {},
   "source": [
    "### Phase-ground W1mv bus\n"
   ]
  },
  {
   "cell_type": "code",
   "execution_count": 24,
   "metadata": {},
   "outputs": [
    {
     "data": {
      "text/html": [
       "\n",
       "\n",
       "\n",
       "\n",
       "\n",
       "\n",
       "  <div class=\"bk-root\" id=\"8892a855-7a76-42bd-b796-f9c9051e1bde\"></div>\n"
      ]
     },
     "metadata": {},
     "output_type": "display_data"
    },
    {
     "data": {
      "application/javascript": [
       "(function(root) {\n",
       "  function embed_document(root) {\n",
       "    \n",
       "  var docs_json = {\"8dafa73a-8238-43a7-83ec-bbe71a9e74dc\":{\"roots\":{\"references\":[{\"attributes\":{\"below\":[{\"id\":\"2273\",\"type\":\"LinearAxis\"}],\"left\":[{\"id\":\"2278\",\"type\":\"LinearAxis\"}],\"plot_height\":400,\"renderers\":[{\"id\":\"2273\",\"type\":\"LinearAxis\"},{\"id\":\"2277\",\"type\":\"Grid\"},{\"id\":\"2278\",\"type\":\"LinearAxis\"},{\"id\":\"2282\",\"type\":\"Grid\"},{\"id\":\"2291\",\"type\":\"BoxAnnotation\"},{\"id\":\"2302\",\"type\":\"GlyphRenderer\"},{\"id\":\"2308\",\"type\":\"GlyphRenderer\"},{\"id\":\"2314\",\"type\":\"GlyphRenderer\"}],\"title\":{\"id\":\"2262\",\"type\":\"Title\"},\"toolbar\":{\"id\":\"2289\",\"type\":\"Toolbar\"},\"x_range\":{\"id\":\"2265\",\"type\":\"DataRange1d\"},\"x_scale\":{\"id\":\"2269\",\"type\":\"LinearScale\"},\"y_range\":{\"id\":\"2267\",\"type\":\"DataRange1d\"},\"y_scale\":{\"id\":\"2271\",\"type\":\"LinearScale\"}},\"id\":\"2263\",\"subtype\":\"Figure\",\"type\":\"Plot\"},{\"attributes\":{\"plot\":{\"id\":\"2263\",\"subtype\":\"Figure\",\"type\":\"Plot\"},\"ticker\":{\"id\":\"2274\",\"type\":\"BasicTicker\"}},\"id\":\"2277\",\"type\":\"Grid\"},{\"attributes\":{\"source\":{\"id\":\"2310\",\"type\":\"ColumnDataSource\"}},\"id\":\"2315\",\"type\":\"CDSView\"},{\"attributes\":{\"active_drag\":\"auto\",\"active_inspect\":\"auto\",\"active_multi\":null,\"active_scroll\":\"auto\",\"active_tap\":\"auto\",\"tools\":[{\"id\":\"2283\",\"type\":\"PanTool\"},{\"id\":\"2284\",\"type\":\"WheelZoomTool\"},{\"id\":\"2285\",\"type\":\"BoxZoomTool\"},{\"id\":\"2286\",\"type\":\"SaveTool\"},{\"id\":\"2287\",\"type\":\"ResetTool\"},{\"id\":\"2288\",\"type\":\"HelpTool\"},{\"id\":\"2316\",\"type\":\"HoverTool\"},{\"id\":\"2318\",\"type\":\"HoverTool\"},{\"id\":\"2320\",\"type\":\"HoverTool\"}]},\"id\":\"2289\",\"type\":\"Toolbar\"},{\"attributes\":{\"callback\":null,\"data\":{\"deg_j_a\":[164.30150313178564,164.2354102494064,164.17003587526546,164.4260858694724],\"deg_j_b\":[57.47131395700034,59.96737927003757,59.84678581211114,-15.522355318867497],\"deg_j_c\":[-18.68433509126451,90.57741228000324,90.51018011578212,179.62863942289417],\"deg_j_n\":[164.30150313178441,164.00334919525568,163.7069561917479,-156.36962688216576],\"deg_k_a\":[164.23541024940604,164.17003587526548,164.10538058437612,164.4260858694724],\"deg_k_b\":[59.967379269634364,59.84678581143675,59.7261895390145,-15.522355318867497],\"deg_k_c\":[90.57741227856451,90.51018011671448,90.44319045284396,179.62863942289417],\"deg_k_n\":[164.00334919525625,163.70695619174447,163.41232503283183,-156.36962688216576],\"i_j_a_m\":[932.9993624855839,932.9942499504006,932.9808079787441,162.96338049070906],\"i_j_b_m\":[2.3140511792826727e-11,2.099261734113742,4.191968585894948,163.5048918048593],\"i_j_c_m\":[4.5812978438716197e-11,1.8177700774959638,3.625396868237582,0.5610802236441074],\"i_j_n_m\":[932.9993624855315,932.9959884724869,932.9941864261135,6.632372592199943e-13],\"i_k_a_m\":[932.9942499504106,932.980807978744,932.9590443532381,162.96338049070906],\"i_k_b_m\":[2.099261734107225,4.1919685859111535,6.278096908993698,163.5048918048593],\"i_k_c_m\":[1.817770077477249,3.6253968683098465,5.422860827172121,0.5610802236441074],\"i_k_n_m\":[932.995988472435,932.994186426139,932.993659593483,6.632372592199943e-13],\"line_id\":[\"W1mv-W2mv\",\"W2mv-W3mv\",\"W3mv-POImv\",\"POI-GRID\"],\"x_s\":[[-1500.0,-1000.0],[-1000.0,-500.0],[-500.0,0.0],[100.0,500.0]],\"y_s\":[[180.0,180.0],[180.0,180.0],[180.0,0.0],[0.0,0.0]]},\"selected\":{\"id\":\"2413\",\"type\":\"Selection\"},\"selection_policy\":{\"id\":\"2414\",\"type\":\"UnionRenderers\"}},\"id\":\"2304\",\"type\":\"ColumnDataSource\"},{\"attributes\":{},\"id\":\"2288\",\"type\":\"HelpTool\"},{\"attributes\":{\"callback\":null,\"renderers\":[{\"id\":\"2302\",\"type\":\"GlyphRenderer\"}],\"tooltips\":\"\\n            <div>\\n            transformer id = @trafo_id  \\n            <table border=\\\"5\\\">\\n                <tr >\\n                    <td>I<sub>1a</sub> =  @i_1a_m &ang; @deg_1a </td>\\n                    <td>I<sub>2a</sub> =  @i_2a_m &ang; @deg_2a </td>\\n                </tr>\\n                <tr>\\n                    <td >I<sub>1b</sub> =  @i_1b_m &ang; @deg_1b </td>\\n                    <td >I<sub>2b</sub> =  @i_2b_m &ang; @deg_2b </td>\\n                </tr>\\n                <tr>\\n                    <td >I<sub>1c</sub> =  @i_1c_m &ang; @deg_1c </td>\\n                    <td >I<sub>2c</sub> =  @i_2c_m &ang; @deg_2c </td>\\n                </tr>\\n                <tr>\\n                    <td >I<sub>1n</sub> =  @i_1n_m &ang; @deg_1n </td>\\n                    <td >I<sub>2n</sub> =  @i_2n_m &ang; @deg_2n </td>\\n                </tr>\\n            </table>            \\n            </div>\\n            \"},\"id\":\"2316\",\"type\":\"HoverTool\"},{\"attributes\":{\"formatter\":{\"id\":\"2410\",\"type\":\"BasicTickFormatter\"},\"plot\":{\"id\":\"2263\",\"subtype\":\"Figure\",\"type\":\"Plot\"},\"ticker\":{\"id\":\"2279\",\"type\":\"BasicTicker\"}},\"id\":\"2278\",\"type\":\"LinearAxis\"},{\"attributes\":{\"callback\":null,\"renderers\":[{\"id\":\"2308\",\"type\":\"GlyphRenderer\"}],\"tooltips\":\"\\n            <div>\\n            line id = @line_id \\n            <table border=\\\"5\\\">\\n                <tr >\\n                    <td>I<sub>ja</sub> =  @i_j_a_m &ang; @deg_j_a </td>\\n                    <td>I<sub>ka</sub> =  @i_k_a_m &ang; @deg_k_a </td>\\n                </tr>\\n                <tr>\\n                    <td >I<sub>jb</sub> =  @i_j_b_m &ang; @deg_j_b </td>\\n                    <td >I<sub>kb</sub> =  @i_k_b_m &ang; @deg_k_b </td>\\n                </tr>\\n                <tr>\\n                    <td >I<sub>jc</sub> =  @i_j_c_m &ang; @deg_j_c </td>\\n                    <td >I<sub>kc</sub> =  @i_k_c_m &ang; @deg_k_c </td>\\n                </tr>\\n                <tr>\\n                    <td >I<sub>jn</sub> =  @i_j_n_m &ang; @deg_j_n </td>\\n                    <td >I<sub>kn</sub> =  @i_k_n_m &ang; @deg_k_n </td>\\n                </tr>\\n            </table>            \\n            </div>\\n            \"},\"id\":\"2318\",\"type\":\"HoverTool\"},{\"attributes\":{\"overlay\":{\"id\":\"2291\",\"type\":\"BoxAnnotation\"}},\"id\":\"2285\",\"type\":\"BoxZoomTool\"},{\"attributes\":{},\"id\":\"2279\",\"type\":\"BasicTicker\"},{\"attributes\":{},\"id\":\"2414\",\"type\":\"UnionRenderers\"},{\"attributes\":{},\"id\":\"2271\",\"type\":\"LinearScale\"},{\"attributes\":{\"bottom_units\":\"screen\",\"fill_alpha\":{\"value\":0.5},\"fill_color\":{\"value\":\"lightgrey\"},\"left_units\":\"screen\",\"level\":\"overlay\",\"line_alpha\":{\"value\":1.0},\"line_color\":{\"value\":\"black\"},\"line_dash\":[4,4],\"line_width\":{\"value\":2},\"plot\":null,\"render_mode\":\"css\",\"right_units\":\"screen\",\"top_units\":\"screen\"},\"id\":\"2291\",\"type\":\"BoxAnnotation\"},{\"attributes\":{\"callback\":null,\"data\":{\"bus_id\":[\"W1lv\",\"W2lv\",\"W3lv\",\"W1mv\",\"W2mv\",\"W3mv\",\"POImv\",\"POI\",\"GRID\"],\"deg_an\":[\"21.91\",\"21.92\",\"21.93\",\"-15.70\",\"23.58\",\"23.51\",\"23.43\",\"28.67\",\"30.00\"],\"deg_bn\":[\"135.98\",\"136.18\",\"136.38\",\"135.98\",\"135.84\",\"135.71\",\"135.58\",\"144.86\",\"150.00\"],\"deg_cn\":[\"-90.01\",\"-90.01\",\"-90.01\",\"-158.09\",\"-158.10\",\"-158.10\",\"-158.10\",\"-90.01\",\"-90.00\"],\"deg_ng\":[\"0.00\",\"0.00\",\"0.00\",\"0.00\",\"0.00\",\"0.00\",\"0.00\",\"0.00\",\"0.00\"],\"p_a\":[\"0.00\",\"0.00\",\"0.00\",\"0.00\",\"0.00\",\"0.00\",\"0.00\",\"0.00\",\"4346.73\"],\"p_abc\":[\"0.00\",\"0.00\",\"0.00\",\"0.00\",\"0.00\",\"0.00\",\"0.00\",\"0.00\",\"10379.38\"],\"p_b\":[\"0.00\",\"0.00\",\"0.00\",\"0.00\",\"0.00\",\"0.00\",\"0.00\",\"0.00\",\"6032.51\"],\"p_c\":[\"-0.00\",\"-0.00\",\"-0.00\",\"-0.00\",\"-0.00\",\"-0.00\",\"-0.00\",\"-0.00\",\"0.14\"],\"q_a\":[\"0.00\",\"0.00\",\"0.00\",\"-0.00\",\"0.00\",\"0.00\",\"0.00\",\"0.00\",\"4434.70\"],\"q_abc\":[\"0.00\",\"0.00\",\"0.00\",\"0.00\",\"0.00\",\"0.00\",\"0.00\",\"0.00\",\"2855.71\"],\"q_b\":[\"0.00\",\"0.00\",\"0.00\",\"0.00\",\"0.00\",\"0.00\",\"0.00\",\"0.00\",\"-1557.60\"],\"q_c\":[\"0.00\",\"0.00\",\"0.00\",\"0.00\",\"0.00\",\"0.00\",\"0.00\",\"0.00\",\"-21.38\"],\"s_color\":[\"blue\",\"blue\",\"blue\",\"blue\",\"blue\",\"blue\",\"blue\",\"blue\",\"red\"],\"s_radio\":[1,1,1,1,1,1,1,1,20],\"u_avg_pu\":[\"0.935\",\"0.937\",\"0.939\",\"1.042\",\"1.044\",\"1.046\",\"1.047\",\"0.963\",\"1.000\"],\"v_ab\":[605.3671559316845,607.7464925280323,610.1303679512816,20336.19813086797,20365.6184160028,20395.232026642636,20425.038277511692,61146.01156402968,65999.79602241208],\"v_an\":[\"314.05\",\"315.59\",\"317.13\",\"0.00\",\"128.72\",\"257.44\",\"386.15\",\"34741.34\",\"38105.00\"],\"v_an_pu\":[\"0.7883\",\"0.7922\",\"0.7961\",\"0.0000\",\"0.0111\",\"0.0223\",\"0.0334\",\"0.9117\",\"1.0000\"],\"v_bc\":[739.8867908378475,739.8742241243347,739.8627918656111,20015.798591064904,20015.77053023109,20015.68634804218,20015.546045435756,66904.84623502978,65999.79602241208],\"v_bn\":[\"405.07\",\"405.65\",\"406.24\",\"20336.20\",\"20316.51\",\"20296.55\",\"20276.31\",\"37267.16\",\"38105.00\"],\"v_bn_pu\":[\"1.0168\",\"1.0183\",\"1.0198\",\"1.7612\",\"1.7595\",\"1.7577\",\"1.7560\",\"0.9780\",\"1.0000\"],\"v_ca\":[592.5208312679893,593.7514029649737,594.9817325082478,15766.874371039501,15844.048379192545,15921.178328145263,15998.264012824668,62694.63372744649,65999.79602241208],\"v_cn\":[\"398.69\",\"398.69\",\"398.68\",\"15766.87\",\"15715.38\",\"15663.84\",\"15612.24\",\"38115.20\",\"38105.00\"],\"v_cn_pu\":[\"1.0008\",\"1.0008\",\"1.0008\",\"1.3655\",\"1.3610\",\"1.3565\",\"1.3521\",\"1.0003\",\"1.0000\"],\"v_ng\":[\"0.00\",\"0.00\",\"0.00\",\"0.00\",\"0.00\",\"0.00\",\"0.00\",\"0.00\",\"0.00\"],\"v_unb\":[\"15.7\",\"15.5\",\"15.2\",\"100.0\",\"98.9\",\"97.9\",\"96.8\",\"5.4\",\"0.0\"],\"x\":[-1500.0,-1000.0,-500.0,-1500.0,-1000.0,-500.0,0.0,100.0,500.0],\"y\":[200.0,200.0,200.0,180.0,180.0,180.0,0.0,0.0,0.0]},\"selected\":{\"id\":\"2415\",\"type\":\"Selection\"},\"selection_policy\":{\"id\":\"2416\",\"type\":\"UnionRenderers\"}},\"id\":\"2310\",\"type\":\"ColumnDataSource\"},{\"attributes\":{},\"id\":\"2283\",\"type\":\"PanTool\"},{\"attributes\":{\"callback\":null,\"data\":{\"deg_1a\":[164.4519080354789,-86.10311738852242,-106.58733855692742,93.94518622903756],\"deg_1b\":[-15.471136935952385,-17.670437808435196,125.00170508344158,119.42745640318975],\"deg_1c\":[-15.625816691957478,161.07755662886134,-47.33202368162306,-46.71679821128988],\"deg_1n\":[-146.30993247402023,-104.03624346792648,180.0,45.0],\"deg_2a\":[-15.5739141305276,-167.81577754387388,-28.88658176691071,-7.471559176592376],\"deg_2b\":[164.47764468113283,-110.81297370669226,-119.88153619276993,-87.77843286706396],\"deg_2c\":[-0.371360577074902,-45.0,45.0,116.56505117707799],\"deg_2n\":[171.2538377374448,-104.03624346792648,-90.0,0.0],\"i_1a_m\":[622.0055351828267,2.566672135232974e-13,1.3067093897844615e-13,1.0327342077508656e-13],\"i_1b_m\":[312.5506260934477,1.3999193416872254e-13,2.152312155625196e-13,3.977016614207349e-13],\"i_1c_m\":[309.45547574021,2.195378214543464e-13,6.94556092094281e-14,4.611861633502128e-13],\"i_1n_m\":[4.0990372275064023e-13,2.3437142008433856e-13,1.1368683772161603e-13,1.6077746776921858e-13],\"i_2a_m\":[162.96338049070815,4.540653468260787e-12,4.706775815088575e-13,5.2457113776899944e-12],\"i_2b_m\":[163.50489180485965,2.866715088495948e-12,8.129316924580431e-12,6.598796271005885e-12],\"i_2c_m\":[0.5610802236441799,5.1448789686149945e-12,5.1448789686149945e-12,8.134767913360665e-12],\"i_2n_m\":[7.476584436270687e-13,7.499885442698834e-12,3.637978807091713e-12,1.8189894035458565e-12],\"trafo_id\":[\"POImv-POI\",\"W1mv-W1lv\",\"W2mv-W2lv\",\"W3mv-W3lv\"],\"x_s\":[[0.0,100.0],[-1500.0,-1500.0],[-1000.0,-1000.0],[-500.0,-500.0]],\"y_s\":[[0.0,0.0],[180.0,200.0],[180.0,200.0],[180.0,200.0]]},\"selected\":{\"id\":\"2411\",\"type\":\"Selection\"},\"selection_policy\":{\"id\":\"2412\",\"type\":\"UnionRenderers\"}},\"id\":\"2298\",\"type\":\"ColumnDataSource\"},{\"attributes\":{\"line_alpha\":{\"value\":0.5},\"line_color\":{\"value\":\"red\"},\"line_width\":{\"value\":5},\"xs\":{\"field\":\"x_s\"},\"ys\":{\"field\":\"y_s\"}},\"id\":\"2306\",\"type\":\"MultiLine\"},{\"attributes\":{},\"id\":\"2286\",\"type\":\"SaveTool\"},{\"attributes\":{\"callback\":null,\"renderers\":[{\"id\":\"2314\",\"type\":\"GlyphRenderer\"}],\"tooltips\":\"\\n            <div>\\n            bus_id = @bus_id &nbsp &nbsp |  u<sub>avg</sub>= @u_avg_pu pu |  u<sub>unb</sub>= @v_unb %\\n            <table border=\\\"1\\\">\\n                <tr>\\n                <td>v<sub>an</sub> =  @v_an  &ang; @deg_an V </td> <td> S<sub>a</sub> = @p_a + j@q_a kVA</td>\\n                </tr>\\n                      <tr>\\n                      <td> </td> <td>v<sub>ab</sub>= @v_ab V</td>\\n                      </tr>\\n                <tr>\\n                <td>v<sub>bn</sub> = @v_bn &ang; @deg_bn V </td><td> S<sub>b</sub> = @p_b + j@q_b kVA</td>\\n                </tr>\\n                      <tr>\\n                      <td> </td><td>v<sub>bc</sub>= @v_bc V</td>\\n                      </tr>\\n                <tr>\\n                <td>v<sub>cn</sub>  = @v_cn &ang; @deg_cn V </td>  <td>S<sub>c</sub> = @p_c + j@q_c kVA </td>\\n                </tr> \\n                    <tr>\\n                     <td> </td> <td>v<sub>ca</sub>= @v_ca V</td>\\n                    </tr>\\n               <tr>\\n                <td>v<sub>ng</sub>    = @v_ng &ang; @deg_ng V</td>  <td>S<sub>abc</sub> = @p_abc + j@q_abc kVA </td>\\n              </tr>\\n            </table>\\n            </div>\\n            \"},\"id\":\"2320\",\"type\":\"HoverTool\"},{\"attributes\":{\"callback\":null},\"id\":\"2267\",\"type\":\"DataRange1d\"},{\"attributes\":{\"formatter\":{\"id\":\"2408\",\"type\":\"BasicTickFormatter\"},\"plot\":{\"id\":\"2263\",\"subtype\":\"Figure\",\"type\":\"Plot\"},\"ticker\":{\"id\":\"2274\",\"type\":\"BasicTicker\"}},\"id\":\"2273\",\"type\":\"LinearAxis\"},{\"attributes\":{\"dimension\":1,\"plot\":{\"id\":\"2263\",\"subtype\":\"Figure\",\"type\":\"Plot\"},\"ticker\":{\"id\":\"2279\",\"type\":\"BasicTicker\"}},\"id\":\"2282\",\"type\":\"Grid\"},{\"attributes\":{},\"id\":\"2408\",\"type\":\"BasicTickFormatter\"},{\"attributes\":{},\"id\":\"2411\",\"type\":\"Selection\"},{\"attributes\":{\"callback\":null},\"id\":\"2265\",\"type\":\"DataRange1d\"},{\"attributes\":{\"line_alpha\":{\"value\":0.1},\"line_color\":{\"value\":\"#1f77b4\"},\"line_width\":{\"value\":5},\"xs\":{\"field\":\"x_s\"},\"ys\":{\"field\":\"y_s\"}},\"id\":\"2307\",\"type\":\"MultiLine\"},{\"attributes\":{\"source\":{\"id\":\"2298\",\"type\":\"ColumnDataSource\"}},\"id\":\"2303\",\"type\":\"CDSView\"},{\"attributes\":{\"source\":{\"id\":\"2304\",\"type\":\"ColumnDataSource\"}},\"id\":\"2309\",\"type\":\"CDSView\"},{\"attributes\":{\"plot\":null,\"text\":\"Results\"},\"id\":\"2262\",\"type\":\"Title\"},{\"attributes\":{\"data_source\":{\"id\":\"2298\",\"type\":\"ColumnDataSource\"},\"glyph\":{\"id\":\"2300\",\"type\":\"MultiLine\"},\"hover_glyph\":null,\"muted_glyph\":null,\"nonselection_glyph\":{\"id\":\"2301\",\"type\":\"MultiLine\"},\"selection_glyph\":null,\"view\":{\"id\":\"2303\",\"type\":\"CDSView\"}},\"id\":\"2302\",\"type\":\"GlyphRenderer\"},{\"attributes\":{\"data_source\":{\"id\":\"2304\",\"type\":\"ColumnDataSource\"},\"glyph\":{\"id\":\"2306\",\"type\":\"MultiLine\"},\"hover_glyph\":null,\"muted_glyph\":null,\"nonselection_glyph\":{\"id\":\"2307\",\"type\":\"MultiLine\"},\"selection_glyph\":null,\"view\":{\"id\":\"2309\",\"type\":\"CDSView\"}},\"id\":\"2308\",\"type\":\"GlyphRenderer\"},{\"attributes\":{},\"id\":\"2416\",\"type\":\"UnionRenderers\"},{\"attributes\":{},\"id\":\"2287\",\"type\":\"ResetTool\"},{\"attributes\":{\"fill_alpha\":{\"value\":0.1},\"fill_color\":{\"value\":\"#1f77b4\"},\"line_alpha\":{\"value\":0.1},\"line_color\":{\"value\":\"#1f77b4\"},\"size\":{\"units\":\"screen\",\"value\":15},\"x\":{\"field\":\"x\"},\"y\":{\"field\":\"y\"}},\"id\":\"2313\",\"type\":\"Circle\"},{\"attributes\":{\"fill_alpha\":{\"value\":0.5},\"fill_color\":{\"value\":\"navy\"},\"line_alpha\":{\"value\":0.5},\"line_color\":{\"value\":\"navy\"},\"size\":{\"units\":\"screen\",\"value\":15},\"x\":{\"field\":\"x\"},\"y\":{\"field\":\"y\"}},\"id\":\"2312\",\"type\":\"Circle\"},{\"attributes\":{},\"id\":\"2284\",\"type\":\"WheelZoomTool\"},{\"attributes\":{},\"id\":\"2410\",\"type\":\"BasicTickFormatter\"},{\"attributes\":{\"line_alpha\":{\"value\":0.5},\"line_color\":{\"value\":\"green\"},\"line_width\":{\"value\":5},\"xs\":{\"field\":\"x_s\"},\"ys\":{\"field\":\"y_s\"}},\"id\":\"2300\",\"type\":\"MultiLine\"},{\"attributes\":{\"data_source\":{\"id\":\"2310\",\"type\":\"ColumnDataSource\"},\"glyph\":{\"id\":\"2312\",\"type\":\"Circle\"},\"hover_glyph\":null,\"muted_glyph\":null,\"nonselection_glyph\":{\"id\":\"2313\",\"type\":\"Circle\"},\"selection_glyph\":null,\"view\":{\"id\":\"2315\",\"type\":\"CDSView\"}},\"id\":\"2314\",\"type\":\"GlyphRenderer\"},{\"attributes\":{},\"id\":\"2412\",\"type\":\"UnionRenderers\"},{\"attributes\":{},\"id\":\"2269\",\"type\":\"LinearScale\"},{\"attributes\":{},\"id\":\"2415\",\"type\":\"Selection\"},{\"attributes\":{},\"id\":\"2274\",\"type\":\"BasicTicker\"},{\"attributes\":{},\"id\":\"2413\",\"type\":\"Selection\"},{\"attributes\":{\"line_alpha\":{\"value\":0.1},\"line_color\":{\"value\":\"#1f77b4\"},\"line_width\":{\"value\":5},\"xs\":{\"field\":\"x_s\"},\"ys\":{\"field\":\"y_s\"}},\"id\":\"2301\",\"type\":\"MultiLine\"}],\"root_ids\":[\"2263\"]},\"title\":\"Bokeh Application\",\"version\":\"1.0.2\"}};\n",
       "  var render_items = [{\"docid\":\"8dafa73a-8238-43a7-83ec-bbe71a9e74dc\",\"roots\":{\"2263\":\"8892a855-7a76-42bd-b796-f9c9051e1bde\"}}];\n",
       "  root.Bokeh.embed.embed_items_notebook(docs_json, render_items);\n",
       "\n",
       "  }\n",
       "  if (root.Bokeh !== undefined) {\n",
       "    embed_document(root);\n",
       "  } else {\n",
       "    var attempts = 0;\n",
       "    var timer = setInterval(function(root) {\n",
       "      if (root.Bokeh !== undefined) {\n",
       "        embed_document(root);\n",
       "        clearInterval(timer);\n",
       "      }\n",
       "      attempts++;\n",
       "      if (attempts > 100) {\n",
       "        console.log(\"Bokeh: ERROR: Unable to run BokehJS code because BokehJS library is missing\");\n",
       "        clearInterval(timer);\n",
       "      }\n",
       "    }, 10, root)\n",
       "  }\n",
       "})(window);"
      ],
      "application/vnd.bokehjs_exec.v0+json": ""
     },
     "metadata": {
      "application/vnd.bokehjs_exec.v0+json": {
       "id": "2263"
      }
     },
     "output_type": "display_data"
    }
   ],
   "source": [
    "data['shunts'] = [\n",
    "                 {\"bus\": \"W1mv\" , \"R\": 1.0e-8, \"X\": 0.0, \"bus_nodes\": [1,0]},\n",
    "                 ]\n",
    "grid_1 = grid()\n",
    "grid_1.read(data)  # Load data\n",
    "grid_1.pf()\n",
    "\n",
    "p=plot_results(grid_1)"
   ]
  },
  {
   "cell_type": "code",
   "execution_count": 25,
   "metadata": {},
   "outputs": [
    {
     "name": "stdout",
     "output_type": "stream",
     "text": [
      "Phase-ground short circuit current at W1mv = 0.62 kA\n"
     ]
    }
   ],
   "source": [
    "I_cc = grid_1.transformers[0]['i_1a_m']\n",
    "print('Phase-ground short circuit current at W1mv = {:0.2f} kA'.format(I_cc/1000))"
   ]
  },
  {
   "cell_type": "markdown",
   "metadata": {},
   "source": [
    "### Get POI voltage with generators reactive powers\n"
   ]
  },
  {
   "cell_type": "code",
   "execution_count": 26,
   "metadata": {},
   "outputs": [
    {
     "data": {
      "text/html": [
       "\n",
       "\n",
       "\n",
       "\n",
       "\n",
       "\n",
       "  <div class=\"bk-root\" id=\"3a6cb7d9-3516-4f49-b2d0-855672e621c5\"></div>\n"
      ]
     },
     "metadata": {},
     "output_type": "display_data"
    },
    {
     "data": {
      "application/javascript": [
       "(function(root) {\n",
       "  function embed_document(root) {\n",
       "    \n",
       "  var docs_json = {\"63d5e1c8-2a43-4930-8490-159a078214df\":{\"roots\":{\"references\":[{\"attributes\":{\"below\":[{\"id\":\"2501\",\"type\":\"LinearAxis\"}],\"left\":[{\"id\":\"2506\",\"type\":\"LinearAxis\"}],\"plot_height\":400,\"renderers\":[{\"id\":\"2501\",\"type\":\"LinearAxis\"},{\"id\":\"2505\",\"type\":\"Grid\"},{\"id\":\"2506\",\"type\":\"LinearAxis\"},{\"id\":\"2510\",\"type\":\"Grid\"},{\"id\":\"2519\",\"type\":\"BoxAnnotation\"},{\"id\":\"2530\",\"type\":\"GlyphRenderer\"},{\"id\":\"2536\",\"type\":\"GlyphRenderer\"},{\"id\":\"2542\",\"type\":\"GlyphRenderer\"}],\"title\":{\"id\":\"2490\",\"type\":\"Title\"},\"toolbar\":{\"id\":\"2517\",\"type\":\"Toolbar\"},\"x_range\":{\"id\":\"2493\",\"type\":\"DataRange1d\"},\"x_scale\":{\"id\":\"2497\",\"type\":\"LinearScale\"},\"y_range\":{\"id\":\"2495\",\"type\":\"DataRange1d\"},\"y_scale\":{\"id\":\"2499\",\"type\":\"LinearScale\"}},\"id\":\"2491\",\"subtype\":\"Figure\",\"type\":\"Plot\"},{\"attributes\":{\"source\":{\"id\":\"2538\",\"type\":\"ColumnDataSource\"}},\"id\":\"2543\",\"type\":\"CDSView\"},{\"attributes\":{},\"id\":\"2654\",\"type\":\"UnionRenderers\"},{\"attributes\":{},\"id\":\"2651\",\"type\":\"Selection\"},{\"attributes\":{\"callback\":null},\"id\":\"2493\",\"type\":\"DataRange1d\"},{\"attributes\":{},\"id\":\"2648\",\"type\":\"BasicTickFormatter\"},{\"attributes\":{\"callback\":null,\"renderers\":[{\"id\":\"2536\",\"type\":\"GlyphRenderer\"}],\"tooltips\":\"\\n            <div>\\n            line id = @line_id \\n            <table border=\\\"5\\\">\\n                <tr >\\n                    <td>I<sub>ja</sub> =  @i_j_a_m &ang; @deg_j_a </td>\\n                    <td>I<sub>ka</sub> =  @i_k_a_m &ang; @deg_k_a </td>\\n                </tr>\\n                <tr>\\n                    <td >I<sub>jb</sub> =  @i_j_b_m &ang; @deg_j_b </td>\\n                    <td >I<sub>kb</sub> =  @i_k_b_m &ang; @deg_k_b </td>\\n                </tr>\\n                <tr>\\n                    <td >I<sub>jc</sub> =  @i_j_c_m &ang; @deg_j_c </td>\\n                    <td >I<sub>kc</sub> =  @i_k_c_m &ang; @deg_k_c </td>\\n                </tr>\\n                <tr>\\n                    <td >I<sub>jn</sub> =  @i_j_n_m &ang; @deg_j_n </td>\\n                    <td >I<sub>kn</sub> =  @i_k_n_m &ang; @deg_k_n </td>\\n                </tr>\\n            </table>            \\n            </div>\\n            \"},\"id\":\"2546\",\"type\":\"HoverTool\"},{\"attributes\":{\"callback\":null,\"data\":{\"deg_1a\":[31.908893034137165,-147.5900436116519,-147.6139755422499,-147.6617618744757],\"deg_1b\":[151.90889304043313,-27.59004360543423,-27.613975536029983,-27.661761868251595],\"deg_1c\":[-88.0911069567102,92.40995639752894,92.38602446689379,92.33823813459472],\"deg_1n\":[0.0,-116.56505117707799,-45.0,180.0],\"deg_2a\":[-118.0911069618599,62.40995642584248,62.38602449516122,62.33823816276778],\"deg_2b\":[1.9088930352834972,-177.59004361054073,-177.6139755412566,-177.66176187371707],\"deg_2c\":[121.90889304443627,-57.590043634858965,-57.61397556529041,-57.66176189718325],\"deg_2n\":[180.0,-177.55129377454244,-177.77075011789645,-178.21279665321785],\"i_1a_m\":[196.0160301821172,65.60120963814825,65.61414918199746,65.64011509384135],\"i_1b_m\":[196.0160302058378,65.60120964617589,65.61414918997625,65.64011510172325],\"i_1c_m\":[196.01603017532398,65.60120963599674,65.61414917981807,65.64011509160707],\"i_1n_m\":[0.0,1.2710574864626038e-13,1.6077746776921858e-13,1.7053025658242404e-13],\"i_2a_m\":[59.39879702111558,1901.4843365766415,1901.8593958245992,1902.6120309624316],\"i_2b_m\":[59.39879703036216,1901.4843387957508,1901.8593980325904,1902.612033148148],\"i_2c_m\":[59.39879702830369,1901.484336810818,1901.859396049819,1902.6120311697566],\"i_2n_m\":[2.2737367544323206e-13,3.846637817001922e-06,3.833174260473281e-06,3.8062997411694584e-06],\"trafo_id\":[\"POImv-POI\",\"W1mv-W1lv\",\"W2mv-W2lv\",\"W3mv-W3lv\"],\"x_s\":[[0.0,100.0],[-1500.0,-1500.0],[-1000.0,-1000.0],[-500.0,-500.0]],\"y_s\":[[0.0,0.0],[180.0,200.0],[180.0,200.0],[180.0,200.0]]},\"selected\":{\"id\":\"2651\",\"type\":\"Selection\"},\"selection_policy\":{\"id\":\"2652\",\"type\":\"UnionRenderers\"}},\"id\":\"2526\",\"type\":\"ColumnDataSource\"},{\"attributes\":{\"callback\":null,\"renderers\":[{\"id\":\"2542\",\"type\":\"GlyphRenderer\"}],\"tooltips\":\"\\n            <div>\\n            bus_id = @bus_id &nbsp &nbsp |  u<sub>avg</sub>= @u_avg_pu pu |  u<sub>unb</sub>= @v_unb %\\n            <table border=\\\"1\\\">\\n                <tr>\\n                <td>v<sub>an</sub> =  @v_an  &ang; @deg_an V </td> <td> S<sub>a</sub> = @p_a + j@q_a kVA</td>\\n                </tr>\\n                      <tr>\\n                      <td> </td> <td>v<sub>ab</sub>= @v_ab V</td>\\n                      </tr>\\n                <tr>\\n                <td>v<sub>bn</sub> = @v_bn &ang; @deg_bn V </td><td> S<sub>b</sub> = @p_b + j@q_b kVA</td>\\n                </tr>\\n                      <tr>\\n                      <td> </td><td>v<sub>bc</sub>= @v_bc V</td>\\n                      </tr>\\n                <tr>\\n                <td>v<sub>cn</sub>  = @v_cn &ang; @deg_cn V </td>  <td>S<sub>c</sub> = @p_c + j@q_c kVA </td>\\n                </tr> \\n                    <tr>\\n                     <td> </td> <td>v<sub>ca</sub>= @v_ca V</td>\\n                    </tr>\\n               <tr>\\n                <td>v<sub>ng</sub>    = @v_ng &ang; @deg_ng V</td>  <td>S<sub>abc</sub> = @p_abc + j@q_abc kVA </td>\\n              </tr>\\n            </table>\\n            </div>\\n            \"},\"id\":\"2548\",\"type\":\"HoverTool\"},{\"attributes\":{\"callback\":null,\"renderers\":[{\"id\":\"2530\",\"type\":\"GlyphRenderer\"}],\"tooltips\":\"\\n            <div>\\n            transformer id = @trafo_id  \\n            <table border=\\\"5\\\">\\n                <tr >\\n                    <td>I<sub>1a</sub> =  @i_1a_m &ang; @deg_1a </td>\\n                    <td>I<sub>2a</sub> =  @i_2a_m &ang; @deg_2a </td>\\n                </tr>\\n                <tr>\\n                    <td >I<sub>1b</sub> =  @i_1b_m &ang; @deg_1b </td>\\n                    <td >I<sub>2b</sub> =  @i_2b_m &ang; @deg_2b </td>\\n                </tr>\\n                <tr>\\n                    <td >I<sub>1c</sub> =  @i_1c_m &ang; @deg_1c </td>\\n                    <td >I<sub>2c</sub> =  @i_2c_m &ang; @deg_2c </td>\\n                </tr>\\n                <tr>\\n                    <td >I<sub>1n</sub> =  @i_1n_m &ang; @deg_1n </td>\\n                    <td >I<sub>2n</sub> =  @i_2n_m &ang; @deg_2n </td>\\n                </tr>\\n            </table>            \\n            </div>\\n            \"},\"id\":\"2544\",\"type\":\"HoverTool\"},{\"attributes\":{\"plot\":null,\"text\":\"Results\"},\"id\":\"2490\",\"type\":\"Title\"},{\"attributes\":{},\"id\":\"2650\",\"type\":\"BasicTickFormatter\"},{\"attributes\":{\"bottom_units\":\"screen\",\"fill_alpha\":{\"value\":0.5},\"fill_color\":{\"value\":\"lightgrey\"},\"left_units\":\"screen\",\"level\":\"overlay\",\"line_alpha\":{\"value\":1.0},\"line_color\":{\"value\":\"black\"},\"line_dash\":[4,4],\"line_width\":{\"value\":2},\"plot\":null,\"render_mode\":\"css\",\"right_units\":\"screen\",\"top_units\":\"screen\"},\"id\":\"2519\",\"type\":\"BoxAnnotation\"},{\"attributes\":{\"line_alpha\":{\"value\":0.5},\"line_color\":{\"value\":\"red\"},\"line_width\":{\"value\":5},\"xs\":{\"field\":\"x_s\"},\"ys\":{\"field\":\"y_s\"}},\"id\":\"2534\",\"type\":\"MultiLine\"},{\"attributes\":{\"line_alpha\":{\"value\":0.1},\"line_color\":{\"value\":\"#1f77b4\"},\"line_width\":{\"value\":5},\"xs\":{\"field\":\"x_s\"},\"ys\":{\"field\":\"y_s\"}},\"id\":\"2535\",\"type\":\"MultiLine\"},{\"attributes\":{\"callback\":null,\"data\":{\"deg_j_a\":[32.40995638836696,32.16297111585321,32.06458090894316,61.908893038139844],\"deg_j_b\":[152.40995639455147,152.16297112210333,152.0645809152189,-178.0911069647163],\"deg_j_c\":[-87.59004360248994,-87.8370288749758,-87.93541908190416,-58.09110695556408],\"deg_j_n\":[-120.80741365448749,-51.08748408826056,-56.17194575756956,-57.3277707113169],\"deg_k_a\":[31.93892978088604,31.92710579624623,31.90738844909784,61.908893038139844],\"deg_k_b\":[151.93892978715763,151.92710580253993,151.90738845540258,-178.0911069647163],\"deg_k_c\":[-88.06107020993997,-88.0728941945676,-88.0926115417395,-58.09110695556408],\"deg_k_n\":[-121.0837753977986,-51.539338628679545,-56.4330263027817,-57.3277707113169],\"i_j_a_m\":[65.60120963808451,130.9379533634831,196.30147733099,59.398797021115854],\"i_j_b_m\":[65.60120964609762,130.93795337942126,196.30147735476146,59.39879703036228],\"i_j_c_m\":[65.60120963597643,130.93795335910113,196.3014773242885,59.398797028303726],\"i_j_n_m\":[2.112864821535525e-11,2.3304089235619785e-11,3.937993927805032e-11,3.8828738867730405e-13],\"i_k_a_m\":[65.32480080221906,130.66248705335127,196.026107855282,59.398797021115854],\"i_k_b_m\":[65.32480081018184,130.66248706923858,196.02610787900235,59.39879703036228],\"i_k_c_m\":[65.32480080002583,130.66248704888386,196.02610784849523,59.398797028303726],\"i_k_n_m\":[2.130599450273574e-11,2.326627394071197e-11,3.9328677873101706e-11,3.8828738867730405e-13],\"line_id\":[\"W1mv-W2mv\",\"W2mv-W3mv\",\"W3mv-POImv\",\"POI-GRID\"],\"x_s\":[[-1500.0,-1000.0],[-1000.0,-500.0],[-500.0,0.0],[100.0,500.0]],\"y_s\":[[180.0,180.0],[180.0,180.0],[180.0,0.0],[0.0,0.0]]},\"selected\":{\"id\":\"2653\",\"type\":\"Selection\"},\"selection_policy\":{\"id\":\"2654\",\"type\":\"UnionRenderers\"}},\"id\":\"2532\",\"type\":\"ColumnDataSource\"},{\"attributes\":{\"data_source\":{\"id\":\"2532\",\"type\":\"ColumnDataSource\"},\"glyph\":{\"id\":\"2534\",\"type\":\"MultiLine\"},\"hover_glyph\":null,\"muted_glyph\":null,\"nonselection_glyph\":{\"id\":\"2535\",\"type\":\"MultiLine\"},\"selection_glyph\":null,\"view\":{\"id\":\"2537\",\"type\":\"CDSView\"}},\"id\":\"2536\",\"type\":\"GlyphRenderer\"},{\"attributes\":{},\"id\":\"2652\",\"type\":\"UnionRenderers\"},{\"attributes\":{\"fill_alpha\":{\"value\":0.1},\"fill_color\":{\"value\":\"#1f77b4\"},\"line_alpha\":{\"value\":0.1},\"line_color\":{\"value\":\"#1f77b4\"},\"size\":{\"units\":\"screen\",\"value\":15},\"x\":{\"field\":\"x\"},\"y\":{\"field\":\"y\"}},\"id\":\"2541\",\"type\":\"Circle\"},{\"attributes\":{},\"id\":\"2515\",\"type\":\"ResetTool\"},{\"attributes\":{},\"id\":\"2516\",\"type\":\"HelpTool\"},{\"attributes\":{\"overlay\":{\"id\":\"2519\",\"type\":\"BoxAnnotation\"}},\"id\":\"2513\",\"type\":\"BoxZoomTool\"},{\"attributes\":{},\"id\":\"2512\",\"type\":\"WheelZoomTool\"},{\"attributes\":{},\"id\":\"2507\",\"type\":\"BasicTicker\"},{\"attributes\":{\"data_source\":{\"id\":\"2538\",\"type\":\"ColumnDataSource\"},\"glyph\":{\"id\":\"2540\",\"type\":\"Circle\"},\"hover_glyph\":null,\"muted_glyph\":null,\"nonselection_glyph\":{\"id\":\"2541\",\"type\":\"Circle\"},\"selection_glyph\":null,\"view\":{\"id\":\"2543\",\"type\":\"CDSView\"}},\"id\":\"2542\",\"type\":\"GlyphRenderer\"},{\"attributes\":{},\"id\":\"2497\",\"type\":\"LinearScale\"},{\"attributes\":{},\"id\":\"2511\",\"type\":\"PanTool\"},{\"attributes\":{\"source\":{\"id\":\"2532\",\"type\":\"ColumnDataSource\"}},\"id\":\"2537\",\"type\":\"CDSView\"},{\"attributes\":{},\"id\":\"2653\",\"type\":\"Selection\"},{\"attributes\":{\"callback\":null,\"data\":{\"bus_id\":[\"W1lv\",\"W2lv\",\"W3lv\",\"W1mv\",\"W2mv\",\"W3mv\",\"POImv\",\"POI\",\"GRID\"],\"deg_an\":[\"38.12\",\"38.10\",\"38.05\",\"5.00\",\"4.98\",\"4.93\",\"4.85\",\"31.90\",\"30.00\"],\"deg_bn\":[\"158.12\",\"158.10\",\"158.05\",\"125.00\",\"124.98\",\"124.93\",\"124.85\",\"151.90\",\"150.00\"],\"deg_cn\":[\"-81.88\",\"-81.90\",\"-81.95\",\"-115.00\",\"-115.02\",\"-115.07\",\"-115.15\",\"-88.10\",\"-90.00\"],\"deg_ng\":[\"0.00\",\"0.00\",\"0.00\",\"0.00\",\"0.00\",\"0.00\",\"0.00\",\"0.00\",\"0.00\"],\"p_a\":[\"666.67\",\"666.67\",\"666.67\",\"0.00\",\"0.00\",\"0.00\",\"0.00\",\"0.00\",\"-1921.37\"],\"p_abc\":[\"2000.00\",\"2000.00\",\"2000.00\",\"0.00\",\"0.00\",\"0.00\",\"0.00\",\"0.00\",\"-5764.11\"],\"p_b\":[\"666.67\",\"666.67\",\"666.67\",\"0.00\",\"0.00\",\"0.00\",\"0.00\",\"0.00\",\"-1921.37\"],\"p_c\":[\"666.67\",\"666.67\",\"666.67\",\"-0.00\",\"-0.00\",\"-0.00\",\"-0.00\",\"0.00\",\"-1921.37\"],\"q_a\":[\"-300.81\",\"-300.81\",\"-300.81\",\"0.00\",\"0.00\",\"0.00\",\"0.00\",\"0.00\",\"1196.36\"],\"q_abc\":[\"-902.42\",\"-902.42\",\"-902.42\",\"0.00\",\"0.00\",\"0.00\",\"0.00\",\"0.00\",\"3589.08\"],\"q_b\":[\"-300.81\",\"-300.81\",\"-300.81\",\"0.00\",\"0.00\",\"0.00\",\"0.00\",\"0.00\",\"1196.36\"],\"q_c\":[\"-300.81\",\"-300.81\",\"-300.81\",\"0.00\",\"0.00\",\"0.00\",\"0.00\",\"-0.00\",\"1196.36\"],\"s_color\":[\"red\",\"red\",\"red\",\"blue\",\"blue\",\"red\",\"blue\",\"blue\",\"green\"],\"s_radio\":[14.812709561537584,14.812709561326006,14.812709560903897,1,1,1,1,1,20],\"u_avg_pu\":[\"0.966\",\"0.965\",\"0.965\",\"0.981\",\"0.981\",\"0.981\",\"0.980\",\"1.000\",\"1.000\"],\"v_ab\":[666.2168846232961,666.0855022319627,665.8220121410735,19622.687559249905,19618.952242029165,19611.461092856513,19600.22809552332,66000.0000001553,65999.79602241208],\"v_an\":[\"384.64\",\"384.56\",\"384.41\",\"11329.16\",\"11327.01\",\"11322.68\",\"11316.20\",\"38105.12\",\"38105.00\"],\"v_an_pu\":[\"0.9655\",\"0.9653\",\"0.9650\",\"0.9811\",\"0.9809\",\"0.9806\",\"0.9800\",\"1.0000\",\"1.0000\"],\"v_bc\":[666.216884610579,666.0855022192618,665.8220121284053,19622.687558981805,19618.95224176261,19611.461092593065,19600.22809526452,65999.99999991914,65999.79602241208],\"v_bn\":[\"384.64\",\"384.56\",\"384.41\",\"11329.16\",\"11327.01\",\"11322.68\",\"11316.20\",\"38105.12\",\"38105.00\"],\"v_bn_pu\":[\"0.9655\",\"0.9653\",\"0.9650\",\"0.9811\",\"0.9809\",\"0.9806\",\"0.9800\",\"1.0000\",\"1.0000\"],\"v_ca\":[666.2168846082669,666.0855022170125,665.8220121262817,19622.68755920982,19618.95224199022,19611.461092819853,19600.228095490067,65999.9999998043,65999.79602241208],\"v_cn\":[\"384.64\",\"384.56\",\"384.41\",\"11329.16\",\"11327.01\",\"11322.68\",\"11316.20\",\"38105.12\",\"38105.00\"],\"v_cn_pu\":[\"0.9655\",\"0.9653\",\"0.9650\",\"0.9811\",\"0.9809\",\"0.9806\",\"0.9800\",\"1.0000\",\"1.0000\"],\"v_ng\":[\"0.00\",\"0.00\",\"0.00\",\"0.00\",\"0.00\",\"0.00\",\"0.00\",\"0.00\",\"0.00\"],\"v_unb\":[\"0.0\",\"0.0\",\"0.0\",\"0.0\",\"0.0\",\"0.0\",\"0.0\",\"0.0\",\"0.0\"],\"x\":[-1500.0,-1000.0,-500.0,-1500.0,-1000.0,-500.0,0.0,100.0,500.0],\"y\":[200.0,200.0,200.0,180.0,180.0,180.0,0.0,0.0,0.0]},\"selected\":{\"id\":\"2655\",\"type\":\"Selection\"},\"selection_policy\":{\"id\":\"2656\",\"type\":\"UnionRenderers\"}},\"id\":\"2538\",\"type\":\"ColumnDataSource\"},{\"attributes\":{},\"id\":\"2514\",\"type\":\"SaveTool\"},{\"attributes\":{\"formatter\":{\"id\":\"2648\",\"type\":\"BasicTickFormatter\"},\"plot\":{\"id\":\"2491\",\"subtype\":\"Figure\",\"type\":\"Plot\"},\"ticker\":{\"id\":\"2502\",\"type\":\"BasicTicker\"}},\"id\":\"2501\",\"type\":\"LinearAxis\"},{\"attributes\":{\"line_alpha\":{\"value\":0.1},\"line_color\":{\"value\":\"#1f77b4\"},\"line_width\":{\"value\":5},\"xs\":{\"field\":\"x_s\"},\"ys\":{\"field\":\"y_s\"}},\"id\":\"2529\",\"type\":\"MultiLine\"},{\"attributes\":{\"dimension\":1,\"plot\":{\"id\":\"2491\",\"subtype\":\"Figure\",\"type\":\"Plot\"},\"ticker\":{\"id\":\"2507\",\"type\":\"BasicTicker\"}},\"id\":\"2510\",\"type\":\"Grid\"},{\"attributes\":{},\"id\":\"2499\",\"type\":\"LinearScale\"},{\"attributes\":{},\"id\":\"2655\",\"type\":\"Selection\"},{\"attributes\":{\"formatter\":{\"id\":\"2650\",\"type\":\"BasicTickFormatter\"},\"plot\":{\"id\":\"2491\",\"subtype\":\"Figure\",\"type\":\"Plot\"},\"ticker\":{\"id\":\"2507\",\"type\":\"BasicTicker\"}},\"id\":\"2506\",\"type\":\"LinearAxis\"},{\"attributes\":{\"line_alpha\":{\"value\":0.5},\"line_color\":{\"value\":\"green\"},\"line_width\":{\"value\":5},\"xs\":{\"field\":\"x_s\"},\"ys\":{\"field\":\"y_s\"}},\"id\":\"2528\",\"type\":\"MultiLine\"},{\"attributes\":{\"fill_alpha\":{\"value\":0.5},\"fill_color\":{\"value\":\"navy\"},\"line_alpha\":{\"value\":0.5},\"line_color\":{\"value\":\"navy\"},\"size\":{\"units\":\"screen\",\"value\":15},\"x\":{\"field\":\"x\"},\"y\":{\"field\":\"y\"}},\"id\":\"2540\",\"type\":\"Circle\"},{\"attributes\":{},\"id\":\"2502\",\"type\":\"BasicTicker\"},{\"attributes\":{\"active_drag\":\"auto\",\"active_inspect\":\"auto\",\"active_multi\":null,\"active_scroll\":\"auto\",\"active_tap\":\"auto\",\"tools\":[{\"id\":\"2511\",\"type\":\"PanTool\"},{\"id\":\"2512\",\"type\":\"WheelZoomTool\"},{\"id\":\"2513\",\"type\":\"BoxZoomTool\"},{\"id\":\"2514\",\"type\":\"SaveTool\"},{\"id\":\"2515\",\"type\":\"ResetTool\"},{\"id\":\"2516\",\"type\":\"HelpTool\"},{\"id\":\"2544\",\"type\":\"HoverTool\"},{\"id\":\"2546\",\"type\":\"HoverTool\"},{\"id\":\"2548\",\"type\":\"HoverTool\"}]},\"id\":\"2517\",\"type\":\"Toolbar\"},{\"attributes\":{},\"id\":\"2656\",\"type\":\"UnionRenderers\"},{\"attributes\":{\"data_source\":{\"id\":\"2526\",\"type\":\"ColumnDataSource\"},\"glyph\":{\"id\":\"2528\",\"type\":\"MultiLine\"},\"hover_glyph\":null,\"muted_glyph\":null,\"nonselection_glyph\":{\"id\":\"2529\",\"type\":\"MultiLine\"},\"selection_glyph\":null,\"view\":{\"id\":\"2531\",\"type\":\"CDSView\"}},\"id\":\"2530\",\"type\":\"GlyphRenderer\"},{\"attributes\":{\"plot\":{\"id\":\"2491\",\"subtype\":\"Figure\",\"type\":\"Plot\"},\"ticker\":{\"id\":\"2502\",\"type\":\"BasicTicker\"}},\"id\":\"2505\",\"type\":\"Grid\"},{\"attributes\":{\"callback\":null},\"id\":\"2495\",\"type\":\"DataRange1d\"},{\"attributes\":{\"source\":{\"id\":\"2526\",\"type\":\"ColumnDataSource\"}},\"id\":\"2531\",\"type\":\"CDSView\"}],\"root_ids\":[\"2491\"]},\"title\":\"Bokeh Application\",\"version\":\"1.0.2\"}};\n",
       "  var render_items = [{\"docid\":\"63d5e1c8-2a43-4930-8490-159a078214df\",\"roots\":{\"2491\":\"3a6cb7d9-3516-4f49-b2d0-855672e621c5\"}}];\n",
       "  root.Bokeh.embed.embed_items_notebook(docs_json, render_items);\n",
       "\n",
       "  }\n",
       "  if (root.Bokeh !== undefined) {\n",
       "    embed_document(root);\n",
       "  } else {\n",
       "    var attempts = 0;\n",
       "    var timer = setInterval(function(root) {\n",
       "      if (root.Bokeh !== undefined) {\n",
       "        embed_document(root);\n",
       "        clearInterval(timer);\n",
       "      }\n",
       "      attempts++;\n",
       "      if (attempts > 100) {\n",
       "        console.log(\"Bokeh: ERROR: Unable to run BokehJS code because BokehJS library is missing\");\n",
       "        clearInterval(timer);\n",
       "      }\n",
       "    }, 10, root)\n",
       "  }\n",
       "})(window);"
      ],
      "application/vnd.bokehjs_exec.v0+json": ""
     },
     "metadata": {
      "application/vnd.bokehjs_exec.v0+json": {
       "id": "2491"
      }
     },
     "output_type": "display_data"
    }
   ],
   "source": [
    "from scipy import optimize as sopt\n",
    "\n",
    "data['shunts'] = []\n",
    "\n",
    "V_ref = 1.0\n",
    "p_gen = 2.0e3\n",
    "q_gen = 0\n",
    "\n",
    "data['grid_feeders'][0]['kW'] = p_gen\n",
    "data['grid_feeders'][1]['kW'] = p_gen\n",
    "data['grid_feeders'][2]['kW'] = p_gen\n",
    "\n",
    "grid_1 = grid()\n",
    "grid_1.read(data)  # Load data\n",
    "grid_1.pf()\n",
    "\n",
    "def residual(x):\n",
    "\n",
    "    q_gen = x\n",
    "    data['grid_feeders'][0]['kvar'] = q_gen\n",
    "    data['grid_feeders'][1]['kvar'] = q_gen\n",
    "    data['grid_feeders'][2]['kvar'] = q_gen\n",
    "    grid_1.read(data)  # Load data\n",
    "    grid_1.pf()  # solve power flow\n",
    "\n",
    "    V = abs(grid_1.res['POI'].v_ag)/66.0e3*np.sqrt(3)\n",
    "\n",
    "    return V_ref - V\n",
    "\n",
    "\n",
    "res = sopt.bisect(residual,-3000.0,3000.0)\n",
    "res\n",
    "\n",
    "p=plot_results(grid_1)"
   ]
  },
  {
   "cell_type": "markdown",
   "metadata": {},
   "source": [
    "### Optimization with reactive powers (without STATCOM)\n"
   ]
  },
  {
   "cell_type": "code",
   "execution_count": 27,
   "metadata": {},
   "outputs": [
    {
     "name": "stdout",
     "output_type": "stream",
     "text": [
      "     fun: 192194.4274836611\n",
      "     jac: array([0.75 , 0.75 , 0.625])\n",
      " message: 'Optimization terminated successfully.'\n",
      "    nfev: 135\n",
      "     nit: 15\n",
      "    njev: 15\n",
      "  status: 0\n",
      " success: True\n",
      "       x: array([500.26746266, 501.40107479, 477.11004658])\n"
     ]
    },
    {
     "data": {
      "text/html": [
       "\n",
       "\n",
       "\n",
       "\n",
       "\n",
       "\n",
       "  <div class=\"bk-root\" id=\"27d58fb5-7f2b-4415-89ab-8afe844346f0\"></div>\n"
      ]
     },
     "metadata": {},
     "output_type": "display_data"
    },
    {
     "data": {
      "application/javascript": [
       "(function(root) {\n",
       "  function embed_document(root) {\n",
       "    \n",
       "  var docs_json = {\"5d0f3d6a-2f6a-41d6-aaa9-cea00f18fdb5\":{\"roots\":{\"references\":[{\"attributes\":{\"below\":[{\"id\":\"2741\",\"type\":\"LinearAxis\"}],\"left\":[{\"id\":\"2746\",\"type\":\"LinearAxis\"}],\"plot_height\":400,\"renderers\":[{\"id\":\"2741\",\"type\":\"LinearAxis\"},{\"id\":\"2745\",\"type\":\"Grid\"},{\"id\":\"2746\",\"type\":\"LinearAxis\"},{\"id\":\"2750\",\"type\":\"Grid\"},{\"id\":\"2759\",\"type\":\"BoxAnnotation\"},{\"id\":\"2770\",\"type\":\"GlyphRenderer\"},{\"id\":\"2776\",\"type\":\"GlyphRenderer\"},{\"id\":\"2782\",\"type\":\"GlyphRenderer\"}],\"title\":{\"id\":\"2730\",\"type\":\"Title\"},\"toolbar\":{\"id\":\"2757\",\"type\":\"Toolbar\"},\"x_range\":{\"id\":\"2733\",\"type\":\"DataRange1d\"},\"x_scale\":{\"id\":\"2737\",\"type\":\"LinearScale\"},\"y_range\":{\"id\":\"2735\",\"type\":\"DataRange1d\"},\"y_scale\":{\"id\":\"2739\",\"type\":\"LinearScale\"}},\"id\":\"2731\",\"subtype\":\"Figure\",\"type\":\"Plot\"},{\"attributes\":{\"callback\":null,\"renderers\":[{\"id\":\"2770\",\"type\":\"GlyphRenderer\"}],\"tooltips\":\"\\n            <div>\\n            transformer id = @trafo_id  \\n            <table border=\\\"5\\\">\\n                <tr >\\n                    <td>I<sub>1a</sub> =  @i_1a_m &ang; @deg_1a </td>\\n                    <td>I<sub>2a</sub> =  @i_2a_m &ang; @deg_2a </td>\\n                </tr>\\n                <tr>\\n                    <td >I<sub>1b</sub> =  @i_1b_m &ang; @deg_1b </td>\\n                    <td >I<sub>2b</sub> =  @i_2b_m &ang; @deg_2b </td>\\n                </tr>\\n                <tr>\\n                    <td >I<sub>1c</sub> =  @i_1c_m &ang; @deg_1c </td>\\n                    <td >I<sub>2c</sub> =  @i_2c_m &ang; @deg_2c </td>\\n                </tr>\\n                <tr>\\n                    <td >I<sub>1n</sub> =  @i_1n_m &ang; @deg_1n </td>\\n                    <td >I<sub>2n</sub> =  @i_2n_m &ang; @deg_2n </td>\\n                </tr>\\n            </table>            \\n            </div>\\n            \"},\"id\":\"2784\",\"type\":\"HoverTool\"},{\"attributes\":{},\"id\":\"2739\",\"type\":\"LinearScale\"},{\"attributes\":{},\"id\":\"2751\",\"type\":\"PanTool\"},{\"attributes\":{},\"id\":\"2756\",\"type\":\"HelpTool\"},{\"attributes\":{\"callback\":null,\"renderers\":[{\"id\":\"2776\",\"type\":\"GlyphRenderer\"}],\"tooltips\":\"\\n            <div>\\n            line id = @line_id \\n            <table border=\\\"5\\\">\\n                <tr >\\n                    <td>I<sub>ja</sub> =  @i_j_a_m &ang; @deg_j_a </td>\\n                    <td>I<sub>ka</sub> =  @i_k_a_m &ang; @deg_k_a </td>\\n                </tr>\\n                <tr>\\n                    <td >I<sub>jb</sub> =  @i_j_b_m &ang; @deg_j_b </td>\\n                    <td >I<sub>kb</sub> =  @i_k_b_m &ang; @deg_k_b </td>\\n                </tr>\\n                <tr>\\n                    <td >I<sub>jc</sub> =  @i_j_c_m &ang; @deg_j_c </td>\\n                    <td >I<sub>kc</sub> =  @i_k_c_m &ang; @deg_k_c </td>\\n                </tr>\\n                <tr>\\n                    <td >I<sub>jn</sub> =  @i_j_n_m &ang; @deg_j_n </td>\\n                    <td >I<sub>kn</sub> =  @i_k_n_m &ang; @deg_k_n </td>\\n                </tr>\\n            </table>            \\n            </div>\\n            \"},\"id\":\"2786\",\"type\":\"HoverTool\"},{\"attributes\":{\"active_drag\":\"auto\",\"active_inspect\":\"auto\",\"active_multi\":null,\"active_scroll\":\"auto\",\"active_tap\":\"auto\",\"tools\":[{\"id\":\"2751\",\"type\":\"PanTool\"},{\"id\":\"2752\",\"type\":\"WheelZoomTool\"},{\"id\":\"2753\",\"type\":\"BoxZoomTool\"},{\"id\":\"2754\",\"type\":\"SaveTool\"},{\"id\":\"2755\",\"type\":\"ResetTool\"},{\"id\":\"2756\",\"type\":\"HelpTool\"},{\"id\":\"2784\",\"type\":\"HoverTool\"},{\"id\":\"2786\",\"type\":\"HoverTool\"},{\"id\":\"2788\",\"type\":\"HoverTool\"}]},\"id\":\"2757\",\"type\":\"Toolbar\"},{\"attributes\":{\"plot\":null,\"text\":\"Results\"},\"id\":\"2730\",\"type\":\"Title\"},{\"attributes\":{\"line_alpha\":{\"value\":0.1},\"line_color\":{\"value\":\"#1f77b4\"},\"line_width\":{\"value\":5},\"xs\":{\"field\":\"x_s\"},\"ys\":{\"field\":\"y_s\"}},\"id\":\"2769\",\"type\":\"MultiLine\"},{\"attributes\":{\"callback\":null,\"renderers\":[{\"id\":\"2782\",\"type\":\"GlyphRenderer\"}],\"tooltips\":\"\\n            <div>\\n            bus_id = @bus_id &nbsp &nbsp |  u<sub>avg</sub>= @u_avg_pu pu |  u<sub>unb</sub>= @v_unb %\\n            <table border=\\\"1\\\">\\n                <tr>\\n                <td>v<sub>an</sub> =  @v_an  &ang; @deg_an V </td> <td> S<sub>a</sub> = @p_a + j@q_a kVA</td>\\n                </tr>\\n                      <tr>\\n                      <td> </td> <td>v<sub>ab</sub>= @v_ab V</td>\\n                      </tr>\\n                <tr>\\n                <td>v<sub>bn</sub> = @v_bn &ang; @deg_bn V </td><td> S<sub>b</sub> = @p_b + j@q_b kVA</td>\\n                </tr>\\n                      <tr>\\n                      <td> </td><td>v<sub>bc</sub>= @v_bc V</td>\\n                      </tr>\\n                <tr>\\n                <td>v<sub>cn</sub>  = @v_cn &ang; @deg_cn V </td>  <td>S<sub>c</sub> = @p_c + j@q_c kVA </td>\\n                </tr> \\n                    <tr>\\n                     <td> </td> <td>v<sub>ca</sub>= @v_ca V</td>\\n                    </tr>\\n               <tr>\\n                <td>v<sub>ng</sub>    = @v_ng &ang; @deg_ng V</td>  <td>S<sub>abc</sub> = @p_abc + j@q_abc kVA </td>\\n              </tr>\\n            </table>\\n            </div>\\n            \"},\"id\":\"2788\",\"type\":\"HoverTool\"},{\"attributes\":{\"bottom_units\":\"screen\",\"fill_alpha\":{\"value\":0.5},\"fill_color\":{\"value\":\"lightgrey\"},\"left_units\":\"screen\",\"level\":\"overlay\",\"line_alpha\":{\"value\":1.0},\"line_color\":{\"value\":\"black\"},\"line_dash\":[4,4],\"line_width\":{\"value\":2},\"plot\":null,\"render_mode\":\"css\",\"right_units\":\"screen\",\"top_units\":\"screen\"},\"id\":\"2759\",\"type\":\"BoxAnnotation\"},{\"attributes\":{},\"id\":\"2900\",\"type\":\"BasicTickFormatter\"},{\"attributes\":{\"data_source\":{\"id\":\"2766\",\"type\":\"ColumnDataSource\"},\"glyph\":{\"id\":\"2768\",\"type\":\"MultiLine\"},\"hover_glyph\":null,\"muted_glyph\":null,\"nonselection_glyph\":{\"id\":\"2769\",\"type\":\"MultiLine\"},\"selection_glyph\":null,\"view\":{\"id\":\"2771\",\"type\":\"CDSView\"}},\"id\":\"2770\",\"type\":\"GlyphRenderer\"},{\"attributes\":{\"formatter\":{\"id\":\"2902\",\"type\":\"BasicTickFormatter\"},\"plot\":{\"id\":\"2731\",\"subtype\":\"Figure\",\"type\":\"Plot\"},\"ticker\":{\"id\":\"2747\",\"type\":\"BasicTicker\"}},\"id\":\"2746\",\"type\":\"LinearAxis\"},{\"attributes\":{},\"id\":\"2906\",\"type\":\"UnionRenderers\"},{\"attributes\":{\"source\":{\"id\":\"2766\",\"type\":\"ColumnDataSource\"}},\"id\":\"2771\",\"type\":\"CDSView\"},{\"attributes\":{},\"id\":\"2754\",\"type\":\"SaveTool\"},{\"attributes\":{},\"id\":\"2742\",\"type\":\"BasicTicker\"},{\"attributes\":{\"callback\":null,\"data\":{\"deg_j_a\":[0.10173503839224378,-0.1364331922265735,-0.0724134898836886,29.78088949921253],\"deg_j_b\":[120.10173503900276,119.86356680842373,119.92758651076333,149.78088949966872],\"deg_j_c\":[-119.89826496144235,-120.13643319203729,-120.07241348968604,-90.21911050014565],\"deg_j_n\":[179.8501584860679,-96.93882382302269,-58.88155939103581,-63.03054272916535],\"deg_k_a\":[-0.3385714351807502,-0.35628786670667334,-0.2188209827173377,29.78088949921253],\"deg_k_b\":[119.66142856542874,119.64371213394304,119.7811790179293,149.78088949966872],\"deg_k_c\":[-120.33857143501973,-120.35628786651975,-120.21882098252127,-90.21911050014565],\"deg_k_n\":[-179.85137314915963,-97.30364641554456,-59.187766965297854,-63.03054272916535],\"i_j_a_m\":[82.86320657964485,165.83405887622658,248.81389729569847,75.41475741150936],\"i_j_b_m\":[82.86320657943313,165.8340588757592,248.81389729502442,75.41475741213804],\"i_j_c_m\":[82.86320657878512,165.83405887438977,248.8138972929486,75.41475741130391],\"i_j_n_m\":[2.1735576616187724e-11,2.928993677116461e-11,4.2428350600912936e-11,2.391732979193135e-13],\"i_k_a_m\":[82.93053268054639,165.90245789892566,248.88059613538232,75.41475741150936],\"i_k_b_m\":[82.930532680328,165.9024578984512,248.88059613470122,75.41475741213804],\"i_k_c_m\":[82.93053267968432,165.90245789708624,248.88059613262976,75.41475741130391],\"i_k_n_m\":[2.1913211697590175e-11,2.9399208648989305e-11,4.239178709681972e-11,2.391732979193135e-13],\"line_id\":[\"W1mv-W2mv\",\"W2mv-W3mv\",\"W3mv-POImv\",\"POI-GRID\"],\"x_s\":[[-1500.0,-1000.0],[-1000.0,-500.0],[-500.0,0.0],[100.0,500.0]],\"y_s\":[[180.0,180.0],[180.0,180.0],[180.0,0.0],[0.0,0.0]]},\"selected\":{\"id\":\"2905\",\"type\":\"Selection\"},\"selection_policy\":{\"id\":\"2906\",\"type\":\"UnionRenderers\"}},\"id\":\"2772\",\"type\":\"ColumnDataSource\"},{\"attributes\":{},\"id\":\"2908\",\"type\":\"UnionRenderers\"},{\"attributes\":{\"line_alpha\":{\"value\":0.5},\"line_color\":{\"value\":\"red\"},\"line_width\":{\"value\":5},\"xs\":{\"field\":\"x_s\"},\"ys\":{\"field\":\"y_s\"}},\"id\":\"2774\",\"type\":\"MultiLine\"},{\"attributes\":{\"line_alpha\":{\"value\":0.1},\"line_color\":{\"value\":\"#1f77b4\"},\"line_width\":{\"value\":5},\"xs\":{\"field\":\"x_s\"},\"ys\":{\"field\":\"y_s\"}},\"id\":\"2775\",\"type\":\"MultiLine\"},{\"attributes\":{},\"id\":\"2737\",\"type\":\"LinearScale\"},{\"attributes\":{},\"id\":\"2747\",\"type\":\"BasicTicker\"},{\"attributes\":{},\"id\":\"2904\",\"type\":\"UnionRenderers\"},{\"attributes\":{\"data_source\":{\"id\":\"2772\",\"type\":\"ColumnDataSource\"},\"glyph\":{\"id\":\"2774\",\"type\":\"MultiLine\"},\"hover_glyph\":null,\"muted_glyph\":null,\"nonselection_glyph\":{\"id\":\"2775\",\"type\":\"MultiLine\"},\"selection_glyph\":null,\"view\":{\"id\":\"2777\",\"type\":\"CDSView\"}},\"id\":\"2776\",\"type\":\"GlyphRenderer\"},{\"attributes\":{\"source\":{\"id\":\"2772\",\"type\":\"ColumnDataSource\"}},\"id\":\"2777\",\"type\":\"CDSView\"},{\"attributes\":{},\"id\":\"2752\",\"type\":\"WheelZoomTool\"},{\"attributes\":{\"callback\":null,\"data\":{\"bus_id\":[\"W1lv\",\"W2lv\",\"W3lv\",\"W1mv\",\"W2mv\",\"W3mv\",\"POImv\",\"POI\",\"GRID\"],\"deg_an\":[\"39.57\",\"39.55\",\"39.53\",\"5.92\",\"5.91\",\"5.87\",\"5.82\",\"32.02\",\"30.00\"],\"deg_bn\":[\"159.57\",\"159.55\",\"159.53\",\"125.92\",\"125.91\",\"125.87\",\"125.82\",\"152.02\",\"150.00\"],\"deg_cn\":[\"-80.43\",\"-80.45\",\"-80.47\",\"-114.08\",\"-114.09\",\"-114.13\",\"-114.18\",\"-87.98\",\"-90.00\"],\"deg_ng\":[\"0.00\",\"0.00\",\"0.00\",\"0.00\",\"0.00\",\"0.00\",\"0.00\",\"0.00\",\"0.00\"],\"p_a\":[\"1000.00\",\"1000.00\",\"1000.00\",\"0.00\",\"0.00\",\"0.00\",\"0.00\",\"0.00\",\"-2873.66\"],\"p_abc\":[\"3000.00\",\"3000.00\",\"3000.00\",\"0.00\",\"0.00\",\"0.00\",\"0.00\",\"0.00\",\"-8620.97\"],\"p_b\":[\"1000.00\",\"1000.00\",\"1000.00\",\"0.00\",\"0.00\",\"0.00\",\"0.00\",\"0.00\",\"-2873.66\"],\"p_c\":[\"1000.00\",\"1000.00\",\"1000.00\",\"-0.00\",\"-0.00\",\"-0.00\",\"-0.00\",\"0.00\",\"-2873.66\"],\"q_a\":[\"166.76\",\"167.13\",\"159.04\",\"0.00\",\"0.00\",\"-0.00\",\"0.00\",\"0.00\",\"-10.99\"],\"q_abc\":[\"500.27\",\"501.40\",\"477.11\",\"0.00\",\"0.00\",\"-0.00\",\"0.00\",\"0.00\",\"-32.97\"],\"q_b\":[\"166.76\",\"167.13\",\"159.04\",\"0.00\",\"0.00\",\"0.00\",\"0.00\",\"0.00\",\"-10.99\"],\"q_c\":[\"166.76\",\"167.13\",\"159.04\",\"0.00\",\"0.00\",\"0.00\",\"0.00\",\"-0.00\",\"-10.99\"],\"s_color\":[\"red\",\"red\",\"red\",\"blue\",\"blue\",\"red\",\"blue\",\"blue\",\"green\"],\"s_radio\":[17.439682486047413,17.4402176572629,17.4290048376664,1,1,1,1,1,20],\"u_avg_pu\":[\"1.060\",\"1.059\",\"1.058\",\"1.039\",\"1.039\",\"1.038\",\"1.036\",\"1.022\",\"1.000\"],\"v_ab\":[731.0951113095407,730.7752967384674,729.7215771099311,20780.071456607588,20770.140937432236,20750.247883876396,20720.452758751726,67481.14059719662,65999.79602241208],\"v_an\":[\"422.10\",\"421.91\",\"421.30\",\"11997.38\",\"11991.65\",\"11980.16\",\"11962.96\",\"38960.25\",\"38105.00\"],\"v_an_pu\":[\"1.0596\",\"1.0591\",\"1.0576\",\"1.0390\",\"1.0385\",\"1.0375\",\"1.0360\",\"1.0224\",\"1.0000\"],\"v_bc\":[731.0951113081085,730.7752967370387,729.7215771085106,20780.071456591086,20770.140937415865,20750.247883860306,20720.452758736046,67481.14059716638,65999.79602241208],\"v_bn\":[\"422.10\",\"421.91\",\"421.30\",\"11997.38\",\"11991.65\",\"11980.16\",\"11962.96\",\"38960.25\",\"38105.00\"],\"v_bn_pu\":[\"1.0596\",\"1.0591\",\"1.0576\",\"1.0390\",\"1.0385\",\"1.0375\",\"1.0360\",\"1.0224\",\"1.0000\"],\"v_ca\":[731.0951113085978,730.7752967375308,729.7215771090082,20780.071456616617,20770.1409374413,20750.247883885542,20720.452758760992,67481.14059717221,65999.79602241208],\"v_cn\":[\"422.10\",\"421.91\",\"421.30\",\"11997.38\",\"11991.65\",\"11980.16\",\"11962.96\",\"38960.25\",\"38105.00\"],\"v_cn_pu\":[\"1.0596\",\"1.0591\",\"1.0576\",\"1.0390\",\"1.0385\",\"1.0375\",\"1.0360\",\"1.0224\",\"1.0000\"],\"v_ng\":[\"0.00\",\"0.00\",\"0.00\",\"0.00\",\"0.00\",\"0.00\",\"0.00\",\"0.00\",\"0.00\"],\"v_unb\":[\"0.0\",\"0.0\",\"0.0\",\"0.0\",\"0.0\",\"0.0\",\"0.0\",\"0.0\",\"0.0\"],\"x\":[-1500.0,-1000.0,-500.0,-1500.0,-1000.0,-500.0,0.0,100.0,500.0],\"y\":[200.0,200.0,200.0,180.0,180.0,180.0,0.0,0.0,0.0]},\"selected\":{\"id\":\"2907\",\"type\":\"Selection\"},\"selection_policy\":{\"id\":\"2908\",\"type\":\"UnionRenderers\"}},\"id\":\"2778\",\"type\":\"ColumnDataSource\"},{\"attributes\":{},\"id\":\"2903\",\"type\":\"Selection\"},{\"attributes\":{\"plot\":{\"id\":\"2731\",\"subtype\":\"Figure\",\"type\":\"Plot\"},\"ticker\":{\"id\":\"2742\",\"type\":\"BasicTicker\"}},\"id\":\"2745\",\"type\":\"Grid\"},{\"attributes\":{\"line_alpha\":{\"value\":0.5},\"line_color\":{\"value\":\"green\"},\"line_width\":{\"value\":5},\"xs\":{\"field\":\"x_s\"},\"ys\":{\"field\":\"y_s\"}},\"id\":\"2768\",\"type\":\"MultiLine\"},{\"attributes\":{\"dimension\":1,\"plot\":{\"id\":\"2731\",\"subtype\":\"Figure\",\"type\":\"Plot\"},\"ticker\":{\"id\":\"2747\",\"type\":\"BasicTicker\"}},\"id\":\"2750\",\"type\":\"Grid\"},{\"attributes\":{},\"id\":\"2902\",\"type\":\"BasicTickFormatter\"},{\"attributes\":{},\"id\":\"2907\",\"type\":\"Selection\"},{\"attributes\":{\"fill_alpha\":{\"value\":0.5},\"fill_color\":{\"value\":\"navy\"},\"line_alpha\":{\"value\":0.5},\"line_color\":{\"value\":\"navy\"},\"size\":{\"units\":\"screen\",\"value\":15},\"x\":{\"field\":\"x\"},\"y\":{\"field\":\"y\"}},\"id\":\"2780\",\"type\":\"Circle\"},{\"attributes\":{\"callback\":null},\"id\":\"2733\",\"type\":\"DataRange1d\"},{\"attributes\":{\"callback\":null},\"id\":\"2735\",\"type\":\"DataRange1d\"},{\"attributes\":{},\"id\":\"2755\",\"type\":\"ResetTool\"},{\"attributes\":{\"fill_alpha\":{\"value\":0.1},\"fill_color\":{\"value\":\"#1f77b4\"},\"line_alpha\":{\"value\":0.1},\"line_color\":{\"value\":\"#1f77b4\"},\"size\":{\"units\":\"screen\",\"value\":15},\"x\":{\"field\":\"x\"},\"y\":{\"field\":\"y\"}},\"id\":\"2781\",\"type\":\"Circle\"},{\"attributes\":{},\"id\":\"2905\",\"type\":\"Selection\"},{\"attributes\":{\"formatter\":{\"id\":\"2900\",\"type\":\"BasicTickFormatter\"},\"plot\":{\"id\":\"2731\",\"subtype\":\"Figure\",\"type\":\"Plot\"},\"ticker\":{\"id\":\"2742\",\"type\":\"BasicTicker\"}},\"id\":\"2741\",\"type\":\"LinearAxis\"},{\"attributes\":{\"callback\":null,\"data\":{\"deg_1a\":[-0.21911050069736948,-179.8982649616088,-179.93423161879394,-179.50442715136717],\"deg_1b\":[119.78088949994445,-59.898264960953576,-59.93423161814057,-59.504427150716204],\"deg_1c\":[-120.21911050051159,60.10173503858699,60.065768381398875,60.49557284882581],\"deg_1n\":[-104.03624346792648,71.56505117707799,63.43494882292201,-116.56505117707799],\"deg_2a\":[-150.21911050078745,30.101735039094983,30.065768381912353,30.495572849347823],\"deg_2b\":[-30.21911050033136,150.10173503998524,150.0657683827911,150.49557285019878],\"deg_2c\":[89.78088949985448,-89.89826496305535,-89.93423162023896,-89.50442715280413],\"deg_2n\":[135.0,-172.8558614196747,-173.0811137352024,-173.03155490699527],\"i_1a_m\":[248.86869945958964,82.86320657971797,82.90455856174947,82.91754984734878],\"i_1b_m\":[248.86869945891175,82.86320657949777,82.90455856152579,82.91754984712738],\"i_1c_m\":[248.8686994568368,82.86320657878741,82.90455856081901,82.91754984642208],\"i_1n_m\":[4.687428401686771e-13,1.797546735911271e-13,1.2710574864626038e-13,1.2710574864626038e-13],\"i_2a_m\":[75.4147574115091,2401.832074680249,2403.0306828554003,2403.407241858963],\"i_2b_m\":[75.41475741213787,2401.8320748470683,2403.0306830218383,2403.407242024699],\"i_2c_m\":[75.41475741130381,2401.8320747626276,2403.030682937083,2403.4072419394693],\"i_2n_m\":[3.2155493553843715e-13,2.551963845823859e-07,2.546136678320885e-07,2.532615146855758e-07],\"trafo_id\":[\"POImv-POI\",\"W1mv-W1lv\",\"W2mv-W2lv\",\"W3mv-W3lv\"],\"x_s\":[[0.0,100.0],[-1500.0,-1500.0],[-1000.0,-1000.0],[-500.0,-500.0]],\"y_s\":[[0.0,0.0],[180.0,200.0],[180.0,200.0],[180.0,200.0]]},\"selected\":{\"id\":\"2903\",\"type\":\"Selection\"},\"selection_policy\":{\"id\":\"2904\",\"type\":\"UnionRenderers\"}},\"id\":\"2766\",\"type\":\"ColumnDataSource\"},{\"attributes\":{\"overlay\":{\"id\":\"2759\",\"type\":\"BoxAnnotation\"}},\"id\":\"2753\",\"type\":\"BoxZoomTool\"},{\"attributes\":{\"data_source\":{\"id\":\"2778\",\"type\":\"ColumnDataSource\"},\"glyph\":{\"id\":\"2780\",\"type\":\"Circle\"},\"hover_glyph\":null,\"muted_glyph\":null,\"nonselection_glyph\":{\"id\":\"2781\",\"type\":\"Circle\"},\"selection_glyph\":null,\"view\":{\"id\":\"2783\",\"type\":\"CDSView\"}},\"id\":\"2782\",\"type\":\"GlyphRenderer\"},{\"attributes\":{\"source\":{\"id\":\"2778\",\"type\":\"ColumnDataSource\"}},\"id\":\"2783\",\"type\":\"CDSView\"}],\"root_ids\":[\"2731\"]},\"title\":\"Bokeh Application\",\"version\":\"1.0.2\"}};\n",
       "  var render_items = [{\"docid\":\"5d0f3d6a-2f6a-41d6-aaa9-cea00f18fdb5\",\"roots\":{\"2731\":\"27d58fb5-7f2b-4415-89ab-8afe844346f0\"}}];\n",
       "  root.Bokeh.embed.embed_items_notebook(docs_json, render_items);\n",
       "\n",
       "  }\n",
       "  if (root.Bokeh !== undefined) {\n",
       "    embed_document(root);\n",
       "  } else {\n",
       "    var attempts = 0;\n",
       "    var timer = setInterval(function(root) {\n",
       "      if (root.Bokeh !== undefined) {\n",
       "        embed_document(root);\n",
       "        clearInterval(timer);\n",
       "      }\n",
       "      attempts++;\n",
       "      if (attempts > 100) {\n",
       "        console.log(\"Bokeh: ERROR: Unable to run BokehJS code because BokehJS library is missing\");\n",
       "        clearInterval(timer);\n",
       "      }\n",
       "    }, 10, root)\n",
       "  }\n",
       "})(window);"
      ],
      "application/vnd.bokehjs_exec.v0+json": ""
     },
     "metadata": {
      "application/vnd.bokehjs_exec.v0+json": {
       "id": "2731"
      }
     },
     "output_type": "display_data"
    }
   ],
   "source": [
    "V_ref = 1.0\n",
    "p_gen = 3.0e3\n",
    "q_gen = 0\n",
    "\n",
    "data['grid_feeders'][0]['kW'] = p_gen\n",
    "data['grid_feeders'][1]['kW'] = p_gen\n",
    "data['grid_feeders'][2]['kW'] = p_gen\n",
    "\n",
    "grid_1 = grid()\n",
    "grid_1.read(data)  # Load data\n",
    "grid_1.pf()\n",
    "\n",
    "\n",
    "def obj(x):\n",
    "\n",
    "    data['grid_feeders'][0]['kvar'] = x[0]\n",
    "    data['grid_feeders'][1]['kvar'] = x[1]\n",
    "    data['grid_feeders'][2]['kvar'] = x[2]\n",
    "    grid_1.read(data)  # Load data\n",
    "    grid_1.pf()  # solve power flow\n",
    "    mon = grid_1.monitor(bus_from='POI', bus_to='GRID')\n",
    "\n",
    "    P_loss = p_gen*3*1000 - mon.P\n",
    "\n",
    "    return P_loss\n",
    "\n",
    "\n",
    "res = sopt.minimize(obj,[0,0,0], method='SLSQP')\n",
    "print(res)\n",
    "\n",
    "p=plot_results(grid_1)"
   ]
  },
  {
   "cell_type": "code",
   "execution_count": 28,
   "metadata": {},
   "outputs": [
    {
     "name": "stdout",
     "output_type": "stream",
     "text": [
      "POI active power = 8.808 MW\n",
      "POI reactive power = 0.34 Mvar\n"
     ]
    }
   ],
   "source": [
    "\n",
    "mon = grid_1.monitor(bus_from='POI', bus_to='GRID')\n",
    "print('POI active power = {:0.3f} MW'.format(mon.P/1e6))\n",
    "print('POI reactive power = {:0.2f} Mvar'.format(mon.Q/1e6))"
   ]
  },
  {
   "cell_type": "markdown",
   "metadata": {},
   "source": [
    "### Optimization with reactive powers (with STATCOM)\n"
   ]
  },
  {
   "cell_type": "code",
   "execution_count": 29,
   "metadata": {},
   "outputs": [
    {
     "name": "stdout",
     "output_type": "stream",
     "text": [
      "     fun: 192916.8819873426\n",
      "   maxcv: 0.0\n",
      " message: 'Optimization terminated successfully.'\n",
      "    nfev: 626\n",
      "  status: 1\n",
      " success: True\n",
      "       x: array([201.32500411, 200.94863665, 200.46627641, 287.06185241])\n"
     ]
    },
    {
     "data": {
      "text/html": [
       "\n",
       "\n",
       "\n",
       "\n",
       "\n",
       "\n",
       "  <div class=\"bk-root\" id=\"e3835b24-9ca5-4a1b-bb8b-c01370061761\"></div>\n"
      ]
     },
     "metadata": {},
     "output_type": "display_data"
    },
    {
     "data": {
      "application/javascript": [
       "(function(root) {\n",
       "  function embed_document(root) {\n",
       "    \n",
       "  var docs_json = {\"867ecb48-fc87-41c1-9320-9e3ad44c40be\":{\"roots\":{\"references\":[{\"attributes\":{\"below\":[{\"id\":\"2993\",\"type\":\"LinearAxis\"}],\"left\":[{\"id\":\"2998\",\"type\":\"LinearAxis\"}],\"plot_height\":400,\"renderers\":[{\"id\":\"2993\",\"type\":\"LinearAxis\"},{\"id\":\"2997\",\"type\":\"Grid\"},{\"id\":\"2998\",\"type\":\"LinearAxis\"},{\"id\":\"3002\",\"type\":\"Grid\"},{\"id\":\"3011\",\"type\":\"BoxAnnotation\"},{\"id\":\"3022\",\"type\":\"GlyphRenderer\"},{\"id\":\"3028\",\"type\":\"GlyphRenderer\"},{\"id\":\"3034\",\"type\":\"GlyphRenderer\"}],\"title\":{\"id\":\"2982\",\"type\":\"Title\"},\"toolbar\":{\"id\":\"3009\",\"type\":\"Toolbar\"},\"x_range\":{\"id\":\"2985\",\"type\":\"DataRange1d\"},\"x_scale\":{\"id\":\"2989\",\"type\":\"LinearScale\"},\"y_range\":{\"id\":\"2987\",\"type\":\"DataRange1d\"},\"y_scale\":{\"id\":\"2991\",\"type\":\"LinearScale\"}},\"id\":\"2983\",\"subtype\":\"Figure\",\"type\":\"Plot\"},{\"attributes\":{},\"id\":\"3006\",\"type\":\"SaveTool\"},{\"attributes\":{},\"id\":\"3166\",\"type\":\"BasicTickFormatter\"},{\"attributes\":{\"source\":{\"id\":\"3024\",\"type\":\"ColumnDataSource\"}},\"id\":\"3029\",\"type\":\"CDSView\"},{\"attributes\":{\"line_alpha\":{\"value\":0.1},\"line_color\":{\"value\":\"#1f77b4\"},\"line_width\":{\"value\":5},\"xs\":{\"field\":\"x_s\"},\"ys\":{\"field\":\"y_s\"}},\"id\":\"3027\",\"type\":\"MultiLine\"},{\"attributes\":{\"source\":{\"id\":\"3030\",\"type\":\"ColumnDataSource\"}},\"id\":\"3035\",\"type\":\"CDSView\"},{\"attributes\":{\"line_alpha\":{\"value\":0.1},\"line_color\":{\"value\":\"#1f77b4\"},\"line_width\":{\"value\":5},\"xs\":{\"field\":\"x_s\"},\"ys\":{\"field\":\"y_s\"}},\"id\":\"3021\",\"type\":\"MultiLine\"},{\"attributes\":{},\"id\":\"2991\",\"type\":\"LinearScale\"},{\"attributes\":{\"fill_alpha\":{\"value\":0.5},\"fill_color\":{\"value\":\"navy\"},\"line_alpha\":{\"value\":0.5},\"line_color\":{\"value\":\"navy\"},\"size\":{\"units\":\"screen\",\"value\":15},\"x\":{\"field\":\"x\"},\"y\":{\"field\":\"y\"}},\"id\":\"3032\",\"type\":\"Circle\"},{\"attributes\":{},\"id\":\"3172\",\"type\":\"UnionRenderers\"},{\"attributes\":{\"plot\":null,\"text\":\"Results\"},\"id\":\"2982\",\"type\":\"Title\"},{\"attributes\":{},\"id\":\"2989\",\"type\":\"LinearScale\"},{\"attributes\":{\"line_alpha\":{\"value\":0.5},\"line_color\":{\"value\":\"green\"},\"line_width\":{\"value\":5},\"xs\":{\"field\":\"x_s\"},\"ys\":{\"field\":\"y_s\"}},\"id\":\"3020\",\"type\":\"MultiLine\"},{\"attributes\":{\"formatter\":{\"id\":\"3166\",\"type\":\"BasicTickFormatter\"},\"plot\":{\"id\":\"2983\",\"subtype\":\"Figure\",\"type\":\"Plot\"},\"ticker\":{\"id\":\"2999\",\"type\":\"BasicTicker\"}},\"id\":\"2998\",\"type\":\"LinearAxis\"},{\"attributes\":{},\"id\":\"3168\",\"type\":\"UnionRenderers\"},{\"attributes\":{\"fill_alpha\":{\"value\":0.1},\"fill_color\":{\"value\":\"#1f77b4\"},\"line_alpha\":{\"value\":0.1},\"line_color\":{\"value\":\"#1f77b4\"},\"size\":{\"units\":\"screen\",\"value\":15},\"x\":{\"field\":\"x\"},\"y\":{\"field\":\"y\"}},\"id\":\"3033\",\"type\":\"Circle\"},{\"attributes\":{\"callback\":null,\"renderers\":[{\"id\":\"3034\",\"type\":\"GlyphRenderer\"}],\"tooltips\":\"\\n            <div>\\n            bus_id = @bus_id &nbsp &nbsp |  u<sub>avg</sub>= @u_avg_pu pu |  u<sub>unb</sub>= @v_unb %\\n            <table border=\\\"1\\\">\\n                <tr>\\n                <td>v<sub>an</sub> =  @v_an  &ang; @deg_an V </td> <td> S<sub>a</sub> = @p_a + j@q_a kVA</td>\\n                </tr>\\n                      <tr>\\n                      <td> </td> <td>v<sub>ab</sub>= @v_ab V</td>\\n                      </tr>\\n                <tr>\\n                <td>v<sub>bn</sub> = @v_bn &ang; @deg_bn V </td><td> S<sub>b</sub> = @p_b + j@q_b kVA</td>\\n                </tr>\\n                      <tr>\\n                      <td> </td><td>v<sub>bc</sub>= @v_bc V</td>\\n                      </tr>\\n                <tr>\\n                <td>v<sub>cn</sub>  = @v_cn &ang; @deg_cn V </td>  <td>S<sub>c</sub> = @p_c + j@q_c kVA </td>\\n                </tr> \\n                    <tr>\\n                     <td> </td> <td>v<sub>ca</sub>= @v_ca V</td>\\n                    </tr>\\n               <tr>\\n                <td>v<sub>ng</sub>    = @v_ng &ang; @deg_ng V</td>  <td>S<sub>abc</sub> = @p_abc + j@q_abc kVA </td>\\n              </tr>\\n            </table>\\n            </div>\\n            \"},\"id\":\"3040\",\"type\":\"HoverTool\"},{\"attributes\":{\"dimension\":1,\"plot\":{\"id\":\"2983\",\"subtype\":\"Figure\",\"type\":\"Plot\"},\"ticker\":{\"id\":\"2999\",\"type\":\"BasicTicker\"}},\"id\":\"3002\",\"type\":\"Grid\"},{\"attributes\":{\"callback\":null,\"data\":{\"deg_1a\":[3.736255710205588,-173.95920353509126,-173.9694236890205,-173.99502383670693],\"deg_1b\":[123.73625571093181,-53.95920353434986,-53.96942368828052,-53.9950238359703],\"deg_1c\":[-116.26374428951517,66.04079646522675,66.03057631129445,66.0049761636024],\"deg_1n\":[-90.0,-123.69006752597979,0.0,71.56505117707799],\"deg_2a\":[-146.26374428985022,36.040796465981565,36.03057631205457,36.00497616437277],\"deg_2b\":[-26.263744289403153,156.04079646647813,156.0305763125389,156.00497616483202],\"deg_2c\":[93.73625571087607,-83.95920353667393,-83.96942369059978,-83.99502383827947],\"deg_2n\":[158.19859051364818,-172.90447518442164,-173.10919311117135,-173.52911178469753],\"i_1a_m\":[249.35491265294047,83.00969355269928,83.04604131193052,83.11894609965152],\"i_1b_m\":[249.3549126525186,83.00969355261108,83.04604131183844,83.11894609955267],\"i_1c_m\":[249.35491264999303,83.00969355172474,83.04604131095569,83.11894609867684],\"i_1n_m\":[6.821210263296962e-13,2.0495186137532011e-13,5.684341886080802e-14,1.797546735911271e-13],\"i_2a_m\":[75.56209474276238,2406.078073889179,2407.131632128153,2409.2448143817364],\"i_2b_m\":[75.56209474352765,2406.0780740813557,2407.1316323198394,2409.2448145724243],\"i_2c_m\":[75.56209474263456,2406.078073972518,2407.1316322106945,2409.2448144626846],\"i_2n_m\":[3.06111178766429e-13,2.8841954209498084e-07,2.877270047394331e-07,2.863295393029134e-07],\"trafo_id\":[\"POImv-POI\",\"W1mv-W1lv\",\"W2mv-W2lv\",\"W3mv-W3lv\"],\"x_s\":[[0.0,100.0],[-1500.0,-1500.0],[-1000.0,-1000.0],[-500.0,-500.0]],\"y_s\":[[0.0,0.0],[180.0,200.0],[180.0,200.0],[180.0,200.0]]},\"selected\":{\"id\":\"3167\",\"type\":\"Selection\"},\"selection_policy\":{\"id\":\"3168\",\"type\":\"UnionRenderers\"}},\"id\":\"3018\",\"type\":\"ColumnDataSource\"},{\"attributes\":{\"callback\":null,\"renderers\":[{\"id\":\"3028\",\"type\":\"GlyphRenderer\"}],\"tooltips\":\"\\n            <div>\\n            line id = @line_id \\n            <table border=\\\"5\\\">\\n                <tr >\\n                    <td>I<sub>ja</sub> =  @i_j_a_m &ang; @deg_j_a </td>\\n                    <td>I<sub>ka</sub> =  @i_k_a_m &ang; @deg_k_a </td>\\n                </tr>\\n                <tr>\\n                    <td >I<sub>jb</sub> =  @i_j_b_m &ang; @deg_j_b </td>\\n                    <td >I<sub>kb</sub> =  @i_k_b_m &ang; @deg_k_b </td>\\n                </tr>\\n                <tr>\\n                    <td >I<sub>jc</sub> =  @i_j_c_m &ang; @deg_j_c </td>\\n                    <td >I<sub>kc</sub> =  @i_k_c_m &ang; @deg_k_c </td>\\n                </tr>\\n                <tr>\\n                    <td >I<sub>jn</sub> =  @i_j_n_m &ang; @deg_j_n </td>\\n                    <td >I<sub>kn</sub> =  @i_k_n_m &ang; @deg_k_n </td>\\n                </tr>\\n            </table>            \\n            </div>\\n            \"},\"id\":\"3038\",\"type\":\"HoverTool\"},{\"attributes\":{\"callback\":null,\"data\":{\"deg_j_a\":[6.040796464915524,5.816190940538359,5.7329888929292965,33.73625571014987],\"deg_j_b\":[126.04079646561289,125.81619094126165,125.73298889367229,153.736255710597],\"deg_j_c\":[-113.95920353480653,-114.1838090591507,-114.26701110675019,-86.26374428912409],\"deg_j_n\":[-155.9649240531312,-29.7509095761049,-69.80266015341748,-90.69306030271125],\"deg_k_a\":[5.601719287830532,5.596851083110069,5.586980055930432,33.73625571014987],\"deg_k_b\":[125.60171928852908,125.59685108383394,125.58698005667378,153.736255710597],\"deg_k_c\":[-114.39828071189487,-114.40314891658083,-114.4130199437503,-86.26374428912409],\"deg_k_n\":[-151.01436102786587,-34.139185378362676,-70.83724524173874,-90.69306030271125],\"i_j_a_m\":[83.00969355261776,166.0575103098504,249.17891389997448,75.56209474276223],\"i_j_b_m\":[83.00969355252408,166.05751030964214,249.17891389967596,75.56209474352747],\"i_j_c_m\":[83.00969355171966,166.05751030793405,249.1789138970645,75.56209474263464],\"i_j_n_m\":[3.189014034494333e-11,3.350601620662089e-11,5.260312524592941e-11,4.4056872727355537e-13],\"i_k_a_m\":[83.0126319205379,166.06137308921788,249.18271063710347,75.56209474276223],\"i_k_b_m\":[83.01263192043588,166.06137308900102,249.1827106367961,75.56209474352747],\"i_k_c_m\":[83.01263191963709,166.06137308729848,249.18271063419024,75.56209474263464],\"i_k_n_m\":[3.325511561600927e-11,3.519762213484339e-11,5.554418141430573e-11,4.4056872727355537e-13],\"line_id\":[\"W1mv-W2mv\",\"W2mv-W3mv\",\"W3mv-POImv\",\"POI-GRID\"],\"x_s\":[[-1500.0,-1000.0],[-1000.0,-500.0],[-500.0,0.0],[100.0,500.0]],\"y_s\":[[180.0,180.0],[180.0,180.0],[180.0,0.0],[0.0,0.0]]},\"selected\":{\"id\":\"3169\",\"type\":\"Selection\"},\"selection_policy\":{\"id\":\"3170\",\"type\":\"UnionRenderers\"}},\"id\":\"3024\",\"type\":\"ColumnDataSource\"},{\"attributes\":{\"data_source\":{\"id\":\"3024\",\"type\":\"ColumnDataSource\"},\"glyph\":{\"id\":\"3026\",\"type\":\"MultiLine\"},\"hover_glyph\":null,\"muted_glyph\":null,\"nonselection_glyph\":{\"id\":\"3027\",\"type\":\"MultiLine\"},\"selection_glyph\":null,\"view\":{\"id\":\"3029\",\"type\":\"CDSView\"}},\"id\":\"3028\",\"type\":\"GlyphRenderer\"},{\"attributes\":{},\"id\":\"3171\",\"type\":\"Selection\"},{\"attributes\":{},\"id\":\"3169\",\"type\":\"Selection\"},{\"attributes\":{\"plot\":{\"id\":\"2983\",\"subtype\":\"Figure\",\"type\":\"Plot\"},\"ticker\":{\"id\":\"2994\",\"type\":\"BasicTicker\"}},\"id\":\"2997\",\"type\":\"Grid\"},{\"attributes\":{\"bottom_units\":\"screen\",\"fill_alpha\":{\"value\":0.5},\"fill_color\":{\"value\":\"lightgrey\"},\"left_units\":\"screen\",\"level\":\"overlay\",\"line_alpha\":{\"value\":1.0},\"line_color\":{\"value\":\"black\"},\"line_dash\":[4,4],\"line_width\":{\"value\":2},\"plot\":null,\"render_mode\":\"css\",\"right_units\":\"screen\",\"top_units\":\"screen\"},\"id\":\"3011\",\"type\":\"BoxAnnotation\"},{\"attributes\":{},\"id\":\"2994\",\"type\":\"BasicTicker\"},{\"attributes\":{\"active_drag\":\"auto\",\"active_inspect\":\"auto\",\"active_multi\":null,\"active_scroll\":\"auto\",\"active_tap\":\"auto\",\"tools\":[{\"id\":\"3003\",\"type\":\"PanTool\"},{\"id\":\"3004\",\"type\":\"WheelZoomTool\"},{\"id\":\"3005\",\"type\":\"BoxZoomTool\"},{\"id\":\"3006\",\"type\":\"SaveTool\"},{\"id\":\"3007\",\"type\":\"ResetTool\"},{\"id\":\"3008\",\"type\":\"HelpTool\"},{\"id\":\"3036\",\"type\":\"HoverTool\"},{\"id\":\"3038\",\"type\":\"HoverTool\"},{\"id\":\"3040\",\"type\":\"HoverTool\"}]},\"id\":\"3009\",\"type\":\"Toolbar\"},{\"attributes\":{},\"id\":\"3167\",\"type\":\"Selection\"},{\"attributes\":{\"callback\":null,\"renderers\":[{\"id\":\"3022\",\"type\":\"GlyphRenderer\"}],\"tooltips\":\"\\n            <div>\\n            transformer id = @trafo_id  \\n            <table border=\\\"5\\\">\\n                <tr >\\n                    <td>I<sub>1a</sub> =  @i_1a_m &ang; @deg_1a </td>\\n                    <td>I<sub>2a</sub> =  @i_2a_m &ang; @deg_2a </td>\\n                </tr>\\n                <tr>\\n                    <td >I<sub>1b</sub> =  @i_1b_m &ang; @deg_1b </td>\\n                    <td >I<sub>2b</sub> =  @i_2b_m &ang; @deg_2b </td>\\n                </tr>\\n                <tr>\\n                    <td >I<sub>1c</sub> =  @i_1c_m &ang; @deg_1c </td>\\n                    <td >I<sub>2c</sub> =  @i_2c_m &ang; @deg_2c </td>\\n                </tr>\\n                <tr>\\n                    <td >I<sub>1n</sub> =  @i_1n_m &ang; @deg_1n </td>\\n                    <td >I<sub>2n</sub> =  @i_2n_m &ang; @deg_2n </td>\\n                </tr>\\n            </table>            \\n            </div>\\n            \"},\"id\":\"3036\",\"type\":\"HoverTool\"},{\"attributes\":{\"line_alpha\":{\"value\":0.5},\"line_color\":{\"value\":\"red\"},\"line_width\":{\"value\":5},\"xs\":{\"field\":\"x_s\"},\"ys\":{\"field\":\"y_s\"}},\"id\":\"3026\",\"type\":\"MultiLine\"},{\"attributes\":{\"callback\":null},\"id\":\"2987\",\"type\":\"DataRange1d\"},{\"attributes\":{},\"id\":\"2999\",\"type\":\"BasicTicker\"},{\"attributes\":{},\"id\":\"3170\",\"type\":\"UnionRenderers\"},{\"attributes\":{\"source\":{\"id\":\"3018\",\"type\":\"ColumnDataSource\"}},\"id\":\"3023\",\"type\":\"CDSView\"},{\"attributes\":{},\"id\":\"3008\",\"type\":\"HelpTool\"},{\"attributes\":{\"data_source\":{\"id\":\"3018\",\"type\":\"ColumnDataSource\"},\"glyph\":{\"id\":\"3020\",\"type\":\"MultiLine\"},\"hover_glyph\":null,\"muted_glyph\":null,\"nonselection_glyph\":{\"id\":\"3021\",\"type\":\"MultiLine\"},\"selection_glyph\":null,\"view\":{\"id\":\"3023\",\"type\":\"CDSView\"}},\"id\":\"3022\",\"type\":\"GlyphRenderer\"},{\"attributes\":{\"callback\":null,\"data\":{\"bus_id\":[\"W1lv\",\"W2lv\",\"W3lv\",\"W1mv\",\"W2mv\",\"W3mv\",\"POImv\",\"POI\",\"GRID\"],\"deg_an\":[\"39.88\",\"39.86\",\"39.83\",\"6.10\",\"6.08\",\"6.03\",\"5.97\",\"32.11\",\"30.00\"],\"deg_bn\":[\"159.88\",\"159.86\",\"159.83\",\"126.10\",\"126.08\",\"126.03\",\"125.97\",\"152.11\",\"150.00\"],\"deg_cn\":[\"-80.12\",\"-80.14\",\"-80.17\",\"-113.90\",\"-113.92\",\"-113.97\",\"-114.03\",\"-87.89\",\"-90.00\"],\"deg_ng\":[\"0.00\",\"0.00\",\"0.00\",\"0.00\",\"0.00\",\"0.00\",\"0.00\",\"0.00\",\"0.00\"],\"p_a\":[\"1000.00\",\"1000.00\",\"1000.00\",\"0.00\",\"0.00\",\"0.00\",\"-0.00\",\"0.00\",\"-2873.17\"],\"p_abc\":[\"3000.00\",\"3000.00\",\"3000.00\",\"0.00\",\"0.00\",\"0.00\",\"-0.00\",\"0.00\",\"-8619.52\"],\"p_b\":[\"1000.00\",\"1000.00\",\"1000.00\",\"0.00\",\"0.00\",\"0.00\",\"-0.00\",\"0.00\",\"-2873.17\"],\"p_c\":[\"1000.00\",\"1000.00\",\"1000.00\",\"-0.00\",\"-0.00\",\"-0.00\",\"-0.00\",\"0.00\",\"-2873.17\"],\"q_a\":[\"67.11\",\"66.98\",\"66.82\",\"0.00\",\"0.00\",\"-0.00\",\"95.69\",\"0.00\",\"187.63\"],\"q_abc\":[\"201.33\",\"200.95\",\"200.47\",\"0.00\",\"0.00\",\"-0.00\",\"287.06\",\"0.00\",\"562.88\"],\"q_b\":[\"67.11\",\"66.98\",\"66.82\",\"0.00\",\"0.00\",\"0.00\",\"95.69\",\"0.00\",\"187.63\"],\"q_c\":[\"67.11\",\"66.98\",\"66.82\",\"0.00\",\"0.00\",\"0.00\",\"95.69\",\"-0.00\",\"187.63\"],\"s_color\":[\"red\",\"red\",\"red\",\"blue\",\"blue\",\"red\",\"green\",\"blue\",\"green\"],\"s_radio\":[17.339976092848506,17.339903493708487,17.339810646387104,1,1,1,5.357815344611863,1,20],\"u_avg_pu\":[\"1.046\",\"1.045\",\"1.044\",\"1.032\",\"1.031\",\"1.030\",\"1.029\",\"1.020\",\"1.000\"],\"v_ab\":[721.4839027686098,721.1620834642384,720.5218259381633,20635.61163227168,20626.37502778096,20607.875727459224,20580.118726912267,67319.79194286786,65999.79602241208],\"v_an\":[\"416.55\",\"416.36\",\"415.99\",\"11913.98\",\"11908.64\",\"11897.96\",\"11881.94\",\"38867.10\",\"38105.00\"],\"v_an_pu\":[\"1.0456\",\"1.0452\",\"1.0442\",\"1.0318\",\"1.0313\",\"1.0304\",\"1.0290\",\"1.0200\",\"1.0000\"],\"v_bc\":[721.4839027670341,721.1620834626667,720.5218259365993,20635.61163225248,20626.375027761907,20607.875727440478,20580.11872689399,67319.79194283478,65999.79602241208],\"v_bn\":[\"416.55\",\"416.36\",\"415.99\",\"11913.98\",\"11908.64\",\"11897.96\",\"11881.94\",\"38867.10\",\"38105.00\"],\"v_bn_pu\":[\"1.0456\",\"1.0452\",\"1.0442\",\"1.0318\",\"1.0313\",\"1.0304\",\"1.0290\",\"1.0200\",\"1.0000\"],\"v_ca\":[721.4839027675089,721.162083463145,720.521825937085,20635.611632280634,20626.37502778996,20607.875727468327,20580.118726921526,67319.7919428399,65999.79602241208],\"v_cn\":[\"416.55\",\"416.36\",\"415.99\",\"11913.98\",\"11908.64\",\"11897.96\",\"11881.94\",\"38867.10\",\"38105.00\"],\"v_cn_pu\":[\"1.0456\",\"1.0452\",\"1.0442\",\"1.0318\",\"1.0313\",\"1.0304\",\"1.0290\",\"1.0200\",\"1.0000\"],\"v_ng\":[\"0.00\",\"0.00\",\"0.00\",\"0.00\",\"0.00\",\"0.00\",\"0.00\",\"0.00\",\"0.00\"],\"v_unb\":[\"0.0\",\"0.0\",\"0.0\",\"0.0\",\"0.0\",\"0.0\",\"0.0\",\"0.0\",\"0.0\"],\"x\":[-1500.0,-1000.0,-500.0,-1500.0,-1000.0,-500.0,0.0,100.0,500.0],\"y\":[200.0,200.0,200.0,180.0,180.0,180.0,0.0,0.0,0.0]},\"selected\":{\"id\":\"3171\",\"type\":\"Selection\"},\"selection_policy\":{\"id\":\"3172\",\"type\":\"UnionRenderers\"}},\"id\":\"3030\",\"type\":\"ColumnDataSource\"},{\"attributes\":{},\"id\":\"3164\",\"type\":\"BasicTickFormatter\"},{\"attributes\":{},\"id\":\"3007\",\"type\":\"ResetTool\"},{\"attributes\":{\"data_source\":{\"id\":\"3030\",\"type\":\"ColumnDataSource\"},\"glyph\":{\"id\":\"3032\",\"type\":\"Circle\"},\"hover_glyph\":null,\"muted_glyph\":null,\"nonselection_glyph\":{\"id\":\"3033\",\"type\":\"Circle\"},\"selection_glyph\":null,\"view\":{\"id\":\"3035\",\"type\":\"CDSView\"}},\"id\":\"3034\",\"type\":\"GlyphRenderer\"},{\"attributes\":{},\"id\":\"3004\",\"type\":\"WheelZoomTool\"},{\"attributes\":{\"overlay\":{\"id\":\"3011\",\"type\":\"BoxAnnotation\"}},\"id\":\"3005\",\"type\":\"BoxZoomTool\"},{\"attributes\":{\"callback\":null},\"id\":\"2985\",\"type\":\"DataRange1d\"},{\"attributes\":{\"formatter\":{\"id\":\"3164\",\"type\":\"BasicTickFormatter\"},\"plot\":{\"id\":\"2983\",\"subtype\":\"Figure\",\"type\":\"Plot\"},\"ticker\":{\"id\":\"2994\",\"type\":\"BasicTicker\"}},\"id\":\"2993\",\"type\":\"LinearAxis\"},{\"attributes\":{},\"id\":\"3003\",\"type\":\"PanTool\"}],\"root_ids\":[\"2983\"]},\"title\":\"Bokeh Application\",\"version\":\"1.0.2\"}};\n",
       "  var render_items = [{\"docid\":\"867ecb48-fc87-41c1-9320-9e3ad44c40be\",\"roots\":{\"2983\":\"e3835b24-9ca5-4a1b-bb8b-c01370061761\"}}];\n",
       "  root.Bokeh.embed.embed_items_notebook(docs_json, render_items);\n",
       "\n",
       "  }\n",
       "  if (root.Bokeh !== undefined) {\n",
       "    embed_document(root);\n",
       "  } else {\n",
       "    var attempts = 0;\n",
       "    var timer = setInterval(function(root) {\n",
       "      if (root.Bokeh !== undefined) {\n",
       "        embed_document(root);\n",
       "        clearInterval(timer);\n",
       "      }\n",
       "      attempts++;\n",
       "      if (attempts > 100) {\n",
       "        console.log(\"Bokeh: ERROR: Unable to run BokehJS code because BokehJS library is missing\");\n",
       "        clearInterval(timer);\n",
       "      }\n",
       "    }, 10, root)\n",
       "  }\n",
       "})(window);"
      ],
      "application/vnd.bokehjs_exec.v0+json": ""
     },
     "metadata": {
      "application/vnd.bokehjs_exec.v0+json": {
       "id": "2983"
      }
     },
     "output_type": "display_data"
    }
   ],
   "source": [
    "V_ref = 1.0\n",
    "p_gen = 3.0e3\n",
    "q_gen = 0\n",
    "\n",
    "data['grid_feeders'][0]['kW'] = p_gen\n",
    "data['grid_feeders'][1]['kW'] = p_gen\n",
    "data['grid_feeders'][2]['kW'] = p_gen\n",
    "\n",
    "grid_1 = grid()\n",
    "grid_1.read(data)  # Load data\n",
    "grid_1.pf()\n",
    "\n",
    "\n",
    "def obj(x):\n",
    "\n",
    "\n",
    "    data['grid_feeders'][0]['kvar'] = x[0]\n",
    "    data['grid_feeders'][1]['kvar'] = x[1]\n",
    "    data['grid_feeders'][2]['kvar'] = x[2]\n",
    "    data['grid_feeders'][3]['kvar'] = x[3]\n",
    "    grid_1.read(data)  # Load data\n",
    "    grid_1.pf()  # solve power flow\n",
    "    mon = grid_1.monitor(bus_from='POI', bus_to='GRID')\n",
    "\n",
    "    P_loss = p_gen*3*1000 - mon.P\n",
    "\n",
    "    return P_loss\n",
    "\n",
    "def const1(x):\n",
    "    return 1.02-abs(grid_1.monitor(bus_from='POI', bus_to='GRID').V_a)/38.105/1000\n",
    "\n",
    "def const2(x):\n",
    "    return -(0.98-abs(grid_1.monitor(bus_from='POI', bus_to='GRID').V_a)/38.105/1000)\n",
    "\n",
    "\n",
    "res = sopt.minimize(obj,[0,0,0,0], method='COBYLA',\n",
    "                    constraints=[{'type':'ineq','fun':const1},{'type':'ineq','fun':const2}]\n",
    "                   )\n",
    "print(res)\n",
    "\n",
    "p=plot_results(grid_1)\n"
   ]
  },
  {
   "cell_type": "code",
   "execution_count": 30,
   "metadata": {},
   "outputs": [
    {
     "name": "stdout",
     "output_type": "stream",
     "text": [
      "POI active power = 8.807 MW\n",
      "POI reactive power = -0.25 Mvar\n"
     ]
    }
   ],
   "source": [
    "mon = grid_1.monitor(bus_from='POI', bus_to='GRID')\n",
    "print('POI active power = {:0.3f} MW'.format(mon.P/1e6))\n",
    "print('POI reactive power = {:0.2f} Mvar'.format(mon.Q/1e6))"
   ]
  },
  {
   "cell_type": "code",
   "execution_count": null,
   "metadata": {},
   "outputs": [],
   "source": []
  }
 ],
 "metadata": {
  "kernelspec": {
   "display_name": "Python 3",
   "language": "python",
   "name": "python3"
  },
  "language_info": {
   "codemirror_mode": {
    "name": "ipython",
    "version": 3
   },
   "file_extension": ".py",
   "mimetype": "text/x-python",
   "name": "python",
   "nbconvert_exporter": "python",
   "pygments_lexer": "ipython3",
   "version": "3.7.1"
  }
 },
 "nbformat": 4,
 "nbformat_minor": 2
}
