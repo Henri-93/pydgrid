{
 "cells": [
  {
   "cell_type": "code",
   "execution_count": 2,
   "metadata": {},
   "outputs": [],
   "source": [
    "import numpy as np\n",
    "from pydgrid import grid"
   ]
  },
  {
   "cell_type": "code",
   "execution_count": 15,
   "metadata": {},
   "outputs": [],
   "source": [
    "Z_trafo_b = 20.0e3**2/25.0e6\n",
    "V_hv = 220.0/np.sqrt(3)\n",
    "S1,pf1,S2,pf2 = 15300.0,0.98,5280,0.95\n",
    "S_12_cplx = S1*pf1 + 1j*np.sin(np.arccos(pf1))*S1 + S2*pf2 + 1j*np.sin(np.arccos(pf2))*S2\n",
    "pf_12 = np.cos(np.angle(S_12_cplx))\n",
    "\n",
    "S1,pf1,S2,pf2 = 215.0,0.97,390.0,0.85\n",
    "S_14_cplx = S1*pf1 + 1j*np.sin(np.arccos(pf1))*S1 + S2*pf2 + 1j*np.sin(np.arccos(pf2))*S2\n",
    "pf_14 = np.cos(np.angle(S_14_cplx))\n",
    "\n",
    "data = {     \n",
    "        \"buses\":[\n",
    "                 {\"bus\": \"HV\", \"pos_x\":   0, \"pos_y\":  0, \"units\": \"m\", \"U_kV\":110.0},\n",
    "                 {\"bus\": \"12\", \"pos_x\":   0, \"pos_y\":  -5, \"units\": \"m\", \"U_kV\":20.0},\n",
    "                 {\"bus\": \"13\", \"pos_x\":   0, \"pos_y\":  -25, \"units\": \"m\", \"U_kV\":20.0},\n",
    "                ],\n",
    "        \"grid_formers\":[\n",
    "                        {\"bus\": \"HV\",\n",
    "                        \"bus_nodes\": [1, 2, 3], \"deg\": [0, -120, -240],\n",
    "                        \"kV\": [V_hv,V_hv,V_hv]}\n",
    "                       ],\n",
    "        \"transformers\":[\n",
    "                        {\"bus_j\": \"HV\",  \"bus_k\": \"12\",  \"S_n_kVA\": 25.0e3, \"U_j_kV\":110, \"U_k_kV\":20,\n",
    "                         \"R_cc_pu\": 0.016/Z_trafo_b, \"X_cc_pu\":1.92/Z_trafo_b, \"connection\": \"Dyn1\",   \"conductors_j\": 3, \"conductors_k\": 4}\n",
    "                       ],\n",
    "        \"lines\":[\n",
    "                {\"bus_j\": \"12\",  \"bus_k\": \"13\",  \"code\": \"1\", \"m\": 4.89e3},\n",
    "                ],\n",
    "        \"shunts\":[\n",
    "                  {\"bus\": \"12\" , \"R\": 0.001, \"X\": 0.0, \"bus_nodes\": [4,0]},\n",
    "            {\"bus\": \"13\" , \"R\": 0.000001, \"X\": 0.0, \"bus_nodes\": [1,2]},\n",
    "             {\"bus\": \"13\" , \"R\": 0.000001, \"X\": 0.0, \"bus_nodes\": [2,3]},\n",
    "                 #{\"bus\": \"14\" , \"R\": 1.0e-10, \"X\": 0.0, \"bus_nodes\": [1,0]},\n",
    "                 #{\"bus\": \"14\" , \"R\": 1.0e-10, \"X\": 0.0, \"bus_nodes\": [2,3]},\n",
    "                 ],\n",
    "        \"loads\":[\n",
    "                 #{\"bus\": \"12\" , \"kVA\":S_12_cplx, \"pf\": pf_12,\"type\":\"3P\"},\n",
    "                 #{\"bus\": \"13\" , \"kVA\":40.0, \"pf\": 0.85,\"type\":\"3P\"},\n",
    "                 #{\"bus\": \"14\" , \"kVA\":S_14_cplx, \"pf\":pf_14,\"type\":\"3P\"},\n",
    "                ],\n",
    "        \"line_codes\":\n",
    "            {\n",
    "            \"1\":  {\"R1\":0.510,\"X1\":0.366},#,\"B1_mu\":3.172},\n",
    "            \"2\":  {\"R1\":89.0e-3,\"X1\":3.5e-3},\n",
    "            }\n",
    "       } "
   ]
  },
  {
   "cell_type": "code",
   "execution_count": 16,
   "metadata": {},
   "outputs": [
    {
     "data": {
      "text/html": [
       "\n",
       "<div class=\"bk-root\">\n",
       "    <div class=\"bk-plotdiv\" id=\"a2353343-6315-4d7d-bfd0-0fb261888bed\"></div>\n",
       "</div>"
      ]
     },
     "metadata": {},
     "output_type": "display_data"
    },
    {
     "data": {
      "application/javascript": [
       "(function(root) {\n",
       "  function embed_document(root) {\n",
       "    \n",
       "  var docs_json = {\"e109ff45-ae25-4c34-b07b-e3926adcedda\":{\"roots\":{\"references\":[{\"attributes\":{\"line_alpha\":{\"value\":0.5},\"line_color\":{\"value\":\"green\"},\"line_width\":{\"value\":5},\"xs\":{\"field\":\"x_s\"},\"ys\":{\"field\":\"y_s\"}},\"id\":\"5b986e6e-f293-4a63-ba7f-80bdbfdd4a52\",\"type\":\"MultiLine\"},{\"attributes\":{},\"id\":\"f4e55f20-ce46-4b45-9676-f46f62de5676\",\"type\":\"BasicTicker\"},{\"attributes\":{},\"id\":\"b0ee9d71-4e27-4e79-91e7-344a1971d6fa\",\"type\":\"Selection\"},{\"attributes\":{},\"id\":\"cd8eeeb6-5ae3-4d41-90ec-080796b813cb\",\"type\":\"BasicTicker\"},{\"attributes\":{},\"id\":\"25e19a08-7ba1-4893-b8c5-974b4af66326\",\"type\":\"BasicTickFormatter\"},{\"attributes\":{\"fill_alpha\":{\"value\":0.5},\"fill_color\":{\"value\":\"navy\"},\"line_alpha\":{\"value\":0.5},\"line_color\":{\"value\":\"navy\"},\"size\":{\"units\":\"screen\",\"value\":15},\"x\":{\"field\":\"x\"},\"y\":{\"field\":\"y\"}},\"id\":\"35e0367c-f9d5-4397-bd36-d7c3d9faef1b\",\"type\":\"Circle\"},{\"attributes\":{},\"id\":\"5361c6fd-2456-4327-b3f5-23f2f97afd25\",\"type\":\"LinearScale\"},{\"attributes\":{\"callback\":null,\"data\":{\"bus_id\":[\"HV\",\"12\",\"13\"],\"deg_an\":[\"0.00\",\"21.47\",\"-33.30\"],\"deg_bn\":[\"-120.00\",\"-98.53\",\"-134.19\"],\"deg_cn\":[\"120.00\",\"141.47\",\"124.91\"],\"deg_ng\":[\"0.00\",\"0.00\",\"0.00\"],\"p_a\":[\"109707.49\",\"0.00\",\"0.00\"],\"p_abc\":[\"329122.46\",\"0.00\",\"0.00\"],\"p_b\":[\"109707.50\",\"-0.00\",\"-0.00\"],\"p_c\":[\"109707.47\",\"0.00\",\"0.00\"],\"q_a\":[\"106656.93\",\"0.00\",\"-0.00\"],\"q_abc\":[\"319970.84\",\"0.00\",\"0.00\"],\"q_b\":[\"106656.95\",\"0.00\",\"0.00\"],\"q_c\":[\"106656.96\",\"0.00\",\"0.00\"],\"s_color\":[\"red\",\"blue\",\"blue\"],\"s_radio\":[20,1,1],\"u_avg_pu\":[\"2.000\",\"1.761\",\"0.000\"],\"v_ab\":[219999.99999999997,35225.98986285574,0.006625439361884771],\"v_an\":[\"127017.06\",\"20337.74\",\"0.01\"],\"v_an_pu\":[\"2.0000\",\"1.7613\",\"0.0000\"],\"v_bc\":[220000.0,35225.98965860825,0.0066254385978077035],\"v_bn\":[\"127017.06\",\"20337.73\",\"0.00\"],\"v_bn_pu\":[\"2.0000\",\"1.7613\",\"0.0000\"],\"v_ca\":[220000.00000000006,35225.990799328385,0.011475596541740235],\"v_cn\":[\"127017.06\",\"20337.74\",\"0.01\"],\"v_cn_pu\":[\"2.0000\",\"1.7613\",\"0.0000\"],\"v_ng\":[\"0.00\",\"0.00\",\"0.00\"],\"v_unb\":[\"0.0\",\"0.0\",\"52.3\"],\"x\":[0,0,0],\"y\":[0,-5,-25]},\"selected\":{\"id\":\"b0ee9d71-4e27-4e79-91e7-344a1971d6fa\",\"type\":\"Selection\"},\"selection_policy\":{\"id\":\"8a4c2eb4-9581-4a9d-b6c6-ad3d5d52dea2\",\"type\":\"UnionRenderers\"}},\"id\":\"4945a1c3-dc30-4a36-a017-90dc177ad0f0\",\"type\":\"ColumnDataSource\"},{\"attributes\":{\"below\":[{\"id\":\"e048ffb4-58fa-41f4-9a0e-f0f826cfbea5\",\"type\":\"LinearAxis\"}],\"left\":[{\"id\":\"9fce5486-b6ca-43f3-8ff6-b9d4567921b7\",\"type\":\"LinearAxis\"}],\"plot_height\":400,\"renderers\":[{\"id\":\"e048ffb4-58fa-41f4-9a0e-f0f826cfbea5\",\"type\":\"LinearAxis\"},{\"id\":\"58c7069e-3e22-4370-8207-6db4c0000b92\",\"type\":\"Grid\"},{\"id\":\"9fce5486-b6ca-43f3-8ff6-b9d4567921b7\",\"type\":\"LinearAxis\"},{\"id\":\"5af69c59-7a65-4375-ba0e-a678bbf1a222\",\"type\":\"Grid\"},{\"id\":\"f75378d0-7b5b-4cbf-9890-7290fe75b138\",\"type\":\"BoxAnnotation\"},{\"id\":\"f175b47b-ac3a-477a-aba5-b24540555c19\",\"type\":\"GlyphRenderer\"},{\"id\":\"95659e6e-09b0-4c0e-949d-25af06bd7906\",\"type\":\"GlyphRenderer\"},{\"id\":\"7b3a5b7e-d4c4-4197-aa04-2c3a4694460a\",\"type\":\"GlyphRenderer\"}],\"title\":{\"id\":\"a0c4fce1-5679-4f3d-8ff2-5df11a0cf09b\",\"type\":\"Title\"},\"toolbar\":{\"id\":\"b9e7d1b0-6a89-4392-9aae-b9d5bd60d366\",\"type\":\"Toolbar\"},\"x_range\":{\"id\":\"ac859222-005f-495e-ae96-fb399628533a\",\"type\":\"DataRange1d\"},\"x_scale\":{\"id\":\"2b3dfdb4-26f0-4107-a923-d5da1e3b1234\",\"type\":\"LinearScale\"},\"y_range\":{\"id\":\"23b1026e-afa1-444e-a5b5-7eadc3ccf7e0\",\"type\":\"DataRange1d\"},\"y_scale\":{\"id\":\"5361c6fd-2456-4327-b3f5-23f2f97afd25\",\"type\":\"LinearScale\"}},\"id\":\"5eb81238-b5fe-4893-94bc-87f78eb6416d\",\"subtype\":\"Figure\",\"type\":\"Plot\"},{\"attributes\":{\"callback\":null},\"id\":\"ac859222-005f-495e-ae96-fb399628533a\",\"type\":\"DataRange1d\"},{\"attributes\":{},\"id\":\"411a45c9-6ee4-40da-a809-ed631108673e\",\"type\":\"UnionRenderers\"},{\"attributes\":{\"source\":{\"id\":\"7ffa585c-4f3d-4f40-a810-19de79850ac5\",\"type\":\"ColumnDataSource\"}},\"id\":\"b1bdd0a9-640e-4bcb-b2da-74d8d3e4f9be\",\"type\":\"CDSView\"},{\"attributes\":{\"formatter\":{\"id\":\"25e19a08-7ba1-4893-b8c5-974b4af66326\",\"type\":\"BasicTickFormatter\"},\"plot\":{\"id\":\"5eb81238-b5fe-4893-94bc-87f78eb6416d\",\"subtype\":\"Figure\",\"type\":\"Plot\"},\"ticker\":{\"id\":\"cd8eeeb6-5ae3-4d41-90ec-080796b813cb\",\"type\":\"BasicTicker\"}},\"id\":\"e048ffb4-58fa-41f4-9a0e-f0f826cfbea5\",\"type\":\"LinearAxis\"},{\"attributes\":{\"callback\":null,\"data\":{\"deg_j_a\":[-14.19223041513899],\"deg_j_b\":[-134.19223954647052],\"deg_j_c\":[105.80776278030892],\"deg_j_n\":[-116.56505117707799],\"deg_k_a\":[-14.19223041513899],\"deg_k_b\":[-134.19223954647052],\"deg_k_c\":[105.80776278030892],\"deg_k_n\":[-116.56505117707799],\"i_j_a_m\":[6625.439362530329],\"i_j_b_m\":[6625.4396614767775],\"i_j_c_m\":[6625.438597560193],\"i_j_n_m\":[2.033691978340166e-12],\"i_k_a_m\":[6625.439362530329],\"i_k_b_m\":[6625.4396614767775],\"i_k_c_m\":[6625.438597560193],\"i_k_n_m\":[2.033691978340166e-12],\"line_id\":[\"12-13\"],\"x_s\":[[0,0]],\"y_s\":[[-5,-25]]},\"selected\":{\"id\":\"6fcb1004-10dd-4594-a1c6-475a1ee8fcde\",\"type\":\"Selection\"},\"selection_policy\":{\"id\":\"e1da888b-6cec-4516-b735-0c9e6fd68fae\",\"type\":\"UnionRenderers\"}},\"id\":\"7ffa585c-4f3d-4f40-a810-19de79850ac5\",\"type\":\"ColumnDataSource\"},{\"attributes\":{},\"id\":\"7552b7f0-88ca-4a56-8e12-f79fbfe0c787\",\"type\":\"ResetTool\"},{\"attributes\":{\"line_alpha\":{\"value\":0.1},\"line_color\":{\"value\":\"#1f77b4\"},\"line_width\":{\"value\":5},\"xs\":{\"field\":\"x_s\"},\"ys\":{\"field\":\"y_s\"}},\"id\":\"69de7eda-093c-43e5-89b4-2b8effdf131c\",\"type\":\"MultiLine\"},{\"attributes\":{},\"id\":\"83242a28-5900-4bd2-b0b2-2bdd2c03b94f\",\"type\":\"WheelZoomTool\"},{\"attributes\":{},\"id\":\"c8d5a333-ea50-487a-8562-3bbb267306d1\",\"type\":\"PanTool\"},{\"attributes\":{},\"id\":\"478c9ef7-246c-4671-831f-e4a4bc8fdc31\",\"type\":\"BasicTickFormatter\"},{\"attributes\":{\"data_source\":{\"id\":\"7ffa585c-4f3d-4f40-a810-19de79850ac5\",\"type\":\"ColumnDataSource\"},\"glyph\":{\"id\":\"5aa46256-6298-4df3-bd57-022c9fff8854\",\"type\":\"MultiLine\"},\"hover_glyph\":null,\"muted_glyph\":null,\"nonselection_glyph\":{\"id\":\"69de7eda-093c-43e5-89b4-2b8effdf131c\",\"type\":\"MultiLine\"},\"selection_glyph\":null,\"view\":{\"id\":\"b1bdd0a9-640e-4bcb-b2da-74d8d3e4f9be\",\"type\":\"CDSView\"}},\"id\":\"95659e6e-09b0-4c0e-949d-25af06bd7906\",\"type\":\"GlyphRenderer\"},{\"attributes\":{\"callback\":null,\"data\":{\"deg_1a\":[-44.19223190772936],\"deg_1b\":[-164.19223423450956],\"deg_1c\":[75.80775896093836],\"deg_1n\":[156.03751102542182],\"deg_2a\":[165.80776958486098],\"deg_2b\":[45.80776045352947],\"deg_2c\":[-74.1922372196911],\"deg_2n\":[153.434948822922],\"i_1a_m\":[1204.6252278002576],\"i_1b_m\":[1204.6254212396327],\"i_1c_m\":[1204.625282154163],\"i_1n_m\":[5.598427493280328e-13],\"i_2a_m\":[6625.439362530328],\"i_2b_m\":[6625.439661476779],\"i_2c_m\":[6625.438597560198],\"i_2n_m\":[8.134767913360665e-12],\"trafo_id\":[\"HV-12\"],\"x_s\":[[0,0]],\"y_s\":[[0,-5]]},\"selected\":{\"id\":\"481a54b2-cb43-465a-9683-50255d337185\",\"type\":\"Selection\"},\"selection_policy\":{\"id\":\"411a45c9-6ee4-40da-a809-ed631108673e\",\"type\":\"UnionRenderers\"}},\"id\":\"4f66cf66-fe62-4109-b0fa-086d461cc2dc\",\"type\":\"ColumnDataSource\"},{\"attributes\":{\"data_source\":{\"id\":\"4f66cf66-fe62-4109-b0fa-086d461cc2dc\",\"type\":\"ColumnDataSource\"},\"glyph\":{\"id\":\"5b986e6e-f293-4a63-ba7f-80bdbfdd4a52\",\"type\":\"MultiLine\"},\"hover_glyph\":null,\"muted_glyph\":null,\"nonselection_glyph\":{\"id\":\"0eb0e4d2-df22-4584-8d0a-76417470a846\",\"type\":\"MultiLine\"},\"selection_glyph\":null,\"view\":{\"id\":\"f3b44fe4-4c97-4f6e-9a1e-22b61bbb30cd\",\"type\":\"CDSView\"}},\"id\":\"f175b47b-ac3a-477a-aba5-b24540555c19\",\"type\":\"GlyphRenderer\"},{\"attributes\":{},\"id\":\"6bdb3304-df1d-4cf3-9dfb-4c5e9bb4b33a\",\"type\":\"HelpTool\"},{\"attributes\":{\"plot\":null,\"text\":\"Results\"},\"id\":\"a0c4fce1-5679-4f3d-8ff2-5df11a0cf09b\",\"type\":\"Title\"},{\"attributes\":{\"overlay\":{\"id\":\"f75378d0-7b5b-4cbf-9890-7290fe75b138\",\"type\":\"BoxAnnotation\"}},\"id\":\"52215e0c-9a50-4f4c-8ce3-fd569e510bb0\",\"type\":\"BoxZoomTool\"},{\"attributes\":{\"dimension\":1,\"plot\":{\"id\":\"5eb81238-b5fe-4893-94bc-87f78eb6416d\",\"subtype\":\"Figure\",\"type\":\"Plot\"},\"ticker\":{\"id\":\"f4e55f20-ce46-4b45-9676-f46f62de5676\",\"type\":\"BasicTicker\"}},\"id\":\"5af69c59-7a65-4375-ba0e-a678bbf1a222\",\"type\":\"Grid\"},{\"attributes\":{\"fill_alpha\":{\"value\":0.1},\"fill_color\":{\"value\":\"#1f77b4\"},\"line_alpha\":{\"value\":0.1},\"line_color\":{\"value\":\"#1f77b4\"},\"size\":{\"units\":\"screen\",\"value\":15},\"x\":{\"field\":\"x\"},\"y\":{\"field\":\"y\"}},\"id\":\"8ef6520b-7f4d-45d7-914c-fa76a96e1df9\",\"type\":\"Circle\"},{\"attributes\":{\"source\":{\"id\":\"4f66cf66-fe62-4109-b0fa-086d461cc2dc\",\"type\":\"ColumnDataSource\"}},\"id\":\"f3b44fe4-4c97-4f6e-9a1e-22b61bbb30cd\",\"type\":\"CDSView\"},{\"attributes\":{},\"id\":\"2b3dfdb4-26f0-4107-a923-d5da1e3b1234\",\"type\":\"LinearScale\"},{\"attributes\":{},\"id\":\"8a4c2eb4-9581-4a9d-b6c6-ad3d5d52dea2\",\"type\":\"UnionRenderers\"},{\"attributes\":{},\"id\":\"e1da888b-6cec-4516-b735-0c9e6fd68fae\",\"type\":\"UnionRenderers\"},{\"attributes\":{\"callback\":null,\"renderers\":[{\"id\":\"95659e6e-09b0-4c0e-949d-25af06bd7906\",\"type\":\"GlyphRenderer\"}],\"tooltips\":\"\\n            <div>\\n            line id = @line_id \\n            <table border=\\\"5\\\">\\n                <tr >\\n                    <td>I<sub>ja</sub> =  @i_j_a_m &ang; @deg_j_a </td>\\n                    <td>I<sub>ka</sub> =  @i_k_a_m &ang; @deg_k_a </td>\\n                </tr>\\n                <tr>\\n                    <td >I<sub>jb</sub> =  @i_j_b_m &ang; @deg_j_b </td>\\n                    <td >I<sub>kb</sub> =  @i_k_b_m &ang; @deg_k_b </td>\\n                </tr>\\n                <tr>\\n                    <td >I<sub>jc</sub> =  @i_j_c_m &ang; @deg_j_c </td>\\n                    <td >I<sub>kc</sub> =  @i_k_c_m &ang; @deg_k_c </td>\\n                </tr>\\n                <tr>\\n                    <td >I<sub>jn</sub> =  @i_j_n_m &ang; @deg_j_n </td>\\n                    <td >I<sub>kn</sub> =  @i_k_n_m &ang; @deg_k_n </td>\\n                </tr>\\n            </table>            \\n            </div>\\n            \"},\"id\":\"9e301265-4a98-4e72-aafe-a5b87784b879\",\"type\":\"HoverTool\"},{\"attributes\":{\"callback\":null},\"id\":\"23b1026e-afa1-444e-a5b5-7eadc3ccf7e0\",\"type\":\"DataRange1d\"},{\"attributes\":{},\"id\":\"481a54b2-cb43-465a-9683-50255d337185\",\"type\":\"Selection\"},{\"attributes\":{\"active_drag\":\"auto\",\"active_inspect\":\"auto\",\"active_scroll\":\"auto\",\"active_tap\":\"auto\",\"tools\":[{\"id\":\"c8d5a333-ea50-487a-8562-3bbb267306d1\",\"type\":\"PanTool\"},{\"id\":\"83242a28-5900-4bd2-b0b2-2bdd2c03b94f\",\"type\":\"WheelZoomTool\"},{\"id\":\"52215e0c-9a50-4f4c-8ce3-fd569e510bb0\",\"type\":\"BoxZoomTool\"},{\"id\":\"4b16b8ff-90f1-4a61-adea-f792b3ac8924\",\"type\":\"SaveTool\"},{\"id\":\"7552b7f0-88ca-4a56-8e12-f79fbfe0c787\",\"type\":\"ResetTool\"},{\"id\":\"6bdb3304-df1d-4cf3-9dfb-4c5e9bb4b33a\",\"type\":\"HelpTool\"},{\"id\":\"ba5fd0e8-59b4-43e9-9b0d-7c7f46e27b73\",\"type\":\"HoverTool\"},{\"id\":\"9e301265-4a98-4e72-aafe-a5b87784b879\",\"type\":\"HoverTool\"},{\"id\":\"8fa4d7c0-3cc7-4778-a165-ce6e76793629\",\"type\":\"HoverTool\"}]},\"id\":\"b9e7d1b0-6a89-4392-9aae-b9d5bd60d366\",\"type\":\"Toolbar\"},{\"attributes\":{\"line_alpha\":{\"value\":0.5},\"line_color\":{\"value\":\"red\"},\"line_width\":{\"value\":5},\"xs\":{\"field\":\"x_s\"},\"ys\":{\"field\":\"y_s\"}},\"id\":\"5aa46256-6298-4df3-bd57-022c9fff8854\",\"type\":\"MultiLine\"},{\"attributes\":{},\"id\":\"6fcb1004-10dd-4594-a1c6-475a1ee8fcde\",\"type\":\"Selection\"},{\"attributes\":{\"bottom_units\":\"screen\",\"fill_alpha\":{\"value\":0.5},\"fill_color\":{\"value\":\"lightgrey\"},\"left_units\":\"screen\",\"level\":\"overlay\",\"line_alpha\":{\"value\":1.0},\"line_color\":{\"value\":\"black\"},\"line_dash\":[4,4],\"line_width\":{\"value\":2},\"plot\":null,\"render_mode\":\"css\",\"right_units\":\"screen\",\"top_units\":\"screen\"},\"id\":\"f75378d0-7b5b-4cbf-9890-7290fe75b138\",\"type\":\"BoxAnnotation\"},{\"attributes\":{\"source\":{\"id\":\"4945a1c3-dc30-4a36-a017-90dc177ad0f0\",\"type\":\"ColumnDataSource\"}},\"id\":\"aa318501-e9ba-4d7e-8464-b2465eb2dc22\",\"type\":\"CDSView\"},{\"attributes\":{},\"id\":\"4b16b8ff-90f1-4a61-adea-f792b3ac8924\",\"type\":\"SaveTool\"},{\"attributes\":{\"data_source\":{\"id\":\"4945a1c3-dc30-4a36-a017-90dc177ad0f0\",\"type\":\"ColumnDataSource\"},\"glyph\":{\"id\":\"35e0367c-f9d5-4397-bd36-d7c3d9faef1b\",\"type\":\"Circle\"},\"hover_glyph\":null,\"muted_glyph\":null,\"nonselection_glyph\":{\"id\":\"8ef6520b-7f4d-45d7-914c-fa76a96e1df9\",\"type\":\"Circle\"},\"selection_glyph\":null,\"view\":{\"id\":\"aa318501-e9ba-4d7e-8464-b2465eb2dc22\",\"type\":\"CDSView\"}},\"id\":\"7b3a5b7e-d4c4-4197-aa04-2c3a4694460a\",\"type\":\"GlyphRenderer\"},{\"attributes\":{\"callback\":null,\"renderers\":[{\"id\":\"f175b47b-ac3a-477a-aba5-b24540555c19\",\"type\":\"GlyphRenderer\"}],\"tooltips\":\"\\n            <div>\\n            line id = @trafo_id  \\n            <table border=\\\"5\\\">\\n                <tr >\\n                    <td>I<sub>1a</sub> =  @i_1a_m &ang; @deg_1a </td>\\n                    <td>I<sub>2a</sub> =  @i_2a_m &ang; @deg_2a </td>\\n                </tr>\\n                <tr>\\n                    <td >I<sub>1b</sub> =  @i_1b_m &ang; @deg_1b </td>\\n                    <td >I<sub>2b</sub> =  @i_2b_m &ang; @deg_2b </td>\\n                </tr>\\n                <tr>\\n                    <td >I<sub>1c</sub> =  @i_1c_m &ang; @deg_1c </td>\\n                    <td >I<sub>2c</sub> =  @i_2c_m &ang; @deg_2c </td>\\n                </tr>\\n                <tr>\\n                    <td >I<sub>1n</sub> =  @i_1n_m &ang; @deg_1n </td>\\n                    <td >I<sub>2n</sub> =  @i_2n_m &ang; @deg_2n </td>\\n                </tr>\\n            </table>            \\n            </div>\\n            \"},\"id\":\"ba5fd0e8-59b4-43e9-9b0d-7c7f46e27b73\",\"type\":\"HoverTool\"},{\"attributes\":{\"line_alpha\":{\"value\":0.1},\"line_color\":{\"value\":\"#1f77b4\"},\"line_width\":{\"value\":5},\"xs\":{\"field\":\"x_s\"},\"ys\":{\"field\":\"y_s\"}},\"id\":\"0eb0e4d2-df22-4584-8d0a-76417470a846\",\"type\":\"MultiLine\"},{\"attributes\":{\"callback\":null,\"renderers\":[{\"id\":\"7b3a5b7e-d4c4-4197-aa04-2c3a4694460a\",\"type\":\"GlyphRenderer\"}],\"tooltips\":\"\\n            <div>\\n            bus_id = @bus_id &nbsp &nbsp |  u<sub>avg</sub>= @u_avg_pu pu |  u<sub>unb</sub>= @v_unb %\\n            <table border=\\\"1\\\">\\n                <tr>\\n                <td>v<sub>an</sub> =  @v_an  &ang; @deg_an V </td> <td> S<sub>a</sub> = @p_a + j@q_a kVA</td>\\n                </tr>\\n                      <tr>\\n                      <td> </td> <td>v<sub>ab</sub>= @v_ab V</td>\\n                      </tr>\\n                <tr>\\n                <td>v<sub>bn</sub> = @v_bn &ang; @deg_bn V </td><td> S<sub>b</sub> = @p_b + j@q_b kVA</td>\\n                </tr>\\n                      <tr>\\n                      <td> </td><td>v<sub>bc</sub>= @v_bc V</td>\\n                      </tr>\\n                <tr>\\n                <td>v<sub>cn</sub>  = @v_cn &ang; @deg_cn V </td>  <td>S<sub>c</sub> = @p_c + j@q_c kVA </td>\\n                </tr> \\n                    <tr>\\n                     <td> </td> <td>v<sub>ca</sub>= @v_ca V</td>\\n                    </tr>\\n               <tr>\\n                <td>v<sub>ng</sub>    = @v_ng &ang; @deg_ng V</td>  <td>S<sub>abc</sub> = @p_abc + j@q_abc kVA </td>\\n              </tr>\\n            </table>\\n            </div>\\n            \"},\"id\":\"8fa4d7c0-3cc7-4778-a165-ce6e76793629\",\"type\":\"HoverTool\"},{\"attributes\":{\"plot\":{\"id\":\"5eb81238-b5fe-4893-94bc-87f78eb6416d\",\"subtype\":\"Figure\",\"type\":\"Plot\"},\"ticker\":{\"id\":\"cd8eeeb6-5ae3-4d41-90ec-080796b813cb\",\"type\":\"BasicTicker\"}},\"id\":\"58c7069e-3e22-4370-8207-6db4c0000b92\",\"type\":\"Grid\"},{\"attributes\":{\"formatter\":{\"id\":\"478c9ef7-246c-4671-831f-e4a4bc8fdc31\",\"type\":\"BasicTickFormatter\"},\"plot\":{\"id\":\"5eb81238-b5fe-4893-94bc-87f78eb6416d\",\"subtype\":\"Figure\",\"type\":\"Plot\"},\"ticker\":{\"id\":\"f4e55f20-ce46-4b45-9676-f46f62de5676\",\"type\":\"BasicTicker\"}},\"id\":\"9fce5486-b6ca-43f3-8ff6-b9d4567921b7\",\"type\":\"LinearAxis\"}],\"root_ids\":[\"5eb81238-b5fe-4893-94bc-87f78eb6416d\"]},\"title\":\"Bokeh Application\",\"version\":\"0.12.16\"}};\n",
       "  var render_items = [{\"docid\":\"e109ff45-ae25-4c34-b07b-e3926adcedda\",\"elementid\":\"a2353343-6315-4d7d-bfd0-0fb261888bed\",\"modelid\":\"5eb81238-b5fe-4893-94bc-87f78eb6416d\"}];\n",
       "  root.Bokeh.embed.embed_items_notebook(docs_json, render_items);\n",
       "\n",
       "  }\n",
       "  if (root.Bokeh !== undefined) {\n",
       "    embed_document(root);\n",
       "  } else {\n",
       "    var attempts = 0;\n",
       "    var timer = setInterval(function(root) {\n",
       "      if (root.Bokeh !== undefined) {\n",
       "        embed_document(root);\n",
       "        clearInterval(timer);\n",
       "      }\n",
       "      attempts++;\n",
       "      if (attempts > 100) {\n",
       "        console.log(\"Bokeh: ERROR: Unable to run BokehJS code because BokehJS library is missing\")\n",
       "        clearInterval(timer);\n",
       "      }\n",
       "    }, 10, root)\n",
       "  }\n",
       "})(window);"
      ],
      "application/vnd.bokehjs_exec.v0+json": ""
     },
     "metadata": {
      "application/vnd.bokehjs_exec.v0+json": {
       "id": "5eb81238-b5fe-4893-94bc-87f78eb6416d"
      }
     },
     "output_type": "display_data"
    }
   ],
   "source": [
    "sys1 = grid()\n",
    "sys1.read(data)  # Load data\n",
    "sys1.pf()  # solve power flow\n",
    "sys1.get_v()      # post process voltages\n",
    "sys1.get_i()      # post process currents\n",
    "\n",
    "from pydgrid.plot_bokeh import plot_results\n",
    "fig = plot_results(sys1)"
   ]
  },
  {
   "cell_type": "code",
   "execution_count": 17,
   "metadata": {},
   "outputs": [
    {
     "data": {
      "text/plain": [
       "(20010+4693.341029123436j)"
      ]
     },
     "execution_count": 17,
     "metadata": {},
     "output_type": "execute_result"
    }
   ],
   "source": [
    "S_12_cplx"
   ]
  },
  {
   "cell_type": "code",
   "execution_count": 9,
   "metadata": {},
   "outputs": [
    {
     "data": {
      "text/plain": [
       "0.9735784929115807"
      ]
     },
     "execution_count": 9,
     "metadata": {},
     "output_type": "execute_result"
    }
   ],
   "source": [
    "pf_12"
   ]
  },
  {
   "cell_type": "code",
   "execution_count": 5,
   "metadata": {},
   "outputs": [],
   "source": [
    "S1,pf1,S2,pf2 = 15300.0,0.98,5280,0.95\n",
    "S_12_cplx = S1*pf1 + 1j*np.sin(np.arccos(pf1))*S1 + S2*pf2 + 1j*np.sin(np.arccos(pf2))*S2\n",
    "pf_12 = np.cos(np.angle(S_12_cplx))\n"
   ]
  },
  {
   "cell_type": "code",
   "execution_count": 7,
   "metadata": {},
   "outputs": [
    {
     "data": {
      "text/plain": [
       "(20.01+4.693341029123436j)"
      ]
     },
     "execution_count": 7,
     "metadata": {},
     "output_type": "execute_result"
    }
   ],
   "source": [
    "S_12_cplx/1000"
   ]
  },
  {
   "cell_type": "code",
   "execution_count": 8,
   "metadata": {},
   "outputs": [],
   "source": [
    "S1,pf1,S2,pf2 = 0,0,40,0.85\n",
    "S_12_cplx = S1*pf1 + 1j*np.sin(np.arccos(pf1))*S1 + S2*pf2 + 1j*np.sin(np.arccos(pf2))*S2\n",
    "pf_12 = np.cos(np.angle(S_12_cplx))\n"
   ]
  },
  {
   "cell_type": "code",
   "execution_count": 10,
   "metadata": {},
   "outputs": [
    {
     "data": {
      "text/plain": [
       "(0.34+0.21071307505705478j)"
      ]
     },
     "execution_count": 10,
     "metadata": {},
     "output_type": "execute_result"
    }
   ],
   "source": [
    "S_12_cplx/100"
   ]
  },
  {
   "cell_type": "code",
   "execution_count": 11,
   "metadata": {},
   "outputs": [],
   "source": [
    "S1,pf1,S2,pf2 = 215.0,0.97,390.0,0.85\n",
    "S_14_cplx = S1*pf1 + 1j*np.sin(np.arccos(pf1))*S1 + S2*pf2 + 1j*np.sin(np.arccos(pf2))*S2\n",
    "pf_14 = np.cos(np.angle(S_14_cplx))"
   ]
  },
  {
   "cell_type": "code",
   "execution_count": 12,
   "metadata": {},
   "outputs": [
    {
     "data": {
      "text/plain": [
       "(0.5400499999999999+0.25771280503954425j)"
      ]
     },
     "execution_count": 12,
     "metadata": {},
     "output_type": "execute_result"
    }
   ],
   "source": [
    "S_14_cplx/1000"
   ]
  },
  {
   "cell_type": "code",
   "execution_count": null,
   "metadata": {},
   "outputs": [],
   "source": []
  }
 ],
 "metadata": {
  "kernelspec": {
   "display_name": "Python 3",
   "language": "python",
   "name": "python3"
  },
  "language_info": {
   "codemirror_mode": {
    "name": "ipython",
    "version": 3
   },
   "file_extension": ".py",
   "mimetype": "text/x-python",
   "name": "python",
   "nbconvert_exporter": "python",
   "pygments_lexer": "ipython3",
   "version": "3.6.5"
  }
 },
 "nbformat": 4,
 "nbformat_minor": 2
}
