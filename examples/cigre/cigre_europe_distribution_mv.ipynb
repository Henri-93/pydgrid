{
 "cells": [
  {
   "cell_type": "code",
   "execution_count": 1,
   "metadata": {},
   "outputs": [],
   "source": [
    "import numpy as np\n",
    "from pydgrid import grid"
   ]
  },
  {
   "cell_type": "code",
   "execution_count": 29,
   "metadata": {},
   "outputs": [],
   "source": [
    "Z_red = 110.0e3**2/5000.0e6\n",
    "ratio=0.1\n",
    "# Z**2 = R**2 + X**2\n",
    "# Z**2 = ratio**2*X**2 + X**2 = X**2 * (ratio**2 + 1.0)\n",
    "X_red = (Z_red**2/(ratio**2 + 1.0))**0.5\n",
    "R_red = ratio*X_red\n",
    "\n",
    "Z_trafo_b = 20.0e3**2/25.0e6\n",
    "V_hv = 110.0/np.sqrt(3)\n",
    "S1,pf1,S2,pf2 = 15300.0,0.98,5280,0.95\n",
    "S_12_cplx = S1*pf1 + 1j*np.sin(np.arccos(pf1))*S1 + S2*pf2 + 1j*np.sin(np.arccos(pf2))*S2\n",
    "pf_12 = np.cos(np.angle(S_12_cplx))\n",
    "\n",
    "S1,pf1,S2,pf2 = 215.0,0.97,390.0,0.85\n",
    "S_14_cplx = S1*pf1 + 1j*np.sin(np.arccos(pf1))*S1 + S2*pf2 + 1j*np.sin(np.arccos(pf2))*S2\n",
    "pf_14 = np.cos(np.angle(S_14_cplx))\n",
    "\n",
    "data = {     \n",
    "        \"buses\":[\n",
    "                 {\"bus\": \"HVinf\", \"pos_x\":   0, \"pos_y\":  0, \"units\": \"m\", \"U_kV\":110.0},\n",
    "                 {\"bus\": \"HV\",    \"pos_x\":   0, \"pos_y\": -5, \"units\": \"m\", \"U_kV\":110.0},\n",
    "                 {\"bus\": \"12\",    \"pos_x\":   0, \"pos_y\":-15, \"units\": \"m\", \"U_kV\":20.0},\n",
    "                 {\"bus\": \"13\",    \"pos_x\":   0, \"pos_y\":-35, \"units\": \"m\", \"U_kV\":20.0},\n",
    "                 {\"bus\": \"14\",    \"pos_x\":   0, \"pos_y\":-85, \"units\": \"m\", \"U_kV\":20.0},\n",
    "                ],\n",
    "        \"grid_formers\":[\n",
    "                        {\"bus\": \"HVinf\",\n",
    "                        \"bus_nodes\": [1, 2, 3], \"deg\": [0, -120, -240],\n",
    "                        \"kV\": [V_hv,V_hv,V_hv]}\n",
    "                       ],\n",
    "        \"transformers\":[\n",
    "                        {\"bus_j\": \"HV\",  \"bus_k\": \"12\",  \"S_n_kVA\": 25.0e3, \"U_j_kV\":110, \"U_k_kV\":20.0,\n",
    "                         \"R_cc_pu\": 0.001, \"X_cc_pu\":0.12, \"connection\": \"Dyn5\",   \"conductors_j\": 3, \"conductors_k\": 4}\n",
    "                       ],\n",
    "        \"lines\":[\n",
    "                {\"bus_j\": \"HVinf\",  \"bus_k\": \"HV\",  \"code\": \"eq_red\", \"m\": 1000.0},\n",
    "                {\"bus_j\": \"12\",     \"bus_k\": \"13\",  \"code\": \"1\", \"m\": 4.89e3},\n",
    "                {\"bus_j\": \"13\",     \"bus_k\": \"14\",  \"code\": \"1\", \"m\": 3.0e3},\n",
    "                ],\n",
    "        \"shunts\":[\n",
    "                 {\"bus\": \"12\" , \"R\": 0.001,   \"X\": 0.0, \"bus_nodes\": [4,0]},\n",
    "                 {\"bus\": \"12\" , \"R\": 1.0e-10, \"X\": 0.0, \"bus_nodes\": [1,2]},\n",
    "                 {\"bus\": \"12\" , \"R\": 1.0e-10, \"X\": 0.0, \"bus_nodes\": [2,3]},\n",
    "                 ],\n",
    "        \"loads\":[\n",
    "                 #{\"bus\": \"12\" , \"kVA\":S_12_cplx, \"pf\": pf_12,\"type\":\"3P\"},\n",
    "                 #{\"bus\": \"13\" , \"kVA\":40.0, \"pf\": 0.85,\"type\":\"3P\"},\n",
    "                 #{\"bus\": \"14\" , \"kVA\":S_14_cplx, \"pf\":pf_14,\"type\":\"3P\"},\n",
    "                ],\n",
    "        \"line_codes\":\n",
    "            {\n",
    "            \"eq_red\":  {\"R1\":R_red,\"X1\":X_red},    \n",
    "            \"1\":  {\"R1\":0.510,\"X1\":0.366,\"B1_mu\":3.172},\n",
    "            \"2\":  {\"R1\":89.0e-3,\"X1\":3.5e-3},\n",
    "            }\n",
    "       } "
   ]
  },
  {
   "cell_type": "code",
   "execution_count": 30,
   "metadata": {},
   "outputs": [
    {
     "data": {
      "text/html": [
       "\n",
       "\n",
       "\n",
       "\n",
       "\n",
       "\n",
       "  <div class=\"bk-root\" id=\"3dd16cd4-dec9-45b2-906e-1e8728c764da\"></div>\n"
      ]
     },
     "metadata": {},
     "output_type": "display_data"
    },
    {
     "data": {
      "application/javascript": [
       "(function(root) {\n",
       "  function embed_document(root) {\n",
       "    \n",
       "  var docs_json = {\"45a1a573-073f-405a-aac4-e3d1c30809df\":{\"roots\":{\"references\":[{\"attributes\":{\"below\":[{\"id\":\"1853\",\"type\":\"LinearAxis\"}],\"left\":[{\"id\":\"1858\",\"type\":\"LinearAxis\"}],\"plot_height\":400,\"renderers\":[{\"id\":\"1853\",\"type\":\"LinearAxis\"},{\"id\":\"1857\",\"type\":\"Grid\"},{\"id\":\"1858\",\"type\":\"LinearAxis\"},{\"id\":\"1862\",\"type\":\"Grid\"},{\"id\":\"1871\",\"type\":\"BoxAnnotation\"},{\"id\":\"1882\",\"type\":\"GlyphRenderer\"},{\"id\":\"1888\",\"type\":\"GlyphRenderer\"},{\"id\":\"1894\",\"type\":\"GlyphRenderer\"}],\"title\":{\"id\":\"1842\",\"type\":\"Title\"},\"toolbar\":{\"id\":\"1869\",\"type\":\"Toolbar\"},\"x_range\":{\"id\":\"1845\",\"type\":\"DataRange1d\"},\"x_scale\":{\"id\":\"1849\",\"type\":\"LinearScale\"},\"y_range\":{\"id\":\"1847\",\"type\":\"DataRange1d\"},\"y_scale\":{\"id\":\"1851\",\"type\":\"LinearScale\"}},\"id\":\"1843\",\"subtype\":\"Figure\",\"type\":\"Plot\"},{\"attributes\":{\"plot\":{\"id\":\"1843\",\"subtype\":\"Figure\",\"type\":\"Plot\"},\"ticker\":{\"id\":\"1854\",\"type\":\"BasicTicker\"}},\"id\":\"1857\",\"type\":\"Grid\"},{\"attributes\":{},\"id\":\"1972\",\"type\":\"Selection\"},{\"attributes\":{\"callback\":null,\"data\":{\"deg_1a\":[-89.3134846038769],\"deg_1b\":[150.68651539610332],\"deg_1c\":[30.686515397545683],\"deg_1n\":[-45.0],\"deg_2a\":[-119.31348460292192],\"deg_2b\":[120.6865153956357],\"deg_2c\":[0.6865153970582865],\"deg_2n\":[-80.87899355587733],\"i_1a_m\":[1049.8608202123874],\"i_1b_m\":[1049.8608201820782],\"i_1c_m\":[1049.8608201969184],\"i_1n_m\":[1.6077746776921858e-13],\"i_2a_m\":[5774.2345111669765],\"i_2b_m\":[5774.234511085357],\"i_2c_m\":[5774.234511000278],\"i_2n_m\":[9.972949155990947e-13],\"trafo_id\":[\"HV-12\"],\"x_s\":[[0,0]],\"y_s\":[[-5,-15]]},\"selected\":{\"id\":\"1968\",\"type\":\"Selection\"},\"selection_policy\":{\"id\":\"1969\",\"type\":\"UnionRenderers\"}},\"id\":\"1878\",\"type\":\"ColumnDataSource\"},{\"attributes\":{\"formatter\":{\"id\":\"1965\",\"type\":\"BasicTickFormatter\"},\"plot\":{\"id\":\"1843\",\"subtype\":\"Figure\",\"type\":\"Plot\"},\"ticker\":{\"id\":\"1859\",\"type\":\"BasicTicker\"}},\"id\":\"1858\",\"type\":\"LinearAxis\"},{\"attributes\":{\"plot\":null,\"text\":\"Results\"},\"id\":\"1842\",\"type\":\"Title\"},{\"attributes\":{},\"id\":\"1971\",\"type\":\"UnionRenderers\"},{\"attributes\":{},\"id\":\"1973\",\"type\":\"UnionRenderers\"},{\"attributes\":{\"line_alpha\":{\"value\":0.5},\"line_color\":{\"value\":\"red\"},\"line_width\":{\"value\":5},\"xs\":{\"field\":\"x_s\"},\"ys\":{\"field\":\"y_s\"}},\"id\":\"1886\",\"type\":\"MultiLine\"},{\"attributes\":{},\"id\":\"1859\",\"type\":\"BasicTicker\"},{\"attributes\":{\"line_alpha\":{\"value\":0.1},\"line_color\":{\"value\":\"#1f77b4\"},\"line_width\":{\"value\":5},\"xs\":{\"field\":\"x_s\"},\"ys\":{\"field\":\"y_s\"}},\"id\":\"1887\",\"type\":\"MultiLine\"},{\"attributes\":{\"dimension\":1,\"plot\":{\"id\":\"1843\",\"subtype\":\"Figure\",\"type\":\"Plot\"},\"ticker\":{\"id\":\"1859\",\"type\":\"BasicTicker\"}},\"id\":\"1862\",\"type\":\"Grid\"},{\"attributes\":{\"data_source\":{\"id\":\"1884\",\"type\":\"ColumnDataSource\"},\"glyph\":{\"id\":\"1886\",\"type\":\"MultiLine\"},\"hover_glyph\":null,\"muted_glyph\":null,\"nonselection_glyph\":{\"id\":\"1887\",\"type\":\"MultiLine\"},\"selection_glyph\":null,\"view\":{\"id\":\"1889\",\"type\":\"CDSView\"}},\"id\":\"1888\",\"type\":\"GlyphRenderer\"},{\"attributes\":{\"line_alpha\":{\"value\":0.5},\"line_color\":{\"value\":\"green\"},\"line_width\":{\"value\":5},\"xs\":{\"field\":\"x_s\"},\"ys\":{\"field\":\"y_s\"}},\"id\":\"1880\",\"type\":\"MultiLine\"},{\"attributes\":{\"source\":{\"id\":\"1884\",\"type\":\"ColumnDataSource\"}},\"id\":\"1889\",\"type\":\"CDSView\"},{\"attributes\":{},\"id\":\"1968\",\"type\":\"Selection\"},{\"attributes\":{\"callback\":null,\"data\":{\"bus_id\":[\"HVinf\",\"HV\",\"12\",\"13\",\"14\"],\"deg_an\":[\"0.00\",\"0.21\",\"41.58\",\"41.58\",\"41.58\"],\"deg_bn\":[\"-120.00\",\"-119.79\",\"-59.31\",\"-59.31\",\"-59.31\"],\"deg_cn\":[\"120.00\",\"120.21\",\"-160.21\",\"-160.21\",\"-160.20\"],\"deg_ng\":[\"0.00\",\"0.00\",\"99.12\",\"0.00\",\"0.00\"],\"p_a\":[\"798.88\",\"0.00\",\"0.00\",\"0.00\",\"0.00\"],\"p_abc\":[\"2396.64\",\"0.00\",\"0.00\",\"0.00\",\"0.00\"],\"p_b\":[\"798.88\",\"-0.00\",\"0.00\",\"0.00\",\"0.00\"],\"p_c\":[\"798.88\",\"0.00\",\"-0.00\",\"-0.00\",\"-0.00\"],\"q_a\":[\"66670.33\",\"0.00\",\"0.00\",\"0.00\",\"0.00\"],\"q_abc\":[\"200010.99\",\"0.00\",\"0.00\",\"0.00\",\"0.00\"],\"q_b\":[\"66670.33\",\"0.00\",\"-0.00\",\"-0.00\",\"-0.00\"],\"q_c\":[\"66670.33\",\"0.00\",\"0.00\",\"0.00\",\"0.00\"],\"s_color\":[\"red\",\"blue\",\"blue\",\"blue\",\"blue\"],\"s_radio\":[20,1,1,1,1],\"u_avg_pu\":[\"1.000\",\"0.960\",\"0.000\",\"0.000\",\"0.000\"],\"v_ab\":[109999.99999999999,105617.05237485078,5.774234511166987e-07,5.774483235816662e-07,5.774525272780468e-07],\"v_an\":[\"63508.53\",\"60978.03\",\"0.00\",\"0.00\",\"0.00\"],\"v_an_pu\":[\"1.0000\",\"0.9602\",\"0.0000\",\"0.0000\",\"0.0000\"],\"v_bc\":[110000.0,105617.05237490538,5.77423451100029e-07,5.774483235649955e-07,5.77452527261376e-07],\"v_bn\":[\"63508.53\",\"60978.03\",\"0.00\",\"0.00\",\"0.00\"],\"v_bn_pu\":[\"1.0000\",\"0.9602\",\"0.0000\",\"0.0000\",\"0.0000\"],\"v_ca\":[110000.00000000003,105617.05237477878,1.0001267548013504e-06,1.0001698351743828e-06,1.0001771161900936e-06],\"v_cn\":[\"63508.53\",\"60978.03\",\"0.00\",\"0.00\",\"0.00\"],\"v_cn_pu\":[\"1.0000\",\"0.9602\",\"0.0000\",\"0.0000\",\"0.0000\"],\"v_ng\":[\"0.00\",\"0.00\",\"0.00\",\"0.00\",\"0.00\"],\"v_unb\":[\"0.0\",\"0.0\",\"52.3\",\"52.3\",\"52.3\"],\"x\":[0,0,0,0,0],\"y\":[0,-5,-15,-35,-85]},\"selected\":{\"id\":\"1972\",\"type\":\"Selection\"},\"selection_policy\":{\"id\":\"1973\",\"type\":\"UnionRenderers\"}},\"id\":\"1890\",\"type\":\"ColumnDataSource\"},{\"attributes\":{\"active_drag\":\"auto\",\"active_inspect\":\"auto\",\"active_multi\":null,\"active_scroll\":\"auto\",\"active_tap\":\"auto\",\"tools\":[{\"id\":\"1863\",\"type\":\"PanTool\"},{\"id\":\"1864\",\"type\":\"WheelZoomTool\"},{\"id\":\"1865\",\"type\":\"BoxZoomTool\"},{\"id\":\"1866\",\"type\":\"SaveTool\"},{\"id\":\"1867\",\"type\":\"ResetTool\"},{\"id\":\"1868\",\"type\":\"HelpTool\"},{\"id\":\"1896\",\"type\":\"HoverTool\"},{\"id\":\"1898\",\"type\":\"HoverTool\"},{\"id\":\"1900\",\"type\":\"HoverTool\"}]},\"id\":\"1869\",\"type\":\"Toolbar\"},{\"attributes\":{},\"id\":\"1863\",\"type\":\"PanTool\"},{\"attributes\":{},\"id\":\"1970\",\"type\":\"Selection\"},{\"attributes\":{},\"id\":\"1864\",\"type\":\"WheelZoomTool\"},{\"attributes\":{\"fill_alpha\":{\"value\":0.5},\"fill_color\":{\"value\":\"navy\"},\"line_alpha\":{\"value\":0.5},\"line_color\":{\"value\":\"navy\"},\"size\":{\"units\":\"screen\",\"value\":15},\"x\":{\"field\":\"x\"},\"y\":{\"field\":\"y\"}},\"id\":\"1892\",\"type\":\"Circle\"},{\"attributes\":{\"overlay\":{\"id\":\"1871\",\"type\":\"BoxAnnotation\"}},\"id\":\"1865\",\"type\":\"BoxZoomTool\"},{\"attributes\":{\"callback\":null},\"id\":\"1845\",\"type\":\"DataRange1d\"},{\"attributes\":{\"fill_alpha\":{\"value\":0.1},\"fill_color\":{\"value\":\"#1f77b4\"},\"line_alpha\":{\"value\":0.1},\"line_color\":{\"value\":\"#1f77b4\"},\"size\":{\"units\":\"screen\",\"value\":15},\"x\":{\"field\":\"x\"},\"y\":{\"field\":\"y\"}},\"id\":\"1893\",\"type\":\"Circle\"},{\"attributes\":{},\"id\":\"1866\",\"type\":\"SaveTool\"},{\"attributes\":{\"data_source\":{\"id\":\"1890\",\"type\":\"ColumnDataSource\"},\"glyph\":{\"id\":\"1892\",\"type\":\"Circle\"},\"hover_glyph\":null,\"muted_glyph\":null,\"nonselection_glyph\":{\"id\":\"1893\",\"type\":\"Circle\"},\"selection_glyph\":null,\"view\":{\"id\":\"1895\",\"type\":\"CDSView\"}},\"id\":\"1894\",\"type\":\"GlyphRenderer\"},{\"attributes\":{},\"id\":\"1867\",\"type\":\"ResetTool\"},{\"attributes\":{\"source\":{\"id\":\"1890\",\"type\":\"ColumnDataSource\"}},\"id\":\"1895\",\"type\":\"CDSView\"},{\"attributes\":{},\"id\":\"1868\",\"type\":\"HelpTool\"},{\"attributes\":{\"callback\":null,\"renderers\":[{\"id\":\"1882\",\"type\":\"GlyphRenderer\"}],\"tooltips\":\"\\n            <div>\\n            transformer id = @trafo_id  \\n            <table border=\\\"5\\\">\\n                <tr >\\n                    <td>I<sub>1a</sub> =  @i_1a_m &ang; @deg_1a </td>\\n                    <td>I<sub>2a</sub> =  @i_2a_m &ang; @deg_2a </td>\\n                </tr>\\n                <tr>\\n                    <td >I<sub>1b</sub> =  @i_1b_m &ang; @deg_1b </td>\\n                    <td >I<sub>2b</sub> =  @i_2b_m &ang; @deg_2b </td>\\n                </tr>\\n                <tr>\\n                    <td >I<sub>1c</sub> =  @i_1c_m &ang; @deg_1c </td>\\n                    <td >I<sub>2c</sub> =  @i_2c_m &ang; @deg_2c </td>\\n                </tr>\\n                <tr>\\n                    <td >I<sub>1n</sub> =  @i_1n_m &ang; @deg_1n </td>\\n                    <td >I<sub>2n</sub> =  @i_2n_m &ang; @deg_2n </td>\\n                </tr>\\n            </table>            \\n            </div>\\n            \"},\"id\":\"1896\",\"type\":\"HoverTool\"},{\"attributes\":{\"callback\":null,\"renderers\":[{\"id\":\"1888\",\"type\":\"GlyphRenderer\"}],\"tooltips\":\"\\n            <div>\\n            line id = @line_id \\n            <table border=\\\"5\\\">\\n                <tr >\\n                    <td>I<sub>ja</sub> =  @i_j_a_m &ang; @deg_j_a </td>\\n                    <td>I<sub>ka</sub> =  @i_k_a_m &ang; @deg_k_a </td>\\n                </tr>\\n                <tr>\\n                    <td >I<sub>jb</sub> =  @i_j_b_m &ang; @deg_j_b </td>\\n                    <td >I<sub>kb</sub> =  @i_k_b_m &ang; @deg_k_b </td>\\n                </tr>\\n                <tr>\\n                    <td >I<sub>jc</sub> =  @i_j_c_m &ang; @deg_j_c </td>\\n                    <td >I<sub>kc</sub> =  @i_k_c_m &ang; @deg_k_c </td>\\n                </tr>\\n                <tr>\\n                    <td >I<sub>jn</sub> =  @i_j_n_m &ang; @deg_j_n </td>\\n                    <td >I<sub>kn</sub> =  @i_k_n_m &ang; @deg_k_n </td>\\n                </tr>\\n            </table>            \\n            </div>\\n            \"},\"id\":\"1898\",\"type\":\"HoverTool\"},{\"attributes\":{\"callback\":null},\"id\":\"1847\",\"type\":\"DataRange1d\"},{\"attributes\":{\"bottom_units\":\"screen\",\"fill_alpha\":{\"value\":0.5},\"fill_color\":{\"value\":\"lightgrey\"},\"left_units\":\"screen\",\"level\":\"overlay\",\"line_alpha\":{\"value\":1.0},\"line_color\":{\"value\":\"black\"},\"line_dash\":[4,4],\"line_width\":{\"value\":2},\"plot\":null,\"render_mode\":\"css\",\"right_units\":\"screen\",\"top_units\":\"screen\"},\"id\":\"1871\",\"type\":\"BoxAnnotation\"},{\"attributes\":{\"callback\":null,\"renderers\":[{\"id\":\"1894\",\"type\":\"GlyphRenderer\"}],\"tooltips\":\"\\n            <div>\\n            bus_id = @bus_id &nbsp &nbsp |  u<sub>avg</sub>= @u_avg_pu pu |  u<sub>unb</sub>= @v_unb %\\n            <table border=\\\"1\\\">\\n                <tr>\\n                <td>v<sub>an</sub> =  @v_an  &ang; @deg_an V </td> <td> S<sub>a</sub> = @p_a + j@q_a kVA</td>\\n                </tr>\\n                      <tr>\\n                      <td> </td> <td>v<sub>ab</sub>= @v_ab V</td>\\n                      </tr>\\n                <tr>\\n                <td>v<sub>bn</sub> = @v_bn &ang; @deg_bn V </td><td> S<sub>b</sub> = @p_b + j@q_b kVA</td>\\n                </tr>\\n                      <tr>\\n                      <td> </td><td>v<sub>bc</sub>= @v_bc V</td>\\n                      </tr>\\n                <tr>\\n                <td>v<sub>cn</sub>  = @v_cn &ang; @deg_cn V </td>  <td>S<sub>c</sub> = @p_c + j@q_c kVA </td>\\n                </tr> \\n                    <tr>\\n                     <td> </td> <td>v<sub>ca</sub>= @v_ca V</td>\\n                    </tr>\\n               <tr>\\n                <td>v<sub>ng</sub>    = @v_ng &ang; @deg_ng V</td>  <td>S<sub>abc</sub> = @p_abc + j@q_abc kVA </td>\\n              </tr>\\n            </table>\\n            </div>\\n            \"},\"id\":\"1900\",\"type\":\"HoverTool\"},{\"attributes\":{},\"id\":\"1849\",\"type\":\"LinearScale\"},{\"attributes\":{\"line_alpha\":{\"value\":0.1},\"line_color\":{\"value\":\"#1f77b4\"},\"line_width\":{\"value\":5},\"xs\":{\"field\":\"x_s\"},\"ys\":{\"field\":\"y_s\"}},\"id\":\"1881\",\"type\":\"MultiLine\"},{\"attributes\":{},\"id\":\"1851\",\"type\":\"LinearScale\"},{\"attributes\":{},\"id\":\"1963\",\"type\":\"BasicTickFormatter\"},{\"attributes\":{\"data_source\":{\"id\":\"1878\",\"type\":\"ColumnDataSource\"},\"glyph\":{\"id\":\"1880\",\"type\":\"MultiLine\"},\"hover_glyph\":null,\"muted_glyph\":null,\"nonselection_glyph\":{\"id\":\"1881\",\"type\":\"MultiLine\"},\"selection_glyph\":null,\"view\":{\"id\":\"1883\",\"type\":\"CDSView\"}},\"id\":\"1882\",\"type\":\"GlyphRenderer\"},{\"attributes\":{},\"id\":\"1969\",\"type\":\"UnionRenderers\"},{\"attributes\":{\"formatter\":{\"id\":\"1963\",\"type\":\"BasicTickFormatter\"},\"plot\":{\"id\":\"1843\",\"subtype\":\"Figure\",\"type\":\"Plot\"},\"ticker\":{\"id\":\"1854\",\"type\":\"BasicTicker\"}},\"id\":\"1853\",\"type\":\"LinearAxis\"},{\"attributes\":{},\"id\":\"1965\",\"type\":\"BasicTickFormatter\"},{\"attributes\":{\"source\":{\"id\":\"1878\",\"type\":\"ColumnDataSource\"}},\"id\":\"1883\",\"type\":\"CDSView\"},{\"attributes\":{},\"id\":\"1854\",\"type\":\"BasicTicker\"},{\"attributes\":{\"callback\":null,\"data\":{\"deg_j_a\":[-89.31348460387707,-138.41877156674627,-138.4181299606356],\"deg_j_b\":[150.68651539610298,120.68761861802744,120.68826021760555],\"deg_j_c\":[30.686515397545385,19.794385998961285,19.795027606143684],\"deg_j_n\":[-153.434948822922,8.55786483769302,8.55979040462612],\"deg_k_a\":[-89.31348460387707,-138.41812996027815,63.738520689877404],\"deg_k_b\":[150.68651539610298,120.68826021679293,-43.19065929746854],\"deg_k_c\":[30.686515397545385,19.795027606946828,-78.56454617521227],\"deg_k_n\":[-153.434948822922,8.559775320835882,6.002225971286379],\"i_j_a_m\":[1049.8608202123862,1.2745163750717845e-11,4.846145484641604e-12],\"i_j_b_m\":[1049.860820182079,4.817218144944081e-12,1.8316704610646125e-12],\"i_j_c_m\":[1049.860820196914,1.2745192815870106e-11,4.846156536704963e-12],\"i_j_n_m\":[2.033691978340166e-12,4.7928871712411265e-17,1.8224800208818334e-17],\"i_k_a_m\":[1049.8608202123862,4.846145484724228e-12,6.26093893387623e-23],\"i_k_b_m\":[1049.860820182079,1.8316704610483726e-12,3.363774263802331e-23],\"i_k_c_m\":[1049.860820196914,4.84615653672656e-12,2.760566018155138e-23],\"i_k_n_m\":[2.033691978340166e-12,1.8224785538204317e-17,5.801855993660309e-23],\"line_id\":[\"HVinf-HV\",\"12-13\",\"13-14\"],\"x_s\":[[0,0],[0,0],[0,0]],\"y_s\":[[0,-5],[-15,-35],[-35,-85]]},\"selected\":{\"id\":\"1970\",\"type\":\"Selection\"},\"selection_policy\":{\"id\":\"1971\",\"type\":\"UnionRenderers\"}},\"id\":\"1884\",\"type\":\"ColumnDataSource\"}],\"root_ids\":[\"1843\"]},\"title\":\"Bokeh Application\",\"version\":\"1.0.1\"}};\n",
       "  var render_items = [{\"docid\":\"45a1a573-073f-405a-aac4-e3d1c30809df\",\"roots\":{\"1843\":\"3dd16cd4-dec9-45b2-906e-1e8728c764da\"}}];\n",
       "  root.Bokeh.embed.embed_items_notebook(docs_json, render_items);\n",
       "\n",
       "  }\n",
       "  if (root.Bokeh !== undefined) {\n",
       "    embed_document(root);\n",
       "  } else {\n",
       "    var attempts = 0;\n",
       "    var timer = setInterval(function(root) {\n",
       "      if (root.Bokeh !== undefined) {\n",
       "        embed_document(root);\n",
       "        clearInterval(timer);\n",
       "      }\n",
       "      attempts++;\n",
       "      if (attempts > 100) {\n",
       "        console.log(\"Bokeh: ERROR: Unable to run BokehJS code because BokehJS library is missing\");\n",
       "        clearInterval(timer);\n",
       "      }\n",
       "    }, 10, root)\n",
       "  }\n",
       "})(window);"
      ],
      "application/vnd.bokehjs_exec.v0+json": ""
     },
     "metadata": {
      "application/vnd.bokehjs_exec.v0+json": {
       "id": "1843"
      }
     },
     "output_type": "display_data"
    }
   ],
   "source": [
    "sys1 = grid()\n",
    "sys1.read(data)  # Load data\n",
    "sys1.pf()  # solve power flow\n",
    "sys1.get_v()      # post process voltages\n",
    "sys1.get_i()      # post process currents\n",
    "\n",
    "from pydgrid.plot_bokeh import plot_results\n",
    "fig = plot_results(sys1)"
   ]
  },
  {
   "cell_type": "code",
   "execution_count": 31,
   "metadata": {},
   "outputs": [
    {
     "data": {
      "text/plain": [
       "6.615400000000001"
      ]
     },
     "execution_count": 31,
     "metadata": {},
     "output_type": "execute_result"
    }
   ],
   "source": [
    "6.014*1.1"
   ]
  },
  {
   "cell_type": "code",
   "execution_count": 32,
   "metadata": {},
   "outputs": [
    {
     "data": {
      "text/plain": [
       "0.9735784929115807"
      ]
     },
     "execution_count": 32,
     "metadata": {},
     "output_type": "execute_result"
    }
   ],
   "source": [
    "pf_12"
   ]
  },
  {
   "cell_type": "code",
   "execution_count": 33,
   "metadata": {},
   "outputs": [
    {
     "data": {
      "text/plain": [
       "0.2407990000308174"
      ]
     },
     "execution_count": 33,
     "metadata": {},
     "output_type": "execute_result"
    }
   ],
   "source": [
    "R_red"
   ]
  },
  {
   "cell_type": "code",
   "execution_count": 7,
   "metadata": {},
   "outputs": [
    {
     "data": {
      "text/plain": [
       "6.482488822461119"
      ]
     },
     "execution_count": 7,
     "metadata": {},
     "output_type": "execute_result"
    }
   ],
   "source": [
    "224.56/(20*np.sqrt(3))"
   ]
  },
  {
   "cell_type": "code",
   "execution_count": 8,
   "metadata": {},
   "outputs": [
    {
     "data": {
      "text/plain": [
       "63.08523859033903"
      ]
     },
     "execution_count": 8,
     "metadata": {},
     "output_type": "execute_result"
    }
   ],
   "source": [
    "26.24*np.sqrt(2)*1.7"
   ]
  },
  {
   "cell_type": "code",
   "execution_count": 9,
   "metadata": {},
   "outputs": [],
   "source": [
    "Z_trafo = 0.016+1j*1.92\n",
    "I_cc_12 = 20.0e3/np.sqrt(3)/Z_trafo\n",
    "Z_base_trafo = 20.0e3**2/25.0e6\n",
    "Z_trafo_pu = Z_trafo/Z_base_trafo"
   ]
  },
  {
   "cell_type": "code",
   "execution_count": 10,
   "metadata": {},
   "outputs": [
    {
     "data": {
      "text/plain": [
       "6013.856493222156"
      ]
     },
     "execution_count": 10,
     "metadata": {},
     "output_type": "execute_result"
    }
   ],
   "source": [
    "abs(I_cc_12)"
   ]
  },
  {
   "cell_type": "code",
   "execution_count": 11,
   "metadata": {},
   "outputs": [
    {
     "data": {
      "text/plain": [
       "(0.001+0.12j)"
      ]
     },
     "execution_count": 11,
     "metadata": {},
     "output_type": "execute_result"
    }
   ],
   "source": [
    "Z_trafo_pu"
   ]
  },
  {
   "cell_type": "code",
   "execution_count": 12,
   "metadata": {},
   "outputs": [
    {
     "data": {
      "text/plain": [
       "1.822222222222222"
      ]
     },
     "execution_count": 12,
     "metadata": {},
     "output_type": "execute_result"
    }
   ],
   "source": [
    "3.28/1.8"
   ]
  },
  {
   "cell_type": "code",
   "execution_count": 13,
   "metadata": {},
   "outputs": [
    {
     "data": {
      "text/plain": [
       "3.3"
      ]
     },
     "execution_count": 13,
     "metadata": {},
     "output_type": "execute_result"
    }
   ],
   "source": [
    "66/20"
   ]
  },
  {
   "cell_type": "code",
   "execution_count": 14,
   "metadata": {},
   "outputs": [
    {
     "data": {
      "text/plain": [
       "[{'bus_j': 'HV',\n",
       "  'bus_k': '12',\n",
       "  'S_n_kVA': 25000.0,\n",
       "  'U_j_kV': 110,\n",
       "  'U_k_kV': 20.0,\n",
       "  'R_cc_pu': 0.001,\n",
       "  'X_cc_pu': 0.12,\n",
       "  'connection': 'Dyn5',\n",
       "  'conductors_j': 3,\n",
       "  'conductors_k': 4,\n",
       "  'bus_j_nodes': [1, 2, 3],\n",
       "  'bus_k_nodes': [1, 2, 3, 4],\n",
       "  'i_1a_m': 1093.4239165437707,\n",
       "  'i_1b_m': 1093.4239165108936,\n",
       "  'i_1c_m': 1093.423916527095,\n",
       "  'i_1n_m': 1.1368683772161603e-13,\n",
       "  'i_2a_m': 6013.83154098987,\n",
       "  'i_2b_m': 6013.831540900762,\n",
       "  'i_2c_m': 6013.831540809045,\n",
       "  'i_2n_m': 1.449647909086338e-13,\n",
       "  'deg_1a': -89.52252444759415,\n",
       "  'deg_1b': 150.4774755523915,\n",
       "  'deg_1c': 30.477475553890635,\n",
       "  'deg_1n': 180.0,\n",
       "  'deg_2a': -119.52252444659952,\n",
       "  'deg_2b': 120.47747555190135,\n",
       "  'deg_2c': 0.47747555338613806,\n",
       "  'deg_2n': -67.80373169644855}]"
      ]
     },
     "execution_count": 14,
     "metadata": {},
     "output_type": "execute_result"
    }
   ],
   "source": [
    "sys1.transformers"
   ]
  },
  {
   "cell_type": "code",
   "execution_count": null,
   "metadata": {},
   "outputs": [],
   "source": []
  },
  {
   "cell_type": "code",
   "execution_count": null,
   "metadata": {},
   "outputs": [],
   "source": []
  }
 ],
 "metadata": {
  "kernelspec": {
   "display_name": "Python 3",
   "language": "python",
   "name": "python3"
  },
  "language_info": {
   "codemirror_mode": {
    "name": "ipython",
    "version": 3
   },
   "file_extension": ".py",
   "mimetype": "text/x-python",
   "name": "python",
   "nbconvert_exporter": "python",
   "pygments_lexer": "ipython3",
   "version": "3.6.6"
  }
 },
 "nbformat": 4,
 "nbformat_minor": 2
}
