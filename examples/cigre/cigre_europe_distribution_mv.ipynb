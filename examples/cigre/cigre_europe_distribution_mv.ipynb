{
 "cells": [
  {
   "cell_type": "code",
   "execution_count": 1,
   "metadata": {},
   "outputs": [],
   "source": [
    "import numpy as np\n",
    "from pydgrid import grid"
   ]
  },
  {
   "cell_type": "code",
   "execution_count": 19,
   "metadata": {},
   "outputs": [],
   "source": [
    "Z_trafo_b = 20.0e3**2/25.0e6\n",
    "V_hv = 220.0/np.sqrt(3)\n",
    "S1,pf1,S2,pf2 = 15300.0,0.98,5280,0.95\n",
    "S_12_cplx = S1*pf1 + 1j*np.sin(np.arccos(pf1))*S1 + S2*pf2 + 1j*np.sin(np.arccos(pf2))*S2\n",
    "pf_12 = np.cos(np.angle(S_12_cplx))\n",
    "\n",
    "S1,pf1,S2,pf2 = 215.0,0.97,390.0,0.85\n",
    "S_14_cplx = S1*pf1 + 1j*np.sin(np.arccos(pf1))*S1 + S2*pf2 + 1j*np.sin(np.arccos(pf2))*S2\n",
    "pf_14 = np.cos(np.angle(S_14_cplx))\n",
    "\n",
    "data = {     \n",
    "        \"buses\":[\n",
    "                 {\"bus\": \"HV\", \"pos_x\":   0, \"pos_y\":  0, \"units\": \"m\", \"U_kV\":220.0},\n",
    "                 {\"bus\": \"12\", \"pos_x\":   0, \"pos_y\":  -5, \"units\": \"m\", \"U_kV\":20.0},\n",
    "                 {\"bus\": \"13\", \"pos_x\":   0, \"pos_y\":  -25, \"units\": \"m\", \"U_kV\":20.0},\n",
    "                 {\"bus\": \"14\", \"pos_x\":   0, \"pos_y\":  -85, \"units\": \"m\", \"U_kV\":20.0},\n",
    "                ],\n",
    "        \"grid_formers\":[\n",
    "                        {\"bus\": \"HV\",\n",
    "                        \"bus_nodes\": [1, 2, 3], \"deg\": [0, -120, -240],\n",
    "                        \"kV\": [V_hv,V_hv,V_hv]}\n",
    "                       ],\n",
    "        \"transformers\":[\n",
    "                        {\"bus_j\": \"HV\",  \"bus_k\": \"12\",  \"S_n_kVA\": 25.0e3, \"U_j_kV\":220, \"U_k_kV\":20,\n",
    "                         \"R_cc_pu\": 0.19/Z_trafo_b, \"X_cc_pu\":1.91/Z_trafo_b, \"connection\": \"Dyn1\",   \"conductors_j\": 3, \"conductors_k\": 4}\n",
    "                       ],\n",
    "        \"lines\":[\n",
    "                {\"bus_j\": \"12\",  \"bus_k\": \"13\",  \"code\": \"1\", \"m\": 4.89e3},\n",
    "                {\"bus_j\": \"13\",  \"bus_k\": \"14\",  \"code\": \"1\", \"m\": 2.99e3},\n",
    "                ],\n",
    "        \"shunts\":[\n",
    "                 #{\"bus\": \"12\" , \"R\": 0.001, \"X\": 0.0, \"bus_nodes\": [4,0]},\n",
    "                 {\"bus\": \"14\" , \"R\": 1.0e-10, \"X\": 0.0, \"bus_nodes\": [1,0]},\n",
    "                 #{\"bus\": \"14\" , \"R\": 1.0e-10, \"X\": 0.0, \"bus_nodes\": [2,3]},\n",
    "                 ],\n",
    "        \"loads\":[\n",
    "                 #{\"bus\": \"12\" , \"kVA\":S_12_cplx, \"pf\": pf_12,\"type\":\"3P\"},\n",
    "                 #{\"bus\": \"13\" , \"kVA\":40.0, \"pf\": 0.85,\"type\":\"3P\"},\n",
    "                 #{\"bus\": \"14\" , \"kVA\":S_14_cplx, \"pf\":pf_14,\"type\":\"3P\"},\n",
    "                ],\n",
    "        \"line_codes\":\n",
    "            {\n",
    "            \"1\":  {\"R1\":0.510,\"X1\":0.366,\"B1_mu\":3.172},\n",
    "            \"2\":  {\"R1\":89.0e-3,\"X1\":3.5e-3},\n",
    "            }\n",
    "       } "
   ]
  },
  {
   "cell_type": "code",
   "execution_count": 20,
   "metadata": {},
   "outputs": [
    {
     "data": {
      "text/html": [
       "\n",
       "<div class=\"bk-root\">\n",
       "    <div class=\"bk-plotdiv\" id=\"e469c19a-2fa0-4486-bee9-6f8a5c2a5ae9\"></div>\n",
       "</div>"
      ]
     },
     "metadata": {},
     "output_type": "display_data"
    },
    {
     "data": {
      "application/javascript": [
       "(function(root) {\n",
       "  function embed_document(root) {\n",
       "    \n",
       "  var docs_json = {\"76e42b0b-3b98-4432-9dd8-0b0e23b598d3\":{\"roots\":{\"references\":[{\"attributes\":{},\"id\":\"91e8217f-2be5-458e-9c1e-2185b3e033d7\",\"type\":\"UnionRenderers\"},{\"attributes\":{\"plot\":null,\"text\":\"Results\"},\"id\":\"b4ff75da-12d7-46cf-b19c-9eb413f92d32\",\"type\":\"Title\"},{\"attributes\":{},\"id\":\"253304fc-8f30-4fb2-a119-f6e33bf0a62d\",\"type\":\"UnionRenderers\"},{\"attributes\":{\"plot\":{\"id\":\"3ad87473-4602-4dae-ac61-b3a1017ad2a9\",\"subtype\":\"Figure\",\"type\":\"Plot\"},\"ticker\":{\"id\":\"ad675de2-2e8f-4962-a979-ea5358b0f276\",\"type\":\"BasicTicker\"}},\"id\":\"2b95ac91-6446-4898-8630-3c6fc126ba96\",\"type\":\"Grid\"},{\"attributes\":{\"data_source\":{\"id\":\"445d525c-c4e9-4f3a-bf39-aa76c32d9a0a\",\"type\":\"ColumnDataSource\"},\"glyph\":{\"id\":\"dab755bc-9aec-44f6-91c8-8f84c4f2df15\",\"type\":\"MultiLine\"},\"hover_glyph\":null,\"muted_glyph\":null,\"nonselection_glyph\":{\"id\":\"a01d4e2d-b183-4524-9012-fa7089a3db2b\",\"type\":\"MultiLine\"},\"selection_glyph\":null,\"view\":{\"id\":\"454769cd-d80c-419d-947c-365dc26d5a77\",\"type\":\"CDSView\"}},\"id\":\"a966ceea-2da3-45e9-89d2-444ab7e44019\",\"type\":\"GlyphRenderer\"},{\"attributes\":{},\"id\":\"66e7ccb1-5fdd-4323-88b1-db604e59a5a9\",\"type\":\"BasicTickFormatter\"},{\"attributes\":{\"callback\":null,\"renderers\":[{\"id\":\"a966ceea-2da3-45e9-89d2-444ab7e44019\",\"type\":\"GlyphRenderer\"}],\"tooltips\":\"\\n            <div>\\n            line id = @line_id \\n            <table border=\\\"5\\\">\\n                <tr >\\n                    <td>I<sub>ja</sub> =  @i_j_a_m &ang; @deg_j_a </td>\\n                    <td>I<sub>ka</sub> =  @i_k_a_m &ang; @deg_k_a </td>\\n                </tr>\\n                <tr>\\n                    <td >I<sub>jb</sub> =  @i_j_b_m &ang; @deg_j_b </td>\\n                    <td >I<sub>kb</sub> =  @i_k_b_m &ang; @deg_k_b </td>\\n                </tr>\\n                <tr>\\n                    <td >I<sub>jc</sub> =  @i_j_c_m &ang; @deg_j_c </td>\\n                    <td >I<sub>kc</sub> =  @i_k_c_m &ang; @deg_k_c </td>\\n                </tr>\\n                <tr>\\n                    <td >I<sub>jn</sub> =  @i_j_n_m &ang; @deg_j_n </td>\\n                    <td >I<sub>kn</sub> =  @i_k_n_m &ang; @deg_k_n </td>\\n                </tr>\\n            </table>            \\n            </div>\\n            \"},\"id\":\"66a9921c-af3e-41a0-8464-c48c04c7e1ab\",\"type\":\"HoverTool\"},{\"attributes\":{\"formatter\":{\"id\":\"df25150c-f6cc-443c-bc83-f89f8221585d\",\"type\":\"BasicTickFormatter\"},\"plot\":{\"id\":\"3ad87473-4602-4dae-ac61-b3a1017ad2a9\",\"subtype\":\"Figure\",\"type\":\"Plot\"},\"ticker\":{\"id\":\"ad675de2-2e8f-4962-a979-ea5358b0f276\",\"type\":\"BasicTicker\"}},\"id\":\"4adc226e-0b4a-4423-853b-0f652ec8fd0d\",\"type\":\"LinearAxis\"},{\"attributes\":{\"callback\":null,\"renderers\":[{\"id\":\"3a8b406a-c680-4354-955f-b726ebb95f61\",\"type\":\"GlyphRenderer\"}],\"tooltips\":\"\\n            <div>\\n            line id = @trafo_id  \\n            <table border=\\\"5\\\">\\n                <tr >\\n                    <td>I<sub>1a</sub> =  @i_1a_m &ang; @deg_1a </td>\\n                    <td>I<sub>2a</sub> =  @i_2a_m &ang; @deg_2a </td>\\n                </tr>\\n                <tr>\\n                    <td >I<sub>1b</sub> =  @i_1b_m &ang; @deg_1b </td>\\n                    <td >I<sub>2b</sub> =  @i_2b_m &ang; @deg_2b </td>\\n                </tr>\\n                <tr>\\n                    <td >I<sub>1c</sub> =  @i_1c_m &ang; @deg_1c </td>\\n                    <td >I<sub>2c</sub> =  @i_2c_m &ang; @deg_2c </td>\\n                </tr>\\n                <tr>\\n                    <td >I<sub>1n</sub> =  @i_1n_m &ang; @deg_1n </td>\\n                    <td >I<sub>2n</sub> =  @i_2n_m &ang; @deg_2n </td>\\n                </tr>\\n            </table>            \\n            </div>\\n            \"},\"id\":\"fc4739bb-589f-4382-9426-ab45834a1ccc\",\"type\":\"HoverTool\"},{\"attributes\":{\"data_source\":{\"id\":\"cbc61c44-6fa9-446b-8eed-a0f0a25e4a74\",\"type\":\"ColumnDataSource\"},\"glyph\":{\"id\":\"de4d7403-6638-4ddf-8669-a641291639df\",\"type\":\"MultiLine\"},\"hover_glyph\":null,\"muted_glyph\":null,\"nonselection_glyph\":{\"id\":\"cba7bca2-7dfc-4027-a8cb-ee88c8404976\",\"type\":\"MultiLine\"},\"selection_glyph\":null,\"view\":{\"id\":\"8639a325-7fa5-46b4-8458-0577e6b33cb9\",\"type\":\"CDSView\"}},\"id\":\"3a8b406a-c680-4354-955f-b726ebb95f61\",\"type\":\"GlyphRenderer\"},{\"attributes\":{\"line_alpha\":{\"value\":0.5},\"line_color\":{\"value\":\"green\"},\"line_width\":{\"value\":5},\"xs\":{\"field\":\"x_s\"},\"ys\":{\"field\":\"y_s\"}},\"id\":\"de4d7403-6638-4ddf-8669-a641291639df\",\"type\":\"MultiLine\"},{\"attributes\":{},\"id\":\"00571446-099a-4dfa-9dd9-1aadab6bf1ef\",\"type\":\"Selection\"},{\"attributes\":{\"callback\":null,\"data\":{\"deg_1a\":[-160.87722785262633],\"deg_1b\":[40.904341935942675],\"deg_1c\":[-59.99781236454745],\"deg_1n\":[0.0],\"deg_2a\":[30.013977924388854],\"deg_2b\":[-119.99505808720569],\"deg_2c\":[-179.98287903927073],\"deg_2n\":[4.197163243237343],\"i_1a_m\":[0.06943612434789],\"i_1b_m\":[0.06944142657976654],\"i_1c_m\":[0.026239178942179222],\"i_1n_m\":[0.0],\"i_2a_m\":[0.8661054669751556],\"i_2b_m\":[0.5000600931529063],\"i_2c_m\":[0.4999709962468263],\"i_2n_m\":[4.6090395669445685e-11],\"trafo_id\":[\"HV-12\"],\"x_s\":[[0,0]],\"y_s\":[[0,-5]]},\"selected\":{\"id\":\"00571446-099a-4dfa-9dd9-1aadab6bf1ef\",\"type\":\"Selection\"},\"selection_policy\":{\"id\":\"253304fc-8f30-4fb2-a119-f6e33bf0a62d\",\"type\":\"UnionRenderers\"}},\"id\":\"cbc61c44-6fa9-446b-8eed-a0f0a25e4a74\",\"type\":\"ColumnDataSource\"},{\"attributes\":{\"source\":{\"id\":\"f08859f9-8f68-47b1-8198-0242c64cd0fa\",\"type\":\"ColumnDataSource\"}},\"id\":\"0d19c64b-bb03-44e9-8584-efef23f47f03\",\"type\":\"CDSView\"},{\"attributes\":{\"fill_alpha\":{\"value\":0.1},\"fill_color\":{\"value\":\"#1f77b4\"},\"line_alpha\":{\"value\":0.1},\"line_color\":{\"value\":\"#1f77b4\"},\"size\":{\"units\":\"screen\",\"value\":15},\"x\":{\"field\":\"x\"},\"y\":{\"field\":\"y\"}},\"id\":\"c1c0ed6a-49fb-48cb-be59-693087c99f1b\",\"type\":\"Circle\"},{\"attributes\":{\"below\":[{\"id\":\"4adc226e-0b4a-4423-853b-0f652ec8fd0d\",\"type\":\"LinearAxis\"}],\"left\":[{\"id\":\"a1a66e50-277d-4084-8aa3-8d82328aedcd\",\"type\":\"LinearAxis\"}],\"plot_height\":400,\"renderers\":[{\"id\":\"4adc226e-0b4a-4423-853b-0f652ec8fd0d\",\"type\":\"LinearAxis\"},{\"id\":\"2b95ac91-6446-4898-8630-3c6fc126ba96\",\"type\":\"Grid\"},{\"id\":\"a1a66e50-277d-4084-8aa3-8d82328aedcd\",\"type\":\"LinearAxis\"},{\"id\":\"9174884c-a463-4ff9-a3a5-c595dae9a123\",\"type\":\"Grid\"},{\"id\":\"9e767935-2052-4867-aed5-0b7284c3b6e6\",\"type\":\"BoxAnnotation\"},{\"id\":\"3a8b406a-c680-4354-955f-b726ebb95f61\",\"type\":\"GlyphRenderer\"},{\"id\":\"a966ceea-2da3-45e9-89d2-444ab7e44019\",\"type\":\"GlyphRenderer\"},{\"id\":\"3861fdf9-212a-43f8-88b6-fbb971ed4bed\",\"type\":\"GlyphRenderer\"}],\"title\":{\"id\":\"b4ff75da-12d7-46cf-b19c-9eb413f92d32\",\"type\":\"Title\"},\"toolbar\":{\"id\":\"6f841d58-2d8e-4540-a372-63097f79ca53\",\"type\":\"Toolbar\"},\"x_range\":{\"id\":\"8a586240-3dc6-41b8-acc4-39dc37af789f\",\"type\":\"DataRange1d\"},\"x_scale\":{\"id\":\"266a4892-a899-451c-8a6e-9ab44669b2fe\",\"type\":\"LinearScale\"},\"y_range\":{\"id\":\"19480b78-e61a-44a7-818b-f6207cde1433\",\"type\":\"DataRange1d\"},\"y_scale\":{\"id\":\"8b3896da-f2c1-4052-9537-d99d33c3c776\",\"type\":\"LinearScale\"}},\"id\":\"3ad87473-4602-4dae-ac61-b3a1017ad2a9\",\"subtype\":\"Figure\",\"type\":\"Plot\"},{\"attributes\":{\"bottom_units\":\"screen\",\"fill_alpha\":{\"value\":0.5},\"fill_color\":{\"value\":\"lightgrey\"},\"left_units\":\"screen\",\"level\":\"overlay\",\"line_alpha\":{\"value\":1.0},\"line_color\":{\"value\":\"black\"},\"line_dash\":[4,4],\"line_width\":{\"value\":2},\"plot\":null,\"render_mode\":\"css\",\"right_units\":\"screen\",\"top_units\":\"screen\"},\"id\":\"9e767935-2052-4867-aed5-0b7284c3b6e6\",\"type\":\"BoxAnnotation\"},{\"attributes\":{\"fill_alpha\":{\"value\":0.5},\"fill_color\":{\"value\":\"navy\"},\"line_alpha\":{\"value\":0.5},\"line_color\":{\"value\":\"navy\"},\"size\":{\"units\":\"screen\",\"value\":15},\"x\":{\"field\":\"x\"},\"y\":{\"field\":\"y\"}},\"id\":\"e9b5de4b-e82b-42a6-be3b-c976da96bc97\",\"type\":\"Circle\"},{\"attributes\":{\"formatter\":{\"id\":\"66e7ccb1-5fdd-4323-88b1-db604e59a5a9\",\"type\":\"BasicTickFormatter\"},\"plot\":{\"id\":\"3ad87473-4602-4dae-ac61-b3a1017ad2a9\",\"subtype\":\"Figure\",\"type\":\"Plot\"},\"ticker\":{\"id\":\"d763ec42-a7b0-4098-b648-05d7019435c2\",\"type\":\"BasicTicker\"}},\"id\":\"a1a66e50-277d-4084-8aa3-8d82328aedcd\",\"type\":\"LinearAxis\"},{\"attributes\":{},\"id\":\"ad675de2-2e8f-4962-a979-ea5358b0f276\",\"type\":\"BasicTicker\"},{\"attributes\":{\"line_alpha\":{\"value\":0.1},\"line_color\":{\"value\":\"#1f77b4\"},\"line_width\":{\"value\":5},\"xs\":{\"field\":\"x_s\"},\"ys\":{\"field\":\"y_s\"}},\"id\":\"a01d4e2d-b183-4524-9012-fa7089a3db2b\",\"type\":\"MultiLine\"},{\"attributes\":{\"callback\":null,\"renderers\":[{\"id\":\"3861fdf9-212a-43f8-88b6-fbb971ed4bed\",\"type\":\"GlyphRenderer\"}],\"tooltips\":\"\\n            <div>\\n            bus_id = @bus_id &nbsp &nbsp |  u<sub>avg</sub>= @u_avg_pu pu |  u<sub>unb</sub>= @v_unb %\\n            <table border=\\\"1\\\">\\n                <tr>\\n                <td>v<sub>an</sub> =  @v_an  &ang; @deg_an V </td> <td> S<sub>a</sub> = @p_a + j@q_a kVA</td>\\n                </tr>\\n                      <tr>\\n                      <td> </td> <td>v<sub>ab</sub>= @v_ab V</td>\\n                      </tr>\\n                <tr>\\n                <td>v<sub>bn</sub> = @v_bn &ang; @deg_bn V </td><td> S<sub>b</sub> = @p_b + j@q_b kVA</td>\\n                </tr>\\n                      <tr>\\n                      <td> </td><td>v<sub>bc</sub>= @v_bc V</td>\\n                      </tr>\\n                <tr>\\n                <td>v<sub>cn</sub>  = @v_cn &ang; @deg_cn V </td>  <td>S<sub>c</sub> = @p_c + j@q_c kVA </td>\\n                </tr> \\n                    <tr>\\n                     <td> </td> <td>v<sub>ca</sub>= @v_ca V</td>\\n                    </tr>\\n               <tr>\\n                <td>v<sub>ng</sub>    = @v_ng &ang; @deg_ng V</td>  <td>S<sub>abc</sub> = @p_abc + j@q_abc kVA </td>\\n              </tr>\\n            </table>\\n            </div>\\n            \"},\"id\":\"fd52d2dd-3b2a-4349-8635-9b6defa63741\",\"type\":\"HoverTool\"},{\"attributes\":{},\"id\":\"779d9b2a-acb3-4ba5-8fef-806e6e0ddc19\",\"type\":\"WheelZoomTool\"},{\"attributes\":{\"callback\":null,\"data\":{\"bus_id\":[\"HV\",\"12\",\"13\",\"14\"],\"deg_an\":[\"0.00\",\"30.00\",\"-114.32\",\"-149.98\"],\"deg_bn\":[\"-120.00\",\"-90.00\",\"-119.99\",\"-119.99\"],\"deg_cn\":[\"120.00\",\"150.00\",\"-179.98\",\"-179.98\"],\"deg_ng\":[\"0.00\",\"-149.98\",\"0.00\",\"0.00\"],\"p_a\":[\"-8.33\",\"0.00\",\"-0.00\",\"-0.00\"],\"p_abc\":[\"-20.00\",\"0.00\",\"-0.00\",\"-0.00\"],\"p_b\":[\"-8.33\",\"0.00\",\"-0.00\",\"-0.00\"],\"p_c\":[\"-3.33\",\"0.00\",\"-0.00\",\"-0.00\"],\"q_a\":[\"2.89\",\"0.00\",\"0.00\",\"0.00\"],\"q_abc\":[\"0.00\",\"0.00\",\"0.00\",\"0.00\"],\"q_b\":[\"-2.89\",\"-0.00\",\"0.00\",\"0.00\"],\"q_c\":[\"0.00\",\"0.00\",\"0.00\",\"0.00\"],\"s_color\":[\"green\",\"blue\",\"blue\",\"blue\"],\"s_radio\":[1.414235541713523,1,1,1],\"u_avg_pu\":[\"1.000\",\"1.000\",\"1.155\",\"1.155\"],\"v_ab\":[219999.99999999997,20000.35476259032,20003.860597064133,20005.623032139967],\"v_an\":[\"127017.06\",\"11547.06\",\"2.50\",\"0.00\"],\"v_an_pu\":[\"1.0000\",\"1.0000\",\"0.0002\",\"0.0000\"],\"v_bc\":[220000.0,20000.031652201837,20000.89156958476,20001.036202594234],\"v_bn\":[\"127017.06\",\"11547.19\",\"20006.35\",\"20005.62\"],\"v_bn_pu\":[\"1.0000\",\"1.0000\",\"1.7326\",\"1.7325\"],\"v_ca\":[220000.00000000006,19999.803257618372,20001.75836355222,20002.572833190552],\"v_cn\":[\"127017.06\",\"11546.87\",\"20002.79\",\"20002.57\"],\"v_cn_pu\":[\"1.0000\",\"1.0000\",\"1.7323\",\"1.7323\"],\"v_ng\":[\"0.00\",\"11551.70\",\"0.00\",\"0.00\"],\"v_unb\":[\"0.0\",\"0.0\",\"100.0\",\"100.0\"],\"x\":[0,0,0,0],\"y\":[0,-5,-25,-85]},\"selected\":{\"id\":\"4a5f832e-29c2-4920-b755-b90a2eb3ad0b\",\"type\":\"Selection\"},\"selection_policy\":{\"id\":\"341974f3-ffb3-42fb-9eeb-f91b5aa9b00a\",\"type\":\"UnionRenderers\"}},\"id\":\"f08859f9-8f68-47b1-8198-0242c64cd0fa\",\"type\":\"ColumnDataSource\"},{\"attributes\":{\"data_source\":{\"id\":\"f08859f9-8f68-47b1-8198-0242c64cd0fa\",\"type\":\"ColumnDataSource\"},\"glyph\":{\"id\":\"e9b5de4b-e82b-42a6-be3b-c976da96bc97\",\"type\":\"Circle\"},\"hover_glyph\":null,\"muted_glyph\":null,\"nonselection_glyph\":{\"id\":\"c1c0ed6a-49fb-48cb-be59-693087c99f1b\",\"type\":\"Circle\"},\"selection_glyph\":null,\"view\":{\"id\":\"0d19c64b-bb03-44e9-8584-efef23f47f03\",\"type\":\"CDSView\"}},\"id\":\"3861fdf9-212a-43f8-88b6-fbb971ed4bed\",\"type\":\"GlyphRenderer\"},{\"attributes\":{\"line_alpha\":{\"value\":0.5},\"line_color\":{\"value\":\"red\"},\"line_width\":{\"value\":5},\"xs\":{\"field\":\"x_s\"},\"ys\":{\"field\":\"y_s\"}},\"id\":\"dab755bc-9aec-44f6-91c8-8f84c4f2df15\",\"type\":\"MultiLine\"},{\"attributes\":{\"dimension\":1,\"plot\":{\"id\":\"3ad87473-4602-4dae-ac61-b3a1017ad2a9\",\"subtype\":\"Figure\",\"type\":\"Plot\"},\"ticker\":{\"id\":\"d763ec42-a7b0-4098-b648-05d7019435c2\",\"type\":\"BasicTicker\"}},\"id\":\"9174884c-a463-4ff9-a3a5-c595dae9a123\",\"type\":\"Grid\"},{\"attributes\":{\"source\":{\"id\":\"445d525c-c4e9-4f3a-bf39-aa76c32d9a0a\",\"type\":\"ColumnDataSource\"}},\"id\":\"454769cd-d80c-419d-947c-365dc26d5a77\",\"type\":\"CDSView\"},{\"attributes\":{\"callback\":null,\"data\":{\"deg_j_a\":[-149.9860220758716,-149.98356415816988],\"deg_j_b\":[60.004941908320376,60.00545712826948],\"deg_j_c\":[0.017120961451381457,0.016605142186483082],\"deg_j_n\":[-50.03571851398461,-149.98193071448554],\"deg_k_a\":[-149.98356415780276,-149.9831061914065],\"deg_k_b\":[60.00545712481879,-134.16828862883995],\"deg_k_c\":[0.01660514223370759,-132.3133995562433],\"deg_k_n\":[-149.98193071349633,-149.9831061911704],\"i_j_a_m\":[0.866105467010061,0.866157238565071],\"i_j_b_m\":[0.5000600931615297,0.18974238860302284],\"i_j_c_m\":[0.4999709961998306,0.1897110315599192],\"i_j_n_m\":[6.868394099182141e-12,0.537522481387917],\"i_k_a_m\":[0.8661572385727386,0.866166885534071],\"i_k_b_m\":[0.18974238861532486,6.2279912163578394e-12],\"i_k_c_m\":[0.1897110315601535,6.167296676899423e-12],\"i_k_n_m\":[0.5375224813789369,0.8661668855459395],\"line_id\":[\"12-13\",\"13-14\"],\"x_s\":[[0,0],[0,0]],\"y_s\":[[-5,-25],[-25,-85]]},\"selected\":{\"id\":\"4760c7f5-6e5c-41a5-ab67-bea02d9ccee1\",\"type\":\"Selection\"},\"selection_policy\":{\"id\":\"91e8217f-2be5-458e-9c1e-2185b3e033d7\",\"type\":\"UnionRenderers\"}},\"id\":\"445d525c-c4e9-4f3a-bf39-aa76c32d9a0a\",\"type\":\"ColumnDataSource\"},{\"attributes\":{},\"id\":\"d763ec42-a7b0-4098-b648-05d7019435c2\",\"type\":\"BasicTicker\"},{\"attributes\":{},\"id\":\"4760c7f5-6e5c-41a5-ab67-bea02d9ccee1\",\"type\":\"Selection\"},{\"attributes\":{},\"id\":\"8b3896da-f2c1-4052-9537-d99d33c3c776\",\"type\":\"LinearScale\"},{\"attributes\":{},\"id\":\"df25150c-f6cc-443c-bc83-f89f8221585d\",\"type\":\"BasicTickFormatter\"},{\"attributes\":{},\"id\":\"7f3d6681-f938-4622-9aaa-1394890c397d\",\"type\":\"SaveTool\"},{\"attributes\":{\"callback\":null},\"id\":\"19480b78-e61a-44a7-818b-f6207cde1433\",\"type\":\"DataRange1d\"},{\"attributes\":{\"callback\":null},\"id\":\"8a586240-3dc6-41b8-acc4-39dc37af789f\",\"type\":\"DataRange1d\"},{\"attributes\":{},\"id\":\"5e8506f2-d579-4f17-bf3c-8849b4681fe5\",\"type\":\"PanTool\"},{\"attributes\":{},\"id\":\"341974f3-ffb3-42fb-9eeb-f91b5aa9b00a\",\"type\":\"UnionRenderers\"},{\"attributes\":{},\"id\":\"c82d847e-e422-48be-8d73-6def93ac9471\",\"type\":\"ResetTool\"},{\"attributes\":{\"line_alpha\":{\"value\":0.1},\"line_color\":{\"value\":\"#1f77b4\"},\"line_width\":{\"value\":5},\"xs\":{\"field\":\"x_s\"},\"ys\":{\"field\":\"y_s\"}},\"id\":\"cba7bca2-7dfc-4027-a8cb-ee88c8404976\",\"type\":\"MultiLine\"},{\"attributes\":{\"overlay\":{\"id\":\"9e767935-2052-4867-aed5-0b7284c3b6e6\",\"type\":\"BoxAnnotation\"}},\"id\":\"a4118cb1-1553-4026-8b0b-e2f11e8ab3eb\",\"type\":\"BoxZoomTool\"},{\"attributes\":{},\"id\":\"266a4892-a899-451c-8a6e-9ab44669b2fe\",\"type\":\"LinearScale\"},{\"attributes\":{},\"id\":\"2836b793-c160-45f1-af95-af880657d5a8\",\"type\":\"HelpTool\"},{\"attributes\":{\"active_drag\":\"auto\",\"active_inspect\":\"auto\",\"active_scroll\":\"auto\",\"active_tap\":\"auto\",\"tools\":[{\"id\":\"5e8506f2-d579-4f17-bf3c-8849b4681fe5\",\"type\":\"PanTool\"},{\"id\":\"779d9b2a-acb3-4ba5-8fef-806e6e0ddc19\",\"type\":\"WheelZoomTool\"},{\"id\":\"a4118cb1-1553-4026-8b0b-e2f11e8ab3eb\",\"type\":\"BoxZoomTool\"},{\"id\":\"7f3d6681-f938-4622-9aaa-1394890c397d\",\"type\":\"SaveTool\"},{\"id\":\"c82d847e-e422-48be-8d73-6def93ac9471\",\"type\":\"ResetTool\"},{\"id\":\"2836b793-c160-45f1-af95-af880657d5a8\",\"type\":\"HelpTool\"},{\"id\":\"fc4739bb-589f-4382-9426-ab45834a1ccc\",\"type\":\"HoverTool\"},{\"id\":\"66a9921c-af3e-41a0-8464-c48c04c7e1ab\",\"type\":\"HoverTool\"},{\"id\":\"fd52d2dd-3b2a-4349-8635-9b6defa63741\",\"type\":\"HoverTool\"}]},\"id\":\"6f841d58-2d8e-4540-a372-63097f79ca53\",\"type\":\"Toolbar\"},{\"attributes\":{\"source\":{\"id\":\"cbc61c44-6fa9-446b-8eed-a0f0a25e4a74\",\"type\":\"ColumnDataSource\"}},\"id\":\"8639a325-7fa5-46b4-8458-0577e6b33cb9\",\"type\":\"CDSView\"},{\"attributes\":{},\"id\":\"4a5f832e-29c2-4920-b755-b90a2eb3ad0b\",\"type\":\"Selection\"}],\"root_ids\":[\"3ad87473-4602-4dae-ac61-b3a1017ad2a9\"]},\"title\":\"Bokeh Application\",\"version\":\"0.12.16\"}};\n",
       "  var render_items = [{\"docid\":\"76e42b0b-3b98-4432-9dd8-0b0e23b598d3\",\"elementid\":\"e469c19a-2fa0-4486-bee9-6f8a5c2a5ae9\",\"modelid\":\"3ad87473-4602-4dae-ac61-b3a1017ad2a9\"}];\n",
       "  root.Bokeh.embed.embed_items_notebook(docs_json, render_items);\n",
       "\n",
       "  }\n",
       "  if (root.Bokeh !== undefined) {\n",
       "    embed_document(root);\n",
       "  } else {\n",
       "    var attempts = 0;\n",
       "    var timer = setInterval(function(root) {\n",
       "      if (root.Bokeh !== undefined) {\n",
       "        embed_document(root);\n",
       "        clearInterval(timer);\n",
       "      }\n",
       "      attempts++;\n",
       "      if (attempts > 100) {\n",
       "        console.log(\"Bokeh: ERROR: Unable to run BokehJS code because BokehJS library is missing\")\n",
       "        clearInterval(timer);\n",
       "      }\n",
       "    }, 10, root)\n",
       "  }\n",
       "})(window);"
      ],
      "application/vnd.bokehjs_exec.v0+json": ""
     },
     "metadata": {
      "application/vnd.bokehjs_exec.v0+json": {
       "id": "3ad87473-4602-4dae-ac61-b3a1017ad2a9"
      }
     },
     "output_type": "display_data"
    }
   ],
   "source": [
    "sys1 = grid()\n",
    "sys1.read(data)  # Load data\n",
    "sys1.pf()  # solve power flow\n",
    "sys1.get_v()      # post process voltages\n",
    "sys1.get_i()      # post process currents\n",
    "\n",
    "from pydgrid.plot_bokeh import plot_results\n",
    "fig = plot_results(sys1)"
   ]
  },
  {
   "cell_type": "code",
   "execution_count": 8,
   "metadata": {},
   "outputs": [
    {
     "data": {
      "text/plain": [
       "(20010+4693.341029123436j)"
      ]
     },
     "execution_count": 8,
     "metadata": {},
     "output_type": "execute_result"
    }
   ],
   "source": [
    "S_12_cplx"
   ]
  },
  {
   "cell_type": "code",
   "execution_count": 9,
   "metadata": {},
   "outputs": [
    {
     "data": {
      "text/plain": [
       "0.9735784929115807"
      ]
     },
     "execution_count": 9,
     "metadata": {},
     "output_type": "execute_result"
    }
   ],
   "source": [
    "pf_12"
   ]
  },
  {
   "cell_type": "code",
   "execution_count": null,
   "metadata": {},
   "outputs": [],
   "source": []
  }
 ],
 "metadata": {
  "kernelspec": {
   "display_name": "Python 3",
   "language": "python",
   "name": "python3"
  },
  "language_info": {
   "codemirror_mode": {
    "name": "ipython",
    "version": 3
   },
   "file_extension": ".py",
   "mimetype": "text/x-python",
   "name": "python",
   "nbconvert_exporter": "python",
   "pygments_lexer": "ipython3",
   "version": "3.6.5"
  }
 },
 "nbformat": 4,
 "nbformat_minor": 2
}
