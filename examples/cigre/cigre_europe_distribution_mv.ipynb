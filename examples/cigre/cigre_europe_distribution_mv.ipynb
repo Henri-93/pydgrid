{
 "cells": [
  {
   "cell_type": "code",
   "execution_count": 1,
   "metadata": {},
   "outputs": [],
   "source": [
    "import numpy as np\n",
    "from pydgrid import grid"
   ]
  },
  {
   "cell_type": "code",
   "execution_count": 95,
   "metadata": {},
   "outputs": [],
   "source": [
    "Z_red = 110.0e3**2/5000.0e6\n",
    "ratio=0.1\n",
    "# Z**2 = R**2 + X**2\n",
    "# Z**2 = ratio**2*X**2 + X**2 = X**2 * (ratio**2 + 1.0)\n",
    "X_red = (Z_red**2/(ratio**2 + 1.0))**0.5\n",
    "R_red = ratio*X_red\n",
    "\n",
    "Z_trafo_b = 20.0e3**2/25.0e6\n",
    "V_hv = 110.0/np.sqrt(3)*1.0\n",
    "\n",
    "S1,pf1,S2,pf2 = 15300.0,0.98,5280,0.95\n",
    "S_12_cplx = S1*pf1 + 1j*np.sin(np.arccos(pf1))*S1 + S2*pf2 + 1j*np.sin(np.arccos(pf2))*S2\n",
    "pf_12 = np.cos(np.angle(S_12_cplx))\n",
    "\n",
    "S1,pf1 = 40.0,0.85\n",
    "S_13_cplx = S1*pf1 + 1j*np.sin(np.arccos(pf1))*S1\n",
    "pf_13 = np.cos(np.angle(S_13_cplx))\n",
    "\n",
    "S1,pf1,S2,pf2 = 215.0,0.97,390.0,0.85\n",
    "S_14_cplx = S1*pf1 + 1j*np.sin(np.arccos(pf1))*S1 + S2*pf2 + 1j*np.sin(np.arccos(pf2))*S2\n",
    "pf_14 = np.cos(np.angle(S_14_cplx))\n",
    "\n",
    "data = {     \n",
    "        \"buses\":[\n",
    "                 {\"bus\": \"HVinf\", \"pos_x\":   0, \"pos_y\":  0, \"units\": \"m\", \"U_kV\":110.0},\n",
    "                 {\"bus\": \"HV\",    \"pos_x\":   0, \"pos_y\": -5, \"units\": \"m\", \"U_kV\":110.0},\n",
    "                 {\"bus\": \"12\",    \"pos_x\":   0, \"pos_y\":-15, \"units\": \"m\", \"U_kV\":20.0},\n",
    "                 {\"bus\": \"13\",    \"pos_x\":   0, \"pos_y\":-35, \"units\": \"m\", \"U_kV\":20.0},\n",
    "                 {\"bus\": \"14\",    \"pos_x\":   0, \"pos_y\":-85, \"units\": \"m\", \"U_kV\":20.0},\n",
    "                ],\n",
    "        \"grid_formers\":[\n",
    "                        {\"bus\": \"HVinf\",\n",
    "                        \"bus_nodes\": [1, 2, 3], \"deg\": [0, -120, -240],\n",
    "                        \"kV\": [V_hv,V_hv,V_hv]}\n",
    "                       ],\n",
    "        \"transformers\":[\n",
    "                        {\"bus_j\": \"HV\",  \"bus_k\": \"12\",  \"S_n_kVA\": 25.0e3, \"U_j_kV\":110, \"U_k_kV\":20.0,\n",
    "                         \"R_cc_pu\": 0.001, \"X_cc_pu\":0.12, \"connection\": \"Dyn5\",   \"conductors_j\": 3, \"conductors_k\": 4}\n",
    "                       ],\n",
    "        \"lines\":[\n",
    "                {\"bus_j\": \"HVinf\",  \"bus_k\": \"HV\",  \"code\": \"eq_red\", \"m\": 1000.0},\n",
    "                {\"bus_j\": \"12\",     \"bus_k\": \"13\",  \"code\": \"1\", \"m\": 4.89e3},\n",
    "                {\"bus_j\": \"13\",     \"bus_k\": \"14\",  \"code\": \"1\", \"m\": 3.0e3},\n",
    "                ],\n",
    "        \"shunts\":[\n",
    "                 {\"bus\": \"12\" , \"R\": 0.001,   \"X\": 0.0, \"bus_nodes\": [4,0]},\n",
    "                 {\"bus\": \"13\" , \"R\": 1.0e-10, \"X\": 0.0, \"bus_nodes\": [4,0]},\n",
    "                 {\"bus\": \"14\" , \"R\": 1.0e-10, \"X\": 0.0, \"bus_nodes\": [4,0]},\n",
    "                 ],\n",
    "        \"loads\":[\n",
    "                 {\"bus\": \"12\" , \"kVA\":S_12_cplx, \"pf\": pf_12,\"type\":\"3P+N\"},\n",
    "                 {\"bus\": \"13\" , \"kVA\":40.0, \"pf\": 0.85,\"type\":\"3P+N\"},\n",
    "                 {\"bus\": \"14\" , \"kVA\":S_14_cplx, \"pf\":pf_14,\"type\":\"3P+N\"},\n",
    "                ],\n",
    "        \"line_codes\":\n",
    "            {\n",
    "            \"eq_red\":  {\"R1\":R_red,\"X1\":X_red},    \n",
    "            \"1\":  {\"R1\":0.510,\"X1\":0.366,\"B1_mu\":3.172,\"R0\":0.658,\"X0\":1.611,\"B0_mu\":1.28},\n",
    "            \"2\":  {\"R1\":89.0e-3,\"X1\":3.5e-3},\n",
    "            }\n",
    "       } "
   ]
  },
  {
   "cell_type": "code",
   "execution_count": 96,
   "metadata": {},
   "outputs": [
    {
     "data": {
      "text/html": [
       "\n",
       "\n",
       "\n",
       "\n",
       "\n",
       "\n",
       "  <div class=\"bk-root\" id=\"121c3232-54a9-4ffa-8913-85414acec3ea\"></div>\n"
      ]
     },
     "metadata": {},
     "output_type": "display_data"
    },
    {
     "data": {
      "application/javascript": [
       "(function(root) {\n",
       "  function embed_document(root) {\n",
       "    \n",
       "  var docs_json = {\"2aa65c42-b13f-430e-b670-1baa915d5e8d\":{\"roots\":{\"references\":[{\"attributes\":{\"below\":[{\"id\":\"5093\",\"type\":\"LinearAxis\"}],\"left\":[{\"id\":\"5098\",\"type\":\"LinearAxis\"}],\"plot_height\":400,\"renderers\":[{\"id\":\"5093\",\"type\":\"LinearAxis\"},{\"id\":\"5097\",\"type\":\"Grid\"},{\"id\":\"5098\",\"type\":\"LinearAxis\"},{\"id\":\"5102\",\"type\":\"Grid\"},{\"id\":\"5111\",\"type\":\"BoxAnnotation\"},{\"id\":\"5122\",\"type\":\"GlyphRenderer\"},{\"id\":\"5128\",\"type\":\"GlyphRenderer\"},{\"id\":\"5134\",\"type\":\"GlyphRenderer\"}],\"title\":{\"id\":\"5082\",\"type\":\"Title\"},\"toolbar\":{\"id\":\"5109\",\"type\":\"Toolbar\"},\"x_range\":{\"id\":\"5085\",\"type\":\"DataRange1d\"},\"x_scale\":{\"id\":\"5089\",\"type\":\"LinearScale\"},\"y_range\":{\"id\":\"5087\",\"type\":\"DataRange1d\"},\"y_scale\":{\"id\":\"5091\",\"type\":\"LinearScale\"}},\"id\":\"5083\",\"subtype\":\"Figure\",\"type\":\"Plot\"},{\"attributes\":{\"line_alpha\":{\"value\":0.1},\"line_color\":{\"value\":\"#1f77b4\"},\"line_width\":{\"value\":5},\"xs\":{\"field\":\"x_s\"},\"ys\":{\"field\":\"y_s\"}},\"id\":\"5127\",\"type\":\"MultiLine\"},{\"attributes\":{\"callback\":null,\"data\":{\"deg_j_a\":[-32.789472913535015,93.98746367428501,93.16808406617223],\"deg_j_b\":[-152.78947291353717,-26.012536325717413,-26.831915933827382],\"deg_j_c\":[87.21052708646371,-146.01253632571803,-146.83191593382637],\"deg_j_n\":[180.0,-2.981461219982192,-11.327174658125992],\"deg_k_a\":[-32.789472913535015,94.36703242436133,93.41689121653026],\"deg_k_b\":[-152.78947291353717,-25.632967575641132,-26.58310878346936],\"deg_k_c\":[87.21052708646371,-145.6329675756417,-146.58310878346833],\"deg_k_n\":[180.0,-2.885265927732723,-11.309932474020213],\"i_j_a_m\":[117.66160276499488,19.469763786892834,18.412205348370463],\"i_j_b_m\":[117.66160276499718,19.469763786895093,18.41220534837095],\"i_j_c_m\":[117.66160276499211,19.469763786891477,18.41220534836999],\"i_j_n_m\":[1.5916157281026244e-12,2.219898153204246e-12,1.1576409991908369e-12],\"i_k_a_m\":[117.66160276499488,19.57763274779626,18.476785925138618],\"i_k_b_m\":[117.66160276499718,19.57763274779851,18.4767859251391],\"i_k_c_m\":[117.66160276499211,19.577632747794894,18.47678592513814],\"i_k_n_m\":[1.5916157281026244e-12,2.2232644047352112e-12,1.1593828079623528e-12],\"line_id\":[\"HVinf-HV\",\"12-13\",\"13-14\"],\"x_s\":[[0,0],[0,0],[0,0]],\"y_s\":[[0,-5],[-15,-35],[-35,-85]]},\"selected\":{\"id\":\"5354\",\"type\":\"Selection\"},\"selection_policy\":{\"id\":\"5355\",\"type\":\"UnionRenderers\"}},\"id\":\"5124\",\"type\":\"ColumnDataSource\"},{\"attributes\":{\"callback\":null},\"id\":\"5087\",\"type\":\"DataRange1d\"},{\"attributes\":{\"active_drag\":\"auto\",\"active_inspect\":\"auto\",\"active_multi\":null,\"active_scroll\":\"auto\",\"active_tap\":\"auto\",\"tools\":[{\"id\":\"5103\",\"type\":\"PanTool\"},{\"id\":\"5104\",\"type\":\"WheelZoomTool\"},{\"id\":\"5105\",\"type\":\"BoxZoomTool\"},{\"id\":\"5106\",\"type\":\"SaveTool\"},{\"id\":\"5107\",\"type\":\"ResetTool\"},{\"id\":\"5108\",\"type\":\"HelpTool\"},{\"id\":\"5136\",\"type\":\"HoverTool\"},{\"id\":\"5138\",\"type\":\"HoverTool\"},{\"id\":\"5140\",\"type\":\"HoverTool\"}]},\"id\":\"5109\",\"type\":\"Toolbar\"},{\"attributes\":{\"formatter\":{\"id\":\"5349\",\"type\":\"BasicTickFormatter\"},\"plot\":{\"id\":\"5083\",\"subtype\":\"Figure\",\"type\":\"Plot\"},\"ticker\":{\"id\":\"5099\",\"type\":\"BasicTicker\"}},\"id\":\"5098\",\"type\":\"LinearAxis\"},{\"attributes\":{\"line_alpha\":{\"value\":0.1},\"line_color\":{\"value\":\"#1f77b4\"},\"line_width\":{\"value\":5},\"xs\":{\"field\":\"x_s\"},\"ys\":{\"field\":\"y_s\"}},\"id\":\"5121\",\"type\":\"MultiLine\"},{\"attributes\":{},\"id\":\"5089\",\"type\":\"LinearScale\"},{\"attributes\":{},\"id\":\"5103\",\"type\":\"PanTool\"},{\"attributes\":{\"bottom_units\":\"screen\",\"fill_alpha\":{\"value\":0.5},\"fill_color\":{\"value\":\"lightgrey\"},\"left_units\":\"screen\",\"level\":\"overlay\",\"line_alpha\":{\"value\":1.0},\"line_color\":{\"value\":\"black\"},\"line_dash\":[4,4],\"line_width\":{\"value\":2},\"plot\":null,\"render_mode\":\"css\",\"right_units\":\"screen\",\"top_units\":\"screen\"},\"id\":\"5111\",\"type\":\"BoxAnnotation\"},{\"attributes\":{\"data_source\":{\"id\":\"5124\",\"type\":\"ColumnDataSource\"},\"glyph\":{\"id\":\"5126\",\"type\":\"MultiLine\"},\"hover_glyph\":null,\"muted_glyph\":null,\"nonselection_glyph\":{\"id\":\"5127\",\"type\":\"MultiLine\"},\"selection_glyph\":null,\"view\":{\"id\":\"5129\",\"type\":\"CDSView\"}},\"id\":\"5128\",\"type\":\"GlyphRenderer\"},{\"attributes\":{\"line_alpha\":{\"value\":0.5},\"line_color\":{\"value\":\"green\"},\"line_width\":{\"value\":5},\"xs\":{\"field\":\"x_s\"},\"ys\":{\"field\":\"y_s\"}},\"id\":\"5120\",\"type\":\"MultiLine\"},{\"attributes\":{\"source\":{\"id\":\"5124\",\"type\":\"ColumnDataSource\"}},\"id\":\"5129\",\"type\":\"CDSView\"},{\"attributes\":{\"formatter\":{\"id\":\"5347\",\"type\":\"BasicTickFormatter\"},\"plot\":{\"id\":\"5083\",\"subtype\":\"Figure\",\"type\":\"Plot\"},\"ticker\":{\"id\":\"5094\",\"type\":\"BasicTicker\"}},\"id\":\"5093\",\"type\":\"LinearAxis\"},{\"attributes\":{\"callback\":null,\"data\":{\"bus_id\":[\"HVinf\",\"HV\",\"12\",\"13\",\"14\"],\"deg_an\":[\"0.00\",\"-0.20\",\"144.31\",\"144.39\",\"144.44\"],\"deg_bn\":[\"-120.00\",\"-120.20\",\"24.31\",\"24.39\",\"24.44\"],\"deg_cn\":[\"120.00\",\"119.80\",\"-95.69\",\"-95.61\",\"-95.56\"],\"deg_ng\":[\"0.00\",\"0.00\",\"-147.77\",\"-4.40\",\"-24.78\"],\"p_a\":[\"6281.89\",\"0.00\",\"-6136.52\",\"-11.33\",\"-125.47\"],\"p_abc\":[\"18845.67\",\"0.00\",\"-18409.57\",\"-34.00\",\"-376.41\"],\"p_b\":[\"6281.89\",\"-0.00\",\"-6136.52\",\"-11.33\",\"-125.47\"],\"p_c\":[\"6281.89\",\"0.00\",\"-6136.52\",\"-11.33\",\"-125.47\"],\"q_a\":[\"4046.77\",\"-0.00\",\"-3046.22\",\"-7.02\",\"-155.06\"],\"q_abc\":[\"12140.31\",\"0.00\",\"-9138.66\",\"-21.07\",\"-465.17\"],\"q_b\":[\"4046.77\",\"0.00\",\"-3046.22\",\"-7.02\",\"-155.06\"],\"q_c\":[\"4046.77\",\"0.00\",\"-3046.22\",\"-7.02\",\"-155.06\"],\"s_color\":[\"red\",\"blue\",\"green\",\"green\",\"green\"],\"s_radio\":[20,1,20,1.99999981917088,7.735562663112534],\"u_avg_pu\":[\"1.000\",\"0.997\",\"0.943\",\"0.938\",\"0.935\"],\"v_ab\":[109999.99999999999,109693.66308804322,18856.55080883111,18756.056374098578,18698.069198245063],\"v_an\":[\"63508.53\",\"63331.67\",\"10886.83\",\"10828.81\",\"10795.34\"],\"v_an_pu\":[\"1.0000\",\"0.9972\",\"0.9428\",\"0.9378\",\"0.9349\"],\"v_bc\":[110000.0,109693.6630880432,18856.550808831107,18756.056374098578,18698.069198245063],\"v_bn\":[\"63508.53\",\"63331.67\",\"10886.83\",\"10828.81\",\"10795.34\"],\"v_bn_pu\":[\"1.0000\",\"0.9972\",\"0.9428\",\"0.9378\",\"0.9349\"],\"v_ca\":[110000.00000000003,109693.66308804326,18856.550808831114,18756.056374098593,18698.069198245077],\"v_cn\":[\"63508.53\",\"63331.67\",\"10886.83\",\"10828.81\",\"10795.34\"],\"v_cn_pu\":[\"1.0000\",\"0.9972\",\"0.9428\",\"0.9378\",\"0.9349\"],\"v_ng\":[\"0.00\",\"0.00\",\"0.00\",\"0.00\",\"0.00\"],\"v_unb\":[\"0.0\",\"0.0\",\"0.0\",\"0.0\",\"0.0\"],\"x\":[0,0,0,0,0],\"y\":[0,-5,-15,-35,-85]},\"selected\":{\"id\":\"5356\",\"type\":\"Selection\"},\"selection_policy\":{\"id\":\"5357\",\"type\":\"UnionRenderers\"}},\"id\":\"5130\",\"type\":\"ColumnDataSource\"},{\"attributes\":{\"plot\":{\"id\":\"5083\",\"subtype\":\"Figure\",\"type\":\"Plot\"},\"ticker\":{\"id\":\"5094\",\"type\":\"BasicTicker\"}},\"id\":\"5097\",\"type\":\"Grid\"},{\"attributes\":{},\"id\":\"5107\",\"type\":\"ResetTool\"},{\"attributes\":{},\"id\":\"5104\",\"type\":\"WheelZoomTool\"},{\"attributes\":{\"fill_alpha\":{\"value\":0.5},\"fill_color\":{\"value\":\"navy\"},\"line_alpha\":{\"value\":0.5},\"line_color\":{\"value\":\"navy\"},\"size\":{\"units\":\"screen\",\"value\":15},\"x\":{\"field\":\"x\"},\"y\":{\"field\":\"y\"}},\"id\":\"5132\",\"type\":\"Circle\"},{\"attributes\":{\"overlay\":{\"id\":\"5111\",\"type\":\"BoxAnnotation\"}},\"id\":\"5105\",\"type\":\"BoxZoomTool\"},{\"attributes\":{\"fill_alpha\":{\"value\":0.1},\"fill_color\":{\"value\":\"#1f77b4\"},\"line_alpha\":{\"value\":0.1},\"line_color\":{\"value\":\"#1f77b4\"},\"size\":{\"units\":\"screen\",\"value\":15},\"x\":{\"field\":\"x\"},\"y\":{\"field\":\"y\"}},\"id\":\"5133\",\"type\":\"Circle\"},{\"attributes\":{\"plot\":null,\"text\":\"Results\"},\"id\":\"5082\",\"type\":\"Title\"},{\"attributes\":{},\"id\":\"5357\",\"type\":\"UnionRenderers\"},{\"attributes\":{\"data_source\":{\"id\":\"5130\",\"type\":\"ColumnDataSource\"},\"glyph\":{\"id\":\"5132\",\"type\":\"Circle\"},\"hover_glyph\":null,\"muted_glyph\":null,\"nonselection_glyph\":{\"id\":\"5133\",\"type\":\"Circle\"},\"selection_glyph\":null,\"view\":{\"id\":\"5135\",\"type\":\"CDSView\"}},\"id\":\"5134\",\"type\":\"GlyphRenderer\"},{\"attributes\":{\"callback\":null},\"id\":\"5085\",\"type\":\"DataRange1d\"},{\"attributes\":{},\"id\":\"5356\",\"type\":\"Selection\"},{\"attributes\":{\"dimension\":1,\"plot\":{\"id\":\"5083\",\"subtype\":\"Figure\",\"type\":\"Plot\"},\"ticker\":{\"id\":\"5099\",\"type\":\"BasicTicker\"}},\"id\":\"5102\",\"type\":\"Grid\"},{\"attributes\":{\"source\":{\"id\":\"5130\",\"type\":\"ColumnDataSource\"}},\"id\":\"5135\",\"type\":\"CDSView\"},{\"attributes\":{},\"id\":\"5349\",\"type\":\"BasicTickFormatter\"},{\"attributes\":{\"line_alpha\":{\"value\":0.5},\"line_color\":{\"value\":\"red\"},\"line_width\":{\"value\":5},\"xs\":{\"field\":\"x_s\"},\"ys\":{\"field\":\"y_s\"}},\"id\":\"5126\",\"type\":\"MultiLine\"},{\"attributes\":{},\"id\":\"5355\",\"type\":\"UnionRenderers\"},{\"attributes\":{},\"id\":\"5108\",\"type\":\"HelpTool\"},{\"attributes\":{},\"id\":\"5352\",\"type\":\"Selection\"},{\"attributes\":{},\"id\":\"5106\",\"type\":\"SaveTool\"},{\"attributes\":{\"callback\":null,\"renderers\":[{\"id\":\"5122\",\"type\":\"GlyphRenderer\"}],\"tooltips\":\"\\n            <div>\\n            transformer id = @trafo_id  \\n            <table border=\\\"5\\\">\\n                <tr >\\n                    <td>I<sub>1a</sub> =  @i_1a_m &ang; @deg_1a </td>\\n                    <td>I<sub>2a</sub> =  @i_2a_m &ang; @deg_2a </td>\\n                </tr>\\n                <tr>\\n                    <td >I<sub>1b</sub> =  @i_1b_m &ang; @deg_1b </td>\\n                    <td >I<sub>2b</sub> =  @i_2b_m &ang; @deg_2b </td>\\n                </tr>\\n                <tr>\\n                    <td >I<sub>1c</sub> =  @i_1c_m &ang; @deg_1c </td>\\n                    <td >I<sub>2c</sub> =  @i_2c_m &ang; @deg_2c </td>\\n                </tr>\\n                <tr>\\n                    <td >I<sub>1n</sub> =  @i_1n_m &ang; @deg_1n </td>\\n                    <td >I<sub>2n</sub> =  @i_2n_m &ang; @deg_2n </td>\\n                </tr>\\n            </table>            \\n            </div>\\n            \"},\"id\":\"5136\",\"type\":\"HoverTool\"},{\"attributes\":{\"data_source\":{\"id\":\"5118\",\"type\":\"ColumnDataSource\"},\"glyph\":{\"id\":\"5120\",\"type\":\"MultiLine\"},\"hover_glyph\":null,\"muted_glyph\":null,\"nonselection_glyph\":{\"id\":\"5121\",\"type\":\"MultiLine\"},\"selection_glyph\":null,\"view\":{\"id\":\"5123\",\"type\":\"CDSView\"}},\"id\":\"5122\",\"type\":\"GlyphRenderer\"},{\"attributes\":{},\"id\":\"5094\",\"type\":\"BasicTicker\"},{\"attributes\":{},\"id\":\"5354\",\"type\":\"Selection\"},{\"attributes\":{},\"id\":\"5091\",\"type\":\"LinearScale\"},{\"attributes\":{\"callback\":null,\"renderers\":[{\"id\":\"5134\",\"type\":\"GlyphRenderer\"}],\"tooltips\":\"\\n            <div>\\n            bus_id = @bus_id &nbsp &nbsp |  u<sub>avg</sub>= @u_avg_pu pu |  u<sub>unb</sub>= @v_unb %\\n            <table border=\\\"1\\\">\\n                <tr>\\n                <td>v<sub>an</sub> =  @v_an  &ang; @deg_an V </td> <td> S<sub>a</sub> = @p_a + j@q_a kVA</td>\\n                </tr>\\n                      <tr>\\n                      <td> </td> <td>v<sub>ab</sub>= @v_ab V</td>\\n                      </tr>\\n                <tr>\\n                <td>v<sub>bn</sub> = @v_bn &ang; @deg_bn V </td><td> S<sub>b</sub> = @p_b + j@q_b kVA</td>\\n                </tr>\\n                      <tr>\\n                      <td> </td><td>v<sub>bc</sub>= @v_bc V</td>\\n                      </tr>\\n                <tr>\\n                <td>v<sub>cn</sub>  = @v_cn &ang; @deg_cn V </td>  <td>S<sub>c</sub> = @p_c + j@q_c kVA </td>\\n                </tr> \\n                    <tr>\\n                     <td> </td> <td>v<sub>ca</sub>= @v_ca V</td>\\n                    </tr>\\n               <tr>\\n                <td>v<sub>ng</sub>    = @v_ng &ang; @deg_ng V</td>  <td>S<sub>abc</sub> = @p_abc + j@q_abc kVA </td>\\n              </tr>\\n            </table>\\n            </div>\\n            \"},\"id\":\"5140\",\"type\":\"HoverTool\"},{\"attributes\":{},\"id\":\"5099\",\"type\":\"BasicTicker\"},{\"attributes\":{\"source\":{\"id\":\"5118\",\"type\":\"ColumnDataSource\"}},\"id\":\"5123\",\"type\":\"CDSView\"},{\"attributes\":{\"callback\":null,\"renderers\":[{\"id\":\"5128\",\"type\":\"GlyphRenderer\"}],\"tooltips\":\"\\n            <div>\\n            line id = @line_id \\n            <table border=\\\"5\\\">\\n                <tr >\\n                    <td>I<sub>ja</sub> =  @i_j_a_m &ang; @deg_j_a </td>\\n                    <td>I<sub>ka</sub> =  @i_k_a_m &ang; @deg_k_a </td>\\n                </tr>\\n                <tr>\\n                    <td >I<sub>jb</sub> =  @i_j_b_m &ang; @deg_j_b </td>\\n                    <td >I<sub>kb</sub> =  @i_k_b_m &ang; @deg_k_b </td>\\n                </tr>\\n                <tr>\\n                    <td >I<sub>jc</sub> =  @i_j_c_m &ang; @deg_j_c </td>\\n                    <td >I<sub>kc</sub> =  @i_k_c_m &ang; @deg_k_c </td>\\n                </tr>\\n                <tr>\\n                    <td >I<sub>jn</sub> =  @i_j_n_m &ang; @deg_j_n </td>\\n                    <td >I<sub>kn</sub> =  @i_k_n_m &ang; @deg_k_n </td>\\n                </tr>\\n            </table>            \\n            </div>\\n            \"},\"id\":\"5138\",\"type\":\"HoverTool\"},{\"attributes\":{},\"id\":\"5347\",\"type\":\"BasicTickFormatter\"},{\"attributes\":{},\"id\":\"5353\",\"type\":\"UnionRenderers\"},{\"attributes\":{\"callback\":null,\"data\":{\"deg_1a\":[-32.789472913536116],\"deg_1b\":[-152.78947291353612],\"deg_1c\":[87.21052708646408],\"deg_1n\":[-110.03101268089773],\"deg_2a\":[-62.78947291353609],\"deg_2b\":[177.21052708646394],\"deg_2c\":[57.210527086464054],\"deg_2n\":[15.945395900922854],\"i_1a_m\":[117.66160276499745],\"i_1b_m\":[117.66160276499703],\"i_1c_m\":[117.66160276499717],\"i_1n_m\":[9.075514702435661e-14],\"i_2a_m\":[647.1388152074853],\"i_2b_m\":[647.1388152074861],\"i_2c_m\":[647.1388152074832],\"i_2n_m\":[3.310610686312665e-12],\"trafo_id\":[\"HV-12\"],\"x_s\":[[0,0]],\"y_s\":[[-5,-15]]},\"selected\":{\"id\":\"5352\",\"type\":\"Selection\"},\"selection_policy\":{\"id\":\"5353\",\"type\":\"UnionRenderers\"}},\"id\":\"5118\",\"type\":\"ColumnDataSource\"}],\"root_ids\":[\"5083\"]},\"title\":\"Bokeh Application\",\"version\":\"1.0.1\"}};\n",
       "  var render_items = [{\"docid\":\"2aa65c42-b13f-430e-b670-1baa915d5e8d\",\"roots\":{\"5083\":\"121c3232-54a9-4ffa-8913-85414acec3ea\"}}];\n",
       "  root.Bokeh.embed.embed_items_notebook(docs_json, render_items);\n",
       "\n",
       "  }\n",
       "  if (root.Bokeh !== undefined) {\n",
       "    embed_document(root);\n",
       "  } else {\n",
       "    var attempts = 0;\n",
       "    var timer = setInterval(function(root) {\n",
       "      if (root.Bokeh !== undefined) {\n",
       "        embed_document(root);\n",
       "        clearInterval(timer);\n",
       "      }\n",
       "      attempts++;\n",
       "      if (attempts > 100) {\n",
       "        console.log(\"Bokeh: ERROR: Unable to run BokehJS code because BokehJS library is missing\");\n",
       "        clearInterval(timer);\n",
       "      }\n",
       "    }, 10, root)\n",
       "  }\n",
       "})(window);"
      ],
      "application/vnd.bokehjs_exec.v0+json": ""
     },
     "metadata": {
      "application/vnd.bokehjs_exec.v0+json": {
       "id": "5083"
      }
     },
     "output_type": "display_data"
    }
   ],
   "source": [
    "sys1 = grid()\n",
    "sys1.read(data)  # Load data\n",
    "sys1.pf()  # solve power flow\n",
    "sys1.get_v()      # post process voltages\n",
    "sys1.get_i()      # post process currents\n",
    "\n",
    "from pydgrid.plot_bokeh import plot_results\n",
    "fig = plot_results(sys1)"
   ]
  },
  {
   "cell_type": "code",
   "execution_count": 90,
   "metadata": {},
   "outputs": [],
   "source": [
    "Z_trafo = 0.016+1j*1.92\n",
    "I_cc_12 = 20.0e3/np.sqrt(3)/Z_trafo\n",
    "Z_base_trafo = 20.0e3**2/25.0e6\n",
    "Z_trafo_pu = Z_trafo/Z_base_trafo"
   ]
  },
  {
   "cell_type": "code",
   "execution_count": 44,
   "metadata": {},
   "outputs": [
    {
     "data": {
      "text/plain": [
       "6013.856493222156"
      ]
     },
     "execution_count": 44,
     "metadata": {},
     "output_type": "execute_result"
    }
   ],
   "source": [
    "abs(I_cc_12)"
   ]
  },
  {
   "cell_type": "code",
   "execution_count": 40,
   "metadata": {},
   "outputs": [
    {
     "data": {
      "text/plain": [
       "(0.001+0.12j)"
      ]
     },
     "execution_count": 40,
     "metadata": {},
     "output_type": "execute_result"
    }
   ],
   "source": [
    "Z_trafo_pu"
   ]
  },
  {
   "cell_type": "code",
   "execution_count": 62,
   "metadata": {},
   "outputs": [
    {
     "data": {
      "text/plain": [
       "[{'bus_j': 'HVinf',\n",
       "  'bus_k': 'HV',\n",
       "  'code': 'eq_red',\n",
       "  'm': 1000.0,\n",
       "  'type': 'z',\n",
       "  'bus_j_nodes': [1, 2, 3],\n",
       "  'bus_k_nodes': [1, 2, 3],\n",
       "  'i_j_a_m': 22727.22626214114,\n",
       "  'i_j_b_m': 22727.319192311817,\n",
       "  'i_j_c_m': 0.05254491011279482,\n",
       "  'i_j_n_m': 0.04084834980816039,\n",
       "  'deg_j_a': -54.2893951525259,\n",
       "  'deg_j_b': 125.71058142992896,\n",
       "  'deg_j_c': -59.995823755827736,\n",
       "  'deg_j_n': 120.00032122126828,\n",
       "  'i_k_a_m': 22727.22626214114,\n",
       "  'i_k_b_m': 22727.319192311817,\n",
       "  'i_k_c_m': 0.05254491011279482,\n",
       "  'i_k_n_m': 0.04084834980816039,\n",
       "  'deg_k_a': -54.2893951525259,\n",
       "  'deg_k_b': 125.71058142992896,\n",
       "  'deg_k_c': -59.995823755827736,\n",
       "  'deg_k_n': 120.00032122126828,\n",
       "  'i_z': 0.01361611660272013,\n",
       "  'i_p': 13121.593737360612,\n",
       "  'i_n': 13121.600316741906},\n",
       " {'bus_j': '12',\n",
       "  'bus_k': '13',\n",
       "  'code': '1',\n",
       "  'm': 4890.0,\n",
       "  'type': 'pi',\n",
       "  'bus_j_nodes': [1, 2, 3],\n",
       "  'bus_k_nodes': [1, 2, 3],\n",
       "  'i_j_a_m': 0.25027874847501763,\n",
       "  'i_j_b_m': 6.058594898706528e-12,\n",
       "  'i_j_c_m': 0.2502787484712338,\n",
       "  'i_j_n_m': 2.4556201080826205e-12,\n",
       "  'deg_j_a': -59.99582376012577,\n",
       "  'deg_j_b': 123.93518009856763,\n",
       "  'deg_j_c': 120.00417623999874,\n",
       "  'deg_j_n': 142.9970837092363,\n",
       "  'i_k_a_m': 0.09516450715103363,\n",
       "  'i_k_b_m': 2.362470341800413e-12,\n",
       "  'i_k_c_m': 0.09516450715093208,\n",
       "  'i_k_n_m': 2.4554981982421576e-12,\n",
       "  'deg_k_a': -59.995182153877934,\n",
       "  'deg_k_b': 121.14669515971212,\n",
       "  'deg_k_c': 120.00481784667114,\n",
       "  'deg_k_n': 142.99493988933375,\n",
       "  'i_z': 8.1854003602754e-13,\n",
       "  'i_p': 0.14449850280344959,\n",
       "  'i_n': 0.144498502803354},\n",
       " {'bus_j': '13',\n",
       "  'bus_k': '14',\n",
       "  'code': '1',\n",
       "  'm': 3000.0,\n",
       "  'type': 'pi',\n",
       "  'bus_j_nodes': [1, 2, 3],\n",
       "  'bus_k_nodes': [1, 2, 3],\n",
       "  'i_j_a_m': 0.09516450715073572,\n",
       "  'i_j_b_m': 2.6971933343556834e-12,\n",
       "  'i_j_c_m': 0.0951645071508708,\n",
       "  'i_j_n_m': 2.858641121612179e-12,\n",
       "  'deg_j_a': -59.99518215318383,\n",
       "  'deg_j_b': 130.25035073833217,\n",
       "  'deg_j_c': 120.00481784615044,\n",
       "  'deg_j_n': 107.35614856552284,\n",
       "  'i_k_a_m': 7.493290101943811e-13,\n",
       "  'i_k_b_m': 4.694898205638022e-13,\n",
       "  'i_k_c_m': 1.8111505392166725e-12,\n",
       "  'i_k_n_m': 2.85852731803666e-12,\n",
       "  'deg_k_a': 92.02878201989988,\n",
       "  'deg_k_b': 152.72492296237203,\n",
       "  'deg_k_c': 103.04045519584766,\n",
       "  'deg_k_n': 107.35101548142083,\n",
       "  'i_z': 9.528803738707265e-13,\n",
       "  'i_p': 0.05494325382115853,\n",
       "  'i_n': 0.05494325382047012}]"
      ]
     },
     "execution_count": 62,
     "metadata": {},
     "output_type": "execute_result"
    }
   ],
   "source": [
    "sys1.lines"
   ]
  },
  {
   "cell_type": "code",
   "execution_count": 37,
   "metadata": {},
   "outputs": [
    {
     "data": {
      "text/plain": [
       "6351.657962283674"
      ]
     },
     "execution_count": 37,
     "metadata": {},
     "output_type": "execute_result"
    }
   ],
   "source": [
    "5774.2345111669765*1.1"
   ]
  },
  {
   "cell_type": "code",
   "execution_count": 49,
   "metadata": {},
   "outputs": [
    {
     "data": {
      "text/plain": [
       "5500.0"
      ]
     },
     "execution_count": 49,
     "metadata": {},
     "output_type": "execute_result"
    }
   ],
   "source": [
    "5000*1.1"
   ]
  },
  {
   "cell_type": "code",
   "execution_count": null,
   "metadata": {},
   "outputs": [],
   "source": []
  }
 ],
 "metadata": {
  "kernelspec": {
   "display_name": "Python 3",
   "language": "python",
   "name": "python3"
  },
  "language_info": {
   "codemirror_mode": {
    "name": "ipython",
    "version": 3
   },
   "file_extension": ".py",
   "mimetype": "text/x-python",
   "name": "python",
   "nbconvert_exporter": "python",
   "pygments_lexer": "ipython3",
   "version": "3.6.6"
  }
 },
 "nbformat": 4,
 "nbformat_minor": 2
}
